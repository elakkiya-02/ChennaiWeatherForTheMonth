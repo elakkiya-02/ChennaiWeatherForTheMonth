{
 "cells": [
  {
   "cell_type": "markdown",
   "id": "4354b255-a0ab-42ae-b77f-47ec83007051",
   "metadata": {},
   "source": [
    " # Chennai Weather for the Month - from Open Meteo"
   ]
  },
  {
   "cell_type": "markdown",
   "id": "72e6433d-b38e-443a-a81a-24e651ae91e0",
   "metadata": {
    "jp-MarkdownHeadingCollapsed": true
   },
   "source": [
    "## Importing necessary libraries"
   ]
  },
  {
   "cell_type": "code",
   "execution_count": 1,
   "id": "eed59303-2c58-4d68-b0b8-9dcc3be791cf",
   "metadata": {},
   "outputs": [],
   "source": [
    "#Required Libraries\n",
    "import pandas as pd\n",
    "import requests\n",
    "import plotly.express as px\n",
    "from datetime import date, timedelta\n",
    "import warnings\n",
    "warnings.filterwarnings(\"ignore\")"
   ]
  },
  {
   "cell_type": "markdown",
   "id": "b0c649aa-fff9-4736-9592-3ab5f37037b8",
   "metadata": {
    "jp-MarkdownHeadingCollapsed": true
   },
   "source": [
    "## Setting up the required parameters"
   ]
  },
  {
   "cell_type": "code",
   "execution_count": 19,
   "id": "e592a265-cf85-4c50-a8b0-1a92b3983259",
   "metadata": {},
   "outputs": [
    {
     "name": "stdout",
     "output_type": "stream",
     "text": [
      "Fetching Chennai weather data from 2025-10-01 to 2025-10-25...\n",
      "And the forecast till 2025-10-25...\n"
     ]
    },
    {
     "data": {
      "text/plain": [
       "'\\nwe have defined our location and the date range as per our requirements\\n'"
      ]
     },
     "execution_count": 19,
     "metadata": {},
     "output_type": "execute_result"
    }
   ],
   "source": [
    "#Place - latitude, longitude\n",
    "place='Chennai'\n",
    "latitude = 13.0845\n",
    "longitude = 80.2705\n",
    "'''getting current date so that everytime we run the code, \n",
    "we stay with upto-date data\n",
    "'''\n",
    "today = date.today()\n",
    "'''As this is a monthly weather report of our desired city, \n",
    "we set the start date as 1st of current month and \n",
    "the end date as the current date\n",
    "'''\n",
    "start_date = today.replace(day=1).isoformat()\n",
    "'''date object is based on current date but day is set to 1. \n",
    "this preserves the month and year based on the current date\n",
    "isformat() converts to a string rep YYYY-MM-DD or YYYY-MM-DDTHH:MM:SS.ffffff\n",
    "'''\n",
    "\n",
    "end_date = today.isoformat()\n",
    "'''we are going to show the weather forecast for the next 7 days from current date\n",
    "so days is set 7'''\n",
    "forecast_end =(today+timedelta(days=7)).isoformat()\n",
    "\n",
    "print(f\"Fetching {place} weather data from {start_date} to {end_date}...\")\n",
    "print(f\"And the forecast till {forecast_end}...\")\n",
    "\n",
    "'''\n",
    "we have defined our location and the date range as per our requirements\n",
    "'''\n"
   ]
  },
  {
   "cell_type": "markdown",
   "id": "8789dc1e-33f4-4b64-aaea-a3665ed49eed",
   "metadata": {
    "jp-MarkdownHeadingCollapsed": true
   },
   "source": [
    "## Historical Data of the Month"
   ]
  },
  {
   "cell_type": "code",
   "execution_count": 20,
   "id": "9e4c4fc0-8dd3-4afc-bb23-eb42ae92e02e",
   "metadata": {},
   "outputs": [
    {
     "name": "stdout",
     "output_type": "stream",
     "text": [
      "{'latitude': 13.110721, 'longitude': 80.2459, 'generationtime_ms': 4.15349006652832, 'utc_offset_seconds': 19800, 'timezone': 'Asia/Kolkata', 'timezone_abbreviation': 'GMT+5:30', 'elevation': 11.0, 'daily_units': {'time': 'iso8601', 'weather_code': 'wmo code', 'temperature_2m_max': '°C', 'temperature_2m_min': '°C', 'precipitation_sum': 'mm', 'rain_sum': 'mm', 'precipitation_hours': 'h', 'wind_speed_10m_max': 'km/h'}, 'daily': {'time': ['2025-10-01', '2025-10-02', '2025-10-03', '2025-10-04', '2025-10-05', '2025-10-06', '2025-10-07', '2025-10-08', '2025-10-09', '2025-10-10', '2025-10-11', '2025-10-12', '2025-10-13', '2025-10-14', '2025-10-15', '2025-10-16', '2025-10-17', '2025-10-18', '2025-10-19', '2025-10-20', '2025-10-21', '2025-10-22', '2025-10-23', '2025-10-24', '2025-10-25'], 'weather_code': [51, 51, 51, 63, 65, 63, 63, 55, 63, 51, 61, 53, 63, 63, 63, 63, 63, 65, 63, 63, 63, 63, 63, 55, 65], 'temperature_2m_max': [31.8, 32.8, 33.0, 31.5, 33.0, 32.7, 31.4, 31.6, 31.5, 30.4, 31.1, 30.7, 31.7, 30.8, 28.1, 29.1, 28.2, 27.3, 28.7, 28.2, 26.6, 29.0, 29.7, 27.2, 28.2], 'temperature_2m_min': [25.7, 25.7, 25.6, 24.4, 25.2, 24.7, 25.7, 26.0, 24.1, 25.0, 25.5, 25.4, 25.5, 25.1, 24.5, 24.2, 24.8, 24.6, 24.2, 24.0, 24.5, 25.2, 24.3, 24.6, 24.3], 'precipitation_sum': [0.3, 0.2, 0.6, 7.1, 12.4, 10.7, 7.8, 1.4, 10.3, 0.4, 2.6, 1.8, 10.2, 9.9, 35.3, 20.7, 13.7, 27.5, 7.8, 23.2, 28.9, 38.5, 17.1, 6.2, 18.3], 'rain_sum': [0.3, 0.2, 0.6, 7.1, 12.4, 10.7, 7.8, 1.4, 10.3, 0.4, 2.6, 1.8, 10.2, 9.9, 35.3, 20.7, 13.7, 27.5, 7.8, 23.2, 28.9, 38.5, 17.1, 6.2, 18.3], 'precipitation_hours': [2.0, 2.0, 3.0, 7.0, 6.0, 4.0, 8.0, 5.0, 8.0, 3.0, 6.0, 9.0, 14.0, 10.0, 21.0, 23.0, 23.0, 20.0, 14.0, 20.0, 23.0, 22.0, 13.0, 12.0, 10.0], 'wind_speed_10m_max': [13.4, 13.6, 14.2, 21.0, 12.9, 12.2, 8.6, 12.1, 10.4, 11.5, 14.4, 11.2, 12.9, 12.7, 18.0, 14.7, 13.5, 8.4, 9.2, 13.9, 18.0, 21.5, 11.2, 9.7, 11.3]}}\n"
     ]
    }
   ],
   "source": [
    "#Gettin the Weather History of the place\n",
    "#link to archive api is available in https://open-meteo.com/en/docs/historical-weather-api\n",
    "\n",
    "archive_url = \"https://archive-api.open-meteo.com/v1/archive\"\n",
    "'''\n",
    "The Params are defined based on their availablility in the respective API documentation\n",
    "'''\n",
    "archive_params = {\"latitude\":latitude,\n",
    "                  \"longitude\":longitude,\n",
    "                  \"start_date\":start_date,\n",
    "                  \"end_date\":end_date,\n",
    "                  \"daily\":\"weather_code,temperature_2m_max,temperature_2m_min,precipitation_sum,rain_sum,precipitation_hours,wind_speed_10m_max\",\n",
    "                  \"timezone\":\"auto\"}\n",
    "'''\n",
    "Make sure the daily param is a comma seperated list without spaces.\n",
    "The parameters we need are set and now historical data is to be fetched\n",
    "as a request to the archive api url\n",
    "'''\n",
    "historical_data = requests.get(archive_url, params=archive_params).json()\n",
    "print(historical_data)"
   ]
  },
  {
   "cell_type": "code",
   "execution_count": 21,
   "id": "1b9c96fe-05bf-421c-9886-df51b71a1cf3",
   "metadata": {},
   "outputs": [
    {
     "name": "stdout",
     "output_type": "stream",
     "text": [
      "{'time': ['2025-10-01', '2025-10-02', '2025-10-03', '2025-10-04', '2025-10-05', '2025-10-06', '2025-10-07', '2025-10-08', '2025-10-09', '2025-10-10', '2025-10-11', '2025-10-12', '2025-10-13', '2025-10-14', '2025-10-15', '2025-10-16', '2025-10-17', '2025-10-18', '2025-10-19', '2025-10-20', '2025-10-21', '2025-10-22', '2025-10-23', '2025-10-24', '2025-10-25'], 'weather_code': [51, 51, 51, 63, 65, 63, 63, 55, 63, 51, 61, 53, 63, 63, 63, 63, 63, 65, 63, 63, 63, 63, 63, 55, 65], 'temperature_2m_max': [31.8, 32.8, 33.0, 31.5, 33.0, 32.7, 31.4, 31.6, 31.5, 30.4, 31.1, 30.7, 31.7, 30.8, 28.1, 29.1, 28.2, 27.3, 28.7, 28.2, 26.6, 29.0, 29.7, 27.2, 28.2], 'temperature_2m_min': [25.7, 25.7, 25.6, 24.4, 25.2, 24.7, 25.7, 26.0, 24.1, 25.0, 25.5, 25.4, 25.5, 25.1, 24.5, 24.2, 24.8, 24.6, 24.2, 24.0, 24.5, 25.2, 24.3, 24.6, 24.3], 'precipitation_sum': [0.3, 0.2, 0.6, 7.1, 12.4, 10.7, 7.8, 1.4, 10.3, 0.4, 2.6, 1.8, 10.2, 9.9, 35.3, 20.7, 13.7, 27.5, 7.8, 23.2, 28.9, 38.5, 17.1, 6.2, 18.3], 'rain_sum': [0.3, 0.2, 0.6, 7.1, 12.4, 10.7, 7.8, 1.4, 10.3, 0.4, 2.6, 1.8, 10.2, 9.9, 35.3, 20.7, 13.7, 27.5, 7.8, 23.2, 28.9, 38.5, 17.1, 6.2, 18.3], 'precipitation_hours': [2.0, 2.0, 3.0, 7.0, 6.0, 4.0, 8.0, 5.0, 8.0, 3.0, 6.0, 9.0, 14.0, 10.0, 21.0, 23.0, 23.0, 20.0, 14.0, 20.0, 23.0, 22.0, 13.0, 12.0, 10.0], 'wind_speed_10m_max': [13.4, 13.6, 14.2, 21.0, 12.9, 12.2, 8.6, 12.1, 10.4, 11.5, 14.4, 11.2, 12.9, 12.7, 18.0, 14.7, 13.5, 8.4, 9.2, 13.9, 18.0, 21.5, 11.2, 9.7, 11.3]}\n"
     ]
    },
    {
     "data": {
      "text/plain": [
       "\"\\ndaily comes with 'time' of type date\\n\""
      ]
     },
     "execution_count": 21,
     "metadata": {},
     "output_type": "execute_result"
    }
   ],
   "source": [
    "'''Base on the historical data from the api, we are about to create a dataframe to\n",
    "work with the numbers'''\n",
    "print(historical_data.get(\"daily\",[]))\n",
    "'''\n",
    "daily comes with 'time' of type date\n",
    "'''"
   ]
  },
  {
   "cell_type": "code",
   "execution_count": 22,
   "id": "9c862a5b-89b1-46e2-a28a-9dcf29bf066f",
   "metadata": {},
   "outputs": [
    {
     "data": {
      "text/plain": [
       "dict_keys(['time', 'weather_code', 'temperature_2m_max', 'temperature_2m_min', 'precipitation_sum', 'rain_sum', 'precipitation_hours', 'wind_speed_10m_max'])"
      ]
     },
     "execution_count": 22,
     "metadata": {},
     "output_type": "execute_result"
    }
   ],
   "source": [
    "daily_data = historical_data.get(\"daily\",{})#accessing \"daily\" key from the response\n",
    "daily_data.keys()"
   ]
  },
  {
   "cell_type": "code",
   "execution_count": 23,
   "id": "8e97962b-fbeb-4d66-9f2a-3beda1805cd7",
   "metadata": {},
   "outputs": [],
   "source": [
    "#we are dealing with weather_code param\n",
    "'''\n",
    "Based on weather variable documentation  / WMO Weather interpretation codes (WW)\n",
    "https://open-meteo.com/en/docs\n",
    "'''\n",
    "weather_map = {\n",
    "    0: \"Clear sky\",\n",
    "    1: \"Mainly clear\",\n",
    "    2: \"Partly cloudy\",\n",
    "    3: \"Overcast\",\n",
    "    45: \"Fog\",\n",
    "    48: \"Depositing rime fog\",\n",
    "    51: \"Drizzle: Light\",\n",
    "    53: \"Drizzle: Moderate\",\n",
    "    55: \"Drizzle: Dense intensity\",\n",
    "    56: \"Freezing Drizzle: Light\",\n",
    "    57: \"Freezing Drizzle: Dense intensity\",\n",
    "    61: \"Rain: Slight\",\n",
    "    63: \"Rain: Moderate\",\n",
    "    65: \"Rain: Heavy intensity\",\n",
    "    66: \"Freezing Rain: Light\",\n",
    "    67: \"Freezing Rain: Heavy intensity\",\n",
    "    71: \"Snow fall: Slight\",\n",
    "    73: \"Snow fall: Moderate\",\n",
    "    75: \"Snow fall: Heavy intensity\",\n",
    "    77: \"Snow grains\",\n",
    "    80: \"Rain showers: Slight\",\n",
    "    81: \"Rain showers: Moderate\",\n",
    "    82: \"Rain showers: Violent\",\n",
    "    85: \"Snow showers: Slight\",\n",
    "    86: \"Snow showers: Heavy\",\n",
    "    95: \"Thunderstorm: Slight or moderate\",\n",
    "    96: \"Thunderstorm with slight hail\",\n",
    "    99: \"Thunderstorm with heavy hail\"\n",
    "}"
   ]
  },
  {
   "cell_type": "code",
   "execution_count": 24,
   "id": "fc925f95-be87-407b-9342-c3afbb797786",
   "metadata": {},
   "outputs": [
    {
     "name": "stdout",
     "output_type": "stream",
     "text": [
      "(25, 9)\n",
      "         Date                Weather  Max Temp  Min Temp  Rainfall  \\\n",
      "0  2025-10-01         Drizzle: Light      31.8      25.7       0.3   \n",
      "1  2025-10-02         Drizzle: Light      32.8      25.7       0.2   \n",
      "2  2025-10-03         Drizzle: Light      33.0      25.6       0.6   \n",
      "3  2025-10-04         Rain: Moderate      31.5      24.4       7.1   \n",
      "4  2025-10-05  Rain: Heavy intensity      33.0      25.2      12.4   \n",
      "\n",
      "   Sum of Daily Rain  Hours with Rain  Wind Speed        Type  \n",
      "0                0.3              2.0        13.4  Historical  \n",
      "1                0.2              2.0        13.6  Historical  \n",
      "2                0.6              3.0        14.2  Historical  \n",
      "3                7.1              7.0        21.0  Historical  \n",
      "4               12.4              6.0        12.9  Historical  \n"
     ]
    }
   ],
   "source": [
    "'''Based on the daily data keys, \n",
    "we can name the dataframe columns accordingly'''\n",
    "hist_df = pd.DataFrame({\n",
    "    \"Date\" : daily_data.get(\"time\", []),\n",
    "    #\"Weather\" : daily_data.get(\"weather_code\", []),#only to display code\n",
    "    \"Weather\" : [weather_map.get(w_code, str(w_code)) for w_code in daily_data.get(\"weather_code\", [])],\n",
    "    \"Max Temp\" : daily_data.get(\"temperature_2m_max\", []),\n",
    "    \"Min Temp\" : daily_data.get(\"temperature_2m_min\", []),\n",
    "    \"Rainfall\" : daily_data.get(\"precipitation_sum\", []),\n",
    "    \"Sum of Daily Rain\" : daily_data.get(\"rain_sum\", []),\n",
    "    \"Hours with Rain\" : daily_data.get(\"precipitation_hours\", []),\n",
    "    \"Wind Speed\" :  daily_data.get(\"wind_speed_10m_max\", []),\n",
    "    \"Type\" : \"Historical\"\n",
    "})\n",
    "print(hist_df.shape)\n",
    "print(hist_df.head())"
   ]
  },
  {
   "cell_type": "code",
   "execution_count": 25,
   "id": "c285946b-5f88-4576-91e9-736e83682d24",
   "metadata": {},
   "outputs": [
    {
     "name": "stdout",
     "output_type": "stream",
     "text": [
      "Weather\n",
      "Rain: Moderate              14\n",
      "Drizzle: Light               4\n",
      "Rain: Heavy intensity        3\n",
      "Drizzle: Dense intensity     2\n",
      "Rain: Slight                 1\n",
      "Drizzle: Moderate            1\n",
      "Name: count, dtype: int64\n"
     ]
    }
   ],
   "source": [
    "#checking whether all our weather codes were mapped accordingly\n",
    "print(hist_df['Weather'].value_counts())"
   ]
  },
  {
   "cell_type": "markdown",
   "id": "1a28f2ef-b066-4ac0-9540-c42188918f8f",
   "metadata": {
    "jp-MarkdownHeadingCollapsed": true
   },
   "source": [
    "### Visualizing Historical data of the month"
   ]
  },
  {
   "cell_type": "code",
   "execution_count": 26,
   "id": "7b830d4b-4658-41ff-8c30-179885b7bb59",
   "metadata": {},
   "outputs": [
    {
     "data": {
      "application/vnd.plotly.v1+json": {
       "config": {
        "plotlyServerURL": "https://plot.ly"
       },
       "data": [
        {
         "customdata": [
          [
           "Rain: Moderate"
          ]
         ],
         "hovertemplate": "Metric=%{x}<br>Date=2025-10-16<br>Value=%{y}<br>Weather=%{customdata[0]}<extra></extra>",
         "ids": [
          "Max Temp"
         ],
         "legendgroup": "Max Temp",
         "marker": {
          "color": "#636efa",
          "pattern": {
           "shape": ""
          }
         },
         "name": "Max Temp",
         "orientation": "v",
         "showlegend": true,
         "textposition": "auto",
         "type": "bar",
         "x": [
          "Max Temp"
         ],
         "xaxis": "x",
         "y": {
          "_inputArray": {
           "0": 29.1,
           "bdata": "mpmZmZkZPUA=",
           "dtype": "f8",
           "shape": "1"
          },
          "bdata": "mpmZmZkZPUA=",
          "dtype": "f8"
         },
         "yaxis": "y"
        },
        {
         "customdata": [
          [
           "Rain: Moderate"
          ]
         ],
         "hovertemplate": "Metric=%{x}<br>Date=2025-10-16<br>Value=%{y}<br>Weather=%{customdata[0]}<extra></extra>",
         "ids": [
          "Min Temp"
         ],
         "legendgroup": "Min Temp",
         "marker": {
          "color": "#EF553B",
          "pattern": {
           "shape": ""
          }
         },
         "name": "Min Temp",
         "orientation": "v",
         "showlegend": true,
         "textposition": "auto",
         "type": "bar",
         "x": [
          "Min Temp"
         ],
         "xaxis": "x",
         "y": {
          "_inputArray": {
           "0": 24.2,
           "bdata": "MzMzMzMzOEA=",
           "dtype": "f8",
           "shape": "1"
          },
          "bdata": "MzMzMzMzOEA=",
          "dtype": "f8"
         },
         "yaxis": "y"
        },
        {
         "customdata": [
          [
           "Rain: Moderate"
          ]
         ],
         "hovertemplate": "Metric=%{x}<br>Date=2025-10-16<br>Value=%{y}<br>Weather=%{customdata[0]}<extra></extra>",
         "ids": [
          "Rainfall"
         ],
         "legendgroup": "Rainfall",
         "marker": {
          "color": "#00cc96",
          "pattern": {
           "shape": ""
          }
         },
         "name": "Rainfall",
         "orientation": "v",
         "showlegend": true,
         "textposition": "auto",
         "type": "bar",
         "x": [
          "Rainfall"
         ],
         "xaxis": "x",
         "y": {
          "_inputArray": {
           "0": 20.7,
           "bdata": "MzMzMzOzNEA=",
           "dtype": "f8",
           "shape": "1"
          },
          "bdata": "MzMzMzOzNEA=",
          "dtype": "f8"
         },
         "yaxis": "y"
        },
        {
         "customdata": [
          [
           "Rain: Moderate"
          ]
         ],
         "hovertemplate": "Metric=%{x}<br>Date=2025-10-16<br>Value=%{y}<br>Weather=%{customdata[0]}<extra></extra>",
         "ids": [
          "Sum of Daily Rain"
         ],
         "legendgroup": "Sum of Daily Rain",
         "marker": {
          "color": "#ab63fa",
          "pattern": {
           "shape": ""
          }
         },
         "name": "Sum of Daily Rain",
         "orientation": "v",
         "showlegend": true,
         "textposition": "auto",
         "type": "bar",
         "x": [
          "Sum of Daily Rain"
         ],
         "xaxis": "x",
         "y": {
          "_inputArray": {
           "0": 20.7,
           "bdata": "MzMzMzOzNEA=",
           "dtype": "f8",
           "shape": "1"
          },
          "bdata": "MzMzMzOzNEA=",
          "dtype": "f8"
         },
         "yaxis": "y"
        },
        {
         "customdata": [
          [
           "Rain: Moderate"
          ]
         ],
         "hovertemplate": "Metric=%{x}<br>Date=2025-10-16<br>Value=%{y}<br>Weather=%{customdata[0]}<extra></extra>",
         "ids": [
          "Hours with Rain"
         ],
         "legendgroup": "Hours with Rain",
         "marker": {
          "color": "#FFA15A",
          "pattern": {
           "shape": ""
          }
         },
         "name": "Hours with Rain",
         "orientation": "v",
         "showlegend": true,
         "textposition": "auto",
         "type": "bar",
         "x": [
          "Hours with Rain"
         ],
         "xaxis": "x",
         "y": {
          "_inputArray": {
           "0": 23,
           "bdata": "AAAAAAAAN0A=",
           "dtype": "f8",
           "shape": "1"
          },
          "bdata": "AAAAAAAAN0A=",
          "dtype": "f8"
         },
         "yaxis": "y"
        },
        {
         "customdata": [
          [
           "Rain: Moderate"
          ]
         ],
         "hovertemplate": "Metric=%{x}<br>Date=2025-10-16<br>Value=%{y}<br>Weather=%{customdata[0]}<extra></extra>",
         "ids": [
          "Wind Speed"
         ],
         "legendgroup": "Wind Speed",
         "marker": {
          "color": "#19d3f3",
          "pattern": {
           "shape": ""
          }
         },
         "name": "Wind Speed",
         "orientation": "v",
         "showlegend": true,
         "textposition": "auto",
         "type": "bar",
         "x": [
          "Wind Speed"
         ],
         "xaxis": "x",
         "y": {
          "_inputArray": {
           "0": 14.7,
           "bdata": "ZmZmZmZmLUA=",
           "dtype": "f8",
           "shape": "1"
          },
          "bdata": "ZmZmZmZmLUA=",
          "dtype": "f8"
         },
         "yaxis": "y"
        }
       ],
       "frames": [
        {
         "data": [
          {
           "customdata": [
            [
             "Drizzle: Light"
            ]
           ],
           "hovertemplate": "Metric=%{x}<br>Date=2025-10-01<br>Value=%{y}<br>Weather=%{customdata[0]}<extra></extra>",
           "ids": [
            "Max Temp"
           ],
           "legendgroup": "Max Temp",
           "marker": {
            "color": "#636efa",
            "pattern": {
             "shape": ""
            }
           },
           "name": "Max Temp",
           "orientation": "v",
           "showlegend": true,
           "textposition": "auto",
           "type": "bar",
           "x": [
            "Max Temp"
           ],
           "xaxis": "x",
           "y": {
            "bdata": "zczMzMzMP0A=",
            "dtype": "f8"
           },
           "yaxis": "y"
          },
          {
           "customdata": [
            [
             "Drizzle: Light"
            ]
           ],
           "hovertemplate": "Metric=%{x}<br>Date=2025-10-01<br>Value=%{y}<br>Weather=%{customdata[0]}<extra></extra>",
           "ids": [
            "Min Temp"
           ],
           "legendgroup": "Min Temp",
           "marker": {
            "color": "#EF553B",
            "pattern": {
             "shape": ""
            }
           },
           "name": "Min Temp",
           "orientation": "v",
           "showlegend": true,
           "textposition": "auto",
           "type": "bar",
           "x": [
            "Min Temp"
           ],
           "xaxis": "x",
           "y": {
            "bdata": "MzMzMzOzOUA=",
            "dtype": "f8"
           },
           "yaxis": "y"
          },
          {
           "customdata": [
            [
             "Drizzle: Light"
            ]
           ],
           "hovertemplate": "Metric=%{x}<br>Date=2025-10-01<br>Value=%{y}<br>Weather=%{customdata[0]}<extra></extra>",
           "ids": [
            "Rainfall"
           ],
           "legendgroup": "Rainfall",
           "marker": {
            "color": "#00cc96",
            "pattern": {
             "shape": ""
            }
           },
           "name": "Rainfall",
           "orientation": "v",
           "showlegend": true,
           "textposition": "auto",
           "type": "bar",
           "x": [
            "Rainfall"
           ],
           "xaxis": "x",
           "y": {
            "bdata": "MzMzMzMz0z8=",
            "dtype": "f8"
           },
           "yaxis": "y"
          },
          {
           "customdata": [
            [
             "Drizzle: Light"
            ]
           ],
           "hovertemplate": "Metric=%{x}<br>Date=2025-10-01<br>Value=%{y}<br>Weather=%{customdata[0]}<extra></extra>",
           "ids": [
            "Sum of Daily Rain"
           ],
           "legendgroup": "Sum of Daily Rain",
           "marker": {
            "color": "#ab63fa",
            "pattern": {
             "shape": ""
            }
           },
           "name": "Sum of Daily Rain",
           "orientation": "v",
           "showlegend": true,
           "textposition": "auto",
           "type": "bar",
           "x": [
            "Sum of Daily Rain"
           ],
           "xaxis": "x",
           "y": {
            "bdata": "MzMzMzMz0z8=",
            "dtype": "f8"
           },
           "yaxis": "y"
          },
          {
           "customdata": [
            [
             "Drizzle: Light"
            ]
           ],
           "hovertemplate": "Metric=%{x}<br>Date=2025-10-01<br>Value=%{y}<br>Weather=%{customdata[0]}<extra></extra>",
           "ids": [
            "Hours with Rain"
           ],
           "legendgroup": "Hours with Rain",
           "marker": {
            "color": "#FFA15A",
            "pattern": {
             "shape": ""
            }
           },
           "name": "Hours with Rain",
           "orientation": "v",
           "showlegend": true,
           "textposition": "auto",
           "type": "bar",
           "x": [
            "Hours with Rain"
           ],
           "xaxis": "x",
           "y": {
            "bdata": "AAAAAAAAAEA=",
            "dtype": "f8"
           },
           "yaxis": "y"
          },
          {
           "customdata": [
            [
             "Drizzle: Light"
            ]
           ],
           "hovertemplate": "Metric=%{x}<br>Date=2025-10-01<br>Value=%{y}<br>Weather=%{customdata[0]}<extra></extra>",
           "ids": [
            "Wind Speed"
           ],
           "legendgroup": "Wind Speed",
           "marker": {
            "color": "#19d3f3",
            "pattern": {
             "shape": ""
            }
           },
           "name": "Wind Speed",
           "orientation": "v",
           "showlegend": true,
           "textposition": "auto",
           "type": "bar",
           "x": [
            "Wind Speed"
           ],
           "xaxis": "x",
           "y": {
            "bdata": "zczMzMzMKkA=",
            "dtype": "f8"
           },
           "yaxis": "y"
          }
         ],
         "name": "2025-10-01"
        },
        {
         "data": [
          {
           "customdata": [
            [
             "Drizzle: Light"
            ]
           ],
           "hovertemplate": "Metric=%{x}<br>Date=2025-10-02<br>Value=%{y}<br>Weather=%{customdata[0]}<extra></extra>",
           "ids": [
            "Max Temp"
           ],
           "legendgroup": "Max Temp",
           "marker": {
            "color": "#636efa",
            "pattern": {
             "shape": ""
            }
           },
           "name": "Max Temp",
           "orientation": "v",
           "showlegend": true,
           "textposition": "auto",
           "type": "bar",
           "x": [
            "Max Temp"
           ],
           "xaxis": "x",
           "y": {
            "bdata": "ZmZmZmZmQEA=",
            "dtype": "f8"
           },
           "yaxis": "y"
          },
          {
           "customdata": [
            [
             "Drizzle: Light"
            ]
           ],
           "hovertemplate": "Metric=%{x}<br>Date=2025-10-02<br>Value=%{y}<br>Weather=%{customdata[0]}<extra></extra>",
           "ids": [
            "Min Temp"
           ],
           "legendgroup": "Min Temp",
           "marker": {
            "color": "#EF553B",
            "pattern": {
             "shape": ""
            }
           },
           "name": "Min Temp",
           "orientation": "v",
           "showlegend": true,
           "textposition": "auto",
           "type": "bar",
           "x": [
            "Min Temp"
           ],
           "xaxis": "x",
           "y": {
            "bdata": "MzMzMzOzOUA=",
            "dtype": "f8"
           },
           "yaxis": "y"
          },
          {
           "customdata": [
            [
             "Drizzle: Light"
            ]
           ],
           "hovertemplate": "Metric=%{x}<br>Date=2025-10-02<br>Value=%{y}<br>Weather=%{customdata[0]}<extra></extra>",
           "ids": [
            "Rainfall"
           ],
           "legendgroup": "Rainfall",
           "marker": {
            "color": "#00cc96",
            "pattern": {
             "shape": ""
            }
           },
           "name": "Rainfall",
           "orientation": "v",
           "showlegend": true,
           "textposition": "auto",
           "type": "bar",
           "x": [
            "Rainfall"
           ],
           "xaxis": "x",
           "y": {
            "bdata": "mpmZmZmZyT8=",
            "dtype": "f8"
           },
           "yaxis": "y"
          },
          {
           "customdata": [
            [
             "Drizzle: Light"
            ]
           ],
           "hovertemplate": "Metric=%{x}<br>Date=2025-10-02<br>Value=%{y}<br>Weather=%{customdata[0]}<extra></extra>",
           "ids": [
            "Sum of Daily Rain"
           ],
           "legendgroup": "Sum of Daily Rain",
           "marker": {
            "color": "#ab63fa",
            "pattern": {
             "shape": ""
            }
           },
           "name": "Sum of Daily Rain",
           "orientation": "v",
           "showlegend": true,
           "textposition": "auto",
           "type": "bar",
           "x": [
            "Sum of Daily Rain"
           ],
           "xaxis": "x",
           "y": {
            "bdata": "mpmZmZmZyT8=",
            "dtype": "f8"
           },
           "yaxis": "y"
          },
          {
           "customdata": [
            [
             "Drizzle: Light"
            ]
           ],
           "hovertemplate": "Metric=%{x}<br>Date=2025-10-02<br>Value=%{y}<br>Weather=%{customdata[0]}<extra></extra>",
           "ids": [
            "Hours with Rain"
           ],
           "legendgroup": "Hours with Rain",
           "marker": {
            "color": "#FFA15A",
            "pattern": {
             "shape": ""
            }
           },
           "name": "Hours with Rain",
           "orientation": "v",
           "showlegend": true,
           "textposition": "auto",
           "type": "bar",
           "x": [
            "Hours with Rain"
           ],
           "xaxis": "x",
           "y": {
            "bdata": "AAAAAAAAAEA=",
            "dtype": "f8"
           },
           "yaxis": "y"
          },
          {
           "customdata": [
            [
             "Drizzle: Light"
            ]
           ],
           "hovertemplate": "Metric=%{x}<br>Date=2025-10-02<br>Value=%{y}<br>Weather=%{customdata[0]}<extra></extra>",
           "ids": [
            "Wind Speed"
           ],
           "legendgroup": "Wind Speed",
           "marker": {
            "color": "#19d3f3",
            "pattern": {
             "shape": ""
            }
           },
           "name": "Wind Speed",
           "orientation": "v",
           "showlegend": true,
           "textposition": "auto",
           "type": "bar",
           "x": [
            "Wind Speed"
           ],
           "xaxis": "x",
           "y": {
            "bdata": "MzMzMzMzK0A=",
            "dtype": "f8"
           },
           "yaxis": "y"
          }
         ],
         "name": "2025-10-02"
        },
        {
         "data": [
          {
           "customdata": [
            [
             "Drizzle: Light"
            ]
           ],
           "hovertemplate": "Metric=%{x}<br>Date=2025-10-03<br>Value=%{y}<br>Weather=%{customdata[0]}<extra></extra>",
           "ids": [
            "Max Temp"
           ],
           "legendgroup": "Max Temp",
           "marker": {
            "color": "#636efa",
            "pattern": {
             "shape": ""
            }
           },
           "name": "Max Temp",
           "orientation": "v",
           "showlegend": true,
           "textposition": "auto",
           "type": "bar",
           "x": [
            "Max Temp"
           ],
           "xaxis": "x",
           "y": {
            "bdata": "AAAAAACAQEA=",
            "dtype": "f8"
           },
           "yaxis": "y"
          },
          {
           "customdata": [
            [
             "Drizzle: Light"
            ]
           ],
           "hovertemplate": "Metric=%{x}<br>Date=2025-10-03<br>Value=%{y}<br>Weather=%{customdata[0]}<extra></extra>",
           "ids": [
            "Min Temp"
           ],
           "legendgroup": "Min Temp",
           "marker": {
            "color": "#EF553B",
            "pattern": {
             "shape": ""
            }
           },
           "name": "Min Temp",
           "orientation": "v",
           "showlegend": true,
           "textposition": "auto",
           "type": "bar",
           "x": [
            "Min Temp"
           ],
           "xaxis": "x",
           "y": {
            "bdata": "mpmZmZmZOUA=",
            "dtype": "f8"
           },
           "yaxis": "y"
          },
          {
           "customdata": [
            [
             "Drizzle: Light"
            ]
           ],
           "hovertemplate": "Metric=%{x}<br>Date=2025-10-03<br>Value=%{y}<br>Weather=%{customdata[0]}<extra></extra>",
           "ids": [
            "Rainfall"
           ],
           "legendgroup": "Rainfall",
           "marker": {
            "color": "#00cc96",
            "pattern": {
             "shape": ""
            }
           },
           "name": "Rainfall",
           "orientation": "v",
           "showlegend": true,
           "textposition": "auto",
           "type": "bar",
           "x": [
            "Rainfall"
           ],
           "xaxis": "x",
           "y": {
            "bdata": "MzMzMzMz4z8=",
            "dtype": "f8"
           },
           "yaxis": "y"
          },
          {
           "customdata": [
            [
             "Drizzle: Light"
            ]
           ],
           "hovertemplate": "Metric=%{x}<br>Date=2025-10-03<br>Value=%{y}<br>Weather=%{customdata[0]}<extra></extra>",
           "ids": [
            "Sum of Daily Rain"
           ],
           "legendgroup": "Sum of Daily Rain",
           "marker": {
            "color": "#ab63fa",
            "pattern": {
             "shape": ""
            }
           },
           "name": "Sum of Daily Rain",
           "orientation": "v",
           "showlegend": true,
           "textposition": "auto",
           "type": "bar",
           "x": [
            "Sum of Daily Rain"
           ],
           "xaxis": "x",
           "y": {
            "bdata": "MzMzMzMz4z8=",
            "dtype": "f8"
           },
           "yaxis": "y"
          },
          {
           "customdata": [
            [
             "Drizzle: Light"
            ]
           ],
           "hovertemplate": "Metric=%{x}<br>Date=2025-10-03<br>Value=%{y}<br>Weather=%{customdata[0]}<extra></extra>",
           "ids": [
            "Hours with Rain"
           ],
           "legendgroup": "Hours with Rain",
           "marker": {
            "color": "#FFA15A",
            "pattern": {
             "shape": ""
            }
           },
           "name": "Hours with Rain",
           "orientation": "v",
           "showlegend": true,
           "textposition": "auto",
           "type": "bar",
           "x": [
            "Hours with Rain"
           ],
           "xaxis": "x",
           "y": {
            "bdata": "AAAAAAAACEA=",
            "dtype": "f8"
           },
           "yaxis": "y"
          },
          {
           "customdata": [
            [
             "Drizzle: Light"
            ]
           ],
           "hovertemplate": "Metric=%{x}<br>Date=2025-10-03<br>Value=%{y}<br>Weather=%{customdata[0]}<extra></extra>",
           "ids": [
            "Wind Speed"
           ],
           "legendgroup": "Wind Speed",
           "marker": {
            "color": "#19d3f3",
            "pattern": {
             "shape": ""
            }
           },
           "name": "Wind Speed",
           "orientation": "v",
           "showlegend": true,
           "textposition": "auto",
           "type": "bar",
           "x": [
            "Wind Speed"
           ],
           "xaxis": "x",
           "y": {
            "bdata": "ZmZmZmZmLEA=",
            "dtype": "f8"
           },
           "yaxis": "y"
          }
         ],
         "name": "2025-10-03"
        },
        {
         "data": [
          {
           "customdata": [
            [
             "Rain: Moderate"
            ]
           ],
           "hovertemplate": "Metric=%{x}<br>Date=2025-10-04<br>Value=%{y}<br>Weather=%{customdata[0]}<extra></extra>",
           "ids": [
            "Max Temp"
           ],
           "legendgroup": "Max Temp",
           "marker": {
            "color": "#636efa",
            "pattern": {
             "shape": ""
            }
           },
           "name": "Max Temp",
           "orientation": "v",
           "showlegend": true,
           "textposition": "auto",
           "type": "bar",
           "x": [
            "Max Temp"
           ],
           "xaxis": "x",
           "y": {
            "bdata": "AAAAAACAP0A=",
            "dtype": "f8"
           },
           "yaxis": "y"
          },
          {
           "customdata": [
            [
             "Rain: Moderate"
            ]
           ],
           "hovertemplate": "Metric=%{x}<br>Date=2025-10-04<br>Value=%{y}<br>Weather=%{customdata[0]}<extra></extra>",
           "ids": [
            "Min Temp"
           ],
           "legendgroup": "Min Temp",
           "marker": {
            "color": "#EF553B",
            "pattern": {
             "shape": ""
            }
           },
           "name": "Min Temp",
           "orientation": "v",
           "showlegend": true,
           "textposition": "auto",
           "type": "bar",
           "x": [
            "Min Temp"
           ],
           "xaxis": "x",
           "y": {
            "bdata": "ZmZmZmZmOEA=",
            "dtype": "f8"
           },
           "yaxis": "y"
          },
          {
           "customdata": [
            [
             "Rain: Moderate"
            ]
           ],
           "hovertemplate": "Metric=%{x}<br>Date=2025-10-04<br>Value=%{y}<br>Weather=%{customdata[0]}<extra></extra>",
           "ids": [
            "Rainfall"
           ],
           "legendgroup": "Rainfall",
           "marker": {
            "color": "#00cc96",
            "pattern": {
             "shape": ""
            }
           },
           "name": "Rainfall",
           "orientation": "v",
           "showlegend": true,
           "textposition": "auto",
           "type": "bar",
           "x": [
            "Rainfall"
           ],
           "xaxis": "x",
           "y": {
            "bdata": "ZmZmZmZmHEA=",
            "dtype": "f8"
           },
           "yaxis": "y"
          },
          {
           "customdata": [
            [
             "Rain: Moderate"
            ]
           ],
           "hovertemplate": "Metric=%{x}<br>Date=2025-10-04<br>Value=%{y}<br>Weather=%{customdata[0]}<extra></extra>",
           "ids": [
            "Sum of Daily Rain"
           ],
           "legendgroup": "Sum of Daily Rain",
           "marker": {
            "color": "#ab63fa",
            "pattern": {
             "shape": ""
            }
           },
           "name": "Sum of Daily Rain",
           "orientation": "v",
           "showlegend": true,
           "textposition": "auto",
           "type": "bar",
           "x": [
            "Sum of Daily Rain"
           ],
           "xaxis": "x",
           "y": {
            "bdata": "ZmZmZmZmHEA=",
            "dtype": "f8"
           },
           "yaxis": "y"
          },
          {
           "customdata": [
            [
             "Rain: Moderate"
            ]
           ],
           "hovertemplate": "Metric=%{x}<br>Date=2025-10-04<br>Value=%{y}<br>Weather=%{customdata[0]}<extra></extra>",
           "ids": [
            "Hours with Rain"
           ],
           "legendgroup": "Hours with Rain",
           "marker": {
            "color": "#FFA15A",
            "pattern": {
             "shape": ""
            }
           },
           "name": "Hours with Rain",
           "orientation": "v",
           "showlegend": true,
           "textposition": "auto",
           "type": "bar",
           "x": [
            "Hours with Rain"
           ],
           "xaxis": "x",
           "y": {
            "bdata": "AAAAAAAAHEA=",
            "dtype": "f8"
           },
           "yaxis": "y"
          },
          {
           "customdata": [
            [
             "Rain: Moderate"
            ]
           ],
           "hovertemplate": "Metric=%{x}<br>Date=2025-10-04<br>Value=%{y}<br>Weather=%{customdata[0]}<extra></extra>",
           "ids": [
            "Wind Speed"
           ],
           "legendgroup": "Wind Speed",
           "marker": {
            "color": "#19d3f3",
            "pattern": {
             "shape": ""
            }
           },
           "name": "Wind Speed",
           "orientation": "v",
           "showlegend": true,
           "textposition": "auto",
           "type": "bar",
           "x": [
            "Wind Speed"
           ],
           "xaxis": "x",
           "y": {
            "bdata": "AAAAAAAANUA=",
            "dtype": "f8"
           },
           "yaxis": "y"
          }
         ],
         "name": "2025-10-04"
        },
        {
         "data": [
          {
           "customdata": [
            [
             "Rain: Heavy intensity"
            ]
           ],
           "hovertemplate": "Metric=%{x}<br>Date=2025-10-05<br>Value=%{y}<br>Weather=%{customdata[0]}<extra></extra>",
           "ids": [
            "Max Temp"
           ],
           "legendgroup": "Max Temp",
           "marker": {
            "color": "#636efa",
            "pattern": {
             "shape": ""
            }
           },
           "name": "Max Temp",
           "orientation": "v",
           "showlegend": true,
           "textposition": "auto",
           "type": "bar",
           "x": [
            "Max Temp"
           ],
           "xaxis": "x",
           "y": {
            "bdata": "AAAAAACAQEA=",
            "dtype": "f8"
           },
           "yaxis": "y"
          },
          {
           "customdata": [
            [
             "Rain: Heavy intensity"
            ]
           ],
           "hovertemplate": "Metric=%{x}<br>Date=2025-10-05<br>Value=%{y}<br>Weather=%{customdata[0]}<extra></extra>",
           "ids": [
            "Min Temp"
           ],
           "legendgroup": "Min Temp",
           "marker": {
            "color": "#EF553B",
            "pattern": {
             "shape": ""
            }
           },
           "name": "Min Temp",
           "orientation": "v",
           "showlegend": true,
           "textposition": "auto",
           "type": "bar",
           "x": [
            "Min Temp"
           ],
           "xaxis": "x",
           "y": {
            "bdata": "MzMzMzMzOUA=",
            "dtype": "f8"
           },
           "yaxis": "y"
          },
          {
           "customdata": [
            [
             "Rain: Heavy intensity"
            ]
           ],
           "hovertemplate": "Metric=%{x}<br>Date=2025-10-05<br>Value=%{y}<br>Weather=%{customdata[0]}<extra></extra>",
           "ids": [
            "Rainfall"
           ],
           "legendgroup": "Rainfall",
           "marker": {
            "color": "#00cc96",
            "pattern": {
             "shape": ""
            }
           },
           "name": "Rainfall",
           "orientation": "v",
           "showlegend": true,
           "textposition": "auto",
           "type": "bar",
           "x": [
            "Rainfall"
           ],
           "xaxis": "x",
           "y": {
            "bdata": "zczMzMzMKEA=",
            "dtype": "f8"
           },
           "yaxis": "y"
          },
          {
           "customdata": [
            [
             "Rain: Heavy intensity"
            ]
           ],
           "hovertemplate": "Metric=%{x}<br>Date=2025-10-05<br>Value=%{y}<br>Weather=%{customdata[0]}<extra></extra>",
           "ids": [
            "Sum of Daily Rain"
           ],
           "legendgroup": "Sum of Daily Rain",
           "marker": {
            "color": "#ab63fa",
            "pattern": {
             "shape": ""
            }
           },
           "name": "Sum of Daily Rain",
           "orientation": "v",
           "showlegend": true,
           "textposition": "auto",
           "type": "bar",
           "x": [
            "Sum of Daily Rain"
           ],
           "xaxis": "x",
           "y": {
            "bdata": "zczMzMzMKEA=",
            "dtype": "f8"
           },
           "yaxis": "y"
          },
          {
           "customdata": [
            [
             "Rain: Heavy intensity"
            ]
           ],
           "hovertemplate": "Metric=%{x}<br>Date=2025-10-05<br>Value=%{y}<br>Weather=%{customdata[0]}<extra></extra>",
           "ids": [
            "Hours with Rain"
           ],
           "legendgroup": "Hours with Rain",
           "marker": {
            "color": "#FFA15A",
            "pattern": {
             "shape": ""
            }
           },
           "name": "Hours with Rain",
           "orientation": "v",
           "showlegend": true,
           "textposition": "auto",
           "type": "bar",
           "x": [
            "Hours with Rain"
           ],
           "xaxis": "x",
           "y": {
            "bdata": "AAAAAAAAGEA=",
            "dtype": "f8"
           },
           "yaxis": "y"
          },
          {
           "customdata": [
            [
             "Rain: Heavy intensity"
            ]
           ],
           "hovertemplate": "Metric=%{x}<br>Date=2025-10-05<br>Value=%{y}<br>Weather=%{customdata[0]}<extra></extra>",
           "ids": [
            "Wind Speed"
           ],
           "legendgroup": "Wind Speed",
           "marker": {
            "color": "#19d3f3",
            "pattern": {
             "shape": ""
            }
           },
           "name": "Wind Speed",
           "orientation": "v",
           "showlegend": true,
           "textposition": "auto",
           "type": "bar",
           "x": [
            "Wind Speed"
           ],
           "xaxis": "x",
           "y": {
            "bdata": "zczMzMzMKUA=",
            "dtype": "f8"
           },
           "yaxis": "y"
          }
         ],
         "name": "2025-10-05"
        },
        {
         "data": [
          {
           "customdata": [
            [
             "Rain: Moderate"
            ]
           ],
           "hovertemplate": "Metric=%{x}<br>Date=2025-10-06<br>Value=%{y}<br>Weather=%{customdata[0]}<extra></extra>",
           "ids": [
            "Max Temp"
           ],
           "legendgroup": "Max Temp",
           "marker": {
            "color": "#636efa",
            "pattern": {
             "shape": ""
            }
           },
           "name": "Max Temp",
           "orientation": "v",
           "showlegend": true,
           "textposition": "auto",
           "type": "bar",
           "x": [
            "Max Temp"
           ],
           "xaxis": "x",
           "y": {
            "bdata": "mpmZmZlZQEA=",
            "dtype": "f8"
           },
           "yaxis": "y"
          },
          {
           "customdata": [
            [
             "Rain: Moderate"
            ]
           ],
           "hovertemplate": "Metric=%{x}<br>Date=2025-10-06<br>Value=%{y}<br>Weather=%{customdata[0]}<extra></extra>",
           "ids": [
            "Min Temp"
           ],
           "legendgroup": "Min Temp",
           "marker": {
            "color": "#EF553B",
            "pattern": {
             "shape": ""
            }
           },
           "name": "Min Temp",
           "orientation": "v",
           "showlegend": true,
           "textposition": "auto",
           "type": "bar",
           "x": [
            "Min Temp"
           ],
           "xaxis": "x",
           "y": {
            "bdata": "MzMzMzOzOEA=",
            "dtype": "f8"
           },
           "yaxis": "y"
          },
          {
           "customdata": [
            [
             "Rain: Moderate"
            ]
           ],
           "hovertemplate": "Metric=%{x}<br>Date=2025-10-06<br>Value=%{y}<br>Weather=%{customdata[0]}<extra></extra>",
           "ids": [
            "Rainfall"
           ],
           "legendgroup": "Rainfall",
           "marker": {
            "color": "#00cc96",
            "pattern": {
             "shape": ""
            }
           },
           "name": "Rainfall",
           "orientation": "v",
           "showlegend": true,
           "textposition": "auto",
           "type": "bar",
           "x": [
            "Rainfall"
           ],
           "xaxis": "x",
           "y": {
            "bdata": "ZmZmZmZmJUA=",
            "dtype": "f8"
           },
           "yaxis": "y"
          },
          {
           "customdata": [
            [
             "Rain: Moderate"
            ]
           ],
           "hovertemplate": "Metric=%{x}<br>Date=2025-10-06<br>Value=%{y}<br>Weather=%{customdata[0]}<extra></extra>",
           "ids": [
            "Sum of Daily Rain"
           ],
           "legendgroup": "Sum of Daily Rain",
           "marker": {
            "color": "#ab63fa",
            "pattern": {
             "shape": ""
            }
           },
           "name": "Sum of Daily Rain",
           "orientation": "v",
           "showlegend": true,
           "textposition": "auto",
           "type": "bar",
           "x": [
            "Sum of Daily Rain"
           ],
           "xaxis": "x",
           "y": {
            "bdata": "ZmZmZmZmJUA=",
            "dtype": "f8"
           },
           "yaxis": "y"
          },
          {
           "customdata": [
            [
             "Rain: Moderate"
            ]
           ],
           "hovertemplate": "Metric=%{x}<br>Date=2025-10-06<br>Value=%{y}<br>Weather=%{customdata[0]}<extra></extra>",
           "ids": [
            "Hours with Rain"
           ],
           "legendgroup": "Hours with Rain",
           "marker": {
            "color": "#FFA15A",
            "pattern": {
             "shape": ""
            }
           },
           "name": "Hours with Rain",
           "orientation": "v",
           "showlegend": true,
           "textposition": "auto",
           "type": "bar",
           "x": [
            "Hours with Rain"
           ],
           "xaxis": "x",
           "y": {
            "bdata": "AAAAAAAAEEA=",
            "dtype": "f8"
           },
           "yaxis": "y"
          },
          {
           "customdata": [
            [
             "Rain: Moderate"
            ]
           ],
           "hovertemplate": "Metric=%{x}<br>Date=2025-10-06<br>Value=%{y}<br>Weather=%{customdata[0]}<extra></extra>",
           "ids": [
            "Wind Speed"
           ],
           "legendgroup": "Wind Speed",
           "marker": {
            "color": "#19d3f3",
            "pattern": {
             "shape": ""
            }
           },
           "name": "Wind Speed",
           "orientation": "v",
           "showlegend": true,
           "textposition": "auto",
           "type": "bar",
           "x": [
            "Wind Speed"
           ],
           "xaxis": "x",
           "y": {
            "bdata": "ZmZmZmZmKEA=",
            "dtype": "f8"
           },
           "yaxis": "y"
          }
         ],
         "name": "2025-10-06"
        },
        {
         "data": [
          {
           "customdata": [
            [
             "Rain: Moderate"
            ]
           ],
           "hovertemplate": "Metric=%{x}<br>Date=2025-10-07<br>Value=%{y}<br>Weather=%{customdata[0]}<extra></extra>",
           "ids": [
            "Max Temp"
           ],
           "legendgroup": "Max Temp",
           "marker": {
            "color": "#636efa",
            "pattern": {
             "shape": ""
            }
           },
           "name": "Max Temp",
           "orientation": "v",
           "showlegend": true,
           "textposition": "auto",
           "type": "bar",
           "x": [
            "Max Temp"
           ],
           "xaxis": "x",
           "y": {
            "bdata": "ZmZmZmZmP0A=",
            "dtype": "f8"
           },
           "yaxis": "y"
          },
          {
           "customdata": [
            [
             "Rain: Moderate"
            ]
           ],
           "hovertemplate": "Metric=%{x}<br>Date=2025-10-07<br>Value=%{y}<br>Weather=%{customdata[0]}<extra></extra>",
           "ids": [
            "Min Temp"
           ],
           "legendgroup": "Min Temp",
           "marker": {
            "color": "#EF553B",
            "pattern": {
             "shape": ""
            }
           },
           "name": "Min Temp",
           "orientation": "v",
           "showlegend": true,
           "textposition": "auto",
           "type": "bar",
           "x": [
            "Min Temp"
           ],
           "xaxis": "x",
           "y": {
            "bdata": "MzMzMzOzOUA=",
            "dtype": "f8"
           },
           "yaxis": "y"
          },
          {
           "customdata": [
            [
             "Rain: Moderate"
            ]
           ],
           "hovertemplate": "Metric=%{x}<br>Date=2025-10-07<br>Value=%{y}<br>Weather=%{customdata[0]}<extra></extra>",
           "ids": [
            "Rainfall"
           ],
           "legendgroup": "Rainfall",
           "marker": {
            "color": "#00cc96",
            "pattern": {
             "shape": ""
            }
           },
           "name": "Rainfall",
           "orientation": "v",
           "showlegend": true,
           "textposition": "auto",
           "type": "bar",
           "x": [
            "Rainfall"
           ],
           "xaxis": "x",
           "y": {
            "bdata": "MzMzMzMzH0A=",
            "dtype": "f8"
           },
           "yaxis": "y"
          },
          {
           "customdata": [
            [
             "Rain: Moderate"
            ]
           ],
           "hovertemplate": "Metric=%{x}<br>Date=2025-10-07<br>Value=%{y}<br>Weather=%{customdata[0]}<extra></extra>",
           "ids": [
            "Sum of Daily Rain"
           ],
           "legendgroup": "Sum of Daily Rain",
           "marker": {
            "color": "#ab63fa",
            "pattern": {
             "shape": ""
            }
           },
           "name": "Sum of Daily Rain",
           "orientation": "v",
           "showlegend": true,
           "textposition": "auto",
           "type": "bar",
           "x": [
            "Sum of Daily Rain"
           ],
           "xaxis": "x",
           "y": {
            "bdata": "MzMzMzMzH0A=",
            "dtype": "f8"
           },
           "yaxis": "y"
          },
          {
           "customdata": [
            [
             "Rain: Moderate"
            ]
           ],
           "hovertemplate": "Metric=%{x}<br>Date=2025-10-07<br>Value=%{y}<br>Weather=%{customdata[0]}<extra></extra>",
           "ids": [
            "Hours with Rain"
           ],
           "legendgroup": "Hours with Rain",
           "marker": {
            "color": "#FFA15A",
            "pattern": {
             "shape": ""
            }
           },
           "name": "Hours with Rain",
           "orientation": "v",
           "showlegend": true,
           "textposition": "auto",
           "type": "bar",
           "x": [
            "Hours with Rain"
           ],
           "xaxis": "x",
           "y": {
            "bdata": "AAAAAAAAIEA=",
            "dtype": "f8"
           },
           "yaxis": "y"
          },
          {
           "customdata": [
            [
             "Rain: Moderate"
            ]
           ],
           "hovertemplate": "Metric=%{x}<br>Date=2025-10-07<br>Value=%{y}<br>Weather=%{customdata[0]}<extra></extra>",
           "ids": [
            "Wind Speed"
           ],
           "legendgroup": "Wind Speed",
           "marker": {
            "color": "#19d3f3",
            "pattern": {
             "shape": ""
            }
           },
           "name": "Wind Speed",
           "orientation": "v",
           "showlegend": true,
           "textposition": "auto",
           "type": "bar",
           "x": [
            "Wind Speed"
           ],
           "xaxis": "x",
           "y": {
            "bdata": "MzMzMzMzIUA=",
            "dtype": "f8"
           },
           "yaxis": "y"
          }
         ],
         "name": "2025-10-07"
        },
        {
         "data": [
          {
           "customdata": [
            [
             "Drizzle: Dense intensity"
            ]
           ],
           "hovertemplate": "Metric=%{x}<br>Date=2025-10-08<br>Value=%{y}<br>Weather=%{customdata[0]}<extra></extra>",
           "ids": [
            "Max Temp"
           ],
           "legendgroup": "Max Temp",
           "marker": {
            "color": "#636efa",
            "pattern": {
             "shape": ""
            }
           },
           "name": "Max Temp",
           "orientation": "v",
           "showlegend": true,
           "textposition": "auto",
           "type": "bar",
           "x": [
            "Max Temp"
           ],
           "xaxis": "x",
           "y": {
            "bdata": "mpmZmZmZP0A=",
            "dtype": "f8"
           },
           "yaxis": "y"
          },
          {
           "customdata": [
            [
             "Drizzle: Dense intensity"
            ]
           ],
           "hovertemplate": "Metric=%{x}<br>Date=2025-10-08<br>Value=%{y}<br>Weather=%{customdata[0]}<extra></extra>",
           "ids": [
            "Min Temp"
           ],
           "legendgroup": "Min Temp",
           "marker": {
            "color": "#EF553B",
            "pattern": {
             "shape": ""
            }
           },
           "name": "Min Temp",
           "orientation": "v",
           "showlegend": true,
           "textposition": "auto",
           "type": "bar",
           "x": [
            "Min Temp"
           ],
           "xaxis": "x",
           "y": {
            "bdata": "AAAAAAAAOkA=",
            "dtype": "f8"
           },
           "yaxis": "y"
          },
          {
           "customdata": [
            [
             "Drizzle: Dense intensity"
            ]
           ],
           "hovertemplate": "Metric=%{x}<br>Date=2025-10-08<br>Value=%{y}<br>Weather=%{customdata[0]}<extra></extra>",
           "ids": [
            "Rainfall"
           ],
           "legendgroup": "Rainfall",
           "marker": {
            "color": "#00cc96",
            "pattern": {
             "shape": ""
            }
           },
           "name": "Rainfall",
           "orientation": "v",
           "showlegend": true,
           "textposition": "auto",
           "type": "bar",
           "x": [
            "Rainfall"
           ],
           "xaxis": "x",
           "y": {
            "bdata": "ZmZmZmZm9j8=",
            "dtype": "f8"
           },
           "yaxis": "y"
          },
          {
           "customdata": [
            [
             "Drizzle: Dense intensity"
            ]
           ],
           "hovertemplate": "Metric=%{x}<br>Date=2025-10-08<br>Value=%{y}<br>Weather=%{customdata[0]}<extra></extra>",
           "ids": [
            "Sum of Daily Rain"
           ],
           "legendgroup": "Sum of Daily Rain",
           "marker": {
            "color": "#ab63fa",
            "pattern": {
             "shape": ""
            }
           },
           "name": "Sum of Daily Rain",
           "orientation": "v",
           "showlegend": true,
           "textposition": "auto",
           "type": "bar",
           "x": [
            "Sum of Daily Rain"
           ],
           "xaxis": "x",
           "y": {
            "bdata": "ZmZmZmZm9j8=",
            "dtype": "f8"
           },
           "yaxis": "y"
          },
          {
           "customdata": [
            [
             "Drizzle: Dense intensity"
            ]
           ],
           "hovertemplate": "Metric=%{x}<br>Date=2025-10-08<br>Value=%{y}<br>Weather=%{customdata[0]}<extra></extra>",
           "ids": [
            "Hours with Rain"
           ],
           "legendgroup": "Hours with Rain",
           "marker": {
            "color": "#FFA15A",
            "pattern": {
             "shape": ""
            }
           },
           "name": "Hours with Rain",
           "orientation": "v",
           "showlegend": true,
           "textposition": "auto",
           "type": "bar",
           "x": [
            "Hours with Rain"
           ],
           "xaxis": "x",
           "y": {
            "bdata": "AAAAAAAAFEA=",
            "dtype": "f8"
           },
           "yaxis": "y"
          },
          {
           "customdata": [
            [
             "Drizzle: Dense intensity"
            ]
           ],
           "hovertemplate": "Metric=%{x}<br>Date=2025-10-08<br>Value=%{y}<br>Weather=%{customdata[0]}<extra></extra>",
           "ids": [
            "Wind Speed"
           ],
           "legendgroup": "Wind Speed",
           "marker": {
            "color": "#19d3f3",
            "pattern": {
             "shape": ""
            }
           },
           "name": "Wind Speed",
           "orientation": "v",
           "showlegend": true,
           "textposition": "auto",
           "type": "bar",
           "x": [
            "Wind Speed"
           ],
           "xaxis": "x",
           "y": {
            "bdata": "MzMzMzMzKEA=",
            "dtype": "f8"
           },
           "yaxis": "y"
          }
         ],
         "name": "2025-10-08"
        },
        {
         "data": [
          {
           "customdata": [
            [
             "Rain: Moderate"
            ]
           ],
           "hovertemplate": "Metric=%{x}<br>Date=2025-10-09<br>Value=%{y}<br>Weather=%{customdata[0]}<extra></extra>",
           "ids": [
            "Max Temp"
           ],
           "legendgroup": "Max Temp",
           "marker": {
            "color": "#636efa",
            "pattern": {
             "shape": ""
            }
           },
           "name": "Max Temp",
           "orientation": "v",
           "showlegend": true,
           "textposition": "auto",
           "type": "bar",
           "x": [
            "Max Temp"
           ],
           "xaxis": "x",
           "y": {
            "bdata": "AAAAAACAP0A=",
            "dtype": "f8"
           },
           "yaxis": "y"
          },
          {
           "customdata": [
            [
             "Rain: Moderate"
            ]
           ],
           "hovertemplate": "Metric=%{x}<br>Date=2025-10-09<br>Value=%{y}<br>Weather=%{customdata[0]}<extra></extra>",
           "ids": [
            "Min Temp"
           ],
           "legendgroup": "Min Temp",
           "marker": {
            "color": "#EF553B",
            "pattern": {
             "shape": ""
            }
           },
           "name": "Min Temp",
           "orientation": "v",
           "showlegend": true,
           "textposition": "auto",
           "type": "bar",
           "x": [
            "Min Temp"
           ],
           "xaxis": "x",
           "y": {
            "bdata": "mpmZmZkZOEA=",
            "dtype": "f8"
           },
           "yaxis": "y"
          },
          {
           "customdata": [
            [
             "Rain: Moderate"
            ]
           ],
           "hovertemplate": "Metric=%{x}<br>Date=2025-10-09<br>Value=%{y}<br>Weather=%{customdata[0]}<extra></extra>",
           "ids": [
            "Rainfall"
           ],
           "legendgroup": "Rainfall",
           "marker": {
            "color": "#00cc96",
            "pattern": {
             "shape": ""
            }
           },
           "name": "Rainfall",
           "orientation": "v",
           "showlegend": true,
           "textposition": "auto",
           "type": "bar",
           "x": [
            "Rainfall"
           ],
           "xaxis": "x",
           "y": {
            "bdata": "mpmZmZmZJEA=",
            "dtype": "f8"
           },
           "yaxis": "y"
          },
          {
           "customdata": [
            [
             "Rain: Moderate"
            ]
           ],
           "hovertemplate": "Metric=%{x}<br>Date=2025-10-09<br>Value=%{y}<br>Weather=%{customdata[0]}<extra></extra>",
           "ids": [
            "Sum of Daily Rain"
           ],
           "legendgroup": "Sum of Daily Rain",
           "marker": {
            "color": "#ab63fa",
            "pattern": {
             "shape": ""
            }
           },
           "name": "Sum of Daily Rain",
           "orientation": "v",
           "showlegend": true,
           "textposition": "auto",
           "type": "bar",
           "x": [
            "Sum of Daily Rain"
           ],
           "xaxis": "x",
           "y": {
            "bdata": "mpmZmZmZJEA=",
            "dtype": "f8"
           },
           "yaxis": "y"
          },
          {
           "customdata": [
            [
             "Rain: Moderate"
            ]
           ],
           "hovertemplate": "Metric=%{x}<br>Date=2025-10-09<br>Value=%{y}<br>Weather=%{customdata[0]}<extra></extra>",
           "ids": [
            "Hours with Rain"
           ],
           "legendgroup": "Hours with Rain",
           "marker": {
            "color": "#FFA15A",
            "pattern": {
             "shape": ""
            }
           },
           "name": "Hours with Rain",
           "orientation": "v",
           "showlegend": true,
           "textposition": "auto",
           "type": "bar",
           "x": [
            "Hours with Rain"
           ],
           "xaxis": "x",
           "y": {
            "bdata": "AAAAAAAAIEA=",
            "dtype": "f8"
           },
           "yaxis": "y"
          },
          {
           "customdata": [
            [
             "Rain: Moderate"
            ]
           ],
           "hovertemplate": "Metric=%{x}<br>Date=2025-10-09<br>Value=%{y}<br>Weather=%{customdata[0]}<extra></extra>",
           "ids": [
            "Wind Speed"
           ],
           "legendgroup": "Wind Speed",
           "marker": {
            "color": "#19d3f3",
            "pattern": {
             "shape": ""
            }
           },
           "name": "Wind Speed",
           "orientation": "v",
           "showlegend": true,
           "textposition": "auto",
           "type": "bar",
           "x": [
            "Wind Speed"
           ],
           "xaxis": "x",
           "y": {
            "bdata": "zczMzMzMJEA=",
            "dtype": "f8"
           },
           "yaxis": "y"
          }
         ],
         "name": "2025-10-09"
        },
        {
         "data": [
          {
           "customdata": [
            [
             "Drizzle: Light"
            ]
           ],
           "hovertemplate": "Metric=%{x}<br>Date=2025-10-10<br>Value=%{y}<br>Weather=%{customdata[0]}<extra></extra>",
           "ids": [
            "Max Temp"
           ],
           "legendgroup": "Max Temp",
           "marker": {
            "color": "#636efa",
            "pattern": {
             "shape": ""
            }
           },
           "name": "Max Temp",
           "orientation": "v",
           "showlegend": true,
           "textposition": "auto",
           "type": "bar",
           "x": [
            "Max Temp"
           ],
           "xaxis": "x",
           "y": {
            "bdata": "ZmZmZmZmPkA=",
            "dtype": "f8"
           },
           "yaxis": "y"
          },
          {
           "customdata": [
            [
             "Drizzle: Light"
            ]
           ],
           "hovertemplate": "Metric=%{x}<br>Date=2025-10-10<br>Value=%{y}<br>Weather=%{customdata[0]}<extra></extra>",
           "ids": [
            "Min Temp"
           ],
           "legendgroup": "Min Temp",
           "marker": {
            "color": "#EF553B",
            "pattern": {
             "shape": ""
            }
           },
           "name": "Min Temp",
           "orientation": "v",
           "showlegend": true,
           "textposition": "auto",
           "type": "bar",
           "x": [
            "Min Temp"
           ],
           "xaxis": "x",
           "y": {
            "bdata": "AAAAAAAAOUA=",
            "dtype": "f8"
           },
           "yaxis": "y"
          },
          {
           "customdata": [
            [
             "Drizzle: Light"
            ]
           ],
           "hovertemplate": "Metric=%{x}<br>Date=2025-10-10<br>Value=%{y}<br>Weather=%{customdata[0]}<extra></extra>",
           "ids": [
            "Rainfall"
           ],
           "legendgroup": "Rainfall",
           "marker": {
            "color": "#00cc96",
            "pattern": {
             "shape": ""
            }
           },
           "name": "Rainfall",
           "orientation": "v",
           "showlegend": true,
           "textposition": "auto",
           "type": "bar",
           "x": [
            "Rainfall"
           ],
           "xaxis": "x",
           "y": {
            "bdata": "mpmZmZmZ2T8=",
            "dtype": "f8"
           },
           "yaxis": "y"
          },
          {
           "customdata": [
            [
             "Drizzle: Light"
            ]
           ],
           "hovertemplate": "Metric=%{x}<br>Date=2025-10-10<br>Value=%{y}<br>Weather=%{customdata[0]}<extra></extra>",
           "ids": [
            "Sum of Daily Rain"
           ],
           "legendgroup": "Sum of Daily Rain",
           "marker": {
            "color": "#ab63fa",
            "pattern": {
             "shape": ""
            }
           },
           "name": "Sum of Daily Rain",
           "orientation": "v",
           "showlegend": true,
           "textposition": "auto",
           "type": "bar",
           "x": [
            "Sum of Daily Rain"
           ],
           "xaxis": "x",
           "y": {
            "bdata": "mpmZmZmZ2T8=",
            "dtype": "f8"
           },
           "yaxis": "y"
          },
          {
           "customdata": [
            [
             "Drizzle: Light"
            ]
           ],
           "hovertemplate": "Metric=%{x}<br>Date=2025-10-10<br>Value=%{y}<br>Weather=%{customdata[0]}<extra></extra>",
           "ids": [
            "Hours with Rain"
           ],
           "legendgroup": "Hours with Rain",
           "marker": {
            "color": "#FFA15A",
            "pattern": {
             "shape": ""
            }
           },
           "name": "Hours with Rain",
           "orientation": "v",
           "showlegend": true,
           "textposition": "auto",
           "type": "bar",
           "x": [
            "Hours with Rain"
           ],
           "xaxis": "x",
           "y": {
            "bdata": "AAAAAAAACEA=",
            "dtype": "f8"
           },
           "yaxis": "y"
          },
          {
           "customdata": [
            [
             "Drizzle: Light"
            ]
           ],
           "hovertemplate": "Metric=%{x}<br>Date=2025-10-10<br>Value=%{y}<br>Weather=%{customdata[0]}<extra></extra>",
           "ids": [
            "Wind Speed"
           ],
           "legendgroup": "Wind Speed",
           "marker": {
            "color": "#19d3f3",
            "pattern": {
             "shape": ""
            }
           },
           "name": "Wind Speed",
           "orientation": "v",
           "showlegend": true,
           "textposition": "auto",
           "type": "bar",
           "x": [
            "Wind Speed"
           ],
           "xaxis": "x",
           "y": {
            "bdata": "AAAAAAAAJ0A=",
            "dtype": "f8"
           },
           "yaxis": "y"
          }
         ],
         "name": "2025-10-10"
        },
        {
         "data": [
          {
           "customdata": [
            [
             "Rain: Slight"
            ]
           ],
           "hovertemplate": "Metric=%{x}<br>Date=2025-10-11<br>Value=%{y}<br>Weather=%{customdata[0]}<extra></extra>",
           "ids": [
            "Max Temp"
           ],
           "legendgroup": "Max Temp",
           "marker": {
            "color": "#636efa",
            "pattern": {
             "shape": ""
            }
           },
           "name": "Max Temp",
           "orientation": "v",
           "showlegend": true,
           "textposition": "auto",
           "type": "bar",
           "x": [
            "Max Temp"
           ],
           "xaxis": "x",
           "y": {
            "bdata": "mpmZmZkZP0A=",
            "dtype": "f8"
           },
           "yaxis": "y"
          },
          {
           "customdata": [
            [
             "Rain: Slight"
            ]
           ],
           "hovertemplate": "Metric=%{x}<br>Date=2025-10-11<br>Value=%{y}<br>Weather=%{customdata[0]}<extra></extra>",
           "ids": [
            "Min Temp"
           ],
           "legendgroup": "Min Temp",
           "marker": {
            "color": "#EF553B",
            "pattern": {
             "shape": ""
            }
           },
           "name": "Min Temp",
           "orientation": "v",
           "showlegend": true,
           "textposition": "auto",
           "type": "bar",
           "x": [
            "Min Temp"
           ],
           "xaxis": "x",
           "y": {
            "bdata": "AAAAAACAOUA=",
            "dtype": "f8"
           },
           "yaxis": "y"
          },
          {
           "customdata": [
            [
             "Rain: Slight"
            ]
           ],
           "hovertemplate": "Metric=%{x}<br>Date=2025-10-11<br>Value=%{y}<br>Weather=%{customdata[0]}<extra></extra>",
           "ids": [
            "Rainfall"
           ],
           "legendgroup": "Rainfall",
           "marker": {
            "color": "#00cc96",
            "pattern": {
             "shape": ""
            }
           },
           "name": "Rainfall",
           "orientation": "v",
           "showlegend": true,
           "textposition": "auto",
           "type": "bar",
           "x": [
            "Rainfall"
           ],
           "xaxis": "x",
           "y": {
            "bdata": "zczMzMzMBEA=",
            "dtype": "f8"
           },
           "yaxis": "y"
          },
          {
           "customdata": [
            [
             "Rain: Slight"
            ]
           ],
           "hovertemplate": "Metric=%{x}<br>Date=2025-10-11<br>Value=%{y}<br>Weather=%{customdata[0]}<extra></extra>",
           "ids": [
            "Sum of Daily Rain"
           ],
           "legendgroup": "Sum of Daily Rain",
           "marker": {
            "color": "#ab63fa",
            "pattern": {
             "shape": ""
            }
           },
           "name": "Sum of Daily Rain",
           "orientation": "v",
           "showlegend": true,
           "textposition": "auto",
           "type": "bar",
           "x": [
            "Sum of Daily Rain"
           ],
           "xaxis": "x",
           "y": {
            "bdata": "zczMzMzMBEA=",
            "dtype": "f8"
           },
           "yaxis": "y"
          },
          {
           "customdata": [
            [
             "Rain: Slight"
            ]
           ],
           "hovertemplate": "Metric=%{x}<br>Date=2025-10-11<br>Value=%{y}<br>Weather=%{customdata[0]}<extra></extra>",
           "ids": [
            "Hours with Rain"
           ],
           "legendgroup": "Hours with Rain",
           "marker": {
            "color": "#FFA15A",
            "pattern": {
             "shape": ""
            }
           },
           "name": "Hours with Rain",
           "orientation": "v",
           "showlegend": true,
           "textposition": "auto",
           "type": "bar",
           "x": [
            "Hours with Rain"
           ],
           "xaxis": "x",
           "y": {
            "bdata": "AAAAAAAAGEA=",
            "dtype": "f8"
           },
           "yaxis": "y"
          },
          {
           "customdata": [
            [
             "Rain: Slight"
            ]
           ],
           "hovertemplate": "Metric=%{x}<br>Date=2025-10-11<br>Value=%{y}<br>Weather=%{customdata[0]}<extra></extra>",
           "ids": [
            "Wind Speed"
           ],
           "legendgroup": "Wind Speed",
           "marker": {
            "color": "#19d3f3",
            "pattern": {
             "shape": ""
            }
           },
           "name": "Wind Speed",
           "orientation": "v",
           "showlegend": true,
           "textposition": "auto",
           "type": "bar",
           "x": [
            "Wind Speed"
           ],
           "xaxis": "x",
           "y": {
            "bdata": "zczMzMzMLEA=",
            "dtype": "f8"
           },
           "yaxis": "y"
          }
         ],
         "name": "2025-10-11"
        },
        {
         "data": [
          {
           "customdata": [
            [
             "Drizzle: Moderate"
            ]
           ],
           "hovertemplate": "Metric=%{x}<br>Date=2025-10-12<br>Value=%{y}<br>Weather=%{customdata[0]}<extra></extra>",
           "ids": [
            "Max Temp"
           ],
           "legendgroup": "Max Temp",
           "marker": {
            "color": "#636efa",
            "pattern": {
             "shape": ""
            }
           },
           "name": "Max Temp",
           "orientation": "v",
           "showlegend": true,
           "textposition": "auto",
           "type": "bar",
           "x": [
            "Max Temp"
           ],
           "xaxis": "x",
           "y": {
            "bdata": "MzMzMzOzPkA=",
            "dtype": "f8"
           },
           "yaxis": "y"
          },
          {
           "customdata": [
            [
             "Drizzle: Moderate"
            ]
           ],
           "hovertemplate": "Metric=%{x}<br>Date=2025-10-12<br>Value=%{y}<br>Weather=%{customdata[0]}<extra></extra>",
           "ids": [
            "Min Temp"
           ],
           "legendgroup": "Min Temp",
           "marker": {
            "color": "#EF553B",
            "pattern": {
             "shape": ""
            }
           },
           "name": "Min Temp",
           "orientation": "v",
           "showlegend": true,
           "textposition": "auto",
           "type": "bar",
           "x": [
            "Min Temp"
           ],
           "xaxis": "x",
           "y": {
            "bdata": "ZmZmZmZmOUA=",
            "dtype": "f8"
           },
           "yaxis": "y"
          },
          {
           "customdata": [
            [
             "Drizzle: Moderate"
            ]
           ],
           "hovertemplate": "Metric=%{x}<br>Date=2025-10-12<br>Value=%{y}<br>Weather=%{customdata[0]}<extra></extra>",
           "ids": [
            "Rainfall"
           ],
           "legendgroup": "Rainfall",
           "marker": {
            "color": "#00cc96",
            "pattern": {
             "shape": ""
            }
           },
           "name": "Rainfall",
           "orientation": "v",
           "showlegend": true,
           "textposition": "auto",
           "type": "bar",
           "x": [
            "Rainfall"
           ],
           "xaxis": "x",
           "y": {
            "bdata": "zczMzMzM/D8=",
            "dtype": "f8"
           },
           "yaxis": "y"
          },
          {
           "customdata": [
            [
             "Drizzle: Moderate"
            ]
           ],
           "hovertemplate": "Metric=%{x}<br>Date=2025-10-12<br>Value=%{y}<br>Weather=%{customdata[0]}<extra></extra>",
           "ids": [
            "Sum of Daily Rain"
           ],
           "legendgroup": "Sum of Daily Rain",
           "marker": {
            "color": "#ab63fa",
            "pattern": {
             "shape": ""
            }
           },
           "name": "Sum of Daily Rain",
           "orientation": "v",
           "showlegend": true,
           "textposition": "auto",
           "type": "bar",
           "x": [
            "Sum of Daily Rain"
           ],
           "xaxis": "x",
           "y": {
            "bdata": "zczMzMzM/D8=",
            "dtype": "f8"
           },
           "yaxis": "y"
          },
          {
           "customdata": [
            [
             "Drizzle: Moderate"
            ]
           ],
           "hovertemplate": "Metric=%{x}<br>Date=2025-10-12<br>Value=%{y}<br>Weather=%{customdata[0]}<extra></extra>",
           "ids": [
            "Hours with Rain"
           ],
           "legendgroup": "Hours with Rain",
           "marker": {
            "color": "#FFA15A",
            "pattern": {
             "shape": ""
            }
           },
           "name": "Hours with Rain",
           "orientation": "v",
           "showlegend": true,
           "textposition": "auto",
           "type": "bar",
           "x": [
            "Hours with Rain"
           ],
           "xaxis": "x",
           "y": {
            "bdata": "AAAAAAAAIkA=",
            "dtype": "f8"
           },
           "yaxis": "y"
          },
          {
           "customdata": [
            [
             "Drizzle: Moderate"
            ]
           ],
           "hovertemplate": "Metric=%{x}<br>Date=2025-10-12<br>Value=%{y}<br>Weather=%{customdata[0]}<extra></extra>",
           "ids": [
            "Wind Speed"
           ],
           "legendgroup": "Wind Speed",
           "marker": {
            "color": "#19d3f3",
            "pattern": {
             "shape": ""
            }
           },
           "name": "Wind Speed",
           "orientation": "v",
           "showlegend": true,
           "textposition": "auto",
           "type": "bar",
           "x": [
            "Wind Speed"
           ],
           "xaxis": "x",
           "y": {
            "bdata": "ZmZmZmZmJkA=",
            "dtype": "f8"
           },
           "yaxis": "y"
          }
         ],
         "name": "2025-10-12"
        },
        {
         "data": [
          {
           "customdata": [
            [
             "Rain: Moderate"
            ]
           ],
           "hovertemplate": "Metric=%{x}<br>Date=2025-10-13<br>Value=%{y}<br>Weather=%{customdata[0]}<extra></extra>",
           "ids": [
            "Max Temp"
           ],
           "legendgroup": "Max Temp",
           "marker": {
            "color": "#636efa",
            "pattern": {
             "shape": ""
            }
           },
           "name": "Max Temp",
           "orientation": "v",
           "showlegend": true,
           "textposition": "auto",
           "type": "bar",
           "x": [
            "Max Temp"
           ],
           "xaxis": "x",
           "y": {
            "bdata": "MzMzMzOzP0A=",
            "dtype": "f8"
           },
           "yaxis": "y"
          },
          {
           "customdata": [
            [
             "Rain: Moderate"
            ]
           ],
           "hovertemplate": "Metric=%{x}<br>Date=2025-10-13<br>Value=%{y}<br>Weather=%{customdata[0]}<extra></extra>",
           "ids": [
            "Min Temp"
           ],
           "legendgroup": "Min Temp",
           "marker": {
            "color": "#EF553B",
            "pattern": {
             "shape": ""
            }
           },
           "name": "Min Temp",
           "orientation": "v",
           "showlegend": true,
           "textposition": "auto",
           "type": "bar",
           "x": [
            "Min Temp"
           ],
           "xaxis": "x",
           "y": {
            "bdata": "AAAAAACAOUA=",
            "dtype": "f8"
           },
           "yaxis": "y"
          },
          {
           "customdata": [
            [
             "Rain: Moderate"
            ]
           ],
           "hovertemplate": "Metric=%{x}<br>Date=2025-10-13<br>Value=%{y}<br>Weather=%{customdata[0]}<extra></extra>",
           "ids": [
            "Rainfall"
           ],
           "legendgroup": "Rainfall",
           "marker": {
            "color": "#00cc96",
            "pattern": {
             "shape": ""
            }
           },
           "name": "Rainfall",
           "orientation": "v",
           "showlegend": true,
           "textposition": "auto",
           "type": "bar",
           "x": [
            "Rainfall"
           ],
           "xaxis": "x",
           "y": {
            "bdata": "ZmZmZmZmJEA=",
            "dtype": "f8"
           },
           "yaxis": "y"
          },
          {
           "customdata": [
            [
             "Rain: Moderate"
            ]
           ],
           "hovertemplate": "Metric=%{x}<br>Date=2025-10-13<br>Value=%{y}<br>Weather=%{customdata[0]}<extra></extra>",
           "ids": [
            "Sum of Daily Rain"
           ],
           "legendgroup": "Sum of Daily Rain",
           "marker": {
            "color": "#ab63fa",
            "pattern": {
             "shape": ""
            }
           },
           "name": "Sum of Daily Rain",
           "orientation": "v",
           "showlegend": true,
           "textposition": "auto",
           "type": "bar",
           "x": [
            "Sum of Daily Rain"
           ],
           "xaxis": "x",
           "y": {
            "bdata": "ZmZmZmZmJEA=",
            "dtype": "f8"
           },
           "yaxis": "y"
          },
          {
           "customdata": [
            [
             "Rain: Moderate"
            ]
           ],
           "hovertemplate": "Metric=%{x}<br>Date=2025-10-13<br>Value=%{y}<br>Weather=%{customdata[0]}<extra></extra>",
           "ids": [
            "Hours with Rain"
           ],
           "legendgroup": "Hours with Rain",
           "marker": {
            "color": "#FFA15A",
            "pattern": {
             "shape": ""
            }
           },
           "name": "Hours with Rain",
           "orientation": "v",
           "showlegend": true,
           "textposition": "auto",
           "type": "bar",
           "x": [
            "Hours with Rain"
           ],
           "xaxis": "x",
           "y": {
            "bdata": "AAAAAAAALEA=",
            "dtype": "f8"
           },
           "yaxis": "y"
          },
          {
           "customdata": [
            [
             "Rain: Moderate"
            ]
           ],
           "hovertemplate": "Metric=%{x}<br>Date=2025-10-13<br>Value=%{y}<br>Weather=%{customdata[0]}<extra></extra>",
           "ids": [
            "Wind Speed"
           ],
           "legendgroup": "Wind Speed",
           "marker": {
            "color": "#19d3f3",
            "pattern": {
             "shape": ""
            }
           },
           "name": "Wind Speed",
           "orientation": "v",
           "showlegend": true,
           "textposition": "auto",
           "type": "bar",
           "x": [
            "Wind Speed"
           ],
           "xaxis": "x",
           "y": {
            "bdata": "zczMzMzMKUA=",
            "dtype": "f8"
           },
           "yaxis": "y"
          }
         ],
         "name": "2025-10-13"
        },
        {
         "data": [
          {
           "customdata": [
            [
             "Rain: Moderate"
            ]
           ],
           "hovertemplate": "Metric=%{x}<br>Date=2025-10-14<br>Value=%{y}<br>Weather=%{customdata[0]}<extra></extra>",
           "ids": [
            "Max Temp"
           ],
           "legendgroup": "Max Temp",
           "marker": {
            "color": "#636efa",
            "pattern": {
             "shape": ""
            }
           },
           "name": "Max Temp",
           "orientation": "v",
           "showlegend": true,
           "textposition": "auto",
           "type": "bar",
           "x": [
            "Max Temp"
           ],
           "xaxis": "x",
           "y": {
            "bdata": "zczMzMzMPkA=",
            "dtype": "f8"
           },
           "yaxis": "y"
          },
          {
           "customdata": [
            [
             "Rain: Moderate"
            ]
           ],
           "hovertemplate": "Metric=%{x}<br>Date=2025-10-14<br>Value=%{y}<br>Weather=%{customdata[0]}<extra></extra>",
           "ids": [
            "Min Temp"
           ],
           "legendgroup": "Min Temp",
           "marker": {
            "color": "#EF553B",
            "pattern": {
             "shape": ""
            }
           },
           "name": "Min Temp",
           "orientation": "v",
           "showlegend": true,
           "textposition": "auto",
           "type": "bar",
           "x": [
            "Min Temp"
           ],
           "xaxis": "x",
           "y": {
            "bdata": "mpmZmZkZOUA=",
            "dtype": "f8"
           },
           "yaxis": "y"
          },
          {
           "customdata": [
            [
             "Rain: Moderate"
            ]
           ],
           "hovertemplate": "Metric=%{x}<br>Date=2025-10-14<br>Value=%{y}<br>Weather=%{customdata[0]}<extra></extra>",
           "ids": [
            "Rainfall"
           ],
           "legendgroup": "Rainfall",
           "marker": {
            "color": "#00cc96",
            "pattern": {
             "shape": ""
            }
           },
           "name": "Rainfall",
           "orientation": "v",
           "showlegend": true,
           "textposition": "auto",
           "type": "bar",
           "x": [
            "Rainfall"
           ],
           "xaxis": "x",
           "y": {
            "bdata": "zczMzMzMI0A=",
            "dtype": "f8"
           },
           "yaxis": "y"
          },
          {
           "customdata": [
            [
             "Rain: Moderate"
            ]
           ],
           "hovertemplate": "Metric=%{x}<br>Date=2025-10-14<br>Value=%{y}<br>Weather=%{customdata[0]}<extra></extra>",
           "ids": [
            "Sum of Daily Rain"
           ],
           "legendgroup": "Sum of Daily Rain",
           "marker": {
            "color": "#ab63fa",
            "pattern": {
             "shape": ""
            }
           },
           "name": "Sum of Daily Rain",
           "orientation": "v",
           "showlegend": true,
           "textposition": "auto",
           "type": "bar",
           "x": [
            "Sum of Daily Rain"
           ],
           "xaxis": "x",
           "y": {
            "bdata": "zczMzMzMI0A=",
            "dtype": "f8"
           },
           "yaxis": "y"
          },
          {
           "customdata": [
            [
             "Rain: Moderate"
            ]
           ],
           "hovertemplate": "Metric=%{x}<br>Date=2025-10-14<br>Value=%{y}<br>Weather=%{customdata[0]}<extra></extra>",
           "ids": [
            "Hours with Rain"
           ],
           "legendgroup": "Hours with Rain",
           "marker": {
            "color": "#FFA15A",
            "pattern": {
             "shape": ""
            }
           },
           "name": "Hours with Rain",
           "orientation": "v",
           "showlegend": true,
           "textposition": "auto",
           "type": "bar",
           "x": [
            "Hours with Rain"
           ],
           "xaxis": "x",
           "y": {
            "bdata": "AAAAAAAAJEA=",
            "dtype": "f8"
           },
           "yaxis": "y"
          },
          {
           "customdata": [
            [
             "Rain: Moderate"
            ]
           ],
           "hovertemplate": "Metric=%{x}<br>Date=2025-10-14<br>Value=%{y}<br>Weather=%{customdata[0]}<extra></extra>",
           "ids": [
            "Wind Speed"
           ],
           "legendgroup": "Wind Speed",
           "marker": {
            "color": "#19d3f3",
            "pattern": {
             "shape": ""
            }
           },
           "name": "Wind Speed",
           "orientation": "v",
           "showlegend": true,
           "textposition": "auto",
           "type": "bar",
           "x": [
            "Wind Speed"
           ],
           "xaxis": "x",
           "y": {
            "bdata": "ZmZmZmZmKUA=",
            "dtype": "f8"
           },
           "yaxis": "y"
          }
         ],
         "name": "2025-10-14"
        },
        {
         "data": [
          {
           "customdata": [
            [
             "Rain: Moderate"
            ]
           ],
           "hovertemplate": "Metric=%{x}<br>Date=2025-10-15<br>Value=%{y}<br>Weather=%{customdata[0]}<extra></extra>",
           "ids": [
            "Max Temp"
           ],
           "legendgroup": "Max Temp",
           "marker": {
            "color": "#636efa",
            "pattern": {
             "shape": ""
            }
           },
           "name": "Max Temp",
           "orientation": "v",
           "showlegend": true,
           "textposition": "auto",
           "type": "bar",
           "x": [
            "Max Temp"
           ],
           "xaxis": "x",
           "y": {
            "bdata": "mpmZmZkZPEA=",
            "dtype": "f8"
           },
           "yaxis": "y"
          },
          {
           "customdata": [
            [
             "Rain: Moderate"
            ]
           ],
           "hovertemplate": "Metric=%{x}<br>Date=2025-10-15<br>Value=%{y}<br>Weather=%{customdata[0]}<extra></extra>",
           "ids": [
            "Min Temp"
           ],
           "legendgroup": "Min Temp",
           "marker": {
            "color": "#EF553B",
            "pattern": {
             "shape": ""
            }
           },
           "name": "Min Temp",
           "orientation": "v",
           "showlegend": true,
           "textposition": "auto",
           "type": "bar",
           "x": [
            "Min Temp"
           ],
           "xaxis": "x",
           "y": {
            "bdata": "AAAAAACAOEA=",
            "dtype": "f8"
           },
           "yaxis": "y"
          },
          {
           "customdata": [
            [
             "Rain: Moderate"
            ]
           ],
           "hovertemplate": "Metric=%{x}<br>Date=2025-10-15<br>Value=%{y}<br>Weather=%{customdata[0]}<extra></extra>",
           "ids": [
            "Rainfall"
           ],
           "legendgroup": "Rainfall",
           "marker": {
            "color": "#00cc96",
            "pattern": {
             "shape": ""
            }
           },
           "name": "Rainfall",
           "orientation": "v",
           "showlegend": true,
           "textposition": "auto",
           "type": "bar",
           "x": [
            "Rainfall"
           ],
           "xaxis": "x",
           "y": {
            "bdata": "ZmZmZmamQUA=",
            "dtype": "f8"
           },
           "yaxis": "y"
          },
          {
           "customdata": [
            [
             "Rain: Moderate"
            ]
           ],
           "hovertemplate": "Metric=%{x}<br>Date=2025-10-15<br>Value=%{y}<br>Weather=%{customdata[0]}<extra></extra>",
           "ids": [
            "Sum of Daily Rain"
           ],
           "legendgroup": "Sum of Daily Rain",
           "marker": {
            "color": "#ab63fa",
            "pattern": {
             "shape": ""
            }
           },
           "name": "Sum of Daily Rain",
           "orientation": "v",
           "showlegend": true,
           "textposition": "auto",
           "type": "bar",
           "x": [
            "Sum of Daily Rain"
           ],
           "xaxis": "x",
           "y": {
            "bdata": "ZmZmZmamQUA=",
            "dtype": "f8"
           },
           "yaxis": "y"
          },
          {
           "customdata": [
            [
             "Rain: Moderate"
            ]
           ],
           "hovertemplate": "Metric=%{x}<br>Date=2025-10-15<br>Value=%{y}<br>Weather=%{customdata[0]}<extra></extra>",
           "ids": [
            "Hours with Rain"
           ],
           "legendgroup": "Hours with Rain",
           "marker": {
            "color": "#FFA15A",
            "pattern": {
             "shape": ""
            }
           },
           "name": "Hours with Rain",
           "orientation": "v",
           "showlegend": true,
           "textposition": "auto",
           "type": "bar",
           "x": [
            "Hours with Rain"
           ],
           "xaxis": "x",
           "y": {
            "bdata": "AAAAAAAANUA=",
            "dtype": "f8"
           },
           "yaxis": "y"
          },
          {
           "customdata": [
            [
             "Rain: Moderate"
            ]
           ],
           "hovertemplate": "Metric=%{x}<br>Date=2025-10-15<br>Value=%{y}<br>Weather=%{customdata[0]}<extra></extra>",
           "ids": [
            "Wind Speed"
           ],
           "legendgroup": "Wind Speed",
           "marker": {
            "color": "#19d3f3",
            "pattern": {
             "shape": ""
            }
           },
           "name": "Wind Speed",
           "orientation": "v",
           "showlegend": true,
           "textposition": "auto",
           "type": "bar",
           "x": [
            "Wind Speed"
           ],
           "xaxis": "x",
           "y": {
            "bdata": "AAAAAAAAMkA=",
            "dtype": "f8"
           },
           "yaxis": "y"
          }
         ],
         "name": "2025-10-15"
        },
        {
         "data": [
          {
           "customdata": [
            [
             "Rain: Moderate"
            ]
           ],
           "hovertemplate": "Metric=%{x}<br>Date=2025-10-16<br>Value=%{y}<br>Weather=%{customdata[0]}<extra></extra>",
           "ids": [
            "Max Temp"
           ],
           "legendgroup": "Max Temp",
           "marker": {
            "color": "#636efa",
            "pattern": {
             "shape": ""
            }
           },
           "name": "Max Temp",
           "orientation": "v",
           "showlegend": true,
           "textposition": "auto",
           "type": "bar",
           "x": [
            "Max Temp"
           ],
           "xaxis": "x",
           "y": {
            "bdata": "mpmZmZkZPUA=",
            "dtype": "f8"
           },
           "yaxis": "y"
          },
          {
           "customdata": [
            [
             "Rain: Moderate"
            ]
           ],
           "hovertemplate": "Metric=%{x}<br>Date=2025-10-16<br>Value=%{y}<br>Weather=%{customdata[0]}<extra></extra>",
           "ids": [
            "Min Temp"
           ],
           "legendgroup": "Min Temp",
           "marker": {
            "color": "#EF553B",
            "pattern": {
             "shape": ""
            }
           },
           "name": "Min Temp",
           "orientation": "v",
           "showlegend": true,
           "textposition": "auto",
           "type": "bar",
           "x": [
            "Min Temp"
           ],
           "xaxis": "x",
           "y": {
            "bdata": "MzMzMzMzOEA=",
            "dtype": "f8"
           },
           "yaxis": "y"
          },
          {
           "customdata": [
            [
             "Rain: Moderate"
            ]
           ],
           "hovertemplate": "Metric=%{x}<br>Date=2025-10-16<br>Value=%{y}<br>Weather=%{customdata[0]}<extra></extra>",
           "ids": [
            "Rainfall"
           ],
           "legendgroup": "Rainfall",
           "marker": {
            "color": "#00cc96",
            "pattern": {
             "shape": ""
            }
           },
           "name": "Rainfall",
           "orientation": "v",
           "showlegend": true,
           "textposition": "auto",
           "type": "bar",
           "x": [
            "Rainfall"
           ],
           "xaxis": "x",
           "y": {
            "bdata": "MzMzMzOzNEA=",
            "dtype": "f8"
           },
           "yaxis": "y"
          },
          {
           "customdata": [
            [
             "Rain: Moderate"
            ]
           ],
           "hovertemplate": "Metric=%{x}<br>Date=2025-10-16<br>Value=%{y}<br>Weather=%{customdata[0]}<extra></extra>",
           "ids": [
            "Sum of Daily Rain"
           ],
           "legendgroup": "Sum of Daily Rain",
           "marker": {
            "color": "#ab63fa",
            "pattern": {
             "shape": ""
            }
           },
           "name": "Sum of Daily Rain",
           "orientation": "v",
           "showlegend": true,
           "textposition": "auto",
           "type": "bar",
           "x": [
            "Sum of Daily Rain"
           ],
           "xaxis": "x",
           "y": {
            "bdata": "MzMzMzOzNEA=",
            "dtype": "f8"
           },
           "yaxis": "y"
          },
          {
           "customdata": [
            [
             "Rain: Moderate"
            ]
           ],
           "hovertemplate": "Metric=%{x}<br>Date=2025-10-16<br>Value=%{y}<br>Weather=%{customdata[0]}<extra></extra>",
           "ids": [
            "Hours with Rain"
           ],
           "legendgroup": "Hours with Rain",
           "marker": {
            "color": "#FFA15A",
            "pattern": {
             "shape": ""
            }
           },
           "name": "Hours with Rain",
           "orientation": "v",
           "showlegend": true,
           "textposition": "auto",
           "type": "bar",
           "x": [
            "Hours with Rain"
           ],
           "xaxis": "x",
           "y": {
            "bdata": "AAAAAAAAN0A=",
            "dtype": "f8"
           },
           "yaxis": "y"
          },
          {
           "customdata": [
            [
             "Rain: Moderate"
            ]
           ],
           "hovertemplate": "Metric=%{x}<br>Date=2025-10-16<br>Value=%{y}<br>Weather=%{customdata[0]}<extra></extra>",
           "ids": [
            "Wind Speed"
           ],
           "legendgroup": "Wind Speed",
           "marker": {
            "color": "#19d3f3",
            "pattern": {
             "shape": ""
            }
           },
           "name": "Wind Speed",
           "orientation": "v",
           "showlegend": true,
           "textposition": "auto",
           "type": "bar",
           "x": [
            "Wind Speed"
           ],
           "xaxis": "x",
           "y": {
            "bdata": "ZmZmZmZmLUA=",
            "dtype": "f8"
           },
           "yaxis": "y"
          }
         ],
         "name": "2025-10-16"
        },
        {
         "data": [
          {
           "customdata": [
            [
             "Rain: Moderate"
            ]
           ],
           "hovertemplate": "Metric=%{x}<br>Date=2025-10-17<br>Value=%{y}<br>Weather=%{customdata[0]}<extra></extra>",
           "ids": [
            "Max Temp"
           ],
           "legendgroup": "Max Temp",
           "marker": {
            "color": "#636efa",
            "pattern": {
             "shape": ""
            }
           },
           "name": "Max Temp",
           "orientation": "v",
           "showlegend": true,
           "textposition": "auto",
           "type": "bar",
           "x": [
            "Max Temp"
           ],
           "xaxis": "x",
           "y": {
            "bdata": "MzMzMzMzPEA=",
            "dtype": "f8"
           },
           "yaxis": "y"
          },
          {
           "customdata": [
            [
             "Rain: Moderate"
            ]
           ],
           "hovertemplate": "Metric=%{x}<br>Date=2025-10-17<br>Value=%{y}<br>Weather=%{customdata[0]}<extra></extra>",
           "ids": [
            "Min Temp"
           ],
           "legendgroup": "Min Temp",
           "marker": {
            "color": "#EF553B",
            "pattern": {
             "shape": ""
            }
           },
           "name": "Min Temp",
           "orientation": "v",
           "showlegend": true,
           "textposition": "auto",
           "type": "bar",
           "x": [
            "Min Temp"
           ],
           "xaxis": "x",
           "y": {
            "bdata": "zczMzMzMOEA=",
            "dtype": "f8"
           },
           "yaxis": "y"
          },
          {
           "customdata": [
            [
             "Rain: Moderate"
            ]
           ],
           "hovertemplate": "Metric=%{x}<br>Date=2025-10-17<br>Value=%{y}<br>Weather=%{customdata[0]}<extra></extra>",
           "ids": [
            "Rainfall"
           ],
           "legendgroup": "Rainfall",
           "marker": {
            "color": "#00cc96",
            "pattern": {
             "shape": ""
            }
           },
           "name": "Rainfall",
           "orientation": "v",
           "showlegend": true,
           "textposition": "auto",
           "type": "bar",
           "x": [
            "Rainfall"
           ],
           "xaxis": "x",
           "y": {
            "bdata": "ZmZmZmZmK0A=",
            "dtype": "f8"
           },
           "yaxis": "y"
          },
          {
           "customdata": [
            [
             "Rain: Moderate"
            ]
           ],
           "hovertemplate": "Metric=%{x}<br>Date=2025-10-17<br>Value=%{y}<br>Weather=%{customdata[0]}<extra></extra>",
           "ids": [
            "Sum of Daily Rain"
           ],
           "legendgroup": "Sum of Daily Rain",
           "marker": {
            "color": "#ab63fa",
            "pattern": {
             "shape": ""
            }
           },
           "name": "Sum of Daily Rain",
           "orientation": "v",
           "showlegend": true,
           "textposition": "auto",
           "type": "bar",
           "x": [
            "Sum of Daily Rain"
           ],
           "xaxis": "x",
           "y": {
            "bdata": "ZmZmZmZmK0A=",
            "dtype": "f8"
           },
           "yaxis": "y"
          },
          {
           "customdata": [
            [
             "Rain: Moderate"
            ]
           ],
           "hovertemplate": "Metric=%{x}<br>Date=2025-10-17<br>Value=%{y}<br>Weather=%{customdata[0]}<extra></extra>",
           "ids": [
            "Hours with Rain"
           ],
           "legendgroup": "Hours with Rain",
           "marker": {
            "color": "#FFA15A",
            "pattern": {
             "shape": ""
            }
           },
           "name": "Hours with Rain",
           "orientation": "v",
           "showlegend": true,
           "textposition": "auto",
           "type": "bar",
           "x": [
            "Hours with Rain"
           ],
           "xaxis": "x",
           "y": {
            "bdata": "AAAAAAAAN0A=",
            "dtype": "f8"
           },
           "yaxis": "y"
          },
          {
           "customdata": [
            [
             "Rain: Moderate"
            ]
           ],
           "hovertemplate": "Metric=%{x}<br>Date=2025-10-17<br>Value=%{y}<br>Weather=%{customdata[0]}<extra></extra>",
           "ids": [
            "Wind Speed"
           ],
           "legendgroup": "Wind Speed",
           "marker": {
            "color": "#19d3f3",
            "pattern": {
             "shape": ""
            }
           },
           "name": "Wind Speed",
           "orientation": "v",
           "showlegend": true,
           "textposition": "auto",
           "type": "bar",
           "x": [
            "Wind Speed"
           ],
           "xaxis": "x",
           "y": {
            "bdata": "AAAAAAAAK0A=",
            "dtype": "f8"
           },
           "yaxis": "y"
          }
         ],
         "name": "2025-10-17"
        },
        {
         "data": [
          {
           "customdata": [
            [
             "Rain: Heavy intensity"
            ]
           ],
           "hovertemplate": "Metric=%{x}<br>Date=2025-10-18<br>Value=%{y}<br>Weather=%{customdata[0]}<extra></extra>",
           "ids": [
            "Max Temp"
           ],
           "legendgroup": "Max Temp",
           "marker": {
            "color": "#636efa",
            "pattern": {
             "shape": ""
            }
           },
           "name": "Max Temp",
           "orientation": "v",
           "showlegend": true,
           "textposition": "auto",
           "type": "bar",
           "x": [
            "Max Temp"
           ],
           "xaxis": "x",
           "y": {
            "bdata": "zczMzMxMO0A=",
            "dtype": "f8"
           },
           "yaxis": "y"
          },
          {
           "customdata": [
            [
             "Rain: Heavy intensity"
            ]
           ],
           "hovertemplate": "Metric=%{x}<br>Date=2025-10-18<br>Value=%{y}<br>Weather=%{customdata[0]}<extra></extra>",
           "ids": [
            "Min Temp"
           ],
           "legendgroup": "Min Temp",
           "marker": {
            "color": "#EF553B",
            "pattern": {
             "shape": ""
            }
           },
           "name": "Min Temp",
           "orientation": "v",
           "showlegend": true,
           "textposition": "auto",
           "type": "bar",
           "x": [
            "Min Temp"
           ],
           "xaxis": "x",
           "y": {
            "bdata": "mpmZmZmZOEA=",
            "dtype": "f8"
           },
           "yaxis": "y"
          },
          {
           "customdata": [
            [
             "Rain: Heavy intensity"
            ]
           ],
           "hovertemplate": "Metric=%{x}<br>Date=2025-10-18<br>Value=%{y}<br>Weather=%{customdata[0]}<extra></extra>",
           "ids": [
            "Rainfall"
           ],
           "legendgroup": "Rainfall",
           "marker": {
            "color": "#00cc96",
            "pattern": {
             "shape": ""
            }
           },
           "name": "Rainfall",
           "orientation": "v",
           "showlegend": true,
           "textposition": "auto",
           "type": "bar",
           "x": [
            "Rainfall"
           ],
           "xaxis": "x",
           "y": {
            "bdata": "AAAAAACAO0A=",
            "dtype": "f8"
           },
           "yaxis": "y"
          },
          {
           "customdata": [
            [
             "Rain: Heavy intensity"
            ]
           ],
           "hovertemplate": "Metric=%{x}<br>Date=2025-10-18<br>Value=%{y}<br>Weather=%{customdata[0]}<extra></extra>",
           "ids": [
            "Sum of Daily Rain"
           ],
           "legendgroup": "Sum of Daily Rain",
           "marker": {
            "color": "#ab63fa",
            "pattern": {
             "shape": ""
            }
           },
           "name": "Sum of Daily Rain",
           "orientation": "v",
           "showlegend": true,
           "textposition": "auto",
           "type": "bar",
           "x": [
            "Sum of Daily Rain"
           ],
           "xaxis": "x",
           "y": {
            "bdata": "AAAAAACAO0A=",
            "dtype": "f8"
           },
           "yaxis": "y"
          },
          {
           "customdata": [
            [
             "Rain: Heavy intensity"
            ]
           ],
           "hovertemplate": "Metric=%{x}<br>Date=2025-10-18<br>Value=%{y}<br>Weather=%{customdata[0]}<extra></extra>",
           "ids": [
            "Hours with Rain"
           ],
           "legendgroup": "Hours with Rain",
           "marker": {
            "color": "#FFA15A",
            "pattern": {
             "shape": ""
            }
           },
           "name": "Hours with Rain",
           "orientation": "v",
           "showlegend": true,
           "textposition": "auto",
           "type": "bar",
           "x": [
            "Hours with Rain"
           ],
           "xaxis": "x",
           "y": {
            "bdata": "AAAAAAAANEA=",
            "dtype": "f8"
           },
           "yaxis": "y"
          },
          {
           "customdata": [
            [
             "Rain: Heavy intensity"
            ]
           ],
           "hovertemplate": "Metric=%{x}<br>Date=2025-10-18<br>Value=%{y}<br>Weather=%{customdata[0]}<extra></extra>",
           "ids": [
            "Wind Speed"
           ],
           "legendgroup": "Wind Speed",
           "marker": {
            "color": "#19d3f3",
            "pattern": {
             "shape": ""
            }
           },
           "name": "Wind Speed",
           "orientation": "v",
           "showlegend": true,
           "textposition": "auto",
           "type": "bar",
           "x": [
            "Wind Speed"
           ],
           "xaxis": "x",
           "y": {
            "bdata": "zczMzMzMIEA=",
            "dtype": "f8"
           },
           "yaxis": "y"
          }
         ],
         "name": "2025-10-18"
        },
        {
         "data": [
          {
           "customdata": [
            [
             "Rain: Moderate"
            ]
           ],
           "hovertemplate": "Metric=%{x}<br>Date=2025-10-19<br>Value=%{y}<br>Weather=%{customdata[0]}<extra></extra>",
           "ids": [
            "Max Temp"
           ],
           "legendgroup": "Max Temp",
           "marker": {
            "color": "#636efa",
            "pattern": {
             "shape": ""
            }
           },
           "name": "Max Temp",
           "orientation": "v",
           "showlegend": true,
           "textposition": "auto",
           "type": "bar",
           "x": [
            "Max Temp"
           ],
           "xaxis": "x",
           "y": {
            "bdata": "MzMzMzOzPEA=",
            "dtype": "f8"
           },
           "yaxis": "y"
          },
          {
           "customdata": [
            [
             "Rain: Moderate"
            ]
           ],
           "hovertemplate": "Metric=%{x}<br>Date=2025-10-19<br>Value=%{y}<br>Weather=%{customdata[0]}<extra></extra>",
           "ids": [
            "Min Temp"
           ],
           "legendgroup": "Min Temp",
           "marker": {
            "color": "#EF553B",
            "pattern": {
             "shape": ""
            }
           },
           "name": "Min Temp",
           "orientation": "v",
           "showlegend": true,
           "textposition": "auto",
           "type": "bar",
           "x": [
            "Min Temp"
           ],
           "xaxis": "x",
           "y": {
            "bdata": "MzMzMzMzOEA=",
            "dtype": "f8"
           },
           "yaxis": "y"
          },
          {
           "customdata": [
            [
             "Rain: Moderate"
            ]
           ],
           "hovertemplate": "Metric=%{x}<br>Date=2025-10-19<br>Value=%{y}<br>Weather=%{customdata[0]}<extra></extra>",
           "ids": [
            "Rainfall"
           ],
           "legendgroup": "Rainfall",
           "marker": {
            "color": "#00cc96",
            "pattern": {
             "shape": ""
            }
           },
           "name": "Rainfall",
           "orientation": "v",
           "showlegend": true,
           "textposition": "auto",
           "type": "bar",
           "x": [
            "Rainfall"
           ],
           "xaxis": "x",
           "y": {
            "bdata": "MzMzMzMzH0A=",
            "dtype": "f8"
           },
           "yaxis": "y"
          },
          {
           "customdata": [
            [
             "Rain: Moderate"
            ]
           ],
           "hovertemplate": "Metric=%{x}<br>Date=2025-10-19<br>Value=%{y}<br>Weather=%{customdata[0]}<extra></extra>",
           "ids": [
            "Sum of Daily Rain"
           ],
           "legendgroup": "Sum of Daily Rain",
           "marker": {
            "color": "#ab63fa",
            "pattern": {
             "shape": ""
            }
           },
           "name": "Sum of Daily Rain",
           "orientation": "v",
           "showlegend": true,
           "textposition": "auto",
           "type": "bar",
           "x": [
            "Sum of Daily Rain"
           ],
           "xaxis": "x",
           "y": {
            "bdata": "MzMzMzMzH0A=",
            "dtype": "f8"
           },
           "yaxis": "y"
          },
          {
           "customdata": [
            [
             "Rain: Moderate"
            ]
           ],
           "hovertemplate": "Metric=%{x}<br>Date=2025-10-19<br>Value=%{y}<br>Weather=%{customdata[0]}<extra></extra>",
           "ids": [
            "Hours with Rain"
           ],
           "legendgroup": "Hours with Rain",
           "marker": {
            "color": "#FFA15A",
            "pattern": {
             "shape": ""
            }
           },
           "name": "Hours with Rain",
           "orientation": "v",
           "showlegend": true,
           "textposition": "auto",
           "type": "bar",
           "x": [
            "Hours with Rain"
           ],
           "xaxis": "x",
           "y": {
            "bdata": "AAAAAAAALEA=",
            "dtype": "f8"
           },
           "yaxis": "y"
          },
          {
           "customdata": [
            [
             "Rain: Moderate"
            ]
           ],
           "hovertemplate": "Metric=%{x}<br>Date=2025-10-19<br>Value=%{y}<br>Weather=%{customdata[0]}<extra></extra>",
           "ids": [
            "Wind Speed"
           ],
           "legendgroup": "Wind Speed",
           "marker": {
            "color": "#19d3f3",
            "pattern": {
             "shape": ""
            }
           },
           "name": "Wind Speed",
           "orientation": "v",
           "showlegend": true,
           "textposition": "auto",
           "type": "bar",
           "x": [
            "Wind Speed"
           ],
           "xaxis": "x",
           "y": {
            "bdata": "ZmZmZmZmIkA=",
            "dtype": "f8"
           },
           "yaxis": "y"
          }
         ],
         "name": "2025-10-19"
        },
        {
         "data": [
          {
           "customdata": [
            [
             "Rain: Moderate"
            ]
           ],
           "hovertemplate": "Metric=%{x}<br>Date=2025-10-20<br>Value=%{y}<br>Weather=%{customdata[0]}<extra></extra>",
           "ids": [
            "Max Temp"
           ],
           "legendgroup": "Max Temp",
           "marker": {
            "color": "#636efa",
            "pattern": {
             "shape": ""
            }
           },
           "name": "Max Temp",
           "orientation": "v",
           "showlegend": true,
           "textposition": "auto",
           "type": "bar",
           "x": [
            "Max Temp"
           ],
           "xaxis": "x",
           "y": {
            "bdata": "MzMzMzMzPEA=",
            "dtype": "f8"
           },
           "yaxis": "y"
          },
          {
           "customdata": [
            [
             "Rain: Moderate"
            ]
           ],
           "hovertemplate": "Metric=%{x}<br>Date=2025-10-20<br>Value=%{y}<br>Weather=%{customdata[0]}<extra></extra>",
           "ids": [
            "Min Temp"
           ],
           "legendgroup": "Min Temp",
           "marker": {
            "color": "#EF553B",
            "pattern": {
             "shape": ""
            }
           },
           "name": "Min Temp",
           "orientation": "v",
           "showlegend": true,
           "textposition": "auto",
           "type": "bar",
           "x": [
            "Min Temp"
           ],
           "xaxis": "x",
           "y": {
            "bdata": "AAAAAAAAOEA=",
            "dtype": "f8"
           },
           "yaxis": "y"
          },
          {
           "customdata": [
            [
             "Rain: Moderate"
            ]
           ],
           "hovertemplate": "Metric=%{x}<br>Date=2025-10-20<br>Value=%{y}<br>Weather=%{customdata[0]}<extra></extra>",
           "ids": [
            "Rainfall"
           ],
           "legendgroup": "Rainfall",
           "marker": {
            "color": "#00cc96",
            "pattern": {
             "shape": ""
            }
           },
           "name": "Rainfall",
           "orientation": "v",
           "showlegend": true,
           "textposition": "auto",
           "type": "bar",
           "x": [
            "Rainfall"
           ],
           "xaxis": "x",
           "y": {
            "bdata": "MzMzMzMzN0A=",
            "dtype": "f8"
           },
           "yaxis": "y"
          },
          {
           "customdata": [
            [
             "Rain: Moderate"
            ]
           ],
           "hovertemplate": "Metric=%{x}<br>Date=2025-10-20<br>Value=%{y}<br>Weather=%{customdata[0]}<extra></extra>",
           "ids": [
            "Sum of Daily Rain"
           ],
           "legendgroup": "Sum of Daily Rain",
           "marker": {
            "color": "#ab63fa",
            "pattern": {
             "shape": ""
            }
           },
           "name": "Sum of Daily Rain",
           "orientation": "v",
           "showlegend": true,
           "textposition": "auto",
           "type": "bar",
           "x": [
            "Sum of Daily Rain"
           ],
           "xaxis": "x",
           "y": {
            "bdata": "MzMzMzMzN0A=",
            "dtype": "f8"
           },
           "yaxis": "y"
          },
          {
           "customdata": [
            [
             "Rain: Moderate"
            ]
           ],
           "hovertemplate": "Metric=%{x}<br>Date=2025-10-20<br>Value=%{y}<br>Weather=%{customdata[0]}<extra></extra>",
           "ids": [
            "Hours with Rain"
           ],
           "legendgroup": "Hours with Rain",
           "marker": {
            "color": "#FFA15A",
            "pattern": {
             "shape": ""
            }
           },
           "name": "Hours with Rain",
           "orientation": "v",
           "showlegend": true,
           "textposition": "auto",
           "type": "bar",
           "x": [
            "Hours with Rain"
           ],
           "xaxis": "x",
           "y": {
            "bdata": "AAAAAAAANEA=",
            "dtype": "f8"
           },
           "yaxis": "y"
          },
          {
           "customdata": [
            [
             "Rain: Moderate"
            ]
           ],
           "hovertemplate": "Metric=%{x}<br>Date=2025-10-20<br>Value=%{y}<br>Weather=%{customdata[0]}<extra></extra>",
           "ids": [
            "Wind Speed"
           ],
           "legendgroup": "Wind Speed",
           "marker": {
            "color": "#19d3f3",
            "pattern": {
             "shape": ""
            }
           },
           "name": "Wind Speed",
           "orientation": "v",
           "showlegend": true,
           "textposition": "auto",
           "type": "bar",
           "x": [
            "Wind Speed"
           ],
           "xaxis": "x",
           "y": {
            "bdata": "zczMzMzMK0A=",
            "dtype": "f8"
           },
           "yaxis": "y"
          }
         ],
         "name": "2025-10-20"
        },
        {
         "data": [
          {
           "customdata": [
            [
             "Rain: Moderate"
            ]
           ],
           "hovertemplate": "Metric=%{x}<br>Date=2025-10-21<br>Value=%{y}<br>Weather=%{customdata[0]}<extra></extra>",
           "ids": [
            "Max Temp"
           ],
           "legendgroup": "Max Temp",
           "marker": {
            "color": "#636efa",
            "pattern": {
             "shape": ""
            }
           },
           "name": "Max Temp",
           "orientation": "v",
           "showlegend": true,
           "textposition": "auto",
           "type": "bar",
           "x": [
            "Max Temp"
           ],
           "xaxis": "x",
           "y": {
            "bdata": "mpmZmZmZOkA=",
            "dtype": "f8"
           },
           "yaxis": "y"
          },
          {
           "customdata": [
            [
             "Rain: Moderate"
            ]
           ],
           "hovertemplate": "Metric=%{x}<br>Date=2025-10-21<br>Value=%{y}<br>Weather=%{customdata[0]}<extra></extra>",
           "ids": [
            "Min Temp"
           ],
           "legendgroup": "Min Temp",
           "marker": {
            "color": "#EF553B",
            "pattern": {
             "shape": ""
            }
           },
           "name": "Min Temp",
           "orientation": "v",
           "showlegend": true,
           "textposition": "auto",
           "type": "bar",
           "x": [
            "Min Temp"
           ],
           "xaxis": "x",
           "y": {
            "bdata": "AAAAAACAOEA=",
            "dtype": "f8"
           },
           "yaxis": "y"
          },
          {
           "customdata": [
            [
             "Rain: Moderate"
            ]
           ],
           "hovertemplate": "Metric=%{x}<br>Date=2025-10-21<br>Value=%{y}<br>Weather=%{customdata[0]}<extra></extra>",
           "ids": [
            "Rainfall"
           ],
           "legendgroup": "Rainfall",
           "marker": {
            "color": "#00cc96",
            "pattern": {
             "shape": ""
            }
           },
           "name": "Rainfall",
           "orientation": "v",
           "showlegend": true,
           "textposition": "auto",
           "type": "bar",
           "x": [
            "Rainfall"
           ],
           "xaxis": "x",
           "y": {
            "bdata": "ZmZmZmbmPEA=",
            "dtype": "f8"
           },
           "yaxis": "y"
          },
          {
           "customdata": [
            [
             "Rain: Moderate"
            ]
           ],
           "hovertemplate": "Metric=%{x}<br>Date=2025-10-21<br>Value=%{y}<br>Weather=%{customdata[0]}<extra></extra>",
           "ids": [
            "Sum of Daily Rain"
           ],
           "legendgroup": "Sum of Daily Rain",
           "marker": {
            "color": "#ab63fa",
            "pattern": {
             "shape": ""
            }
           },
           "name": "Sum of Daily Rain",
           "orientation": "v",
           "showlegend": true,
           "textposition": "auto",
           "type": "bar",
           "x": [
            "Sum of Daily Rain"
           ],
           "xaxis": "x",
           "y": {
            "bdata": "ZmZmZmbmPEA=",
            "dtype": "f8"
           },
           "yaxis": "y"
          },
          {
           "customdata": [
            [
             "Rain: Moderate"
            ]
           ],
           "hovertemplate": "Metric=%{x}<br>Date=2025-10-21<br>Value=%{y}<br>Weather=%{customdata[0]}<extra></extra>",
           "ids": [
            "Hours with Rain"
           ],
           "legendgroup": "Hours with Rain",
           "marker": {
            "color": "#FFA15A",
            "pattern": {
             "shape": ""
            }
           },
           "name": "Hours with Rain",
           "orientation": "v",
           "showlegend": true,
           "textposition": "auto",
           "type": "bar",
           "x": [
            "Hours with Rain"
           ],
           "xaxis": "x",
           "y": {
            "bdata": "AAAAAAAAN0A=",
            "dtype": "f8"
           },
           "yaxis": "y"
          },
          {
           "customdata": [
            [
             "Rain: Moderate"
            ]
           ],
           "hovertemplate": "Metric=%{x}<br>Date=2025-10-21<br>Value=%{y}<br>Weather=%{customdata[0]}<extra></extra>",
           "ids": [
            "Wind Speed"
           ],
           "legendgroup": "Wind Speed",
           "marker": {
            "color": "#19d3f3",
            "pattern": {
             "shape": ""
            }
           },
           "name": "Wind Speed",
           "orientation": "v",
           "showlegend": true,
           "textposition": "auto",
           "type": "bar",
           "x": [
            "Wind Speed"
           ],
           "xaxis": "x",
           "y": {
            "bdata": "AAAAAAAAMkA=",
            "dtype": "f8"
           },
           "yaxis": "y"
          }
         ],
         "name": "2025-10-21"
        },
        {
         "data": [
          {
           "customdata": [
            [
             "Rain: Moderate"
            ]
           ],
           "hovertemplate": "Metric=%{x}<br>Date=2025-10-22<br>Value=%{y}<br>Weather=%{customdata[0]}<extra></extra>",
           "ids": [
            "Max Temp"
           ],
           "legendgroup": "Max Temp",
           "marker": {
            "color": "#636efa",
            "pattern": {
             "shape": ""
            }
           },
           "name": "Max Temp",
           "orientation": "v",
           "showlegend": true,
           "textposition": "auto",
           "type": "bar",
           "x": [
            "Max Temp"
           ],
           "xaxis": "x",
           "y": {
            "bdata": "AAAAAAAAPUA=",
            "dtype": "f8"
           },
           "yaxis": "y"
          },
          {
           "customdata": [
            [
             "Rain: Moderate"
            ]
           ],
           "hovertemplate": "Metric=%{x}<br>Date=2025-10-22<br>Value=%{y}<br>Weather=%{customdata[0]}<extra></extra>",
           "ids": [
            "Min Temp"
           ],
           "legendgroup": "Min Temp",
           "marker": {
            "color": "#EF553B",
            "pattern": {
             "shape": ""
            }
           },
           "name": "Min Temp",
           "orientation": "v",
           "showlegend": true,
           "textposition": "auto",
           "type": "bar",
           "x": [
            "Min Temp"
           ],
           "xaxis": "x",
           "y": {
            "bdata": "MzMzMzMzOUA=",
            "dtype": "f8"
           },
           "yaxis": "y"
          },
          {
           "customdata": [
            [
             "Rain: Moderate"
            ]
           ],
           "hovertemplate": "Metric=%{x}<br>Date=2025-10-22<br>Value=%{y}<br>Weather=%{customdata[0]}<extra></extra>",
           "ids": [
            "Rainfall"
           ],
           "legendgroup": "Rainfall",
           "marker": {
            "color": "#00cc96",
            "pattern": {
             "shape": ""
            }
           },
           "name": "Rainfall",
           "orientation": "v",
           "showlegend": true,
           "textposition": "auto",
           "type": "bar",
           "x": [
            "Rainfall"
           ],
           "xaxis": "x",
           "y": {
            "bdata": "AAAAAABAQ0A=",
            "dtype": "f8"
           },
           "yaxis": "y"
          },
          {
           "customdata": [
            [
             "Rain: Moderate"
            ]
           ],
           "hovertemplate": "Metric=%{x}<br>Date=2025-10-22<br>Value=%{y}<br>Weather=%{customdata[0]}<extra></extra>",
           "ids": [
            "Sum of Daily Rain"
           ],
           "legendgroup": "Sum of Daily Rain",
           "marker": {
            "color": "#ab63fa",
            "pattern": {
             "shape": ""
            }
           },
           "name": "Sum of Daily Rain",
           "orientation": "v",
           "showlegend": true,
           "textposition": "auto",
           "type": "bar",
           "x": [
            "Sum of Daily Rain"
           ],
           "xaxis": "x",
           "y": {
            "bdata": "AAAAAABAQ0A=",
            "dtype": "f8"
           },
           "yaxis": "y"
          },
          {
           "customdata": [
            [
             "Rain: Moderate"
            ]
           ],
           "hovertemplate": "Metric=%{x}<br>Date=2025-10-22<br>Value=%{y}<br>Weather=%{customdata[0]}<extra></extra>",
           "ids": [
            "Hours with Rain"
           ],
           "legendgroup": "Hours with Rain",
           "marker": {
            "color": "#FFA15A",
            "pattern": {
             "shape": ""
            }
           },
           "name": "Hours with Rain",
           "orientation": "v",
           "showlegend": true,
           "textposition": "auto",
           "type": "bar",
           "x": [
            "Hours with Rain"
           ],
           "xaxis": "x",
           "y": {
            "bdata": "AAAAAAAANkA=",
            "dtype": "f8"
           },
           "yaxis": "y"
          },
          {
           "customdata": [
            [
             "Rain: Moderate"
            ]
           ],
           "hovertemplate": "Metric=%{x}<br>Date=2025-10-22<br>Value=%{y}<br>Weather=%{customdata[0]}<extra></extra>",
           "ids": [
            "Wind Speed"
           ],
           "legendgroup": "Wind Speed",
           "marker": {
            "color": "#19d3f3",
            "pattern": {
             "shape": ""
            }
           },
           "name": "Wind Speed",
           "orientation": "v",
           "showlegend": true,
           "textposition": "auto",
           "type": "bar",
           "x": [
            "Wind Speed"
           ],
           "xaxis": "x",
           "y": {
            "bdata": "AAAAAACANUA=",
            "dtype": "f8"
           },
           "yaxis": "y"
          }
         ],
         "name": "2025-10-22"
        },
        {
         "data": [
          {
           "customdata": [
            [
             "Rain: Moderate"
            ]
           ],
           "hovertemplate": "Metric=%{x}<br>Date=2025-10-23<br>Value=%{y}<br>Weather=%{customdata[0]}<extra></extra>",
           "ids": [
            "Max Temp"
           ],
           "legendgroup": "Max Temp",
           "marker": {
            "color": "#636efa",
            "pattern": {
             "shape": ""
            }
           },
           "name": "Max Temp",
           "orientation": "v",
           "showlegend": true,
           "textposition": "auto",
           "type": "bar",
           "x": [
            "Max Temp"
           ],
           "xaxis": "x",
           "y": {
            "bdata": "MzMzMzOzPUA=",
            "dtype": "f8"
           },
           "yaxis": "y"
          },
          {
           "customdata": [
            [
             "Rain: Moderate"
            ]
           ],
           "hovertemplate": "Metric=%{x}<br>Date=2025-10-23<br>Value=%{y}<br>Weather=%{customdata[0]}<extra></extra>",
           "ids": [
            "Min Temp"
           ],
           "legendgroup": "Min Temp",
           "marker": {
            "color": "#EF553B",
            "pattern": {
             "shape": ""
            }
           },
           "name": "Min Temp",
           "orientation": "v",
           "showlegend": true,
           "textposition": "auto",
           "type": "bar",
           "x": [
            "Min Temp"
           ],
           "xaxis": "x",
           "y": {
            "bdata": "zczMzMxMOEA=",
            "dtype": "f8"
           },
           "yaxis": "y"
          },
          {
           "customdata": [
            [
             "Rain: Moderate"
            ]
           ],
           "hovertemplate": "Metric=%{x}<br>Date=2025-10-23<br>Value=%{y}<br>Weather=%{customdata[0]}<extra></extra>",
           "ids": [
            "Rainfall"
           ],
           "legendgroup": "Rainfall",
           "marker": {
            "color": "#00cc96",
            "pattern": {
             "shape": ""
            }
           },
           "name": "Rainfall",
           "orientation": "v",
           "showlegend": true,
           "textposition": "auto",
           "type": "bar",
           "x": [
            "Rainfall"
           ],
           "xaxis": "x",
           "y": {
            "bdata": "mpmZmZkZMUA=",
            "dtype": "f8"
           },
           "yaxis": "y"
          },
          {
           "customdata": [
            [
             "Rain: Moderate"
            ]
           ],
           "hovertemplate": "Metric=%{x}<br>Date=2025-10-23<br>Value=%{y}<br>Weather=%{customdata[0]}<extra></extra>",
           "ids": [
            "Sum of Daily Rain"
           ],
           "legendgroup": "Sum of Daily Rain",
           "marker": {
            "color": "#ab63fa",
            "pattern": {
             "shape": ""
            }
           },
           "name": "Sum of Daily Rain",
           "orientation": "v",
           "showlegend": true,
           "textposition": "auto",
           "type": "bar",
           "x": [
            "Sum of Daily Rain"
           ],
           "xaxis": "x",
           "y": {
            "bdata": "mpmZmZkZMUA=",
            "dtype": "f8"
           },
           "yaxis": "y"
          },
          {
           "customdata": [
            [
             "Rain: Moderate"
            ]
           ],
           "hovertemplate": "Metric=%{x}<br>Date=2025-10-23<br>Value=%{y}<br>Weather=%{customdata[0]}<extra></extra>",
           "ids": [
            "Hours with Rain"
           ],
           "legendgroup": "Hours with Rain",
           "marker": {
            "color": "#FFA15A",
            "pattern": {
             "shape": ""
            }
           },
           "name": "Hours with Rain",
           "orientation": "v",
           "showlegend": true,
           "textposition": "auto",
           "type": "bar",
           "x": [
            "Hours with Rain"
           ],
           "xaxis": "x",
           "y": {
            "bdata": "AAAAAAAAKkA=",
            "dtype": "f8"
           },
           "yaxis": "y"
          },
          {
           "customdata": [
            [
             "Rain: Moderate"
            ]
           ],
           "hovertemplate": "Metric=%{x}<br>Date=2025-10-23<br>Value=%{y}<br>Weather=%{customdata[0]}<extra></extra>",
           "ids": [
            "Wind Speed"
           ],
           "legendgroup": "Wind Speed",
           "marker": {
            "color": "#19d3f3",
            "pattern": {
             "shape": ""
            }
           },
           "name": "Wind Speed",
           "orientation": "v",
           "showlegend": true,
           "textposition": "auto",
           "type": "bar",
           "x": [
            "Wind Speed"
           ],
           "xaxis": "x",
           "y": {
            "bdata": "ZmZmZmZmJkA=",
            "dtype": "f8"
           },
           "yaxis": "y"
          }
         ],
         "name": "2025-10-23"
        },
        {
         "data": [
          {
           "customdata": [
            [
             "Drizzle: Dense intensity"
            ]
           ],
           "hovertemplate": "Metric=%{x}<br>Date=2025-10-24<br>Value=%{y}<br>Weather=%{customdata[0]}<extra></extra>",
           "ids": [
            "Max Temp"
           ],
           "legendgroup": "Max Temp",
           "marker": {
            "color": "#636efa",
            "pattern": {
             "shape": ""
            }
           },
           "name": "Max Temp",
           "orientation": "v",
           "showlegend": true,
           "textposition": "auto",
           "type": "bar",
           "x": [
            "Max Temp"
           ],
           "xaxis": "x",
           "y": {
            "bdata": "MzMzMzMzO0A=",
            "dtype": "f8"
           },
           "yaxis": "y"
          },
          {
           "customdata": [
            [
             "Drizzle: Dense intensity"
            ]
           ],
           "hovertemplate": "Metric=%{x}<br>Date=2025-10-24<br>Value=%{y}<br>Weather=%{customdata[0]}<extra></extra>",
           "ids": [
            "Min Temp"
           ],
           "legendgroup": "Min Temp",
           "marker": {
            "color": "#EF553B",
            "pattern": {
             "shape": ""
            }
           },
           "name": "Min Temp",
           "orientation": "v",
           "showlegend": true,
           "textposition": "auto",
           "type": "bar",
           "x": [
            "Min Temp"
           ],
           "xaxis": "x",
           "y": {
            "bdata": "mpmZmZmZOEA=",
            "dtype": "f8"
           },
           "yaxis": "y"
          },
          {
           "customdata": [
            [
             "Drizzle: Dense intensity"
            ]
           ],
           "hovertemplate": "Metric=%{x}<br>Date=2025-10-24<br>Value=%{y}<br>Weather=%{customdata[0]}<extra></extra>",
           "ids": [
            "Rainfall"
           ],
           "legendgroup": "Rainfall",
           "marker": {
            "color": "#00cc96",
            "pattern": {
             "shape": ""
            }
           },
           "name": "Rainfall",
           "orientation": "v",
           "showlegend": true,
           "textposition": "auto",
           "type": "bar",
           "x": [
            "Rainfall"
           ],
           "xaxis": "x",
           "y": {
            "bdata": "zczMzMzMGEA=",
            "dtype": "f8"
           },
           "yaxis": "y"
          },
          {
           "customdata": [
            [
             "Drizzle: Dense intensity"
            ]
           ],
           "hovertemplate": "Metric=%{x}<br>Date=2025-10-24<br>Value=%{y}<br>Weather=%{customdata[0]}<extra></extra>",
           "ids": [
            "Sum of Daily Rain"
           ],
           "legendgroup": "Sum of Daily Rain",
           "marker": {
            "color": "#ab63fa",
            "pattern": {
             "shape": ""
            }
           },
           "name": "Sum of Daily Rain",
           "orientation": "v",
           "showlegend": true,
           "textposition": "auto",
           "type": "bar",
           "x": [
            "Sum of Daily Rain"
           ],
           "xaxis": "x",
           "y": {
            "bdata": "zczMzMzMGEA=",
            "dtype": "f8"
           },
           "yaxis": "y"
          },
          {
           "customdata": [
            [
             "Drizzle: Dense intensity"
            ]
           ],
           "hovertemplate": "Metric=%{x}<br>Date=2025-10-24<br>Value=%{y}<br>Weather=%{customdata[0]}<extra></extra>",
           "ids": [
            "Hours with Rain"
           ],
           "legendgroup": "Hours with Rain",
           "marker": {
            "color": "#FFA15A",
            "pattern": {
             "shape": ""
            }
           },
           "name": "Hours with Rain",
           "orientation": "v",
           "showlegend": true,
           "textposition": "auto",
           "type": "bar",
           "x": [
            "Hours with Rain"
           ],
           "xaxis": "x",
           "y": {
            "bdata": "AAAAAAAAKEA=",
            "dtype": "f8"
           },
           "yaxis": "y"
          },
          {
           "customdata": [
            [
             "Drizzle: Dense intensity"
            ]
           ],
           "hovertemplate": "Metric=%{x}<br>Date=2025-10-24<br>Value=%{y}<br>Weather=%{customdata[0]}<extra></extra>",
           "ids": [
            "Wind Speed"
           ],
           "legendgroup": "Wind Speed",
           "marker": {
            "color": "#19d3f3",
            "pattern": {
             "shape": ""
            }
           },
           "name": "Wind Speed",
           "orientation": "v",
           "showlegend": true,
           "textposition": "auto",
           "type": "bar",
           "x": [
            "Wind Speed"
           ],
           "xaxis": "x",
           "y": {
            "bdata": "ZmZmZmZmI0A=",
            "dtype": "f8"
           },
           "yaxis": "y"
          }
         ],
         "name": "2025-10-24"
        },
        {
         "data": [
          {
           "customdata": [
            [
             "Rain: Heavy intensity"
            ]
           ],
           "hovertemplate": "Metric=%{x}<br>Date=2025-10-25<br>Value=%{y}<br>Weather=%{customdata[0]}<extra></extra>",
           "ids": [
            "Max Temp"
           ],
           "legendgroup": "Max Temp",
           "marker": {
            "color": "#636efa",
            "pattern": {
             "shape": ""
            }
           },
           "name": "Max Temp",
           "orientation": "v",
           "showlegend": true,
           "textposition": "auto",
           "type": "bar",
           "x": [
            "Max Temp"
           ],
           "xaxis": "x",
           "y": {
            "bdata": "MzMzMzMzPEA=",
            "dtype": "f8"
           },
           "yaxis": "y"
          },
          {
           "customdata": [
            [
             "Rain: Heavy intensity"
            ]
           ],
           "hovertemplate": "Metric=%{x}<br>Date=2025-10-25<br>Value=%{y}<br>Weather=%{customdata[0]}<extra></extra>",
           "ids": [
            "Min Temp"
           ],
           "legendgroup": "Min Temp",
           "marker": {
            "color": "#EF553B",
            "pattern": {
             "shape": ""
            }
           },
           "name": "Min Temp",
           "orientation": "v",
           "showlegend": true,
           "textposition": "auto",
           "type": "bar",
           "x": [
            "Min Temp"
           ],
           "xaxis": "x",
           "y": {
            "bdata": "zczMzMxMOEA=",
            "dtype": "f8"
           },
           "yaxis": "y"
          },
          {
           "customdata": [
            [
             "Rain: Heavy intensity"
            ]
           ],
           "hovertemplate": "Metric=%{x}<br>Date=2025-10-25<br>Value=%{y}<br>Weather=%{customdata[0]}<extra></extra>",
           "ids": [
            "Rainfall"
           ],
           "legendgroup": "Rainfall",
           "marker": {
            "color": "#00cc96",
            "pattern": {
             "shape": ""
            }
           },
           "name": "Rainfall",
           "orientation": "v",
           "showlegend": true,
           "textposition": "auto",
           "type": "bar",
           "x": [
            "Rainfall"
           ],
           "xaxis": "x",
           "y": {
            "bdata": "zczMzMxMMkA=",
            "dtype": "f8"
           },
           "yaxis": "y"
          },
          {
           "customdata": [
            [
             "Rain: Heavy intensity"
            ]
           ],
           "hovertemplate": "Metric=%{x}<br>Date=2025-10-25<br>Value=%{y}<br>Weather=%{customdata[0]}<extra></extra>",
           "ids": [
            "Sum of Daily Rain"
           ],
           "legendgroup": "Sum of Daily Rain",
           "marker": {
            "color": "#ab63fa",
            "pattern": {
             "shape": ""
            }
           },
           "name": "Sum of Daily Rain",
           "orientation": "v",
           "showlegend": true,
           "textposition": "auto",
           "type": "bar",
           "x": [
            "Sum of Daily Rain"
           ],
           "xaxis": "x",
           "y": {
            "bdata": "zczMzMxMMkA=",
            "dtype": "f8"
           },
           "yaxis": "y"
          },
          {
           "customdata": [
            [
             "Rain: Heavy intensity"
            ]
           ],
           "hovertemplate": "Metric=%{x}<br>Date=2025-10-25<br>Value=%{y}<br>Weather=%{customdata[0]}<extra></extra>",
           "ids": [
            "Hours with Rain"
           ],
           "legendgroup": "Hours with Rain",
           "marker": {
            "color": "#FFA15A",
            "pattern": {
             "shape": ""
            }
           },
           "name": "Hours with Rain",
           "orientation": "v",
           "showlegend": true,
           "textposition": "auto",
           "type": "bar",
           "x": [
            "Hours with Rain"
           ],
           "xaxis": "x",
           "y": {
            "bdata": "AAAAAAAAJEA=",
            "dtype": "f8"
           },
           "yaxis": "y"
          },
          {
           "customdata": [
            [
             "Rain: Heavy intensity"
            ]
           ],
           "hovertemplate": "Metric=%{x}<br>Date=2025-10-25<br>Value=%{y}<br>Weather=%{customdata[0]}<extra></extra>",
           "ids": [
            "Wind Speed"
           ],
           "legendgroup": "Wind Speed",
           "marker": {
            "color": "#19d3f3",
            "pattern": {
             "shape": ""
            }
           },
           "name": "Wind Speed",
           "orientation": "v",
           "showlegend": true,
           "textposition": "auto",
           "type": "bar",
           "x": [
            "Wind Speed"
           ],
           "xaxis": "x",
           "y": {
            "bdata": "mpmZmZmZJkA=",
            "dtype": "f8"
           },
           "yaxis": "y"
          }
         ],
         "name": "2025-10-25"
        }
       ],
       "layout": {
        "barmode": "relative",
        "height": 500,
        "legend": {
         "title": {
          "text": "Metric"
         },
         "tracegroupgap": 0
        },
        "sliders": [
         {
          "active": 15,
          "currentvalue": {
           "prefix": "Date="
          },
          "len": 0.9,
          "pad": {
           "b": 10,
           "t": 60
          },
          "steps": [
           {
            "args": [
             [
              "2025-10-01"
             ],
             {
              "frame": {
               "duration": 0,
               "redraw": true
              },
              "fromcurrent": true,
              "mode": "immediate",
              "transition": {
               "duration": 0,
               "easing": "linear"
              }
             }
            ],
            "label": "2025-10-01",
            "method": "animate"
           },
           {
            "args": [
             [
              "2025-10-02"
             ],
             {
              "frame": {
               "duration": 0,
               "redraw": true
              },
              "fromcurrent": true,
              "mode": "immediate",
              "transition": {
               "duration": 0,
               "easing": "linear"
              }
             }
            ],
            "label": "2025-10-02",
            "method": "animate"
           },
           {
            "args": [
             [
              "2025-10-03"
             ],
             {
              "frame": {
               "duration": 0,
               "redraw": true
              },
              "fromcurrent": true,
              "mode": "immediate",
              "transition": {
               "duration": 0,
               "easing": "linear"
              }
             }
            ],
            "label": "2025-10-03",
            "method": "animate"
           },
           {
            "args": [
             [
              "2025-10-04"
             ],
             {
              "frame": {
               "duration": 0,
               "redraw": true
              },
              "fromcurrent": true,
              "mode": "immediate",
              "transition": {
               "duration": 0,
               "easing": "linear"
              }
             }
            ],
            "label": "2025-10-04",
            "method": "animate"
           },
           {
            "args": [
             [
              "2025-10-05"
             ],
             {
              "frame": {
               "duration": 0,
               "redraw": true
              },
              "fromcurrent": true,
              "mode": "immediate",
              "transition": {
               "duration": 0,
               "easing": "linear"
              }
             }
            ],
            "label": "2025-10-05",
            "method": "animate"
           },
           {
            "args": [
             [
              "2025-10-06"
             ],
             {
              "frame": {
               "duration": 0,
               "redraw": true
              },
              "fromcurrent": true,
              "mode": "immediate",
              "transition": {
               "duration": 0,
               "easing": "linear"
              }
             }
            ],
            "label": "2025-10-06",
            "method": "animate"
           },
           {
            "args": [
             [
              "2025-10-07"
             ],
             {
              "frame": {
               "duration": 0,
               "redraw": true
              },
              "fromcurrent": true,
              "mode": "immediate",
              "transition": {
               "duration": 0,
               "easing": "linear"
              }
             }
            ],
            "label": "2025-10-07",
            "method": "animate"
           },
           {
            "args": [
             [
              "2025-10-08"
             ],
             {
              "frame": {
               "duration": 0,
               "redraw": true
              },
              "fromcurrent": true,
              "mode": "immediate",
              "transition": {
               "duration": 0,
               "easing": "linear"
              }
             }
            ],
            "label": "2025-10-08",
            "method": "animate"
           },
           {
            "args": [
             [
              "2025-10-09"
             ],
             {
              "frame": {
               "duration": 0,
               "redraw": true
              },
              "fromcurrent": true,
              "mode": "immediate",
              "transition": {
               "duration": 0,
               "easing": "linear"
              }
             }
            ],
            "label": "2025-10-09",
            "method": "animate"
           },
           {
            "args": [
             [
              "2025-10-10"
             ],
             {
              "frame": {
               "duration": 0,
               "redraw": true
              },
              "fromcurrent": true,
              "mode": "immediate",
              "transition": {
               "duration": 0,
               "easing": "linear"
              }
             }
            ],
            "label": "2025-10-10",
            "method": "animate"
           },
           {
            "args": [
             [
              "2025-10-11"
             ],
             {
              "frame": {
               "duration": 0,
               "redraw": true
              },
              "fromcurrent": true,
              "mode": "immediate",
              "transition": {
               "duration": 0,
               "easing": "linear"
              }
             }
            ],
            "label": "2025-10-11",
            "method": "animate"
           },
           {
            "args": [
             [
              "2025-10-12"
             ],
             {
              "frame": {
               "duration": 0,
               "redraw": true
              },
              "fromcurrent": true,
              "mode": "immediate",
              "transition": {
               "duration": 0,
               "easing": "linear"
              }
             }
            ],
            "label": "2025-10-12",
            "method": "animate"
           },
           {
            "args": [
             [
              "2025-10-13"
             ],
             {
              "frame": {
               "duration": 0,
               "redraw": true
              },
              "fromcurrent": true,
              "mode": "immediate",
              "transition": {
               "duration": 0,
               "easing": "linear"
              }
             }
            ],
            "label": "2025-10-13",
            "method": "animate"
           },
           {
            "args": [
             [
              "2025-10-14"
             ],
             {
              "frame": {
               "duration": 0,
               "redraw": true
              },
              "fromcurrent": true,
              "mode": "immediate",
              "transition": {
               "duration": 0,
               "easing": "linear"
              }
             }
            ],
            "label": "2025-10-14",
            "method": "animate"
           },
           {
            "args": [
             [
              "2025-10-15"
             ],
             {
              "frame": {
               "duration": 0,
               "redraw": true
              },
              "fromcurrent": true,
              "mode": "immediate",
              "transition": {
               "duration": 0,
               "easing": "linear"
              }
             }
            ],
            "label": "2025-10-15",
            "method": "animate"
           },
           {
            "args": [
             [
              "2025-10-16"
             ],
             {
              "frame": {
               "duration": 0,
               "redraw": true
              },
              "fromcurrent": true,
              "mode": "immediate",
              "transition": {
               "duration": 0,
               "easing": "linear"
              }
             }
            ],
            "label": "2025-10-16",
            "method": "animate"
           },
           {
            "args": [
             [
              "2025-10-17"
             ],
             {
              "frame": {
               "duration": 0,
               "redraw": true
              },
              "fromcurrent": true,
              "mode": "immediate",
              "transition": {
               "duration": 0,
               "easing": "linear"
              }
             }
            ],
            "label": "2025-10-17",
            "method": "animate"
           },
           {
            "args": [
             [
              "2025-10-18"
             ],
             {
              "frame": {
               "duration": 0,
               "redraw": true
              },
              "fromcurrent": true,
              "mode": "immediate",
              "transition": {
               "duration": 0,
               "easing": "linear"
              }
             }
            ],
            "label": "2025-10-18",
            "method": "animate"
           },
           {
            "args": [
             [
              "2025-10-19"
             ],
             {
              "frame": {
               "duration": 0,
               "redraw": true
              },
              "fromcurrent": true,
              "mode": "immediate",
              "transition": {
               "duration": 0,
               "easing": "linear"
              }
             }
            ],
            "label": "2025-10-19",
            "method": "animate"
           },
           {
            "args": [
             [
              "2025-10-20"
             ],
             {
              "frame": {
               "duration": 0,
               "redraw": true
              },
              "fromcurrent": true,
              "mode": "immediate",
              "transition": {
               "duration": 0,
               "easing": "linear"
              }
             }
            ],
            "label": "2025-10-20",
            "method": "animate"
           },
           {
            "args": [
             [
              "2025-10-21"
             ],
             {
              "frame": {
               "duration": 0,
               "redraw": true
              },
              "fromcurrent": true,
              "mode": "immediate",
              "transition": {
               "duration": 0,
               "easing": "linear"
              }
             }
            ],
            "label": "2025-10-21",
            "method": "animate"
           },
           {
            "args": [
             [
              "2025-10-22"
             ],
             {
              "frame": {
               "duration": 0,
               "redraw": true
              },
              "fromcurrent": true,
              "mode": "immediate",
              "transition": {
               "duration": 0,
               "easing": "linear"
              }
             }
            ],
            "label": "2025-10-22",
            "method": "animate"
           },
           {
            "args": [
             [
              "2025-10-23"
             ],
             {
              "frame": {
               "duration": 0,
               "redraw": true
              },
              "fromcurrent": true,
              "mode": "immediate",
              "transition": {
               "duration": 0,
               "easing": "linear"
              }
             }
            ],
            "label": "2025-10-23",
            "method": "animate"
           },
           {
            "args": [
             [
              "2025-10-24"
             ],
             {
              "frame": {
               "duration": 0,
               "redraw": true
              },
              "fromcurrent": true,
              "mode": "immediate",
              "transition": {
               "duration": 0,
               "easing": "linear"
              }
             }
            ],
            "label": "2025-10-24",
            "method": "animate"
           },
           {
            "args": [
             [
              "2025-10-25"
             ],
             {
              "frame": {
               "duration": 0,
               "redraw": true
              },
              "fromcurrent": true,
              "mode": "immediate",
              "transition": {
               "duration": 0,
               "easing": "linear"
              }
             }
            ],
            "label": "2025-10-25",
            "method": "animate"
           }
          ],
          "x": 0.1,
          "xanchor": "left",
          "y": 0,
          "yanchor": "top"
         }
        ],
        "template": {
         "data": {
          "bar": [
           {
            "error_x": {
             "color": "#f2f5fa"
            },
            "error_y": {
             "color": "#f2f5fa"
            },
            "marker": {
             "line": {
              "color": "rgb(17,17,17)",
              "width": 0.5
             },
             "pattern": {
              "fillmode": "overlay",
              "size": 10,
              "solidity": 0.2
             }
            },
            "type": "bar"
           }
          ],
          "barpolar": [
           {
            "marker": {
             "line": {
              "color": "rgb(17,17,17)",
              "width": 0.5
             },
             "pattern": {
              "fillmode": "overlay",
              "size": 10,
              "solidity": 0.2
             }
            },
            "type": "barpolar"
           }
          ],
          "carpet": [
           {
            "aaxis": {
             "endlinecolor": "#A2B1C6",
             "gridcolor": "#506784",
             "linecolor": "#506784",
             "minorgridcolor": "#506784",
             "startlinecolor": "#A2B1C6"
            },
            "baxis": {
             "endlinecolor": "#A2B1C6",
             "gridcolor": "#506784",
             "linecolor": "#506784",
             "minorgridcolor": "#506784",
             "startlinecolor": "#A2B1C6"
            },
            "type": "carpet"
           }
          ],
          "choropleth": [
           {
            "colorbar": {
             "outlinewidth": 0,
             "ticks": ""
            },
            "type": "choropleth"
           }
          ],
          "contour": [
           {
            "colorbar": {
             "outlinewidth": 0,
             "ticks": ""
            },
            "colorscale": [
             [
              0,
              "#0d0887"
             ],
             [
              0.1111111111111111,
              "#46039f"
             ],
             [
              0.2222222222222222,
              "#7201a8"
             ],
             [
              0.3333333333333333,
              "#9c179e"
             ],
             [
              0.4444444444444444,
              "#bd3786"
             ],
             [
              0.5555555555555556,
              "#d8576b"
             ],
             [
              0.6666666666666666,
              "#ed7953"
             ],
             [
              0.7777777777777778,
              "#fb9f3a"
             ],
             [
              0.8888888888888888,
              "#fdca26"
             ],
             [
              1,
              "#f0f921"
             ]
            ],
            "type": "contour"
           }
          ],
          "contourcarpet": [
           {
            "colorbar": {
             "outlinewidth": 0,
             "ticks": ""
            },
            "type": "contourcarpet"
           }
          ],
          "heatmap": [
           {
            "colorbar": {
             "outlinewidth": 0,
             "ticks": ""
            },
            "colorscale": [
             [
              0,
              "#0d0887"
             ],
             [
              0.1111111111111111,
              "#46039f"
             ],
             [
              0.2222222222222222,
              "#7201a8"
             ],
             [
              0.3333333333333333,
              "#9c179e"
             ],
             [
              0.4444444444444444,
              "#bd3786"
             ],
             [
              0.5555555555555556,
              "#d8576b"
             ],
             [
              0.6666666666666666,
              "#ed7953"
             ],
             [
              0.7777777777777778,
              "#fb9f3a"
             ],
             [
              0.8888888888888888,
              "#fdca26"
             ],
             [
              1,
              "#f0f921"
             ]
            ],
            "type": "heatmap"
           }
          ],
          "histogram": [
           {
            "marker": {
             "pattern": {
              "fillmode": "overlay",
              "size": 10,
              "solidity": 0.2
             }
            },
            "type": "histogram"
           }
          ],
          "histogram2d": [
           {
            "colorbar": {
             "outlinewidth": 0,
             "ticks": ""
            },
            "colorscale": [
             [
              0,
              "#0d0887"
             ],
             [
              0.1111111111111111,
              "#46039f"
             ],
             [
              0.2222222222222222,
              "#7201a8"
             ],
             [
              0.3333333333333333,
              "#9c179e"
             ],
             [
              0.4444444444444444,
              "#bd3786"
             ],
             [
              0.5555555555555556,
              "#d8576b"
             ],
             [
              0.6666666666666666,
              "#ed7953"
             ],
             [
              0.7777777777777778,
              "#fb9f3a"
             ],
             [
              0.8888888888888888,
              "#fdca26"
             ],
             [
              1,
              "#f0f921"
             ]
            ],
            "type": "histogram2d"
           }
          ],
          "histogram2dcontour": [
           {
            "colorbar": {
             "outlinewidth": 0,
             "ticks": ""
            },
            "colorscale": [
             [
              0,
              "#0d0887"
             ],
             [
              0.1111111111111111,
              "#46039f"
             ],
             [
              0.2222222222222222,
              "#7201a8"
             ],
             [
              0.3333333333333333,
              "#9c179e"
             ],
             [
              0.4444444444444444,
              "#bd3786"
             ],
             [
              0.5555555555555556,
              "#d8576b"
             ],
             [
              0.6666666666666666,
              "#ed7953"
             ],
             [
              0.7777777777777778,
              "#fb9f3a"
             ],
             [
              0.8888888888888888,
              "#fdca26"
             ],
             [
              1,
              "#f0f921"
             ]
            ],
            "type": "histogram2dcontour"
           }
          ],
          "mesh3d": [
           {
            "colorbar": {
             "outlinewidth": 0,
             "ticks": ""
            },
            "type": "mesh3d"
           }
          ],
          "parcoords": [
           {
            "line": {
             "colorbar": {
              "outlinewidth": 0,
              "ticks": ""
             }
            },
            "type": "parcoords"
           }
          ],
          "pie": [
           {
            "automargin": true,
            "type": "pie"
           }
          ],
          "scatter": [
           {
            "marker": {
             "line": {
              "color": "#283442"
             }
            },
            "type": "scatter"
           }
          ],
          "scatter3d": [
           {
            "line": {
             "colorbar": {
              "outlinewidth": 0,
              "ticks": ""
             }
            },
            "marker": {
             "colorbar": {
              "outlinewidth": 0,
              "ticks": ""
             }
            },
            "type": "scatter3d"
           }
          ],
          "scattercarpet": [
           {
            "marker": {
             "colorbar": {
              "outlinewidth": 0,
              "ticks": ""
             }
            },
            "type": "scattercarpet"
           }
          ],
          "scattergeo": [
           {
            "marker": {
             "colorbar": {
              "outlinewidth": 0,
              "ticks": ""
             }
            },
            "type": "scattergeo"
           }
          ],
          "scattergl": [
           {
            "marker": {
             "line": {
              "color": "#283442"
             }
            },
            "type": "scattergl"
           }
          ],
          "scattermap": [
           {
            "marker": {
             "colorbar": {
              "outlinewidth": 0,
              "ticks": ""
             }
            },
            "type": "scattermap"
           }
          ],
          "scattermapbox": [
           {
            "marker": {
             "colorbar": {
              "outlinewidth": 0,
              "ticks": ""
             }
            },
            "type": "scattermapbox"
           }
          ],
          "scatterpolar": [
           {
            "marker": {
             "colorbar": {
              "outlinewidth": 0,
              "ticks": ""
             }
            },
            "type": "scatterpolar"
           }
          ],
          "scatterpolargl": [
           {
            "marker": {
             "colorbar": {
              "outlinewidth": 0,
              "ticks": ""
             }
            },
            "type": "scatterpolargl"
           }
          ],
          "scatterternary": [
           {
            "marker": {
             "colorbar": {
              "outlinewidth": 0,
              "ticks": ""
             }
            },
            "type": "scatterternary"
           }
          ],
          "surface": [
           {
            "colorbar": {
             "outlinewidth": 0,
             "ticks": ""
            },
            "colorscale": [
             [
              0,
              "#0d0887"
             ],
             [
              0.1111111111111111,
              "#46039f"
             ],
             [
              0.2222222222222222,
              "#7201a8"
             ],
             [
              0.3333333333333333,
              "#9c179e"
             ],
             [
              0.4444444444444444,
              "#bd3786"
             ],
             [
              0.5555555555555556,
              "#d8576b"
             ],
             [
              0.6666666666666666,
              "#ed7953"
             ],
             [
              0.7777777777777778,
              "#fb9f3a"
             ],
             [
              0.8888888888888888,
              "#fdca26"
             ],
             [
              1,
              "#f0f921"
             ]
            ],
            "type": "surface"
           }
          ],
          "table": [
           {
            "cells": {
             "fill": {
              "color": "#506784"
             },
             "line": {
              "color": "rgb(17,17,17)"
             }
            },
            "header": {
             "fill": {
              "color": "#2a3f5f"
             },
             "line": {
              "color": "rgb(17,17,17)"
             }
            },
            "type": "table"
           }
          ]
         },
         "layout": {
          "annotationdefaults": {
           "arrowcolor": "#f2f5fa",
           "arrowhead": 0,
           "arrowwidth": 1
          },
          "autotypenumbers": "strict",
          "coloraxis": {
           "colorbar": {
            "outlinewidth": 0,
            "ticks": ""
           }
          },
          "colorscale": {
           "diverging": [
            [
             0,
             "#8e0152"
            ],
            [
             0.1,
             "#c51b7d"
            ],
            [
             0.2,
             "#de77ae"
            ],
            [
             0.3,
             "#f1b6da"
            ],
            [
             0.4,
             "#fde0ef"
            ],
            [
             0.5,
             "#f7f7f7"
            ],
            [
             0.6,
             "#e6f5d0"
            ],
            [
             0.7,
             "#b8e186"
            ],
            [
             0.8,
             "#7fbc41"
            ],
            [
             0.9,
             "#4d9221"
            ],
            [
             1,
             "#276419"
            ]
           ],
           "sequential": [
            [
             0,
             "#0d0887"
            ],
            [
             0.1111111111111111,
             "#46039f"
            ],
            [
             0.2222222222222222,
             "#7201a8"
            ],
            [
             0.3333333333333333,
             "#9c179e"
            ],
            [
             0.4444444444444444,
             "#bd3786"
            ],
            [
             0.5555555555555556,
             "#d8576b"
            ],
            [
             0.6666666666666666,
             "#ed7953"
            ],
            [
             0.7777777777777778,
             "#fb9f3a"
            ],
            [
             0.8888888888888888,
             "#fdca26"
            ],
            [
             1,
             "#f0f921"
            ]
           ],
           "sequentialminus": [
            [
             0,
             "#0d0887"
            ],
            [
             0.1111111111111111,
             "#46039f"
            ],
            [
             0.2222222222222222,
             "#7201a8"
            ],
            [
             0.3333333333333333,
             "#9c179e"
            ],
            [
             0.4444444444444444,
             "#bd3786"
            ],
            [
             0.5555555555555556,
             "#d8576b"
            ],
            [
             0.6666666666666666,
             "#ed7953"
            ],
            [
             0.7777777777777778,
             "#fb9f3a"
            ],
            [
             0.8888888888888888,
             "#fdca26"
            ],
            [
             1,
             "#f0f921"
            ]
           ]
          },
          "colorway": [
           "#636efa",
           "#EF553B",
           "#00cc96",
           "#ab63fa",
           "#FFA15A",
           "#19d3f3",
           "#FF6692",
           "#B6E880",
           "#FF97FF",
           "#FECB52"
          ],
          "font": {
           "color": "#f2f5fa"
          },
          "geo": {
           "bgcolor": "rgb(17,17,17)",
           "lakecolor": "rgb(17,17,17)",
           "landcolor": "rgb(17,17,17)",
           "showlakes": true,
           "showland": true,
           "subunitcolor": "#506784"
          },
          "hoverlabel": {
           "align": "left"
          },
          "hovermode": "closest",
          "mapbox": {
           "style": "dark"
          },
          "paper_bgcolor": "rgb(17,17,17)",
          "plot_bgcolor": "rgb(17,17,17)",
          "polar": {
           "angularaxis": {
            "gridcolor": "#506784",
            "linecolor": "#506784",
            "ticks": ""
           },
           "bgcolor": "rgb(17,17,17)",
           "radialaxis": {
            "gridcolor": "#506784",
            "linecolor": "#506784",
            "ticks": ""
           }
          },
          "scene": {
           "xaxis": {
            "backgroundcolor": "rgb(17,17,17)",
            "gridcolor": "#506784",
            "gridwidth": 2,
            "linecolor": "#506784",
            "showbackground": true,
            "ticks": "",
            "zerolinecolor": "#C8D4E3"
           },
           "yaxis": {
            "backgroundcolor": "rgb(17,17,17)",
            "gridcolor": "#506784",
            "gridwidth": 2,
            "linecolor": "#506784",
            "showbackground": true,
            "ticks": "",
            "zerolinecolor": "#C8D4E3"
           },
           "zaxis": {
            "backgroundcolor": "rgb(17,17,17)",
            "gridcolor": "#506784",
            "gridwidth": 2,
            "linecolor": "#506784",
            "showbackground": true,
            "ticks": "",
            "zerolinecolor": "#C8D4E3"
           }
          },
          "shapedefaults": {
           "line": {
            "color": "#f2f5fa"
           }
          },
          "sliderdefaults": {
           "bgcolor": "#C8D4E3",
           "bordercolor": "rgb(17,17,17)",
           "borderwidth": 1,
           "tickwidth": 0
          },
          "ternary": {
           "aaxis": {
            "gridcolor": "#506784",
            "linecolor": "#506784",
            "ticks": ""
           },
           "baxis": {
            "gridcolor": "#506784",
            "linecolor": "#506784",
            "ticks": ""
           },
           "bgcolor": "rgb(17,17,17)",
           "caxis": {
            "gridcolor": "#506784",
            "linecolor": "#506784",
            "ticks": ""
           }
          },
          "title": {
           "x": 0.05
          },
          "updatemenudefaults": {
           "bgcolor": "#506784",
           "borderwidth": 0
          },
          "xaxis": {
           "automargin": true,
           "gridcolor": "#283442",
           "linecolor": "#506784",
           "ticks": "",
           "title": {
            "standoff": 15
           },
           "zerolinecolor": "#283442",
           "zerolinewidth": 2
          },
          "yaxis": {
           "automargin": true,
           "gridcolor": "#283442",
           "linecolor": "#506784",
           "ticks": "",
           "title": {
            "standoff": 15
           },
           "zerolinecolor": "#283442",
           "zerolinewidth": 2
          }
         }
        },
        "title": {
         "text": "Chennai (Historical Weather of this month)"
        },
        "updatemenus": [
         {
          "active": 1,
          "buttons": [
           {
            "args": [
             null,
             {
              "frame": {
               "duration": 500,
               "redraw": true
              },
              "fromcurrent": true,
              "mode": "immediate",
              "transition": {
               "duration": 500,
               "easing": "linear"
              }
             }
            ],
            "label": "&#9654;",
            "method": "animate"
           },
           {
            "args": [
             [
              null
             ],
             {
              "frame": {
               "duration": 0,
               "redraw": true
              },
              "fromcurrent": true,
              "mode": "immediate",
              "transition": {
               "duration": 0,
               "easing": "linear"
              }
             }
            ],
            "label": "&#9724;",
            "method": "animate"
           }
          ],
          "direction": "left",
          "pad": {
           "r": 10,
           "t": 70
          },
          "showactive": false,
          "type": "buttons",
          "x": 0.1,
          "xanchor": "right",
          "y": 0,
          "yanchor": "top"
         }
        ],
        "width": 1050,
        "xaxis": {
         "anchor": "y",
         "autorange": true,
         "categoryarray": [
          "Max Temp",
          "Min Temp",
          "Rainfall",
          "Sum of Daily Rain",
          "Hours with Rain",
          "Wind Speed"
         ],
         "categoryorder": "array",
         "domain": [
          0,
          1
         ],
         "range": [
          -0.5,
          5.5
         ],
         "title": {
          "text": "Metric"
         },
         "type": "category"
        },
        "yaxis": {
         "anchor": "x",
         "domain": [
          0,
          1
         ],
         "range": [
          0,
          48.5
         ],
         "title": {
          "text": "Value"
         },
         "type": "linear"
        }
       }
      },
      "image/png": "[encoded data removed]"
     },
     "metadata": {},
     "output_type": "display_data"
    }
   ],
   "source": [
    "'''\n",
    "we can now visualize the Weather history of the current month\n",
    "keeping the Date, Weather condition and Type as Historical/forecast \n",
    "as variables here\n",
    "'''\n",
    "hist_df_melt = hist_df.melt(\n",
    "    id_vars = [\"Date\", \"Weather\", \"Type\"],\n",
    "    var_name = \"Metric\",#Metric will be the name of our new col that stores maxtemp, mintemp etc.\n",
    "    value_name = \"Value\")#this will have the value of the metrics\n",
    "'''\n",
    "creating an animated bar chart grouped along with each metric\n",
    "on hovering we can see the weather on that particular date\n",
    "bar for every date\n",
    "'''\n",
    "fig = px.bar(hist_df_melt, x=\"Metric\", y=\"Value\", color=\"Metric\",\n",
    "             animation_frame = \"Date\",\n",
    "             animation_group = \"Metric\",\n",
    "             hover_data = [\"Weather\"],\n",
    "             range_y = [0, hist_df_melt[\"Value\"].max()+10],\n",
    "             #range_x is not needed here as our categories are fixed. but we can for the limits if needed\n",
    "             title = place +\" (Historical Weather of this month)\"\n",
    "            )\n",
    "fig.update_layout(template = \"plotly_dark\",\n",
    "                  height = 500,\n",
    "                  width = 1050)\n",
    "fig.show()\n"
   ]
  },
  {
   "cell_type": "code",
   "execution_count": 37,
   "id": "5180fce5-1c62-45b8-8787-e9d03eb0903f",
   "metadata": {},
   "outputs": [
    {
     "data": {
      "application/vnd.plotly.v1+json": {
       "config": {
        "plotlyServerURL": "https://plot.ly"
       },
       "data": [
        {
         "customdata": [
          [
           "Drizzle: Light"
          ],
          [
           "Drizzle: Light"
          ],
          [
           "Drizzle: Light"
          ],
          [
           "Rain: Moderate"
          ],
          [
           "Rain: Heavy intensity"
          ],
          [
           "Rain: Moderate"
          ],
          [
           "Rain: Moderate"
          ],
          [
           "Drizzle: Dense intensity"
          ],
          [
           "Rain: Moderate"
          ],
          [
           "Drizzle: Light"
          ],
          [
           "Rain: Slight"
          ],
          [
           "Drizzle: Moderate"
          ],
          [
           "Rain: Moderate"
          ],
          [
           "Rain: Moderate"
          ],
          [
           "Rain: Moderate"
          ],
          [
           "Rain: Moderate"
          ],
          [
           "Rain: Moderate"
          ],
          [
           "Rain: Heavy intensity"
          ],
          [
           "Rain: Moderate"
          ],
          [
           "Rain: Moderate"
          ],
          [
           "Rain: Moderate"
          ],
          [
           "Rain: Moderate"
          ],
          [
           "Rain: Moderate"
          ],
          [
           "Drizzle: Dense intensity"
          ],
          [
           "Rain: Heavy intensity"
          ]
         ],
         "hovertemplate": "Metric=Max Temp<br>Date=%{x}<br>Value=%{y}<br>Weather=%{customdata[0]}<extra></extra>",
         "legendgroup": "Max Temp",
         "line": {
          "color": "#636efa",
          "dash": "solid"
         },
         "marker": {
          "symbol": "circle"
         },
         "mode": "lines",
         "name": "Max Temp",
         "orientation": "v",
         "showlegend": true,
         "type": "scatter",
         "x": [
          "2025-10-01",
          "2025-10-02",
          "2025-10-03",
          "2025-10-04",
          "2025-10-05",
          "2025-10-06",
          "2025-10-07",
          "2025-10-08",
          "2025-10-09",
          "2025-10-10",
          "2025-10-11",
          "2025-10-12",
          "2025-10-13",
          "2025-10-14",
          "2025-10-15",
          "2025-10-16",
          "2025-10-17",
          "2025-10-18",
          "2025-10-19",
          "2025-10-20",
          "2025-10-21",
          "2025-10-22",
          "2025-10-23",
          "2025-10-24",
          "2025-10-25"
         ],
         "xaxis": "x",
         "y": [
          31.8,
          32.8,
          33,
          31.5,
          33,
          32.7,
          31.4,
          31.6,
          31.5,
          30.4,
          31.1,
          30.7,
          31.7,
          30.8,
          28.1,
          29.1,
          28.2,
          27.3,
          28.7,
          28.2,
          26.6,
          29,
          29.7,
          27.2,
          28.2
         ],
         "yaxis": "y"
        },
        {
         "customdata": [
          [
           "Drizzle: Light"
          ],
          [
           "Drizzle: Light"
          ],
          [
           "Drizzle: Light"
          ],
          [
           "Rain: Moderate"
          ],
          [
           "Rain: Heavy intensity"
          ],
          [
           "Rain: Moderate"
          ],
          [
           "Rain: Moderate"
          ],
          [
           "Drizzle: Dense intensity"
          ],
          [
           "Rain: Moderate"
          ],
          [
           "Drizzle: Light"
          ],
          [
           "Rain: Slight"
          ],
          [
           "Drizzle: Moderate"
          ],
          [
           "Rain: Moderate"
          ],
          [
           "Rain: Moderate"
          ],
          [
           "Rain: Moderate"
          ],
          [
           "Rain: Moderate"
          ],
          [
           "Rain: Moderate"
          ],
          [
           "Rain: Heavy intensity"
          ],
          [
           "Rain: Moderate"
          ],
          [
           "Rain: Moderate"
          ],
          [
           "Rain: Moderate"
          ],
          [
           "Rain: Moderate"
          ],
          [
           "Rain: Moderate"
          ],
          [
           "Drizzle: Dense intensity"
          ],
          [
           "Rain: Heavy intensity"
          ]
         ],
         "hovertemplate": "Metric=Min Temp<br>Date=%{x}<br>Value=%{y}<br>Weather=%{customdata[0]}<extra></extra>",
         "legendgroup": "Min Temp",
         "line": {
          "color": "#EF553B",
          "dash": "solid"
         },
         "marker": {
          "symbol": "circle"
         },
         "mode": "lines",
         "name": "Min Temp",
         "orientation": "v",
         "showlegend": true,
         "type": "scatter",
         "x": [
          "2025-10-01",
          "2025-10-02",
          "2025-10-03",
          "2025-10-04",
          "2025-10-05",
          "2025-10-06",
          "2025-10-07",
          "2025-10-08",
          "2025-10-09",
          "2025-10-10",
          "2025-10-11",
          "2025-10-12",
          "2025-10-13",
          "2025-10-14",
          "2025-10-15",
          "2025-10-16",
          "2025-10-17",
          "2025-10-18",
          "2025-10-19",
          "2025-10-20",
          "2025-10-21",
          "2025-10-22",
          "2025-10-23",
          "2025-10-24",
          "2025-10-25"
         ],
         "xaxis": "x",
         "y": [
          25.7,
          25.7,
          25.6,
          24.4,
          25.2,
          24.7,
          25.7,
          26,
          24.1,
          25,
          25.5,
          25.4,
          25.5,
          25.1,
          24.5,
          24.2,
          24.8,
          24.6,
          24.2,
          24,
          24.5,
          25.2,
          24.3,
          24.6,
          24.3
         ],
         "yaxis": "y"
        },
        {
         "customdata": [
          [
           "Drizzle: Light"
          ],
          [
           "Drizzle: Light"
          ],
          [
           "Drizzle: Light"
          ],
          [
           "Rain: Moderate"
          ],
          [
           "Rain: Heavy intensity"
          ],
          [
           "Rain: Moderate"
          ],
          [
           "Rain: Moderate"
          ],
          [
           "Drizzle: Dense intensity"
          ],
          [
           "Rain: Moderate"
          ],
          [
           "Drizzle: Light"
          ],
          [
           "Rain: Slight"
          ],
          [
           "Drizzle: Moderate"
          ],
          [
           "Rain: Moderate"
          ],
          [
           "Rain: Moderate"
          ],
          [
           "Rain: Moderate"
          ],
          [
           "Rain: Moderate"
          ],
          [
           "Rain: Moderate"
          ],
          [
           "Rain: Heavy intensity"
          ],
          [
           "Rain: Moderate"
          ],
          [
           "Rain: Moderate"
          ],
          [
           "Rain: Moderate"
          ],
          [
           "Rain: Moderate"
          ],
          [
           "Rain: Moderate"
          ],
          [
           "Drizzle: Dense intensity"
          ],
          [
           "Rain: Heavy intensity"
          ]
         ],
         "hovertemplate": "Metric=Rainfall<br>Date=%{x}<br>Value=%{y}<br>Weather=%{customdata[0]}<extra></extra>",
         "legendgroup": "Rainfall",
         "line": {
          "color": "#00cc96",
          "dash": "solid"
         },
         "marker": {
          "symbol": "circle"
         },
         "mode": "lines",
         "name": "Rainfall",
         "orientation": "v",
         "showlegend": true,
         "type": "scatter",
         "x": [
          "2025-10-01",
          "2025-10-02",
          "2025-10-03",
          "2025-10-04",
          "2025-10-05",
          "2025-10-06",
          "2025-10-07",
          "2025-10-08",
          "2025-10-09",
          "2025-10-10",
          "2025-10-11",
          "2025-10-12",
          "2025-10-13",
          "2025-10-14",
          "2025-10-15",
          "2025-10-16",
          "2025-10-17",
          "2025-10-18",
          "2025-10-19",
          "2025-10-20",
          "2025-10-21",
          "2025-10-22",
          "2025-10-23",
          "2025-10-24",
          "2025-10-25"
         ],
         "xaxis": "x",
         "y": [
          0.3,
          0.2,
          0.6,
          7.1,
          12.4,
          10.7,
          7.8,
          1.4,
          10.3,
          0.4,
          2.6,
          1.8,
          10.2,
          9.9,
          35.3,
          20.7,
          13.7,
          27.5,
          7.8,
          23.2,
          28.9,
          38.5,
          17.1,
          6.2,
          18.3
         ],
         "yaxis": "y"
        },
        {
         "customdata": [
          [
           "Drizzle: Light"
          ],
          [
           "Drizzle: Light"
          ],
          [
           "Drizzle: Light"
          ],
          [
           "Rain: Moderate"
          ],
          [
           "Rain: Heavy intensity"
          ],
          [
           "Rain: Moderate"
          ],
          [
           "Rain: Moderate"
          ],
          [
           "Drizzle: Dense intensity"
          ],
          [
           "Rain: Moderate"
          ],
          [
           "Drizzle: Light"
          ],
          [
           "Rain: Slight"
          ],
          [
           "Drizzle: Moderate"
          ],
          [
           "Rain: Moderate"
          ],
          [
           "Rain: Moderate"
          ],
          [
           "Rain: Moderate"
          ],
          [
           "Rain: Moderate"
          ],
          [
           "Rain: Moderate"
          ],
          [
           "Rain: Heavy intensity"
          ],
          [
           "Rain: Moderate"
          ],
          [
           "Rain: Moderate"
          ],
          [
           "Rain: Moderate"
          ],
          [
           "Rain: Moderate"
          ],
          [
           "Rain: Moderate"
          ],
          [
           "Drizzle: Dense intensity"
          ],
          [
           "Rain: Heavy intensity"
          ]
         ],
         "hovertemplate": "Metric=Sum of Daily Rain<br>Date=%{x}<br>Value=%{y}<br>Weather=%{customdata[0]}<extra></extra>",
         "legendgroup": "Sum of Daily Rain",
         "line": {
          "color": "#ab63fa",
          "dash": "solid"
         },
         "marker": {
          "symbol": "circle"
         },
         "mode": "lines",
         "name": "Sum of Daily Rain",
         "orientation": "v",
         "showlegend": true,
         "type": "scatter",
         "x": [
          "2025-10-01",
          "2025-10-02",
          "2025-10-03",
          "2025-10-04",
          "2025-10-05",
          "2025-10-06",
          "2025-10-07",
          "2025-10-08",
          "2025-10-09",
          "2025-10-10",
          "2025-10-11",
          "2025-10-12",
          "2025-10-13",
          "2025-10-14",
          "2025-10-15",
          "2025-10-16",
          "2025-10-17",
          "2025-10-18",
          "2025-10-19",
          "2025-10-20",
          "2025-10-21",
          "2025-10-22",
          "2025-10-23",
          "2025-10-24",
          "2025-10-25"
         ],
         "xaxis": "x",
         "y": [
          0.3,
          0.2,
          0.6,
          7.1,
          12.4,
          10.7,
          7.8,
          1.4,
          10.3,
          0.4,
          2.6,
          1.8,
          10.2,
          9.9,
          35.3,
          20.7,
          13.7,
          27.5,
          7.8,
          23.2,
          28.9,
          38.5,
          17.1,
          6.2,
          18.3
         ],
         "yaxis": "y"
        },
        {
         "customdata": [
          [
           "Drizzle: Light"
          ],
          [
           "Drizzle: Light"
          ],
          [
           "Drizzle: Light"
          ],
          [
           "Rain: Moderate"
          ],
          [
           "Rain: Heavy intensity"
          ],
          [
           "Rain: Moderate"
          ],
          [
           "Rain: Moderate"
          ],
          [
           "Drizzle: Dense intensity"
          ],
          [
           "Rain: Moderate"
          ],
          [
           "Drizzle: Light"
          ],
          [
           "Rain: Slight"
          ],
          [
           "Drizzle: Moderate"
          ],
          [
           "Rain: Moderate"
          ],
          [
           "Rain: Moderate"
          ],
          [
           "Rain: Moderate"
          ],
          [
           "Rain: Moderate"
          ],
          [
           "Rain: Moderate"
          ],
          [
           "Rain: Heavy intensity"
          ],
          [
           "Rain: Moderate"
          ],
          [
           "Rain: Moderate"
          ],
          [
           "Rain: Moderate"
          ],
          [
           "Rain: Moderate"
          ],
          [
           "Rain: Moderate"
          ],
          [
           "Drizzle: Dense intensity"
          ],
          [
           "Rain: Heavy intensity"
          ]
         ],
         "hovertemplate": "Metric=Hours with Rain<br>Date=%{x}<br>Value=%{y}<br>Weather=%{customdata[0]}<extra></extra>",
         "legendgroup": "Hours with Rain",
         "line": {
          "color": "#FFA15A",
          "dash": "solid"
         },
         "marker": {
          "symbol": "circle"
         },
         "mode": "lines",
         "name": "Hours with Rain",
         "orientation": "v",
         "showlegend": true,
         "type": "scatter",
         "x": [
          "2025-10-01",
          "2025-10-02",
          "2025-10-03",
          "2025-10-04",
          "2025-10-05",
          "2025-10-06",
          "2025-10-07",
          "2025-10-08",
          "2025-10-09",
          "2025-10-10",
          "2025-10-11",
          "2025-10-12",
          "2025-10-13",
          "2025-10-14",
          "2025-10-15",
          "2025-10-16",
          "2025-10-17",
          "2025-10-18",
          "2025-10-19",
          "2025-10-20",
          "2025-10-21",
          "2025-10-22",
          "2025-10-23",
          "2025-10-24",
          "2025-10-25"
         ],
         "xaxis": "x",
         "y": [
          2,
          2,
          3,
          7,
          6,
          4,
          8,
          5,
          8,
          3,
          6,
          9,
          14,
          10,
          21,
          23,
          23,
          20,
          14,
          20,
          23,
          22,
          13,
          12,
          10
         ],
         "yaxis": "y"
        },
        {
         "customdata": [
          [
           "Drizzle: Light"
          ],
          [
           "Drizzle: Light"
          ],
          [
           "Drizzle: Light"
          ],
          [
           "Rain: Moderate"
          ],
          [
           "Rain: Heavy intensity"
          ],
          [
           "Rain: Moderate"
          ],
          [
           "Rain: Moderate"
          ],
          [
           "Drizzle: Dense intensity"
          ],
          [
           "Rain: Moderate"
          ],
          [
           "Drizzle: Light"
          ],
          [
           "Rain: Slight"
          ],
          [
           "Drizzle: Moderate"
          ],
          [
           "Rain: Moderate"
          ],
          [
           "Rain: Moderate"
          ],
          [
           "Rain: Moderate"
          ],
          [
           "Rain: Moderate"
          ],
          [
           "Rain: Moderate"
          ],
          [
           "Rain: Heavy intensity"
          ],
          [
           "Rain: Moderate"
          ],
          [
           "Rain: Moderate"
          ],
          [
           "Rain: Moderate"
          ],
          [
           "Rain: Moderate"
          ],
          [
           "Rain: Moderate"
          ],
          [
           "Drizzle: Dense intensity"
          ],
          [
           "Rain: Heavy intensity"
          ]
         ],
         "hovertemplate": "Metric=Wind Speed<br>Date=%{x}<br>Value=%{y}<br>Weather=%{customdata[0]}<extra></extra>",
         "legendgroup": "Wind Speed",
         "line": {
          "color": "#19d3f3",
          "dash": "solid"
         },
         "marker": {
          "symbol": "circle"
         },
         "mode": "lines",
         "name": "Wind Speed",
         "orientation": "v",
         "showlegend": true,
         "type": "scatter",
         "x": [
          "2025-10-01",
          "2025-10-02",
          "2025-10-03",
          "2025-10-04",
          "2025-10-05",
          "2025-10-06",
          "2025-10-07",
          "2025-10-08",
          "2025-10-09",
          "2025-10-10",
          "2025-10-11",
          "2025-10-12",
          "2025-10-13",
          "2025-10-14",
          "2025-10-15",
          "2025-10-16",
          "2025-10-17",
          "2025-10-18",
          "2025-10-19",
          "2025-10-20",
          "2025-10-21",
          "2025-10-22",
          "2025-10-23",
          "2025-10-24",
          "2025-10-25"
         ],
         "xaxis": "x",
         "y": [
          13.4,
          13.6,
          14.2,
          21,
          12.9,
          12.2,
          8.6,
          12.1,
          10.4,
          11.5,
          14.4,
          11.2,
          12.9,
          12.7,
          18,
          14.7,
          13.5,
          8.4,
          9.2,
          13.9,
          18,
          21.5,
          11.2,
          9.7,
          11.3
         ],
         "yaxis": "y"
        },
        {
         "customdata": [
          [
           "Drizzle: Light"
          ],
          [
           "Drizzle: Light"
          ],
          [
           "Drizzle: Light"
          ],
          [
           "Rain: Moderate"
          ],
          [
           "Rain: Heavy intensity"
          ],
          [
           "Rain: Moderate"
          ],
          [
           "Rain: Moderate"
          ],
          [
           "Drizzle: Dense intensity"
          ],
          [
           "Rain: Moderate"
          ],
          [
           "Drizzle: Light"
          ],
          [
           "Rain: Slight"
          ],
          [
           "Drizzle: Moderate"
          ],
          [
           "Rain: Moderate"
          ],
          [
           "Rain: Moderate"
          ],
          [
           "Rain: Moderate"
          ],
          [
           "Rain: Moderate"
          ],
          [
           "Rain: Moderate"
          ],
          [
           "Rain: Heavy intensity"
          ],
          [
           "Rain: Moderate"
          ],
          [
           "Rain: Moderate"
          ],
          [
           "Rain: Moderate"
          ],
          [
           "Rain: Moderate"
          ],
          [
           "Rain: Moderate"
          ],
          [
           "Drizzle: Dense intensity"
          ],
          [
           "Rain: Heavy intensity"
          ]
         ],
         "hovertemplate": "Metric=Type<br>Date=%{x}<br>Value=%{y}<br>Weather=%{customdata[0]}<extra></extra>",
         "legendgroup": "Type",
         "line": {
          "color": "#FF6692",
          "dash": "solid"
         },
         "marker": {
          "symbol": "circle"
         },
         "mode": "lines",
         "name": "Type",
         "orientation": "v",
         "showlegend": true,
         "type": "scatter",
         "x": [
          "2025-10-01",
          "2025-10-02",
          "2025-10-03",
          "2025-10-04",
          "2025-10-05",
          "2025-10-06",
          "2025-10-07",
          "2025-10-08",
          "2025-10-09",
          "2025-10-10",
          "2025-10-11",
          "2025-10-12",
          "2025-10-13",
          "2025-10-14",
          "2025-10-15",
          "2025-10-16",
          "2025-10-17",
          "2025-10-18",
          "2025-10-19",
          "2025-10-20",
          "2025-10-21",
          "2025-10-22",
          "2025-10-23",
          "2025-10-24",
          "2025-10-25"
         ],
         "xaxis": "x",
         "y": [
          "Historical",
          "Historical",
          "Historical",
          "Historical",
          "Historical",
          "Historical",
          "Historical",
          "Historical",
          "Historical",
          "Historical",
          "Historical",
          "Historical",
          "Historical",
          "Historical",
          "Historical",
          "Historical",
          "Historical",
          "Historical",
          "Historical",
          "Historical",
          "Historical",
          "Historical",
          "Historical",
          "Historical",
          "Historical"
         ],
         "yaxis": "y"
        }
       ],
       "layout": {
        "autosize": true,
        "legend": {
         "title": {
          "text": "Metric"
         },
         "tracegroupgap": 0
        },
        "template": {
         "data": {
          "bar": [
           {
            "error_x": {
             "color": "#2a3f5f"
            },
            "error_y": {
             "color": "#2a3f5f"
            },
            "marker": {
             "line": {
              "color": "#E5ECF6",
              "width": 0.5
             },
             "pattern": {
              "fillmode": "overlay",
              "size": 10,
              "solidity": 0.2
             }
            },
            "type": "bar"
           }
          ],
          "barpolar": [
           {
            "marker": {
             "line": {
              "color": "#E5ECF6",
              "width": 0.5
             },
             "pattern": {
              "fillmode": "overlay",
              "size": 10,
              "solidity": 0.2
             }
            },
            "type": "barpolar"
           }
          ],
          "carpet": [
           {
            "aaxis": {
             "endlinecolor": "#2a3f5f",
             "gridcolor": "white",
             "linecolor": "white",
             "minorgridcolor": "white",
             "startlinecolor": "#2a3f5f"
            },
            "baxis": {
             "endlinecolor": "#2a3f5f",
             "gridcolor": "white",
             "linecolor": "white",
             "minorgridcolor": "white",
             "startlinecolor": "#2a3f5f"
            },
            "type": "carpet"
           }
          ],
          "choropleth": [
           {
            "colorbar": {
             "outlinewidth": 0,
             "ticks": ""
            },
            "type": "choropleth"
           }
          ],
          "contour": [
           {
            "colorbar": {
             "outlinewidth": 0,
             "ticks": ""
            },
            "colorscale": [
             [
              0,
              "#0d0887"
             ],
             [
              0.1111111111111111,
              "#46039f"
             ],
             [
              0.2222222222222222,
              "#7201a8"
             ],
             [
              0.3333333333333333,
              "#9c179e"
             ],
             [
              0.4444444444444444,
              "#bd3786"
             ],
             [
              0.5555555555555556,
              "#d8576b"
             ],
             [
              0.6666666666666666,
              "#ed7953"
             ],
             [
              0.7777777777777778,
              "#fb9f3a"
             ],
             [
              0.8888888888888888,
              "#fdca26"
             ],
             [
              1,
              "#f0f921"
             ]
            ],
            "type": "contour"
           }
          ],
          "contourcarpet": [
           {
            "colorbar": {
             "outlinewidth": 0,
             "ticks": ""
            },
            "type": "contourcarpet"
           }
          ],
          "heatmap": [
           {
            "colorbar": {
             "outlinewidth": 0,
             "ticks": ""
            },
            "colorscale": [
             [
              0,
              "#0d0887"
             ],
             [
              0.1111111111111111,
              "#46039f"
             ],
             [
              0.2222222222222222,
              "#7201a8"
             ],
             [
              0.3333333333333333,
              "#9c179e"
             ],
             [
              0.4444444444444444,
              "#bd3786"
             ],
             [
              0.5555555555555556,
              "#d8576b"
             ],
             [
              0.6666666666666666,
              "#ed7953"
             ],
             [
              0.7777777777777778,
              "#fb9f3a"
             ],
             [
              0.8888888888888888,
              "#fdca26"
             ],
             [
              1,
              "#f0f921"
             ]
            ],
            "type": "heatmap"
           }
          ],
          "histogram": [
           {
            "marker": {
             "pattern": {
              "fillmode": "overlay",
              "size": 10,
              "solidity": 0.2
             }
            },
            "type": "histogram"
           }
          ],
          "histogram2d": [
           {
            "colorbar": {
             "outlinewidth": 0,
             "ticks": ""
            },
            "colorscale": [
             [
              0,
              "#0d0887"
             ],
             [
              0.1111111111111111,
              "#46039f"
             ],
             [
              0.2222222222222222,
              "#7201a8"
             ],
             [
              0.3333333333333333,
              "#9c179e"
             ],
             [
              0.4444444444444444,
              "#bd3786"
             ],
             [
              0.5555555555555556,
              "#d8576b"
             ],
             [
              0.6666666666666666,
              "#ed7953"
             ],
             [
              0.7777777777777778,
              "#fb9f3a"
             ],
             [
              0.8888888888888888,
              "#fdca26"
             ],
             [
              1,
              "#f0f921"
             ]
            ],
            "type": "histogram2d"
           }
          ],
          "histogram2dcontour": [
           {
            "colorbar": {
             "outlinewidth": 0,
             "ticks": ""
            },
            "colorscale": [
             [
              0,
              "#0d0887"
             ],
             [
              0.1111111111111111,
              "#46039f"
             ],
             [
              0.2222222222222222,
              "#7201a8"
             ],
             [
              0.3333333333333333,
              "#9c179e"
             ],
             [
              0.4444444444444444,
              "#bd3786"
             ],
             [
              0.5555555555555556,
              "#d8576b"
             ],
             [
              0.6666666666666666,
              "#ed7953"
             ],
             [
              0.7777777777777778,
              "#fb9f3a"
             ],
             [
              0.8888888888888888,
              "#fdca26"
             ],
             [
              1,
              "#f0f921"
             ]
            ],
            "type": "histogram2dcontour"
           }
          ],
          "mesh3d": [
           {
            "colorbar": {
             "outlinewidth": 0,
             "ticks": ""
            },
            "type": "mesh3d"
           }
          ],
          "parcoords": [
           {
            "line": {
             "colorbar": {
              "outlinewidth": 0,
              "ticks": ""
             }
            },
            "type": "parcoords"
           }
          ],
          "pie": [
           {
            "automargin": true,
            "type": "pie"
           }
          ],
          "scatter": [
           {
            "fillpattern": {
             "fillmode": "overlay",
             "size": 10,
             "solidity": 0.2
            },
            "type": "scatter"
           }
          ],
          "scatter3d": [
           {
            "line": {
             "colorbar": {
              "outlinewidth": 0,
              "ticks": ""
             }
            },
            "marker": {
             "colorbar": {
              "outlinewidth": 0,
              "ticks": ""
             }
            },
            "type": "scatter3d"
           }
          ],
          "scattercarpet": [
           {
            "marker": {
             "colorbar": {
              "outlinewidth": 0,
              "ticks": ""
             }
            },
            "type": "scattercarpet"
           }
          ],
          "scattergeo": [
           {
            "marker": {
             "colorbar": {
              "outlinewidth": 0,
              "ticks": ""
             }
            },
            "type": "scattergeo"
           }
          ],
          "scattergl": [
           {
            "marker": {
             "colorbar": {
              "outlinewidth": 0,
              "ticks": ""
             }
            },
            "type": "scattergl"
           }
          ],
          "scattermap": [
           {
            "marker": {
             "colorbar": {
              "outlinewidth": 0,
              "ticks": ""
             }
            },
            "type": "scattermap"
           }
          ],
          "scattermapbox": [
           {
            "marker": {
             "colorbar": {
              "outlinewidth": 0,
              "ticks": ""
             }
            },
            "type": "scattermapbox"
           }
          ],
          "scatterpolar": [
           {
            "marker": {
             "colorbar": {
              "outlinewidth": 0,
              "ticks": ""
             }
            },
            "type": "scatterpolar"
           }
          ],
          "scatterpolargl": [
           {
            "marker": {
             "colorbar": {
              "outlinewidth": 0,
              "ticks": ""
             }
            },
            "type": "scatterpolargl"
           }
          ],
          "scatterternary": [
           {
            "marker": {
             "colorbar": {
              "outlinewidth": 0,
              "ticks": ""
             }
            },
            "type": "scatterternary"
           }
          ],
          "surface": [
           {
            "colorbar": {
             "outlinewidth": 0,
             "ticks": ""
            },
            "colorscale": [
             [
              0,
              "#0d0887"
             ],
             [
              0.1111111111111111,
              "#46039f"
             ],
             [
              0.2222222222222222,
              "#7201a8"
             ],
             [
              0.3333333333333333,
              "#9c179e"
             ],
             [
              0.4444444444444444,
              "#bd3786"
             ],
             [
              0.5555555555555556,
              "#d8576b"
             ],
             [
              0.6666666666666666,
              "#ed7953"
             ],
             [
              0.7777777777777778,
              "#fb9f3a"
             ],
             [
              0.8888888888888888,
              "#fdca26"
             ],
             [
              1,
              "#f0f921"
             ]
            ],
            "type": "surface"
           }
          ],
          "table": [
           {
            "cells": {
             "fill": {
              "color": "#EBF0F8"
             },
             "line": {
              "color": "white"
             }
            },
            "header": {
             "fill": {
              "color": "#C8D4E3"
             },
             "line": {
              "color": "white"
             }
            },
            "type": "table"
           }
          ]
         },
         "layout": {
          "annotationdefaults": {
           "arrowcolor": "#2a3f5f",
           "arrowhead": 0,
           "arrowwidth": 1
          },
          "autotypenumbers": "strict",
          "coloraxis": {
           "colorbar": {
            "outlinewidth": 0,
            "ticks": ""
           }
          },
          "colorscale": {
           "diverging": [
            [
             0,
             "#8e0152"
            ],
            [
             0.1,
             "#c51b7d"
            ],
            [
             0.2,
             "#de77ae"
            ],
            [
             0.3,
             "#f1b6da"
            ],
            [
             0.4,
             "#fde0ef"
            ],
            [
             0.5,
             "#f7f7f7"
            ],
            [
             0.6,
             "#e6f5d0"
            ],
            [
             0.7,
             "#b8e186"
            ],
            [
             0.8,
             "#7fbc41"
            ],
            [
             0.9,
             "#4d9221"
            ],
            [
             1,
             "#276419"
            ]
           ],
           "sequential": [
            [
             0,
             "#0d0887"
            ],
            [
             0.1111111111111111,
             "#46039f"
            ],
            [
             0.2222222222222222,
             "#7201a8"
            ],
            [
             0.3333333333333333,
             "#9c179e"
            ],
            [
             0.4444444444444444,
             "#bd3786"
            ],
            [
             0.5555555555555556,
             "#d8576b"
            ],
            [
             0.6666666666666666,
             "#ed7953"
            ],
            [
             0.7777777777777778,
             "#fb9f3a"
            ],
            [
             0.8888888888888888,
             "#fdca26"
            ],
            [
             1,
             "#f0f921"
            ]
           ],
           "sequentialminus": [
            [
             0,
             "#0d0887"
            ],
            [
             0.1111111111111111,
             "#46039f"
            ],
            [
             0.2222222222222222,
             "#7201a8"
            ],
            [
             0.3333333333333333,
             "#9c179e"
            ],
            [
             0.4444444444444444,
             "#bd3786"
            ],
            [
             0.5555555555555556,
             "#d8576b"
            ],
            [
             0.6666666666666666,
             "#ed7953"
            ],
            [
             0.7777777777777778,
             "#fb9f3a"
            ],
            [
             0.8888888888888888,
             "#fdca26"
            ],
            [
             1,
             "#f0f921"
            ]
           ]
          },
          "colorway": [
           "#636efa",
           "#EF553B",
           "#00cc96",
           "#ab63fa",
           "#FFA15A",
           "#19d3f3",
           "#FF6692",
           "#B6E880",
           "#FF97FF",
           "#FECB52"
          ],
          "font": {
           "color": "#2a3f5f"
          },
          "geo": {
           "bgcolor": "white",
           "lakecolor": "white",
           "landcolor": "#E5ECF6",
           "showlakes": true,
           "showland": true,
           "subunitcolor": "white"
          },
          "hoverlabel": {
           "align": "left"
          },
          "hovermode": "closest",
          "mapbox": {
           "style": "light"
          },
          "paper_bgcolor": "white",
          "plot_bgcolor": "#E5ECF6",
          "polar": {
           "angularaxis": {
            "gridcolor": "white",
            "linecolor": "white",
            "ticks": ""
           },
           "bgcolor": "#E5ECF6",
           "radialaxis": {
            "gridcolor": "white",
            "linecolor": "white",
            "ticks": ""
           }
          },
          "scene": {
           "xaxis": {
            "backgroundcolor": "#E5ECF6",
            "gridcolor": "white",
            "gridwidth": 2,
            "linecolor": "white",
            "showbackground": true,
            "ticks": "",
            "zerolinecolor": "white"
           },
           "yaxis": {
            "backgroundcolor": "#E5ECF6",
            "gridcolor": "white",
            "gridwidth": 2,
            "linecolor": "white",
            "showbackground": true,
            "ticks": "",
            "zerolinecolor": "white"
           },
           "zaxis": {
            "backgroundcolor": "#E5ECF6",
            "gridcolor": "white",
            "gridwidth": 2,
            "linecolor": "white",
            "showbackground": true,
            "ticks": "",
            "zerolinecolor": "white"
           }
          },
          "shapedefaults": {
           "line": {
            "color": "#2a3f5f"
           }
          },
          "ternary": {
           "aaxis": {
            "gridcolor": "white",
            "linecolor": "white",
            "ticks": ""
           },
           "baxis": {
            "gridcolor": "white",
            "linecolor": "white",
            "ticks": ""
           },
           "bgcolor": "#E5ECF6",
           "caxis": {
            "gridcolor": "white",
            "linecolor": "white",
            "ticks": ""
           }
          },
          "title": {
           "x": 0.05
          },
          "xaxis": {
           "automargin": true,
           "gridcolor": "white",
           "linecolor": "white",
           "ticks": "",
           "title": {
            "standoff": 15
           },
           "zerolinecolor": "white",
           "zerolinewidth": 2
          },
          "yaxis": {
           "automargin": true,
           "gridcolor": "white",
           "linecolor": "white",
           "ticks": "",
           "title": {
            "standoff": 15
           },
           "zerolinecolor": "white",
           "zerolinewidth": 2
          }
         }
        },
        "title": {
         "text": "Chennai (Historical Weather of this month)"
        },
        "xaxis": {
         "anchor": "y",
         "autorange": true,
         "domain": [
          0,
          1
         ],
         "range": [
          "2025-10-01",
          "2025-10-25"
         ],
         "title": {
          "text": "Date"
         },
         "type": "date"
        },
        "yaxis": {
         "anchor": "x",
         "autorange": true,
         "domain": [
          0,
          1
         ],
         "range": [
          -1.9277777777777778,
          40.62777777777778
         ],
         "title": {
          "text": "Value"
         },
         "type": "linear"
        }
       }
      },
      "image/png": "[encoded data removed]"
     },
     "metadata": {},
     "output_type": "display_data"
    }
   ],
   "source": [
    "#LINE PLOT - Additional View\n",
    "hist_df_line_melt = hist_df.melt(id_vars = [\"Date\", \"Weather\"],\n",
    "                                 var_name=\"Metric\",\n",
    "                                 value_name=\"Value\")\n",
    "figl = px.line(hist_df_line_melt, x=\"Date\", y=\"Value\", color=\"Metric\",\n",
    "              line_group = \"Metric\",\n",
    "              hover_data = [\"Weather\"],\n",
    "              title = place +\" (Historical Weather of this month)\"\n",
    "             )\n",
    "figl.show()"
   ]
  },
  {
   "cell_type": "markdown",
   "id": "b8791644-3440-4ce8-b5c1-e99cae216262",
   "metadata": {
    "jp-MarkdownHeadingCollapsed": true
   },
   "source": [
    "## Forecast Data of the Month"
   ]
  },
  {
   "cell_type": "code",
   "execution_count": 27,
   "id": "b482f8d4-affe-4072-8c5a-34be5f18515d",
   "metadata": {},
   "outputs": [
    {
     "data": {
      "text/plain": [
       "{'latitude': 13.0,\n",
       " 'longitude': 80.125,\n",
       " 'generationtime_ms': 0.10371208190917969,\n",
       " 'utc_offset_seconds': 19800,\n",
       " 'timezone': 'Asia/Kolkata',\n",
       " 'timezone_abbreviation': 'GMT+5:30',\n",
       " 'elevation': 11.0,\n",
       " 'daily_units': {'time': 'iso8601',\n",
       "  'weather_code': 'wmo code',\n",
       "  'temperature_2m_max': '°C',\n",
       "  'temperature_2m_min': '°C',\n",
       "  'precipitation_sum': 'mm',\n",
       "  'rain_sum': 'mm',\n",
       "  'precipitation_hours': 'h',\n",
       "  'wind_speed_10m_max': 'km/h'},\n",
       " 'daily': {'time': ['2025-10-25',\n",
       "   '2025-10-26',\n",
       "   '2025-10-27',\n",
       "   '2025-10-28',\n",
       "   '2025-10-29',\n",
       "   '2025-10-30',\n",
       "   '2025-10-31'],\n",
       "  'weather_code': [95, 80, 61, 80, 3, 3, 3],\n",
       "  'temperature_2m_max': [30.2, 30.5, 25.7, 29.9, 31.2, 32.4, 32.8],\n",
       "  'temperature_2m_min': [24.7, 25.2, 24.4, 23.9, 24.9, 25.5, 25.6],\n",
       "  'precipitation_sum': [4.8, 1.1, 6.9, 3.8, 0.0, 0.0, 0.3],\n",
       "  'rain_sum': [0.0, 0.0, 6.9, 0.0, 0.0, 0.0, 0.0],\n",
       "  'precipitation_hours': [8.0, 3.0, 13.0, 8.0, 0.0, 0.0, 3.0],\n",
       "  'wind_speed_10m_max': [10.2, 9.8, 15.3, 14.6, 11.5, 7.2, 6.8]}}"
      ]
     },
     "execution_count": 27,
     "metadata": {},
     "output_type": "execute_result"
    }
   ],
   "source": [
    "#Gettin the Weather Forecase of the place\n",
    "#link to forecast api is available in https://open-meteo.com/en/docs\n",
    "\n",
    "forecast_url = \"https://api.open-meteo.com/v1/forecast\"\n",
    "'''\n",
    "The Params are defined based on their availablility in the respective API documentation\n",
    "'''\n",
    "forecast_params = {\"latitude\":latitude,\n",
    "                   \"longitude\":longitude,\n",
    "                   \"daily\":\"weather_code,temperature_2m_max,temperature_2m_min,precipitation_sum,rain_sum,precipitation_hours,wind_speed_10m_max\",\n",
    "                   \"forecast_days\" : 7,\n",
    "                  \"timezone\":\"auto\"}\n",
    "'''\n",
    "Make sure the daily param is a comma seperated list without spaces.\n",
    "The parameters we need are set and now historical data is to be fetched\n",
    "as a request to the archive api url\n",
    "'''\n",
    "forecast_data = requests.get(forecast_url, params = forecast_params).json()\n",
    "forecast_data"
   ]
  },
  {
   "cell_type": "code",
   "execution_count": 28,
   "id": "7dbe5909-bb8c-4de4-91d2-8201e23cb9f0",
   "metadata": {},
   "outputs": [
    {
     "data": {
      "text/plain": [
       "dict_keys(['time', 'weather_code', 'temperature_2m_max', 'temperature_2m_min', 'precipitation_sum', 'rain_sum', 'precipitation_hours', 'wind_speed_10m_max'])"
      ]
     },
     "execution_count": 28,
     "metadata": {},
     "output_type": "execute_result"
    }
   ],
   "source": [
    "forecast_daily_data = forecast_data.get(\"daily\", {})\n",
    "forecast_daily_data.keys()"
   ]
  },
  {
   "cell_type": "code",
   "execution_count": 29,
   "id": "78e9dc74-6e61-4f92-a3d5-912c8c7d9e22",
   "metadata": {},
   "outputs": [
    {
     "name": "stdout",
     "output_type": "stream",
     "text": [
      "(7, 9)\n",
      "         Date                           Weather  Max Temp  Min Temp  Rainfall  \\\n",
      "0  2025-10-25  Thunderstorm: Slight or moderate      30.2      24.7       4.8   \n",
      "1  2025-10-26              Rain showers: Slight      30.5      25.2       1.1   \n",
      "2  2025-10-27                      Rain: Slight      25.7      24.4       6.9   \n",
      "3  2025-10-28              Rain showers: Slight      29.9      23.9       3.8   \n",
      "4  2025-10-29                          Overcast      31.2      24.9       0.0   \n",
      "\n",
      "   Sum of Daily Rain  Hours with Rain  Wind Speed      Type  \n",
      "0                0.0              8.0        10.2  Forecast  \n",
      "1                0.0              3.0         9.8  Forecast  \n",
      "2                6.9             13.0        15.3  Forecast  \n",
      "3                0.0              8.0        14.6  Forecast  \n",
      "4                0.0              0.0        11.5  Forecast  \n"
     ]
    }
   ],
   "source": [
    "'''Based on the forecasr daily data keys, \n",
    "we can name the dataframe columns accordingly'''\n",
    "forecast_df = pd.DataFrame({\n",
    "    \"Date\": forecast_daily_data.get(\"time\", []),\n",
    "    \"Weather\": [weather_map.get(fw_code, str(fw_code)) for fw_code in forecast_daily_data.get(\"weather_code\", [])],\n",
    "    \"Max Temp\" :forecast_daily_data.get(\"temperature_2m_max\", []),\n",
    "    \"Min Temp\" : forecast_daily_data.get(\"temperature_2m_min\", []),\n",
    "    \"Rainfall\" : forecast_daily_data.get(\"precipitation_sum\", []),\n",
    "    \"Sum of Daily Rain\": forecast_daily_data.get(\"rain_sum\", []),\n",
    "    \"Hours with Rain\" : forecast_daily_data.get(\"precipitation_hours\", []),\n",
    "    \"Wind Speed\" : forecast_daily_data.get(\"wind_speed_10m_max\", []),\n",
    "    \"Type\" : \"Forecast\"\n",
    "})\n",
    "print(forecast_df.shape)\n",
    "print(forecast_df.head())"
   ]
  },
  {
   "cell_type": "code",
   "execution_count": 30,
   "id": "a3e55074-c341-44a6-8e11-78a1b1d2e04e",
   "metadata": {},
   "outputs": [
    {
     "name": "stdout",
     "output_type": "stream",
     "text": [
      "(32, 9)\n"
     ]
    }
   ],
   "source": [
    "#Together visualizing the historical and forecast data\n",
    "this_month_weather = pd.concat([hist_df, forecast_df], ignore_index=True)\n",
    "this_month_weather[\"Date\"] = pd.to_datetime(this_month_weather[\"Date\"])\n",
    "print(this_month_weather.shape)"
   ]
  },
  {
   "cell_type": "code",
   "execution_count": 32,
   "id": "49510bbe-be43-4292-a174-c294f8365b36",
   "metadata": {},
   "outputs": [
    {
     "name": "stdout",
     "output_type": "stream",
     "text": [
      "         Date                           Weather        Type\n",
      "0  2025-10-01                    Drizzle: Light  Historical\n",
      "1  2025-10-02                    Drizzle: Light  Historical\n",
      "2  2025-10-03                    Drizzle: Light  Historical\n",
      "3  2025-10-04                    Rain: Moderate  Historical\n",
      "4  2025-10-05             Rain: Heavy intensity  Historical\n",
      "5  2025-10-06                    Rain: Moderate  Historical\n",
      "6  2025-10-07                    Rain: Moderate  Historical\n",
      "7  2025-10-08          Drizzle: Dense intensity  Historical\n",
      "8  2025-10-09                    Rain: Moderate  Historical\n",
      "9  2025-10-10                    Drizzle: Light  Historical\n",
      "10 2025-10-11                      Rain: Slight  Historical\n",
      "11 2025-10-12                 Drizzle: Moderate  Historical\n",
      "12 2025-10-13                    Rain: Moderate  Historical\n",
      "13 2025-10-14                    Rain: Moderate  Historical\n",
      "14 2025-10-15                    Rain: Moderate  Historical\n",
      "15 2025-10-16                    Rain: Moderate  Historical\n",
      "16 2025-10-17                    Rain: Moderate  Historical\n",
      "17 2025-10-18             Rain: Heavy intensity  Historical\n",
      "18 2025-10-19                    Rain: Moderate  Historical\n",
      "19 2025-10-20                    Rain: Moderate  Historical\n",
      "20 2025-10-21                    Rain: Moderate  Historical\n",
      "21 2025-10-22                    Rain: Moderate  Historical\n",
      "22 2025-10-23                    Rain: Moderate  Historical\n",
      "23 2025-10-24          Drizzle: Dense intensity  Historical\n",
      "24 2025-10-25             Rain: Heavy intensity  Historical\n",
      "25 2025-10-25  Thunderstorm: Slight or moderate    Forecast\n",
      "26 2025-10-26              Rain showers: Slight    Forecast\n",
      "27 2025-10-27                      Rain: Slight    Forecast\n",
      "28 2025-10-28              Rain showers: Slight    Forecast\n",
      "29 2025-10-29                          Overcast    Forecast\n",
      "30 2025-10-30                          Overcast    Forecast\n",
      "31 2025-10-31                          Overcast    Forecast\n"
     ]
    }
   ],
   "source": [
    "#lets see this month weather date history+predicted of Chennai\n",
    "print(this_month_weather[[\"Date\", \"Weather\", \"Type\"]])"
   ]
  },
  {
   "cell_type": "markdown",
   "id": "ffbcae2f-5062-4653-a5a9-77f2011a0c1e",
   "metadata": {
    "jp-MarkdownHeadingCollapsed": true
   },
   "source": [
    "### Visualizing Both Historical and Forecast data of the month"
   ]
  },
  {
   "cell_type": "code",
   "execution_count": 33,
   "id": "1e8bec43-fb0b-49a9-a010-23c488b474f9",
   "metadata": {},
   "outputs": [
    {
     "data": {
      "application/vnd.plotly.v1+json": {
       "config": {
        "plotlyServerURL": "https://plot.ly"
       },
       "data": [
        {
         "customdata": [
          [
           "Drizzle: Light"
          ]
         ],
         "hovertemplate": "Metric=%{x}<br>Date=2025-10-01 00:00:00<br>Type=Historical<br>Value=%{y}<br>Weather=%{customdata[0]}<extra></extra>",
         "ids": [
          "Max Temp"
         ],
         "legendgroup": "Max Temp",
         "marker": {
          "color": "#636efa",
          "pattern": {
           "shape": ""
          }
         },
         "name": "Max Temp",
         "orientation": "v",
         "showlegend": true,
         "textposition": "auto",
         "type": "bar",
         "x": [
          "Max Temp"
         ],
         "xaxis": "x",
         "y": {
          "_inputArray": {
           "0": 31.8,
           "bdata": "zczMzMzMP0A=",
           "dtype": "f8",
           "shape": "1"
          },
          "bdata": "zczMzMzMP0A=",
          "dtype": "f8"
         },
         "yaxis": "y"
        },
        {
         "customdata": [
          [
           "Drizzle: Light"
          ]
         ],
         "hovertemplate": "Metric=%{x}<br>Date=2025-10-01 00:00:00<br>Type=Historical<br>Value=%{y}<br>Weather=%{customdata[0]}<extra></extra>",
         "ids": [
          "Min Temp"
         ],
         "legendgroup": "Min Temp",
         "marker": {
          "color": "#EF553B",
          "pattern": {
           "shape": ""
          }
         },
         "name": "Min Temp",
         "orientation": "v",
         "showlegend": true,
         "textposition": "auto",
         "type": "bar",
         "x": [
          "Min Temp"
         ],
         "xaxis": "x",
         "y": {
          "_inputArray": {
           "0": 25.7,
           "bdata": "MzMzMzOzOUA=",
           "dtype": "f8",
           "shape": "1"
          },
          "bdata": "MzMzMzOzOUA=",
          "dtype": "f8"
         },
         "yaxis": "y"
        },
        {
         "customdata": [
          [
           "Drizzle: Light"
          ]
         ],
         "hovertemplate": "Metric=%{x}<br>Date=2025-10-01 00:00:00<br>Type=Historical<br>Value=%{y}<br>Weather=%{customdata[0]}<extra></extra>",
         "ids": [
          "Rainfall"
         ],
         "legendgroup": "Rainfall",
         "marker": {
          "color": "#00cc96",
          "pattern": {
           "shape": ""
          }
         },
         "name": "Rainfall",
         "orientation": "v",
         "showlegend": true,
         "textposition": "auto",
         "type": "bar",
         "x": [
          "Rainfall"
         ],
         "xaxis": "x",
         "y": {
          "_inputArray": {
           "0": 0.3,
           "bdata": "MzMzMzMz0z8=",
           "dtype": "f8",
           "shape": "1"
          },
          "bdata": "MzMzMzMz0z8=",
          "dtype": "f8"
         },
         "yaxis": "y"
        },
        {
         "customdata": [
          [
           "Drizzle: Light"
          ]
         ],
         "hovertemplate": "Metric=%{x}<br>Date=2025-10-01 00:00:00<br>Type=Historical<br>Value=%{y}<br>Weather=%{customdata[0]}<extra></extra>",
         "ids": [
          "Sum of Daily Rain"
         ],
         "legendgroup": "Sum of Daily Rain",
         "marker": {
          "color": "#ab63fa",
          "pattern": {
           "shape": ""
          }
         },
         "name": "Sum of Daily Rain",
         "orientation": "v",
         "showlegend": true,
         "textposition": "auto",
         "type": "bar",
         "x": [
          "Sum of Daily Rain"
         ],
         "xaxis": "x",
         "y": {
          "_inputArray": {
           "0": 0.3,
           "bdata": "MzMzMzMz0z8=",
           "dtype": "f8",
           "shape": "1"
          },
          "bdata": "MzMzMzMz0z8=",
          "dtype": "f8"
         },
         "yaxis": "y"
        },
        {
         "customdata": [
          [
           "Drizzle: Light"
          ]
         ],
         "hovertemplate": "Metric=%{x}<br>Date=2025-10-01 00:00:00<br>Type=Historical<br>Value=%{y}<br>Weather=%{customdata[0]}<extra></extra>",
         "ids": [
          "Hours with Rain"
         ],
         "legendgroup": "Hours with Rain",
         "marker": {
          "color": "#FFA15A",
          "pattern": {
           "shape": ""
          }
         },
         "name": "Hours with Rain",
         "orientation": "v",
         "showlegend": true,
         "textposition": "auto",
         "type": "bar",
         "x": [
          "Hours with Rain"
         ],
         "xaxis": "x",
         "y": {
          "_inputArray": {
           "0": 2,
           "bdata": "AAAAAAAAAEA=",
           "dtype": "f8",
           "shape": "1"
          },
          "bdata": "AAAAAAAAAEA=",
          "dtype": "f8"
         },
         "yaxis": "y"
        },
        {
         "customdata": [
          [
           "Drizzle: Light"
          ]
         ],
         "hovertemplate": "Metric=%{x}<br>Date=2025-10-01 00:00:00<br>Type=Historical<br>Value=%{y}<br>Weather=%{customdata[0]}<extra></extra>",
         "ids": [
          "Wind Speed"
         ],
         "legendgroup": "Wind Speed",
         "marker": {
          "color": "#19d3f3",
          "pattern": {
           "shape": ""
          }
         },
         "name": "Wind Speed",
         "orientation": "v",
         "showlegend": true,
         "textposition": "auto",
         "type": "bar",
         "x": [
          "Wind Speed"
         ],
         "xaxis": "x",
         "y": {
          "_inputArray": {
           "0": 13.4,
           "bdata": "zczMzMzMKkA=",
           "dtype": "f8",
           "shape": "1"
          },
          "bdata": "zczMzMzMKkA=",
          "dtype": "f8"
         },
         "yaxis": "y"
        }
       ],
       "frames": [
        {
         "data": [
          {
           "customdata": [
            [
             "Drizzle: Light"
            ]
           ],
           "hovertemplate": "Metric=%{x}<br>Date=2025-10-01 00:00:00<br>Type=Historical<br>Value=%{y}<br>Weather=%{customdata[0]}<extra></extra>",
           "ids": [
            "Max Temp"
           ],
           "legendgroup": "Max Temp",
           "marker": {
            "color": "#636efa",
            "pattern": {
             "shape": ""
            }
           },
           "name": "Max Temp",
           "orientation": "v",
           "showlegend": true,
           "textposition": "auto",
           "type": "bar",
           "x": [
            "Max Temp"
           ],
           "xaxis": "x",
           "y": {
            "bdata": "zczMzMzMP0A=",
            "dtype": "f8"
           },
           "yaxis": "y"
          },
          {
           "customdata": [
            [
             "Drizzle: Light"
            ]
           ],
           "hovertemplate": "Metric=%{x}<br>Date=2025-10-01 00:00:00<br>Type=Historical<br>Value=%{y}<br>Weather=%{customdata[0]}<extra></extra>",
           "ids": [
            "Min Temp"
           ],
           "legendgroup": "Min Temp",
           "marker": {
            "color": "#EF553B",
            "pattern": {
             "shape": ""
            }
           },
           "name": "Min Temp",
           "orientation": "v",
           "showlegend": true,
           "textposition": "auto",
           "type": "bar",
           "x": [
            "Min Temp"
           ],
           "xaxis": "x",
           "y": {
            "bdata": "MzMzMzOzOUA=",
            "dtype": "f8"
           },
           "yaxis": "y"
          },
          {
           "customdata": [
            [
             "Drizzle: Light"
            ]
           ],
           "hovertemplate": "Metric=%{x}<br>Date=2025-10-01 00:00:00<br>Type=Historical<br>Value=%{y}<br>Weather=%{customdata[0]}<extra></extra>",
           "ids": [
            "Rainfall"
           ],
           "legendgroup": "Rainfall",
           "marker": {
            "color": "#00cc96",
            "pattern": {
             "shape": ""
            }
           },
           "name": "Rainfall",
           "orientation": "v",
           "showlegend": true,
           "textposition": "auto",
           "type": "bar",
           "x": [
            "Rainfall"
           ],
           "xaxis": "x",
           "y": {
            "bdata": "MzMzMzMz0z8=",
            "dtype": "f8"
           },
           "yaxis": "y"
          },
          {
           "customdata": [
            [
             "Drizzle: Light"
            ]
           ],
           "hovertemplate": "Metric=%{x}<br>Date=2025-10-01 00:00:00<br>Type=Historical<br>Value=%{y}<br>Weather=%{customdata[0]}<extra></extra>",
           "ids": [
            "Sum of Daily Rain"
           ],
           "legendgroup": "Sum of Daily Rain",
           "marker": {
            "color": "#ab63fa",
            "pattern": {
             "shape": ""
            }
           },
           "name": "Sum of Daily Rain",
           "orientation": "v",
           "showlegend": true,
           "textposition": "auto",
           "type": "bar",
           "x": [
            "Sum of Daily Rain"
           ],
           "xaxis": "x",
           "y": {
            "bdata": "MzMzMzMz0z8=",
            "dtype": "f8"
           },
           "yaxis": "y"
          },
          {
           "customdata": [
            [
             "Drizzle: Light"
            ]
           ],
           "hovertemplate": "Metric=%{x}<br>Date=2025-10-01 00:00:00<br>Type=Historical<br>Value=%{y}<br>Weather=%{customdata[0]}<extra></extra>",
           "ids": [
            "Hours with Rain"
           ],
           "legendgroup": "Hours with Rain",
           "marker": {
            "color": "#FFA15A",
            "pattern": {
             "shape": ""
            }
           },
           "name": "Hours with Rain",
           "orientation": "v",
           "showlegend": true,
           "textposition": "auto",
           "type": "bar",
           "x": [
            "Hours with Rain"
           ],
           "xaxis": "x",
           "y": {
            "bdata": "AAAAAAAAAEA=",
            "dtype": "f8"
           },
           "yaxis": "y"
          },
          {
           "customdata": [
            [
             "Drizzle: Light"
            ]
           ],
           "hovertemplate": "Metric=%{x}<br>Date=2025-10-01 00:00:00<br>Type=Historical<br>Value=%{y}<br>Weather=%{customdata[0]}<extra></extra>",
           "ids": [
            "Wind Speed"
           ],
           "legendgroup": "Wind Speed",
           "marker": {
            "color": "#19d3f3",
            "pattern": {
             "shape": ""
            }
           },
           "name": "Wind Speed",
           "orientation": "v",
           "showlegend": true,
           "textposition": "auto",
           "type": "bar",
           "x": [
            "Wind Speed"
           ],
           "xaxis": "x",
           "y": {
            "bdata": "zczMzMzMKkA=",
            "dtype": "f8"
           },
           "yaxis": "y"
          }
         ],
         "name": "2025-10-01 00:00:00"
        },
        {
         "data": [
          {
           "customdata": [
            [
             "Drizzle: Light"
            ]
           ],
           "hovertemplate": "Metric=%{x}<br>Date=2025-10-02 00:00:00<br>Type=Historical<br>Value=%{y}<br>Weather=%{customdata[0]}<extra></extra>",
           "ids": [
            "Max Temp"
           ],
           "legendgroup": "Max Temp",
           "marker": {
            "color": "#636efa",
            "pattern": {
             "shape": ""
            }
           },
           "name": "Max Temp",
           "orientation": "v",
           "showlegend": true,
           "textposition": "auto",
           "type": "bar",
           "x": [
            "Max Temp"
           ],
           "xaxis": "x",
           "y": {
            "bdata": "ZmZmZmZmQEA=",
            "dtype": "f8"
           },
           "yaxis": "y"
          },
          {
           "customdata": [
            [
             "Drizzle: Light"
            ]
           ],
           "hovertemplate": "Metric=%{x}<br>Date=2025-10-02 00:00:00<br>Type=Historical<br>Value=%{y}<br>Weather=%{customdata[0]}<extra></extra>",
           "ids": [
            "Min Temp"
           ],
           "legendgroup": "Min Temp",
           "marker": {
            "color": "#EF553B",
            "pattern": {
             "shape": ""
            }
           },
           "name": "Min Temp",
           "orientation": "v",
           "showlegend": true,
           "textposition": "auto",
           "type": "bar",
           "x": [
            "Min Temp"
           ],
           "xaxis": "x",
           "y": {
            "bdata": "MzMzMzOzOUA=",
            "dtype": "f8"
           },
           "yaxis": "y"
          },
          {
           "customdata": [
            [
             "Drizzle: Light"
            ]
           ],
           "hovertemplate": "Metric=%{x}<br>Date=2025-10-02 00:00:00<br>Type=Historical<br>Value=%{y}<br>Weather=%{customdata[0]}<extra></extra>",
           "ids": [
            "Rainfall"
           ],
           "legendgroup": "Rainfall",
           "marker": {
            "color": "#00cc96",
            "pattern": {
             "shape": ""
            }
           },
           "name": "Rainfall",
           "orientation": "v",
           "showlegend": true,
           "textposition": "auto",
           "type": "bar",
           "x": [
            "Rainfall"
           ],
           "xaxis": "x",
           "y": {
            "bdata": "mpmZmZmZyT8=",
            "dtype": "f8"
           },
           "yaxis": "y"
          },
          {
           "customdata": [
            [
             "Drizzle: Light"
            ]
           ],
           "hovertemplate": "Metric=%{x}<br>Date=2025-10-02 00:00:00<br>Type=Historical<br>Value=%{y}<br>Weather=%{customdata[0]}<extra></extra>",
           "ids": [
            "Sum of Daily Rain"
           ],
           "legendgroup": "Sum of Daily Rain",
           "marker": {
            "color": "#ab63fa",
            "pattern": {
             "shape": ""
            }
           },
           "name": "Sum of Daily Rain",
           "orientation": "v",
           "showlegend": true,
           "textposition": "auto",
           "type": "bar",
           "x": [
            "Sum of Daily Rain"
           ],
           "xaxis": "x",
           "y": {
            "bdata": "mpmZmZmZyT8=",
            "dtype": "f8"
           },
           "yaxis": "y"
          },
          {
           "customdata": [
            [
             "Drizzle: Light"
            ]
           ],
           "hovertemplate": "Metric=%{x}<br>Date=2025-10-02 00:00:00<br>Type=Historical<br>Value=%{y}<br>Weather=%{customdata[0]}<extra></extra>",
           "ids": [
            "Hours with Rain"
           ],
           "legendgroup": "Hours with Rain",
           "marker": {
            "color": "#FFA15A",
            "pattern": {
             "shape": ""
            }
           },
           "name": "Hours with Rain",
           "orientation": "v",
           "showlegend": true,
           "textposition": "auto",
           "type": "bar",
           "x": [
            "Hours with Rain"
           ],
           "xaxis": "x",
           "y": {
            "bdata": "AAAAAAAAAEA=",
            "dtype": "f8"
           },
           "yaxis": "y"
          },
          {
           "customdata": [
            [
             "Drizzle: Light"
            ]
           ],
           "hovertemplate": "Metric=%{x}<br>Date=2025-10-02 00:00:00<br>Type=Historical<br>Value=%{y}<br>Weather=%{customdata[0]}<extra></extra>",
           "ids": [
            "Wind Speed"
           ],
           "legendgroup": "Wind Speed",
           "marker": {
            "color": "#19d3f3",
            "pattern": {
             "shape": ""
            }
           },
           "name": "Wind Speed",
           "orientation": "v",
           "showlegend": true,
           "textposition": "auto",
           "type": "bar",
           "x": [
            "Wind Speed"
           ],
           "xaxis": "x",
           "y": {
            "bdata": "MzMzMzMzK0A=",
            "dtype": "f8"
           },
           "yaxis": "y"
          }
         ],
         "name": "2025-10-02 00:00:00"
        },
        {
         "data": [
          {
           "customdata": [
            [
             "Drizzle: Light"
            ]
           ],
           "hovertemplate": "Metric=%{x}<br>Date=2025-10-03 00:00:00<br>Type=Historical<br>Value=%{y}<br>Weather=%{customdata[0]}<extra></extra>",
           "ids": [
            "Max Temp"
           ],
           "legendgroup": "Max Temp",
           "marker": {
            "color": "#636efa",
            "pattern": {
             "shape": ""
            }
           },
           "name": "Max Temp",
           "orientation": "v",
           "showlegend": true,
           "textposition": "auto",
           "type": "bar",
           "x": [
            "Max Temp"
           ],
           "xaxis": "x",
           "y": {
            "bdata": "AAAAAACAQEA=",
            "dtype": "f8"
           },
           "yaxis": "y"
          },
          {
           "customdata": [
            [
             "Drizzle: Light"
            ]
           ],
           "hovertemplate": "Metric=%{x}<br>Date=2025-10-03 00:00:00<br>Type=Historical<br>Value=%{y}<br>Weather=%{customdata[0]}<extra></extra>",
           "ids": [
            "Min Temp"
           ],
           "legendgroup": "Min Temp",
           "marker": {
            "color": "#EF553B",
            "pattern": {
             "shape": ""
            }
           },
           "name": "Min Temp",
           "orientation": "v",
           "showlegend": true,
           "textposition": "auto",
           "type": "bar",
           "x": [
            "Min Temp"
           ],
           "xaxis": "x",
           "y": {
            "bdata": "mpmZmZmZOUA=",
            "dtype": "f8"
           },
           "yaxis": "y"
          },
          {
           "customdata": [
            [
             "Drizzle: Light"
            ]
           ],
           "hovertemplate": "Metric=%{x}<br>Date=2025-10-03 00:00:00<br>Type=Historical<br>Value=%{y}<br>Weather=%{customdata[0]}<extra></extra>",
           "ids": [
            "Rainfall"
           ],
           "legendgroup": "Rainfall",
           "marker": {
            "color": "#00cc96",
            "pattern": {
             "shape": ""
            }
           },
           "name": "Rainfall",
           "orientation": "v",
           "showlegend": true,
           "textposition": "auto",
           "type": "bar",
           "x": [
            "Rainfall"
           ],
           "xaxis": "x",
           "y": {
            "bdata": "MzMzMzMz4z8=",
            "dtype": "f8"
           },
           "yaxis": "y"
          },
          {
           "customdata": [
            [
             "Drizzle: Light"
            ]
           ],
           "hovertemplate": "Metric=%{x}<br>Date=2025-10-03 00:00:00<br>Type=Historical<br>Value=%{y}<br>Weather=%{customdata[0]}<extra></extra>",
           "ids": [
            "Sum of Daily Rain"
           ],
           "legendgroup": "Sum of Daily Rain",
           "marker": {
            "color": "#ab63fa",
            "pattern": {
             "shape": ""
            }
           },
           "name": "Sum of Daily Rain",
           "orientation": "v",
           "showlegend": true,
           "textposition": "auto",
           "type": "bar",
           "x": [
            "Sum of Daily Rain"
           ],
           "xaxis": "x",
           "y": {
            "bdata": "MzMzMzMz4z8=",
            "dtype": "f8"
           },
           "yaxis": "y"
          },
          {
           "customdata": [
            [
             "Drizzle: Light"
            ]
           ],
           "hovertemplate": "Metric=%{x}<br>Date=2025-10-03 00:00:00<br>Type=Historical<br>Value=%{y}<br>Weather=%{customdata[0]}<extra></extra>",
           "ids": [
            "Hours with Rain"
           ],
           "legendgroup": "Hours with Rain",
           "marker": {
            "color": "#FFA15A",
            "pattern": {
             "shape": ""
            }
           },
           "name": "Hours with Rain",
           "orientation": "v",
           "showlegend": true,
           "textposition": "auto",
           "type": "bar",
           "x": [
            "Hours with Rain"
           ],
           "xaxis": "x",
           "y": {
            "bdata": "AAAAAAAACEA=",
            "dtype": "f8"
           },
           "yaxis": "y"
          },
          {
           "customdata": [
            [
             "Drizzle: Light"
            ]
           ],
           "hovertemplate": "Metric=%{x}<br>Date=2025-10-03 00:00:00<br>Type=Historical<br>Value=%{y}<br>Weather=%{customdata[0]}<extra></extra>",
           "ids": [
            "Wind Speed"
           ],
           "legendgroup": "Wind Speed",
           "marker": {
            "color": "#19d3f3",
            "pattern": {
             "shape": ""
            }
           },
           "name": "Wind Speed",
           "orientation": "v",
           "showlegend": true,
           "textposition": "auto",
           "type": "bar",
           "x": [
            "Wind Speed"
           ],
           "xaxis": "x",
           "y": {
            "bdata": "ZmZmZmZmLEA=",
            "dtype": "f8"
           },
           "yaxis": "y"
          }
         ],
         "name": "2025-10-03 00:00:00"
        },
        {
         "data": [
          {
           "customdata": [
            [
             "Rain: Moderate"
            ]
           ],
           "hovertemplate": "Metric=%{x}<br>Date=2025-10-04 00:00:00<br>Type=Historical<br>Value=%{y}<br>Weather=%{customdata[0]}<extra></extra>",
           "ids": [
            "Max Temp"
           ],
           "legendgroup": "Max Temp",
           "marker": {
            "color": "#636efa",
            "pattern": {
             "shape": ""
            }
           },
           "name": "Max Temp",
           "orientation": "v",
           "showlegend": true,
           "textposition": "auto",
           "type": "bar",
           "x": [
            "Max Temp"
           ],
           "xaxis": "x",
           "y": {
            "bdata": "AAAAAACAP0A=",
            "dtype": "f8"
           },
           "yaxis": "y"
          },
          {
           "customdata": [
            [
             "Rain: Moderate"
            ]
           ],
           "hovertemplate": "Metric=%{x}<br>Date=2025-10-04 00:00:00<br>Type=Historical<br>Value=%{y}<br>Weather=%{customdata[0]}<extra></extra>",
           "ids": [
            "Min Temp"
           ],
           "legendgroup": "Min Temp",
           "marker": {
            "color": "#EF553B",
            "pattern": {
             "shape": ""
            }
           },
           "name": "Min Temp",
           "orientation": "v",
           "showlegend": true,
           "textposition": "auto",
           "type": "bar",
           "x": [
            "Min Temp"
           ],
           "xaxis": "x",
           "y": {
            "bdata": "ZmZmZmZmOEA=",
            "dtype": "f8"
           },
           "yaxis": "y"
          },
          {
           "customdata": [
            [
             "Rain: Moderate"
            ]
           ],
           "hovertemplate": "Metric=%{x}<br>Date=2025-10-04 00:00:00<br>Type=Historical<br>Value=%{y}<br>Weather=%{customdata[0]}<extra></extra>",
           "ids": [
            "Rainfall"
           ],
           "legendgroup": "Rainfall",
           "marker": {
            "color": "#00cc96",
            "pattern": {
             "shape": ""
            }
           },
           "name": "Rainfall",
           "orientation": "v",
           "showlegend": true,
           "textposition": "auto",
           "type": "bar",
           "x": [
            "Rainfall"
           ],
           "xaxis": "x",
           "y": {
            "bdata": "ZmZmZmZmHEA=",
            "dtype": "f8"
           },
           "yaxis": "y"
          },
          {
           "customdata": [
            [
             "Rain: Moderate"
            ]
           ],
           "hovertemplate": "Metric=%{x}<br>Date=2025-10-04 00:00:00<br>Type=Historical<br>Value=%{y}<br>Weather=%{customdata[0]}<extra></extra>",
           "ids": [
            "Sum of Daily Rain"
           ],
           "legendgroup": "Sum of Daily Rain",
           "marker": {
            "color": "#ab63fa",
            "pattern": {
             "shape": ""
            }
           },
           "name": "Sum of Daily Rain",
           "orientation": "v",
           "showlegend": true,
           "textposition": "auto",
           "type": "bar",
           "x": [
            "Sum of Daily Rain"
           ],
           "xaxis": "x",
           "y": {
            "bdata": "ZmZmZmZmHEA=",
            "dtype": "f8"
           },
           "yaxis": "y"
          },
          {
           "customdata": [
            [
             "Rain: Moderate"
            ]
           ],
           "hovertemplate": "Metric=%{x}<br>Date=2025-10-04 00:00:00<br>Type=Historical<br>Value=%{y}<br>Weather=%{customdata[0]}<extra></extra>",
           "ids": [
            "Hours with Rain"
           ],
           "legendgroup": "Hours with Rain",
           "marker": {
            "color": "#FFA15A",
            "pattern": {
             "shape": ""
            }
           },
           "name": "Hours with Rain",
           "orientation": "v",
           "showlegend": true,
           "textposition": "auto",
           "type": "bar",
           "x": [
            "Hours with Rain"
           ],
           "xaxis": "x",
           "y": {
            "bdata": "AAAAAAAAHEA=",
            "dtype": "f8"
           },
           "yaxis": "y"
          },
          {
           "customdata": [
            [
             "Rain: Moderate"
            ]
           ],
           "hovertemplate": "Metric=%{x}<br>Date=2025-10-04 00:00:00<br>Type=Historical<br>Value=%{y}<br>Weather=%{customdata[0]}<extra></extra>",
           "ids": [
            "Wind Speed"
           ],
           "legendgroup": "Wind Speed",
           "marker": {
            "color": "#19d3f3",
            "pattern": {
             "shape": ""
            }
           },
           "name": "Wind Speed",
           "orientation": "v",
           "showlegend": true,
           "textposition": "auto",
           "type": "bar",
           "x": [
            "Wind Speed"
           ],
           "xaxis": "x",
           "y": {
            "bdata": "AAAAAAAANUA=",
            "dtype": "f8"
           },
           "yaxis": "y"
          }
         ],
         "name": "2025-10-04 00:00:00"
        },
        {
         "data": [
          {
           "customdata": [
            [
             "Rain: Heavy intensity"
            ]
           ],
           "hovertemplate": "Metric=%{x}<br>Date=2025-10-05 00:00:00<br>Type=Historical<br>Value=%{y}<br>Weather=%{customdata[0]}<extra></extra>",
           "ids": [
            "Max Temp"
           ],
           "legendgroup": "Max Temp",
           "marker": {
            "color": "#636efa",
            "pattern": {
             "shape": ""
            }
           },
           "name": "Max Temp",
           "orientation": "v",
           "showlegend": true,
           "textposition": "auto",
           "type": "bar",
           "x": [
            "Max Temp"
           ],
           "xaxis": "x",
           "y": {
            "bdata": "AAAAAACAQEA=",
            "dtype": "f8"
           },
           "yaxis": "y"
          },
          {
           "customdata": [
            [
             "Rain: Heavy intensity"
            ]
           ],
           "hovertemplate": "Metric=%{x}<br>Date=2025-10-05 00:00:00<br>Type=Historical<br>Value=%{y}<br>Weather=%{customdata[0]}<extra></extra>",
           "ids": [
            "Min Temp"
           ],
           "legendgroup": "Min Temp",
           "marker": {
            "color": "#EF553B",
            "pattern": {
             "shape": ""
            }
           },
           "name": "Min Temp",
           "orientation": "v",
           "showlegend": true,
           "textposition": "auto",
           "type": "bar",
           "x": [
            "Min Temp"
           ],
           "xaxis": "x",
           "y": {
            "bdata": "MzMzMzMzOUA=",
            "dtype": "f8"
           },
           "yaxis": "y"
          },
          {
           "customdata": [
            [
             "Rain: Heavy intensity"
            ]
           ],
           "hovertemplate": "Metric=%{x}<br>Date=2025-10-05 00:00:00<br>Type=Historical<br>Value=%{y}<br>Weather=%{customdata[0]}<extra></extra>",
           "ids": [
            "Rainfall"
           ],
           "legendgroup": "Rainfall",
           "marker": {
            "color": "#00cc96",
            "pattern": {
             "shape": ""
            }
           },
           "name": "Rainfall",
           "orientation": "v",
           "showlegend": true,
           "textposition": "auto",
           "type": "bar",
           "x": [
            "Rainfall"
           ],
           "xaxis": "x",
           "y": {
            "bdata": "zczMzMzMKEA=",
            "dtype": "f8"
           },
           "yaxis": "y"
          },
          {
           "customdata": [
            [
             "Rain: Heavy intensity"
            ]
           ],
           "hovertemplate": "Metric=%{x}<br>Date=2025-10-05 00:00:00<br>Type=Historical<br>Value=%{y}<br>Weather=%{customdata[0]}<extra></extra>",
           "ids": [
            "Sum of Daily Rain"
           ],
           "legendgroup": "Sum of Daily Rain",
           "marker": {
            "color": "#ab63fa",
            "pattern": {
             "shape": ""
            }
           },
           "name": "Sum of Daily Rain",
           "orientation": "v",
           "showlegend": true,
           "textposition": "auto",
           "type": "bar",
           "x": [
            "Sum of Daily Rain"
           ],
           "xaxis": "x",
           "y": {
            "bdata": "zczMzMzMKEA=",
            "dtype": "f8"
           },
           "yaxis": "y"
          },
          {
           "customdata": [
            [
             "Rain: Heavy intensity"
            ]
           ],
           "hovertemplate": "Metric=%{x}<br>Date=2025-10-05 00:00:00<br>Type=Historical<br>Value=%{y}<br>Weather=%{customdata[0]}<extra></extra>",
           "ids": [
            "Hours with Rain"
           ],
           "legendgroup": "Hours with Rain",
           "marker": {
            "color": "#FFA15A",
            "pattern": {
             "shape": ""
            }
           },
           "name": "Hours with Rain",
           "orientation": "v",
           "showlegend": true,
           "textposition": "auto",
           "type": "bar",
           "x": [
            "Hours with Rain"
           ],
           "xaxis": "x",
           "y": {
            "bdata": "AAAAAAAAGEA=",
            "dtype": "f8"
           },
           "yaxis": "y"
          },
          {
           "customdata": [
            [
             "Rain: Heavy intensity"
            ]
           ],
           "hovertemplate": "Metric=%{x}<br>Date=2025-10-05 00:00:00<br>Type=Historical<br>Value=%{y}<br>Weather=%{customdata[0]}<extra></extra>",
           "ids": [
            "Wind Speed"
           ],
           "legendgroup": "Wind Speed",
           "marker": {
            "color": "#19d3f3",
            "pattern": {
             "shape": ""
            }
           },
           "name": "Wind Speed",
           "orientation": "v",
           "showlegend": true,
           "textposition": "auto",
           "type": "bar",
           "x": [
            "Wind Speed"
           ],
           "xaxis": "x",
           "y": {
            "bdata": "zczMzMzMKUA=",
            "dtype": "f8"
           },
           "yaxis": "y"
          }
         ],
         "name": "2025-10-05 00:00:00"
        },
        {
         "data": [
          {
           "customdata": [
            [
             "Rain: Moderate"
            ]
           ],
           "hovertemplate": "Metric=%{x}<br>Date=2025-10-06 00:00:00<br>Type=Historical<br>Value=%{y}<br>Weather=%{customdata[0]}<extra></extra>",
           "ids": [
            "Max Temp"
           ],
           "legendgroup": "Max Temp",
           "marker": {
            "color": "#636efa",
            "pattern": {
             "shape": ""
            }
           },
           "name": "Max Temp",
           "orientation": "v",
           "showlegend": true,
           "textposition": "auto",
           "type": "bar",
           "x": [
            "Max Temp"
           ],
           "xaxis": "x",
           "y": {
            "bdata": "mpmZmZlZQEA=",
            "dtype": "f8"
           },
           "yaxis": "y"
          },
          {
           "customdata": [
            [
             "Rain: Moderate"
            ]
           ],
           "hovertemplate": "Metric=%{x}<br>Date=2025-10-06 00:00:00<br>Type=Historical<br>Value=%{y}<br>Weather=%{customdata[0]}<extra></extra>",
           "ids": [
            "Min Temp"
           ],
           "legendgroup": "Min Temp",
           "marker": {
            "color": "#EF553B",
            "pattern": {
             "shape": ""
            }
           },
           "name": "Min Temp",
           "orientation": "v",
           "showlegend": true,
           "textposition": "auto",
           "type": "bar",
           "x": [
            "Min Temp"
           ],
           "xaxis": "x",
           "y": {
            "bdata": "MzMzMzOzOEA=",
            "dtype": "f8"
           },
           "yaxis": "y"
          },
          {
           "customdata": [
            [
             "Rain: Moderate"
            ]
           ],
           "hovertemplate": "Metric=%{x}<br>Date=2025-10-06 00:00:00<br>Type=Historical<br>Value=%{y}<br>Weather=%{customdata[0]}<extra></extra>",
           "ids": [
            "Rainfall"
           ],
           "legendgroup": "Rainfall",
           "marker": {
            "color": "#00cc96",
            "pattern": {
             "shape": ""
            }
           },
           "name": "Rainfall",
           "orientation": "v",
           "showlegend": true,
           "textposition": "auto",
           "type": "bar",
           "x": [
            "Rainfall"
           ],
           "xaxis": "x",
           "y": {
            "bdata": "ZmZmZmZmJUA=",
            "dtype": "f8"
           },
           "yaxis": "y"
          },
          {
           "customdata": [
            [
             "Rain: Moderate"
            ]
           ],
           "hovertemplate": "Metric=%{x}<br>Date=2025-10-06 00:00:00<br>Type=Historical<br>Value=%{y}<br>Weather=%{customdata[0]}<extra></extra>",
           "ids": [
            "Sum of Daily Rain"
           ],
           "legendgroup": "Sum of Daily Rain",
           "marker": {
            "color": "#ab63fa",
            "pattern": {
             "shape": ""
            }
           },
           "name": "Sum of Daily Rain",
           "orientation": "v",
           "showlegend": true,
           "textposition": "auto",
           "type": "bar",
           "x": [
            "Sum of Daily Rain"
           ],
           "xaxis": "x",
           "y": {
            "bdata": "ZmZmZmZmJUA=",
            "dtype": "f8"
           },
           "yaxis": "y"
          },
          {
           "customdata": [
            [
             "Rain: Moderate"
            ]
           ],
           "hovertemplate": "Metric=%{x}<br>Date=2025-10-06 00:00:00<br>Type=Historical<br>Value=%{y}<br>Weather=%{customdata[0]}<extra></extra>",
           "ids": [
            "Hours with Rain"
           ],
           "legendgroup": "Hours with Rain",
           "marker": {
            "color": "#FFA15A",
            "pattern": {
             "shape": ""
            }
           },
           "name": "Hours with Rain",
           "orientation": "v",
           "showlegend": true,
           "textposition": "auto",
           "type": "bar",
           "x": [
            "Hours with Rain"
           ],
           "xaxis": "x",
           "y": {
            "bdata": "AAAAAAAAEEA=",
            "dtype": "f8"
           },
           "yaxis": "y"
          },
          {
           "customdata": [
            [
             "Rain: Moderate"
            ]
           ],
           "hovertemplate": "Metric=%{x}<br>Date=2025-10-06 00:00:00<br>Type=Historical<br>Value=%{y}<br>Weather=%{customdata[0]}<extra></extra>",
           "ids": [
            "Wind Speed"
           ],
           "legendgroup": "Wind Speed",
           "marker": {
            "color": "#19d3f3",
            "pattern": {
             "shape": ""
            }
           },
           "name": "Wind Speed",
           "orientation": "v",
           "showlegend": true,
           "textposition": "auto",
           "type": "bar",
           "x": [
            "Wind Speed"
           ],
           "xaxis": "x",
           "y": {
            "bdata": "ZmZmZmZmKEA=",
            "dtype": "f8"
           },
           "yaxis": "y"
          }
         ],
         "name": "2025-10-06 00:00:00"
        },
        {
         "data": [
          {
           "customdata": [
            [
             "Rain: Moderate"
            ]
           ],
           "hovertemplate": "Metric=%{x}<br>Date=2025-10-07 00:00:00<br>Type=Historical<br>Value=%{y}<br>Weather=%{customdata[0]}<extra></extra>",
           "ids": [
            "Max Temp"
           ],
           "legendgroup": "Max Temp",
           "marker": {
            "color": "#636efa",
            "pattern": {
             "shape": ""
            }
           },
           "name": "Max Temp",
           "orientation": "v",
           "showlegend": true,
           "textposition": "auto",
           "type": "bar",
           "x": [
            "Max Temp"
           ],
           "xaxis": "x",
           "y": {
            "bdata": "ZmZmZmZmP0A=",
            "dtype": "f8"
           },
           "yaxis": "y"
          },
          {
           "customdata": [
            [
             "Rain: Moderate"
            ]
           ],
           "hovertemplate": "Metric=%{x}<br>Date=2025-10-07 00:00:00<br>Type=Historical<br>Value=%{y}<br>Weather=%{customdata[0]}<extra></extra>",
           "ids": [
            "Min Temp"
           ],
           "legendgroup": "Min Temp",
           "marker": {
            "color": "#EF553B",
            "pattern": {
             "shape": ""
            }
           },
           "name": "Min Temp",
           "orientation": "v",
           "showlegend": true,
           "textposition": "auto",
           "type": "bar",
           "x": [
            "Min Temp"
           ],
           "xaxis": "x",
           "y": {
            "bdata": "MzMzMzOzOUA=",
            "dtype": "f8"
           },
           "yaxis": "y"
          },
          {
           "customdata": [
            [
             "Rain: Moderate"
            ]
           ],
           "hovertemplate": "Metric=%{x}<br>Date=2025-10-07 00:00:00<br>Type=Historical<br>Value=%{y}<br>Weather=%{customdata[0]}<extra></extra>",
           "ids": [
            "Rainfall"
           ],
           "legendgroup": "Rainfall",
           "marker": {
            "color": "#00cc96",
            "pattern": {
             "shape": ""
            }
           },
           "name": "Rainfall",
           "orientation": "v",
           "showlegend": true,
           "textposition": "auto",
           "type": "bar",
           "x": [
            "Rainfall"
           ],
           "xaxis": "x",
           "y": {
            "bdata": "MzMzMzMzH0A=",
            "dtype": "f8"
           },
           "yaxis": "y"
          },
          {
           "customdata": [
            [
             "Rain: Moderate"
            ]
           ],
           "hovertemplate": "Metric=%{x}<br>Date=2025-10-07 00:00:00<br>Type=Historical<br>Value=%{y}<br>Weather=%{customdata[0]}<extra></extra>",
           "ids": [
            "Sum of Daily Rain"
           ],
           "legendgroup": "Sum of Daily Rain",
           "marker": {
            "color": "#ab63fa",
            "pattern": {
             "shape": ""
            }
           },
           "name": "Sum of Daily Rain",
           "orientation": "v",
           "showlegend": true,
           "textposition": "auto",
           "type": "bar",
           "x": [
            "Sum of Daily Rain"
           ],
           "xaxis": "x",
           "y": {
            "bdata": "MzMzMzMzH0A=",
            "dtype": "f8"
           },
           "yaxis": "y"
          },
          {
           "customdata": [
            [
             "Rain: Moderate"
            ]
           ],
           "hovertemplate": "Metric=%{x}<br>Date=2025-10-07 00:00:00<br>Type=Historical<br>Value=%{y}<br>Weather=%{customdata[0]}<extra></extra>",
           "ids": [
            "Hours with Rain"
           ],
           "legendgroup": "Hours with Rain",
           "marker": {
            "color": "#FFA15A",
            "pattern": {
             "shape": ""
            }
           },
           "name": "Hours with Rain",
           "orientation": "v",
           "showlegend": true,
           "textposition": "auto",
           "type": "bar",
           "x": [
            "Hours with Rain"
           ],
           "xaxis": "x",
           "y": {
            "bdata": "AAAAAAAAIEA=",
            "dtype": "f8"
           },
           "yaxis": "y"
          },
          {
           "customdata": [
            [
             "Rain: Moderate"
            ]
           ],
           "hovertemplate": "Metric=%{x}<br>Date=2025-10-07 00:00:00<br>Type=Historical<br>Value=%{y}<br>Weather=%{customdata[0]}<extra></extra>",
           "ids": [
            "Wind Speed"
           ],
           "legendgroup": "Wind Speed",
           "marker": {
            "color": "#19d3f3",
            "pattern": {
             "shape": ""
            }
           },
           "name": "Wind Speed",
           "orientation": "v",
           "showlegend": true,
           "textposition": "auto",
           "type": "bar",
           "x": [
            "Wind Speed"
           ],
           "xaxis": "x",
           "y": {
            "bdata": "MzMzMzMzIUA=",
            "dtype": "f8"
           },
           "yaxis": "y"
          }
         ],
         "name": "2025-10-07 00:00:00"
        },
        {
         "data": [
          {
           "customdata": [
            [
             "Drizzle: Dense intensity"
            ]
           ],
           "hovertemplate": "Metric=%{x}<br>Date=2025-10-08 00:00:00<br>Type=Historical<br>Value=%{y}<br>Weather=%{customdata[0]}<extra></extra>",
           "ids": [
            "Max Temp"
           ],
           "legendgroup": "Max Temp",
           "marker": {
            "color": "#636efa",
            "pattern": {
             "shape": ""
            }
           },
           "name": "Max Temp",
           "orientation": "v",
           "showlegend": true,
           "textposition": "auto",
           "type": "bar",
           "x": [
            "Max Temp"
           ],
           "xaxis": "x",
           "y": {
            "bdata": "mpmZmZmZP0A=",
            "dtype": "f8"
           },
           "yaxis": "y"
          },
          {
           "customdata": [
            [
             "Drizzle: Dense intensity"
            ]
           ],
           "hovertemplate": "Metric=%{x}<br>Date=2025-10-08 00:00:00<br>Type=Historical<br>Value=%{y}<br>Weather=%{customdata[0]}<extra></extra>",
           "ids": [
            "Min Temp"
           ],
           "legendgroup": "Min Temp",
           "marker": {
            "color": "#EF553B",
            "pattern": {
             "shape": ""
            }
           },
           "name": "Min Temp",
           "orientation": "v",
           "showlegend": true,
           "textposition": "auto",
           "type": "bar",
           "x": [
            "Min Temp"
           ],
           "xaxis": "x",
           "y": {
            "bdata": "AAAAAAAAOkA=",
            "dtype": "f8"
           },
           "yaxis": "y"
          },
          {
           "customdata": [
            [
             "Drizzle: Dense intensity"
            ]
           ],
           "hovertemplate": "Metric=%{x}<br>Date=2025-10-08 00:00:00<br>Type=Historical<br>Value=%{y}<br>Weather=%{customdata[0]}<extra></extra>",
           "ids": [
            "Rainfall"
           ],
           "legendgroup": "Rainfall",
           "marker": {
            "color": "#00cc96",
            "pattern": {
             "shape": ""
            }
           },
           "name": "Rainfall",
           "orientation": "v",
           "showlegend": true,
           "textposition": "auto",
           "type": "bar",
           "x": [
            "Rainfall"
           ],
           "xaxis": "x",
           "y": {
            "bdata": "ZmZmZmZm9j8=",
            "dtype": "f8"
           },
           "yaxis": "y"
          },
          {
           "customdata": [
            [
             "Drizzle: Dense intensity"
            ]
           ],
           "hovertemplate": "Metric=%{x}<br>Date=2025-10-08 00:00:00<br>Type=Historical<br>Value=%{y}<br>Weather=%{customdata[0]}<extra></extra>",
           "ids": [
            "Sum of Daily Rain"
           ],
           "legendgroup": "Sum of Daily Rain",
           "marker": {
            "color": "#ab63fa",
            "pattern": {
             "shape": ""
            }
           },
           "name": "Sum of Daily Rain",
           "orientation": "v",
           "showlegend": true,
           "textposition": "auto",
           "type": "bar",
           "x": [
            "Sum of Daily Rain"
           ],
           "xaxis": "x",
           "y": {
            "bdata": "ZmZmZmZm9j8=",
            "dtype": "f8"
           },
           "yaxis": "y"
          },
          {
           "customdata": [
            [
             "Drizzle: Dense intensity"
            ]
           ],
           "hovertemplate": "Metric=%{x}<br>Date=2025-10-08 00:00:00<br>Type=Historical<br>Value=%{y}<br>Weather=%{customdata[0]}<extra></extra>",
           "ids": [
            "Hours with Rain"
           ],
           "legendgroup": "Hours with Rain",
           "marker": {
            "color": "#FFA15A",
            "pattern": {
             "shape": ""
            }
           },
           "name": "Hours with Rain",
           "orientation": "v",
           "showlegend": true,
           "textposition": "auto",
           "type": "bar",
           "x": [
            "Hours with Rain"
           ],
           "xaxis": "x",
           "y": {
            "bdata": "AAAAAAAAFEA=",
            "dtype": "f8"
           },
           "yaxis": "y"
          },
          {
           "customdata": [
            [
             "Drizzle: Dense intensity"
            ]
           ],
           "hovertemplate": "Metric=%{x}<br>Date=2025-10-08 00:00:00<br>Type=Historical<br>Value=%{y}<br>Weather=%{customdata[0]}<extra></extra>",
           "ids": [
            "Wind Speed"
           ],
           "legendgroup": "Wind Speed",
           "marker": {
            "color": "#19d3f3",
            "pattern": {
             "shape": ""
            }
           },
           "name": "Wind Speed",
           "orientation": "v",
           "showlegend": true,
           "textposition": "auto",
           "type": "bar",
           "x": [
            "Wind Speed"
           ],
           "xaxis": "x",
           "y": {
            "bdata": "MzMzMzMzKEA=",
            "dtype": "f8"
           },
           "yaxis": "y"
          }
         ],
         "name": "2025-10-08 00:00:00"
        },
        {
         "data": [
          {
           "customdata": [
            [
             "Rain: Moderate"
            ]
           ],
           "hovertemplate": "Metric=%{x}<br>Date=2025-10-09 00:00:00<br>Type=Historical<br>Value=%{y}<br>Weather=%{customdata[0]}<extra></extra>",
           "ids": [
            "Max Temp"
           ],
           "legendgroup": "Max Temp",
           "marker": {
            "color": "#636efa",
            "pattern": {
             "shape": ""
            }
           },
           "name": "Max Temp",
           "orientation": "v",
           "showlegend": true,
           "textposition": "auto",
           "type": "bar",
           "x": [
            "Max Temp"
           ],
           "xaxis": "x",
           "y": {
            "bdata": "AAAAAACAP0A=",
            "dtype": "f8"
           },
           "yaxis": "y"
          },
          {
           "customdata": [
            [
             "Rain: Moderate"
            ]
           ],
           "hovertemplate": "Metric=%{x}<br>Date=2025-10-09 00:00:00<br>Type=Historical<br>Value=%{y}<br>Weather=%{customdata[0]}<extra></extra>",
           "ids": [
            "Min Temp"
           ],
           "legendgroup": "Min Temp",
           "marker": {
            "color": "#EF553B",
            "pattern": {
             "shape": ""
            }
           },
           "name": "Min Temp",
           "orientation": "v",
           "showlegend": true,
           "textposition": "auto",
           "type": "bar",
           "x": [
            "Min Temp"
           ],
           "xaxis": "x",
           "y": {
            "bdata": "mpmZmZkZOEA=",
            "dtype": "f8"
           },
           "yaxis": "y"
          },
          {
           "customdata": [
            [
             "Rain: Moderate"
            ]
           ],
           "hovertemplate": "Metric=%{x}<br>Date=2025-10-09 00:00:00<br>Type=Historical<br>Value=%{y}<br>Weather=%{customdata[0]}<extra></extra>",
           "ids": [
            "Rainfall"
           ],
           "legendgroup": "Rainfall",
           "marker": {
            "color": "#00cc96",
            "pattern": {
             "shape": ""
            }
           },
           "name": "Rainfall",
           "orientation": "v",
           "showlegend": true,
           "textposition": "auto",
           "type": "bar",
           "x": [
            "Rainfall"
           ],
           "xaxis": "x",
           "y": {
            "bdata": "mpmZmZmZJEA=",
            "dtype": "f8"
           },
           "yaxis": "y"
          },
          {
           "customdata": [
            [
             "Rain: Moderate"
            ]
           ],
           "hovertemplate": "Metric=%{x}<br>Date=2025-10-09 00:00:00<br>Type=Historical<br>Value=%{y}<br>Weather=%{customdata[0]}<extra></extra>",
           "ids": [
            "Sum of Daily Rain"
           ],
           "legendgroup": "Sum of Daily Rain",
           "marker": {
            "color": "#ab63fa",
            "pattern": {
             "shape": ""
            }
           },
           "name": "Sum of Daily Rain",
           "orientation": "v",
           "showlegend": true,
           "textposition": "auto",
           "type": "bar",
           "x": [
            "Sum of Daily Rain"
           ],
           "xaxis": "x",
           "y": {
            "bdata": "mpmZmZmZJEA=",
            "dtype": "f8"
           },
           "yaxis": "y"
          },
          {
           "customdata": [
            [
             "Rain: Moderate"
            ]
           ],
           "hovertemplate": "Metric=%{x}<br>Date=2025-10-09 00:00:00<br>Type=Historical<br>Value=%{y}<br>Weather=%{customdata[0]}<extra></extra>",
           "ids": [
            "Hours with Rain"
           ],
           "legendgroup": "Hours with Rain",
           "marker": {
            "color": "#FFA15A",
            "pattern": {
             "shape": ""
            }
           },
           "name": "Hours with Rain",
           "orientation": "v",
           "showlegend": true,
           "textposition": "auto",
           "type": "bar",
           "x": [
            "Hours with Rain"
           ],
           "xaxis": "x",
           "y": {
            "bdata": "AAAAAAAAIEA=",
            "dtype": "f8"
           },
           "yaxis": "y"
          },
          {
           "customdata": [
            [
             "Rain: Moderate"
            ]
           ],
           "hovertemplate": "Metric=%{x}<br>Date=2025-10-09 00:00:00<br>Type=Historical<br>Value=%{y}<br>Weather=%{customdata[0]}<extra></extra>",
           "ids": [
            "Wind Speed"
           ],
           "legendgroup": "Wind Speed",
           "marker": {
            "color": "#19d3f3",
            "pattern": {
             "shape": ""
            }
           },
           "name": "Wind Speed",
           "orientation": "v",
           "showlegend": true,
           "textposition": "auto",
           "type": "bar",
           "x": [
            "Wind Speed"
           ],
           "xaxis": "x",
           "y": {
            "bdata": "zczMzMzMJEA=",
            "dtype": "f8"
           },
           "yaxis": "y"
          }
         ],
         "name": "2025-10-09 00:00:00"
        },
        {
         "data": [
          {
           "customdata": [
            [
             "Drizzle: Light"
            ]
           ],
           "hovertemplate": "Metric=%{x}<br>Date=2025-10-10 00:00:00<br>Type=Historical<br>Value=%{y}<br>Weather=%{customdata[0]}<extra></extra>",
           "ids": [
            "Max Temp"
           ],
           "legendgroup": "Max Temp",
           "marker": {
            "color": "#636efa",
            "pattern": {
             "shape": ""
            }
           },
           "name": "Max Temp",
           "orientation": "v",
           "showlegend": true,
           "textposition": "auto",
           "type": "bar",
           "x": [
            "Max Temp"
           ],
           "xaxis": "x",
           "y": {
            "bdata": "ZmZmZmZmPkA=",
            "dtype": "f8"
           },
           "yaxis": "y"
          },
          {
           "customdata": [
            [
             "Drizzle: Light"
            ]
           ],
           "hovertemplate": "Metric=%{x}<br>Date=2025-10-10 00:00:00<br>Type=Historical<br>Value=%{y}<br>Weather=%{customdata[0]}<extra></extra>",
           "ids": [
            "Min Temp"
           ],
           "legendgroup": "Min Temp",
           "marker": {
            "color": "#EF553B",
            "pattern": {
             "shape": ""
            }
           },
           "name": "Min Temp",
           "orientation": "v",
           "showlegend": true,
           "textposition": "auto",
           "type": "bar",
           "x": [
            "Min Temp"
           ],
           "xaxis": "x",
           "y": {
            "bdata": "AAAAAAAAOUA=",
            "dtype": "f8"
           },
           "yaxis": "y"
          },
          {
           "customdata": [
            [
             "Drizzle: Light"
            ]
           ],
           "hovertemplate": "Metric=%{x}<br>Date=2025-10-10 00:00:00<br>Type=Historical<br>Value=%{y}<br>Weather=%{customdata[0]}<extra></extra>",
           "ids": [
            "Rainfall"
           ],
           "legendgroup": "Rainfall",
           "marker": {
            "color": "#00cc96",
            "pattern": {
             "shape": ""
            }
           },
           "name": "Rainfall",
           "orientation": "v",
           "showlegend": true,
           "textposition": "auto",
           "type": "bar",
           "x": [
            "Rainfall"
           ],
           "xaxis": "x",
           "y": {
            "bdata": "mpmZmZmZ2T8=",
            "dtype": "f8"
           },
           "yaxis": "y"
          },
          {
           "customdata": [
            [
             "Drizzle: Light"
            ]
           ],
           "hovertemplate": "Metric=%{x}<br>Date=2025-10-10 00:00:00<br>Type=Historical<br>Value=%{y}<br>Weather=%{customdata[0]}<extra></extra>",
           "ids": [
            "Sum of Daily Rain"
           ],
           "legendgroup": "Sum of Daily Rain",
           "marker": {
            "color": "#ab63fa",
            "pattern": {
             "shape": ""
            }
           },
           "name": "Sum of Daily Rain",
           "orientation": "v",
           "showlegend": true,
           "textposition": "auto",
           "type": "bar",
           "x": [
            "Sum of Daily Rain"
           ],
           "xaxis": "x",
           "y": {
            "bdata": "mpmZmZmZ2T8=",
            "dtype": "f8"
           },
           "yaxis": "y"
          },
          {
           "customdata": [
            [
             "Drizzle: Light"
            ]
           ],
           "hovertemplate": "Metric=%{x}<br>Date=2025-10-10 00:00:00<br>Type=Historical<br>Value=%{y}<br>Weather=%{customdata[0]}<extra></extra>",
           "ids": [
            "Hours with Rain"
           ],
           "legendgroup": "Hours with Rain",
           "marker": {
            "color": "#FFA15A",
            "pattern": {
             "shape": ""
            }
           },
           "name": "Hours with Rain",
           "orientation": "v",
           "showlegend": true,
           "textposition": "auto",
           "type": "bar",
           "x": [
            "Hours with Rain"
           ],
           "xaxis": "x",
           "y": {
            "bdata": "AAAAAAAACEA=",
            "dtype": "f8"
           },
           "yaxis": "y"
          },
          {
           "customdata": [
            [
             "Drizzle: Light"
            ]
           ],
           "hovertemplate": "Metric=%{x}<br>Date=2025-10-10 00:00:00<br>Type=Historical<br>Value=%{y}<br>Weather=%{customdata[0]}<extra></extra>",
           "ids": [
            "Wind Speed"
           ],
           "legendgroup": "Wind Speed",
           "marker": {
            "color": "#19d3f3",
            "pattern": {
             "shape": ""
            }
           },
           "name": "Wind Speed",
           "orientation": "v",
           "showlegend": true,
           "textposition": "auto",
           "type": "bar",
           "x": [
            "Wind Speed"
           ],
           "xaxis": "x",
           "y": {
            "bdata": "AAAAAAAAJ0A=",
            "dtype": "f8"
           },
           "yaxis": "y"
          }
         ],
         "name": "2025-10-10 00:00:00"
        },
        {
         "data": [
          {
           "customdata": [
            [
             "Rain: Slight"
            ]
           ],
           "hovertemplate": "Metric=%{x}<br>Date=2025-10-11 00:00:00<br>Type=Historical<br>Value=%{y}<br>Weather=%{customdata[0]}<extra></extra>",
           "ids": [
            "Max Temp"
           ],
           "legendgroup": "Max Temp",
           "marker": {
            "color": "#636efa",
            "pattern": {
             "shape": ""
            }
           },
           "name": "Max Temp",
           "orientation": "v",
           "showlegend": true,
           "textposition": "auto",
           "type": "bar",
           "x": [
            "Max Temp"
           ],
           "xaxis": "x",
           "y": {
            "bdata": "mpmZmZkZP0A=",
            "dtype": "f8"
           },
           "yaxis": "y"
          },
          {
           "customdata": [
            [
             "Rain: Slight"
            ]
           ],
           "hovertemplate": "Metric=%{x}<br>Date=2025-10-11 00:00:00<br>Type=Historical<br>Value=%{y}<br>Weather=%{customdata[0]}<extra></extra>",
           "ids": [
            "Min Temp"
           ],
           "legendgroup": "Min Temp",
           "marker": {
            "color": "#EF553B",
            "pattern": {
             "shape": ""
            }
           },
           "name": "Min Temp",
           "orientation": "v",
           "showlegend": true,
           "textposition": "auto",
           "type": "bar",
           "x": [
            "Min Temp"
           ],
           "xaxis": "x",
           "y": {
            "bdata": "AAAAAACAOUA=",
            "dtype": "f8"
           },
           "yaxis": "y"
          },
          {
           "customdata": [
            [
             "Rain: Slight"
            ]
           ],
           "hovertemplate": "Metric=%{x}<br>Date=2025-10-11 00:00:00<br>Type=Historical<br>Value=%{y}<br>Weather=%{customdata[0]}<extra></extra>",
           "ids": [
            "Rainfall"
           ],
           "legendgroup": "Rainfall",
           "marker": {
            "color": "#00cc96",
            "pattern": {
             "shape": ""
            }
           },
           "name": "Rainfall",
           "orientation": "v",
           "showlegend": true,
           "textposition": "auto",
           "type": "bar",
           "x": [
            "Rainfall"
           ],
           "xaxis": "x",
           "y": {
            "bdata": "zczMzMzMBEA=",
            "dtype": "f8"
           },
           "yaxis": "y"
          },
          {
           "customdata": [
            [
             "Rain: Slight"
            ]
           ],
           "hovertemplate": "Metric=%{x}<br>Date=2025-10-11 00:00:00<br>Type=Historical<br>Value=%{y}<br>Weather=%{customdata[0]}<extra></extra>",
           "ids": [
            "Sum of Daily Rain"
           ],
           "legendgroup": "Sum of Daily Rain",
           "marker": {
            "color": "#ab63fa",
            "pattern": {
             "shape": ""
            }
           },
           "name": "Sum of Daily Rain",
           "orientation": "v",
           "showlegend": true,
           "textposition": "auto",
           "type": "bar",
           "x": [
            "Sum of Daily Rain"
           ],
           "xaxis": "x",
           "y": {
            "bdata": "zczMzMzMBEA=",
            "dtype": "f8"
           },
           "yaxis": "y"
          },
          {
           "customdata": [
            [
             "Rain: Slight"
            ]
           ],
           "hovertemplate": "Metric=%{x}<br>Date=2025-10-11 00:00:00<br>Type=Historical<br>Value=%{y}<br>Weather=%{customdata[0]}<extra></extra>",
           "ids": [
            "Hours with Rain"
           ],
           "legendgroup": "Hours with Rain",
           "marker": {
            "color": "#FFA15A",
            "pattern": {
             "shape": ""
            }
           },
           "name": "Hours with Rain",
           "orientation": "v",
           "showlegend": true,
           "textposition": "auto",
           "type": "bar",
           "x": [
            "Hours with Rain"
           ],
           "xaxis": "x",
           "y": {
            "bdata": "AAAAAAAAGEA=",
            "dtype": "f8"
           },
           "yaxis": "y"
          },
          {
           "customdata": [
            [
             "Rain: Slight"
            ]
           ],
           "hovertemplate": "Metric=%{x}<br>Date=2025-10-11 00:00:00<br>Type=Historical<br>Value=%{y}<br>Weather=%{customdata[0]}<extra></extra>",
           "ids": [
            "Wind Speed"
           ],
           "legendgroup": "Wind Speed",
           "marker": {
            "color": "#19d3f3",
            "pattern": {
             "shape": ""
            }
           },
           "name": "Wind Speed",
           "orientation": "v",
           "showlegend": true,
           "textposition": "auto",
           "type": "bar",
           "x": [
            "Wind Speed"
           ],
           "xaxis": "x",
           "y": {
            "bdata": "zczMzMzMLEA=",
            "dtype": "f8"
           },
           "yaxis": "y"
          }
         ],
         "name": "2025-10-11 00:00:00"
        },
        {
         "data": [
          {
           "customdata": [
            [
             "Drizzle: Moderate"
            ]
           ],
           "hovertemplate": "Metric=%{x}<br>Date=2025-10-12 00:00:00<br>Type=Historical<br>Value=%{y}<br>Weather=%{customdata[0]}<extra></extra>",
           "ids": [
            "Max Temp"
           ],
           "legendgroup": "Max Temp",
           "marker": {
            "color": "#636efa",
            "pattern": {
             "shape": ""
            }
           },
           "name": "Max Temp",
           "orientation": "v",
           "showlegend": true,
           "textposition": "auto",
           "type": "bar",
           "x": [
            "Max Temp"
           ],
           "xaxis": "x",
           "y": {
            "bdata": "MzMzMzOzPkA=",
            "dtype": "f8"
           },
           "yaxis": "y"
          },
          {
           "customdata": [
            [
             "Drizzle: Moderate"
            ]
           ],
           "hovertemplate": "Metric=%{x}<br>Date=2025-10-12 00:00:00<br>Type=Historical<br>Value=%{y}<br>Weather=%{customdata[0]}<extra></extra>",
           "ids": [
            "Min Temp"
           ],
           "legendgroup": "Min Temp",
           "marker": {
            "color": "#EF553B",
            "pattern": {
             "shape": ""
            }
           },
           "name": "Min Temp",
           "orientation": "v",
           "showlegend": true,
           "textposition": "auto",
           "type": "bar",
           "x": [
            "Min Temp"
           ],
           "xaxis": "x",
           "y": {
            "bdata": "ZmZmZmZmOUA=",
            "dtype": "f8"
           },
           "yaxis": "y"
          },
          {
           "customdata": [
            [
             "Drizzle: Moderate"
            ]
           ],
           "hovertemplate": "Metric=%{x}<br>Date=2025-10-12 00:00:00<br>Type=Historical<br>Value=%{y}<br>Weather=%{customdata[0]}<extra></extra>",
           "ids": [
            "Rainfall"
           ],
           "legendgroup": "Rainfall",
           "marker": {
            "color": "#00cc96",
            "pattern": {
             "shape": ""
            }
           },
           "name": "Rainfall",
           "orientation": "v",
           "showlegend": true,
           "textposition": "auto",
           "type": "bar",
           "x": [
            "Rainfall"
           ],
           "xaxis": "x",
           "y": {
            "bdata": "zczMzMzM/D8=",
            "dtype": "f8"
           },
           "yaxis": "y"
          },
          {
           "customdata": [
            [
             "Drizzle: Moderate"
            ]
           ],
           "hovertemplate": "Metric=%{x}<br>Date=2025-10-12 00:00:00<br>Type=Historical<br>Value=%{y}<br>Weather=%{customdata[0]}<extra></extra>",
           "ids": [
            "Sum of Daily Rain"
           ],
           "legendgroup": "Sum of Daily Rain",
           "marker": {
            "color": "#ab63fa",
            "pattern": {
             "shape": ""
            }
           },
           "name": "Sum of Daily Rain",
           "orientation": "v",
           "showlegend": true,
           "textposition": "auto",
           "type": "bar",
           "x": [
            "Sum of Daily Rain"
           ],
           "xaxis": "x",
           "y": {
            "bdata": "zczMzMzM/D8=",
            "dtype": "f8"
           },
           "yaxis": "y"
          },
          {
           "customdata": [
            [
             "Drizzle: Moderate"
            ]
           ],
           "hovertemplate": "Metric=%{x}<br>Date=2025-10-12 00:00:00<br>Type=Historical<br>Value=%{y}<br>Weather=%{customdata[0]}<extra></extra>",
           "ids": [
            "Hours with Rain"
           ],
           "legendgroup": "Hours with Rain",
           "marker": {
            "color": "#FFA15A",
            "pattern": {
             "shape": ""
            }
           },
           "name": "Hours with Rain",
           "orientation": "v",
           "showlegend": true,
           "textposition": "auto",
           "type": "bar",
           "x": [
            "Hours with Rain"
           ],
           "xaxis": "x",
           "y": {
            "bdata": "AAAAAAAAIkA=",
            "dtype": "f8"
           },
           "yaxis": "y"
          },
          {
           "customdata": [
            [
             "Drizzle: Moderate"
            ]
           ],
           "hovertemplate": "Metric=%{x}<br>Date=2025-10-12 00:00:00<br>Type=Historical<br>Value=%{y}<br>Weather=%{customdata[0]}<extra></extra>",
           "ids": [
            "Wind Speed"
           ],
           "legendgroup": "Wind Speed",
           "marker": {
            "color": "#19d3f3",
            "pattern": {
             "shape": ""
            }
           },
           "name": "Wind Speed",
           "orientation": "v",
           "showlegend": true,
           "textposition": "auto",
           "type": "bar",
           "x": [
            "Wind Speed"
           ],
           "xaxis": "x",
           "y": {
            "bdata": "ZmZmZmZmJkA=",
            "dtype": "f8"
           },
           "yaxis": "y"
          }
         ],
         "name": "2025-10-12 00:00:00"
        },
        {
         "data": [
          {
           "customdata": [
            [
             "Rain: Moderate"
            ]
           ],
           "hovertemplate": "Metric=%{x}<br>Date=2025-10-13 00:00:00<br>Type=Historical<br>Value=%{y}<br>Weather=%{customdata[0]}<extra></extra>",
           "ids": [
            "Max Temp"
           ],
           "legendgroup": "Max Temp",
           "marker": {
            "color": "#636efa",
            "pattern": {
             "shape": ""
            }
           },
           "name": "Max Temp",
           "orientation": "v",
           "showlegend": true,
           "textposition": "auto",
           "type": "bar",
           "x": [
            "Max Temp"
           ],
           "xaxis": "x",
           "y": {
            "bdata": "MzMzMzOzP0A=",
            "dtype": "f8"
           },
           "yaxis": "y"
          },
          {
           "customdata": [
            [
             "Rain: Moderate"
            ]
           ],
           "hovertemplate": "Metric=%{x}<br>Date=2025-10-13 00:00:00<br>Type=Historical<br>Value=%{y}<br>Weather=%{customdata[0]}<extra></extra>",
           "ids": [
            "Min Temp"
           ],
           "legendgroup": "Min Temp",
           "marker": {
            "color": "#EF553B",
            "pattern": {
             "shape": ""
            }
           },
           "name": "Min Temp",
           "orientation": "v",
           "showlegend": true,
           "textposition": "auto",
           "type": "bar",
           "x": [
            "Min Temp"
           ],
           "xaxis": "x",
           "y": {
            "bdata": "AAAAAACAOUA=",
            "dtype": "f8"
           },
           "yaxis": "y"
          },
          {
           "customdata": [
            [
             "Rain: Moderate"
            ]
           ],
           "hovertemplate": "Metric=%{x}<br>Date=2025-10-13 00:00:00<br>Type=Historical<br>Value=%{y}<br>Weather=%{customdata[0]}<extra></extra>",
           "ids": [
            "Rainfall"
           ],
           "legendgroup": "Rainfall",
           "marker": {
            "color": "#00cc96",
            "pattern": {
             "shape": ""
            }
           },
           "name": "Rainfall",
           "orientation": "v",
           "showlegend": true,
           "textposition": "auto",
           "type": "bar",
           "x": [
            "Rainfall"
           ],
           "xaxis": "x",
           "y": {
            "bdata": "ZmZmZmZmJEA=",
            "dtype": "f8"
           },
           "yaxis": "y"
          },
          {
           "customdata": [
            [
             "Rain: Moderate"
            ]
           ],
           "hovertemplate": "Metric=%{x}<br>Date=2025-10-13 00:00:00<br>Type=Historical<br>Value=%{y}<br>Weather=%{customdata[0]}<extra></extra>",
           "ids": [
            "Sum of Daily Rain"
           ],
           "legendgroup": "Sum of Daily Rain",
           "marker": {
            "color": "#ab63fa",
            "pattern": {
             "shape": ""
            }
           },
           "name": "Sum of Daily Rain",
           "orientation": "v",
           "showlegend": true,
           "textposition": "auto",
           "type": "bar",
           "x": [
            "Sum of Daily Rain"
           ],
           "xaxis": "x",
           "y": {
            "bdata": "ZmZmZmZmJEA=",
            "dtype": "f8"
           },
           "yaxis": "y"
          },
          {
           "customdata": [
            [
             "Rain: Moderate"
            ]
           ],
           "hovertemplate": "Metric=%{x}<br>Date=2025-10-13 00:00:00<br>Type=Historical<br>Value=%{y}<br>Weather=%{customdata[0]}<extra></extra>",
           "ids": [
            "Hours with Rain"
           ],
           "legendgroup": "Hours with Rain",
           "marker": {
            "color": "#FFA15A",
            "pattern": {
             "shape": ""
            }
           },
           "name": "Hours with Rain",
           "orientation": "v",
           "showlegend": true,
           "textposition": "auto",
           "type": "bar",
           "x": [
            "Hours with Rain"
           ],
           "xaxis": "x",
           "y": {
            "bdata": "AAAAAAAALEA=",
            "dtype": "f8"
           },
           "yaxis": "y"
          },
          {
           "customdata": [
            [
             "Rain: Moderate"
            ]
           ],
           "hovertemplate": "Metric=%{x}<br>Date=2025-10-13 00:00:00<br>Type=Historical<br>Value=%{y}<br>Weather=%{customdata[0]}<extra></extra>",
           "ids": [
            "Wind Speed"
           ],
           "legendgroup": "Wind Speed",
           "marker": {
            "color": "#19d3f3",
            "pattern": {
             "shape": ""
            }
           },
           "name": "Wind Speed",
           "orientation": "v",
           "showlegend": true,
           "textposition": "auto",
           "type": "bar",
           "x": [
            "Wind Speed"
           ],
           "xaxis": "x",
           "y": {
            "bdata": "zczMzMzMKUA=",
            "dtype": "f8"
           },
           "yaxis": "y"
          }
         ],
         "name": "2025-10-13 00:00:00"
        },
        {
         "data": [
          {
           "customdata": [
            [
             "Rain: Moderate"
            ]
           ],
           "hovertemplate": "Metric=%{x}<br>Date=2025-10-14 00:00:00<br>Type=Historical<br>Value=%{y}<br>Weather=%{customdata[0]}<extra></extra>",
           "ids": [
            "Max Temp"
           ],
           "legendgroup": "Max Temp",
           "marker": {
            "color": "#636efa",
            "pattern": {
             "shape": ""
            }
           },
           "name": "Max Temp",
           "orientation": "v",
           "showlegend": true,
           "textposition": "auto",
           "type": "bar",
           "x": [
            "Max Temp"
           ],
           "xaxis": "x",
           "y": {
            "bdata": "zczMzMzMPkA=",
            "dtype": "f8"
           },
           "yaxis": "y"
          },
          {
           "customdata": [
            [
             "Rain: Moderate"
            ]
           ],
           "hovertemplate": "Metric=%{x}<br>Date=2025-10-14 00:00:00<br>Type=Historical<br>Value=%{y}<br>Weather=%{customdata[0]}<extra></extra>",
           "ids": [
            "Min Temp"
           ],
           "legendgroup": "Min Temp",
           "marker": {
            "color": "#EF553B",
            "pattern": {
             "shape": ""
            }
           },
           "name": "Min Temp",
           "orientation": "v",
           "showlegend": true,
           "textposition": "auto",
           "type": "bar",
           "x": [
            "Min Temp"
           ],
           "xaxis": "x",
           "y": {
            "bdata": "mpmZmZkZOUA=",
            "dtype": "f8"
           },
           "yaxis": "y"
          },
          {
           "customdata": [
            [
             "Rain: Moderate"
            ]
           ],
           "hovertemplate": "Metric=%{x}<br>Date=2025-10-14 00:00:00<br>Type=Historical<br>Value=%{y}<br>Weather=%{customdata[0]}<extra></extra>",
           "ids": [
            "Rainfall"
           ],
           "legendgroup": "Rainfall",
           "marker": {
            "color": "#00cc96",
            "pattern": {
             "shape": ""
            }
           },
           "name": "Rainfall",
           "orientation": "v",
           "showlegend": true,
           "textposition": "auto",
           "type": "bar",
           "x": [
            "Rainfall"
           ],
           "xaxis": "x",
           "y": {
            "bdata": "zczMzMzMI0A=",
            "dtype": "f8"
           },
           "yaxis": "y"
          },
          {
           "customdata": [
            [
             "Rain: Moderate"
            ]
           ],
           "hovertemplate": "Metric=%{x}<br>Date=2025-10-14 00:00:00<br>Type=Historical<br>Value=%{y}<br>Weather=%{customdata[0]}<extra></extra>",
           "ids": [
            "Sum of Daily Rain"
           ],
           "legendgroup": "Sum of Daily Rain",
           "marker": {
            "color": "#ab63fa",
            "pattern": {
             "shape": ""
            }
           },
           "name": "Sum of Daily Rain",
           "orientation": "v",
           "showlegend": true,
           "textposition": "auto",
           "type": "bar",
           "x": [
            "Sum of Daily Rain"
           ],
           "xaxis": "x",
           "y": {
            "bdata": "zczMzMzMI0A=",
            "dtype": "f8"
           },
           "yaxis": "y"
          },
          {
           "customdata": [
            [
             "Rain: Moderate"
            ]
           ],
           "hovertemplate": "Metric=%{x}<br>Date=2025-10-14 00:00:00<br>Type=Historical<br>Value=%{y}<br>Weather=%{customdata[0]}<extra></extra>",
           "ids": [
            "Hours with Rain"
           ],
           "legendgroup": "Hours with Rain",
           "marker": {
            "color": "#FFA15A",
            "pattern": {
             "shape": ""
            }
           },
           "name": "Hours with Rain",
           "orientation": "v",
           "showlegend": true,
           "textposition": "auto",
           "type": "bar",
           "x": [
            "Hours with Rain"
           ],
           "xaxis": "x",
           "y": {
            "bdata": "AAAAAAAAJEA=",
            "dtype": "f8"
           },
           "yaxis": "y"
          },
          {
           "customdata": [
            [
             "Rain: Moderate"
            ]
           ],
           "hovertemplate": "Metric=%{x}<br>Date=2025-10-14 00:00:00<br>Type=Historical<br>Value=%{y}<br>Weather=%{customdata[0]}<extra></extra>",
           "ids": [
            "Wind Speed"
           ],
           "legendgroup": "Wind Speed",
           "marker": {
            "color": "#19d3f3",
            "pattern": {
             "shape": ""
            }
           },
           "name": "Wind Speed",
           "orientation": "v",
           "showlegend": true,
           "textposition": "auto",
           "type": "bar",
           "x": [
            "Wind Speed"
           ],
           "xaxis": "x",
           "y": {
            "bdata": "ZmZmZmZmKUA=",
            "dtype": "f8"
           },
           "yaxis": "y"
          }
         ],
         "name": "2025-10-14 00:00:00"
        },
        {
         "data": [
          {
           "customdata": [
            [
             "Rain: Moderate"
            ]
           ],
           "hovertemplate": "Metric=%{x}<br>Date=2025-10-15 00:00:00<br>Type=Historical<br>Value=%{y}<br>Weather=%{customdata[0]}<extra></extra>",
           "ids": [
            "Max Temp"
           ],
           "legendgroup": "Max Temp",
           "marker": {
            "color": "#636efa",
            "pattern": {
             "shape": ""
            }
           },
           "name": "Max Temp",
           "orientation": "v",
           "showlegend": true,
           "textposition": "auto",
           "type": "bar",
           "x": [
            "Max Temp"
           ],
           "xaxis": "x",
           "y": {
            "bdata": "mpmZmZkZPEA=",
            "dtype": "f8"
           },
           "yaxis": "y"
          },
          {
           "customdata": [
            [
             "Rain: Moderate"
            ]
           ],
           "hovertemplate": "Metric=%{x}<br>Date=2025-10-15 00:00:00<br>Type=Historical<br>Value=%{y}<br>Weather=%{customdata[0]}<extra></extra>",
           "ids": [
            "Min Temp"
           ],
           "legendgroup": "Min Temp",
           "marker": {
            "color": "#EF553B",
            "pattern": {
             "shape": ""
            }
           },
           "name": "Min Temp",
           "orientation": "v",
           "showlegend": true,
           "textposition": "auto",
           "type": "bar",
           "x": [
            "Min Temp"
           ],
           "xaxis": "x",
           "y": {
            "bdata": "AAAAAACAOEA=",
            "dtype": "f8"
           },
           "yaxis": "y"
          },
          {
           "customdata": [
            [
             "Rain: Moderate"
            ]
           ],
           "hovertemplate": "Metric=%{x}<br>Date=2025-10-15 00:00:00<br>Type=Historical<br>Value=%{y}<br>Weather=%{customdata[0]}<extra></extra>",
           "ids": [
            "Rainfall"
           ],
           "legendgroup": "Rainfall",
           "marker": {
            "color": "#00cc96",
            "pattern": {
             "shape": ""
            }
           },
           "name": "Rainfall",
           "orientation": "v",
           "showlegend": true,
           "textposition": "auto",
           "type": "bar",
           "x": [
            "Rainfall"
           ],
           "xaxis": "x",
           "y": {
            "bdata": "ZmZmZmamQUA=",
            "dtype": "f8"
           },
           "yaxis": "y"
          },
          {
           "customdata": [
            [
             "Rain: Moderate"
            ]
           ],
           "hovertemplate": "Metric=%{x}<br>Date=2025-10-15 00:00:00<br>Type=Historical<br>Value=%{y}<br>Weather=%{customdata[0]}<extra></extra>",
           "ids": [
            "Sum of Daily Rain"
           ],
           "legendgroup": "Sum of Daily Rain",
           "marker": {
            "color": "#ab63fa",
            "pattern": {
             "shape": ""
            }
           },
           "name": "Sum of Daily Rain",
           "orientation": "v",
           "showlegend": true,
           "textposition": "auto",
           "type": "bar",
           "x": [
            "Sum of Daily Rain"
           ],
           "xaxis": "x",
           "y": {
            "bdata": "ZmZmZmamQUA=",
            "dtype": "f8"
           },
           "yaxis": "y"
          },
          {
           "customdata": [
            [
             "Rain: Moderate"
            ]
           ],
           "hovertemplate": "Metric=%{x}<br>Date=2025-10-15 00:00:00<br>Type=Historical<br>Value=%{y}<br>Weather=%{customdata[0]}<extra></extra>",
           "ids": [
            "Hours with Rain"
           ],
           "legendgroup": "Hours with Rain",
           "marker": {
            "color": "#FFA15A",
            "pattern": {
             "shape": ""
            }
           },
           "name": "Hours with Rain",
           "orientation": "v",
           "showlegend": true,
           "textposition": "auto",
           "type": "bar",
           "x": [
            "Hours with Rain"
           ],
           "xaxis": "x",
           "y": {
            "bdata": "AAAAAAAANUA=",
            "dtype": "f8"
           },
           "yaxis": "y"
          },
          {
           "customdata": [
            [
             "Rain: Moderate"
            ]
           ],
           "hovertemplate": "Metric=%{x}<br>Date=2025-10-15 00:00:00<br>Type=Historical<br>Value=%{y}<br>Weather=%{customdata[0]}<extra></extra>",
           "ids": [
            "Wind Speed"
           ],
           "legendgroup": "Wind Speed",
           "marker": {
            "color": "#19d3f3",
            "pattern": {
             "shape": ""
            }
           },
           "name": "Wind Speed",
           "orientation": "v",
           "showlegend": true,
           "textposition": "auto",
           "type": "bar",
           "x": [
            "Wind Speed"
           ],
           "xaxis": "x",
           "y": {
            "bdata": "AAAAAAAAMkA=",
            "dtype": "f8"
           },
           "yaxis": "y"
          }
         ],
         "name": "2025-10-15 00:00:00"
        },
        {
         "data": [
          {
           "customdata": [
            [
             "Rain: Moderate"
            ]
           ],
           "hovertemplate": "Metric=%{x}<br>Date=2025-10-16 00:00:00<br>Type=Historical<br>Value=%{y}<br>Weather=%{customdata[0]}<extra></extra>",
           "ids": [
            "Max Temp"
           ],
           "legendgroup": "Max Temp",
           "marker": {
            "color": "#636efa",
            "pattern": {
             "shape": ""
            }
           },
           "name": "Max Temp",
           "orientation": "v",
           "showlegend": true,
           "textposition": "auto",
           "type": "bar",
           "x": [
            "Max Temp"
           ],
           "xaxis": "x",
           "y": {
            "bdata": "mpmZmZkZPUA=",
            "dtype": "f8"
           },
           "yaxis": "y"
          },
          {
           "customdata": [
            [
             "Rain: Moderate"
            ]
           ],
           "hovertemplate": "Metric=%{x}<br>Date=2025-10-16 00:00:00<br>Type=Historical<br>Value=%{y}<br>Weather=%{customdata[0]}<extra></extra>",
           "ids": [
            "Min Temp"
           ],
           "legendgroup": "Min Temp",
           "marker": {
            "color": "#EF553B",
            "pattern": {
             "shape": ""
            }
           },
           "name": "Min Temp",
           "orientation": "v",
           "showlegend": true,
           "textposition": "auto",
           "type": "bar",
           "x": [
            "Min Temp"
           ],
           "xaxis": "x",
           "y": {
            "bdata": "MzMzMzMzOEA=",
            "dtype": "f8"
           },
           "yaxis": "y"
          },
          {
           "customdata": [
            [
             "Rain: Moderate"
            ]
           ],
           "hovertemplate": "Metric=%{x}<br>Date=2025-10-16 00:00:00<br>Type=Historical<br>Value=%{y}<br>Weather=%{customdata[0]}<extra></extra>",
           "ids": [
            "Rainfall"
           ],
           "legendgroup": "Rainfall",
           "marker": {
            "color": "#00cc96",
            "pattern": {
             "shape": ""
            }
           },
           "name": "Rainfall",
           "orientation": "v",
           "showlegend": true,
           "textposition": "auto",
           "type": "bar",
           "x": [
            "Rainfall"
           ],
           "xaxis": "x",
           "y": {
            "bdata": "MzMzMzOzNEA=",
            "dtype": "f8"
           },
           "yaxis": "y"
          },
          {
           "customdata": [
            [
             "Rain: Moderate"
            ]
           ],
           "hovertemplate": "Metric=%{x}<br>Date=2025-10-16 00:00:00<br>Type=Historical<br>Value=%{y}<br>Weather=%{customdata[0]}<extra></extra>",
           "ids": [
            "Sum of Daily Rain"
           ],
           "legendgroup": "Sum of Daily Rain",
           "marker": {
            "color": "#ab63fa",
            "pattern": {
             "shape": ""
            }
           },
           "name": "Sum of Daily Rain",
           "orientation": "v",
           "showlegend": true,
           "textposition": "auto",
           "type": "bar",
           "x": [
            "Sum of Daily Rain"
           ],
           "xaxis": "x",
           "y": {
            "bdata": "MzMzMzOzNEA=",
            "dtype": "f8"
           },
           "yaxis": "y"
          },
          {
           "customdata": [
            [
             "Rain: Moderate"
            ]
           ],
           "hovertemplate": "Metric=%{x}<br>Date=2025-10-16 00:00:00<br>Type=Historical<br>Value=%{y}<br>Weather=%{customdata[0]}<extra></extra>",
           "ids": [
            "Hours with Rain"
           ],
           "legendgroup": "Hours with Rain",
           "marker": {
            "color": "#FFA15A",
            "pattern": {
             "shape": ""
            }
           },
           "name": "Hours with Rain",
           "orientation": "v",
           "showlegend": true,
           "textposition": "auto",
           "type": "bar",
           "x": [
            "Hours with Rain"
           ],
           "xaxis": "x",
           "y": {
            "bdata": "AAAAAAAAN0A=",
            "dtype": "f8"
           },
           "yaxis": "y"
          },
          {
           "customdata": [
            [
             "Rain: Moderate"
            ]
           ],
           "hovertemplate": "Metric=%{x}<br>Date=2025-10-16 00:00:00<br>Type=Historical<br>Value=%{y}<br>Weather=%{customdata[0]}<extra></extra>",
           "ids": [
            "Wind Speed"
           ],
           "legendgroup": "Wind Speed",
           "marker": {
            "color": "#19d3f3",
            "pattern": {
             "shape": ""
            }
           },
           "name": "Wind Speed",
           "orientation": "v",
           "showlegend": true,
           "textposition": "auto",
           "type": "bar",
           "x": [
            "Wind Speed"
           ],
           "xaxis": "x",
           "y": {
            "bdata": "ZmZmZmZmLUA=",
            "dtype": "f8"
           },
           "yaxis": "y"
          }
         ],
         "name": "2025-10-16 00:00:00"
        },
        {
         "data": [
          {
           "customdata": [
            [
             "Rain: Moderate"
            ]
           ],
           "hovertemplate": "Metric=%{x}<br>Date=2025-10-17 00:00:00<br>Type=Historical<br>Value=%{y}<br>Weather=%{customdata[0]}<extra></extra>",
           "ids": [
            "Max Temp"
           ],
           "legendgroup": "Max Temp",
           "marker": {
            "color": "#636efa",
            "pattern": {
             "shape": ""
            }
           },
           "name": "Max Temp",
           "orientation": "v",
           "showlegend": true,
           "textposition": "auto",
           "type": "bar",
           "x": [
            "Max Temp"
           ],
           "xaxis": "x",
           "y": {
            "bdata": "MzMzMzMzPEA=",
            "dtype": "f8"
           },
           "yaxis": "y"
          },
          {
           "customdata": [
            [
             "Rain: Moderate"
            ]
           ],
           "hovertemplate": "Metric=%{x}<br>Date=2025-10-17 00:00:00<br>Type=Historical<br>Value=%{y}<br>Weather=%{customdata[0]}<extra></extra>",
           "ids": [
            "Min Temp"
           ],
           "legendgroup": "Min Temp",
           "marker": {
            "color": "#EF553B",
            "pattern": {
             "shape": ""
            }
           },
           "name": "Min Temp",
           "orientation": "v",
           "showlegend": true,
           "textposition": "auto",
           "type": "bar",
           "x": [
            "Min Temp"
           ],
           "xaxis": "x",
           "y": {
            "bdata": "zczMzMzMOEA=",
            "dtype": "f8"
           },
           "yaxis": "y"
          },
          {
           "customdata": [
            [
             "Rain: Moderate"
            ]
           ],
           "hovertemplate": "Metric=%{x}<br>Date=2025-10-17 00:00:00<br>Type=Historical<br>Value=%{y}<br>Weather=%{customdata[0]}<extra></extra>",
           "ids": [
            "Rainfall"
           ],
           "legendgroup": "Rainfall",
           "marker": {
            "color": "#00cc96",
            "pattern": {
             "shape": ""
            }
           },
           "name": "Rainfall",
           "orientation": "v",
           "showlegend": true,
           "textposition": "auto",
           "type": "bar",
           "x": [
            "Rainfall"
           ],
           "xaxis": "x",
           "y": {
            "bdata": "ZmZmZmZmK0A=",
            "dtype": "f8"
           },
           "yaxis": "y"
          },
          {
           "customdata": [
            [
             "Rain: Moderate"
            ]
           ],
           "hovertemplate": "Metric=%{x}<br>Date=2025-10-17 00:00:00<br>Type=Historical<br>Value=%{y}<br>Weather=%{customdata[0]}<extra></extra>",
           "ids": [
            "Sum of Daily Rain"
           ],
           "legendgroup": "Sum of Daily Rain",
           "marker": {
            "color": "#ab63fa",
            "pattern": {
             "shape": ""
            }
           },
           "name": "Sum of Daily Rain",
           "orientation": "v",
           "showlegend": true,
           "textposition": "auto",
           "type": "bar",
           "x": [
            "Sum of Daily Rain"
           ],
           "xaxis": "x",
           "y": {
            "bdata": "ZmZmZmZmK0A=",
            "dtype": "f8"
           },
           "yaxis": "y"
          },
          {
           "customdata": [
            [
             "Rain: Moderate"
            ]
           ],
           "hovertemplate": "Metric=%{x}<br>Date=2025-10-17 00:00:00<br>Type=Historical<br>Value=%{y}<br>Weather=%{customdata[0]}<extra></extra>",
           "ids": [
            "Hours with Rain"
           ],
           "legendgroup": "Hours with Rain",
           "marker": {
            "color": "#FFA15A",
            "pattern": {
             "shape": ""
            }
           },
           "name": "Hours with Rain",
           "orientation": "v",
           "showlegend": true,
           "textposition": "auto",
           "type": "bar",
           "x": [
            "Hours with Rain"
           ],
           "xaxis": "x",
           "y": {
            "bdata": "AAAAAAAAN0A=",
            "dtype": "f8"
           },
           "yaxis": "y"
          },
          {
           "customdata": [
            [
             "Rain: Moderate"
            ]
           ],
           "hovertemplate": "Metric=%{x}<br>Date=2025-10-17 00:00:00<br>Type=Historical<br>Value=%{y}<br>Weather=%{customdata[0]}<extra></extra>",
           "ids": [
            "Wind Speed"
           ],
           "legendgroup": "Wind Speed",
           "marker": {
            "color": "#19d3f3",
            "pattern": {
             "shape": ""
            }
           },
           "name": "Wind Speed",
           "orientation": "v",
           "showlegend": true,
           "textposition": "auto",
           "type": "bar",
           "x": [
            "Wind Speed"
           ],
           "xaxis": "x",
           "y": {
            "bdata": "AAAAAAAAK0A=",
            "dtype": "f8"
           },
           "yaxis": "y"
          }
         ],
         "name": "2025-10-17 00:00:00"
        },
        {
         "data": [
          {
           "customdata": [
            [
             "Rain: Heavy intensity"
            ]
           ],
           "hovertemplate": "Metric=%{x}<br>Date=2025-10-18 00:00:00<br>Type=Historical<br>Value=%{y}<br>Weather=%{customdata[0]}<extra></extra>",
           "ids": [
            "Max Temp"
           ],
           "legendgroup": "Max Temp",
           "marker": {
            "color": "#636efa",
            "pattern": {
             "shape": ""
            }
           },
           "name": "Max Temp",
           "orientation": "v",
           "showlegend": true,
           "textposition": "auto",
           "type": "bar",
           "x": [
            "Max Temp"
           ],
           "xaxis": "x",
           "y": {
            "bdata": "zczMzMxMO0A=",
            "dtype": "f8"
           },
           "yaxis": "y"
          },
          {
           "customdata": [
            [
             "Rain: Heavy intensity"
            ]
           ],
           "hovertemplate": "Metric=%{x}<br>Date=2025-10-18 00:00:00<br>Type=Historical<br>Value=%{y}<br>Weather=%{customdata[0]}<extra></extra>",
           "ids": [
            "Min Temp"
           ],
           "legendgroup": "Min Temp",
           "marker": {
            "color": "#EF553B",
            "pattern": {
             "shape": ""
            }
           },
           "name": "Min Temp",
           "orientation": "v",
           "showlegend": true,
           "textposition": "auto",
           "type": "bar",
           "x": [
            "Min Temp"
           ],
           "xaxis": "x",
           "y": {
            "bdata": "mpmZmZmZOEA=",
            "dtype": "f8"
           },
           "yaxis": "y"
          },
          {
           "customdata": [
            [
             "Rain: Heavy intensity"
            ]
           ],
           "hovertemplate": "Metric=%{x}<br>Date=2025-10-18 00:00:00<br>Type=Historical<br>Value=%{y}<br>Weather=%{customdata[0]}<extra></extra>",
           "ids": [
            "Rainfall"
           ],
           "legendgroup": "Rainfall",
           "marker": {
            "color": "#00cc96",
            "pattern": {
             "shape": ""
            }
           },
           "name": "Rainfall",
           "orientation": "v",
           "showlegend": true,
           "textposition": "auto",
           "type": "bar",
           "x": [
            "Rainfall"
           ],
           "xaxis": "x",
           "y": {
            "bdata": "AAAAAACAO0A=",
            "dtype": "f8"
           },
           "yaxis": "y"
          },
          {
           "customdata": [
            [
             "Rain: Heavy intensity"
            ]
           ],
           "hovertemplate": "Metric=%{x}<br>Date=2025-10-18 00:00:00<br>Type=Historical<br>Value=%{y}<br>Weather=%{customdata[0]}<extra></extra>",
           "ids": [
            "Sum of Daily Rain"
           ],
           "legendgroup": "Sum of Daily Rain",
           "marker": {
            "color": "#ab63fa",
            "pattern": {
             "shape": ""
            }
           },
           "name": "Sum of Daily Rain",
           "orientation": "v",
           "showlegend": true,
           "textposition": "auto",
           "type": "bar",
           "x": [
            "Sum of Daily Rain"
           ],
           "xaxis": "x",
           "y": {
            "bdata": "AAAAAACAO0A=",
            "dtype": "f8"
           },
           "yaxis": "y"
          },
          {
           "customdata": [
            [
             "Rain: Heavy intensity"
            ]
           ],
           "hovertemplate": "Metric=%{x}<br>Date=2025-10-18 00:00:00<br>Type=Historical<br>Value=%{y}<br>Weather=%{customdata[0]}<extra></extra>",
           "ids": [
            "Hours with Rain"
           ],
           "legendgroup": "Hours with Rain",
           "marker": {
            "color": "#FFA15A",
            "pattern": {
             "shape": ""
            }
           },
           "name": "Hours with Rain",
           "orientation": "v",
           "showlegend": true,
           "textposition": "auto",
           "type": "bar",
           "x": [
            "Hours with Rain"
           ],
           "xaxis": "x",
           "y": {
            "bdata": "AAAAAAAANEA=",
            "dtype": "f8"
           },
           "yaxis": "y"
          },
          {
           "customdata": [
            [
             "Rain: Heavy intensity"
            ]
           ],
           "hovertemplate": "Metric=%{x}<br>Date=2025-10-18 00:00:00<br>Type=Historical<br>Value=%{y}<br>Weather=%{customdata[0]}<extra></extra>",
           "ids": [
            "Wind Speed"
           ],
           "legendgroup": "Wind Speed",
           "marker": {
            "color": "#19d3f3",
            "pattern": {
             "shape": ""
            }
           },
           "name": "Wind Speed",
           "orientation": "v",
           "showlegend": true,
           "textposition": "auto",
           "type": "bar",
           "x": [
            "Wind Speed"
           ],
           "xaxis": "x",
           "y": {
            "bdata": "zczMzMzMIEA=",
            "dtype": "f8"
           },
           "yaxis": "y"
          }
         ],
         "name": "2025-10-18 00:00:00"
        },
        {
         "data": [
          {
           "customdata": [
            [
             "Rain: Moderate"
            ]
           ],
           "hovertemplate": "Metric=%{x}<br>Date=2025-10-19 00:00:00<br>Type=Historical<br>Value=%{y}<br>Weather=%{customdata[0]}<extra></extra>",
           "ids": [
            "Max Temp"
           ],
           "legendgroup": "Max Temp",
           "marker": {
            "color": "#636efa",
            "pattern": {
             "shape": ""
            }
           },
           "name": "Max Temp",
           "orientation": "v",
           "showlegend": true,
           "textposition": "auto",
           "type": "bar",
           "x": [
            "Max Temp"
           ],
           "xaxis": "x",
           "y": {
            "bdata": "MzMzMzOzPEA=",
            "dtype": "f8"
           },
           "yaxis": "y"
          },
          {
           "customdata": [
            [
             "Rain: Moderate"
            ]
           ],
           "hovertemplate": "Metric=%{x}<br>Date=2025-10-19 00:00:00<br>Type=Historical<br>Value=%{y}<br>Weather=%{customdata[0]}<extra></extra>",
           "ids": [
            "Min Temp"
           ],
           "legendgroup": "Min Temp",
           "marker": {
            "color": "#EF553B",
            "pattern": {
             "shape": ""
            }
           },
           "name": "Min Temp",
           "orientation": "v",
           "showlegend": true,
           "textposition": "auto",
           "type": "bar",
           "x": [
            "Min Temp"
           ],
           "xaxis": "x",
           "y": {
            "bdata": "MzMzMzMzOEA=",
            "dtype": "f8"
           },
           "yaxis": "y"
          },
          {
           "customdata": [
            [
             "Rain: Moderate"
            ]
           ],
           "hovertemplate": "Metric=%{x}<br>Date=2025-10-19 00:00:00<br>Type=Historical<br>Value=%{y}<br>Weather=%{customdata[0]}<extra></extra>",
           "ids": [
            "Rainfall"
           ],
           "legendgroup": "Rainfall",
           "marker": {
            "color": "#00cc96",
            "pattern": {
             "shape": ""
            }
           },
           "name": "Rainfall",
           "orientation": "v",
           "showlegend": true,
           "textposition": "auto",
           "type": "bar",
           "x": [
            "Rainfall"
           ],
           "xaxis": "x",
           "y": {
            "bdata": "MzMzMzMzH0A=",
            "dtype": "f8"
           },
           "yaxis": "y"
          },
          {
           "customdata": [
            [
             "Rain: Moderate"
            ]
           ],
           "hovertemplate": "Metric=%{x}<br>Date=2025-10-19 00:00:00<br>Type=Historical<br>Value=%{y}<br>Weather=%{customdata[0]}<extra></extra>",
           "ids": [
            "Sum of Daily Rain"
           ],
           "legendgroup": "Sum of Daily Rain",
           "marker": {
            "color": "#ab63fa",
            "pattern": {
             "shape": ""
            }
           },
           "name": "Sum of Daily Rain",
           "orientation": "v",
           "showlegend": true,
           "textposition": "auto",
           "type": "bar",
           "x": [
            "Sum of Daily Rain"
           ],
           "xaxis": "x",
           "y": {
            "bdata": "MzMzMzMzH0A=",
            "dtype": "f8"
           },
           "yaxis": "y"
          },
          {
           "customdata": [
            [
             "Rain: Moderate"
            ]
           ],
           "hovertemplate": "Metric=%{x}<br>Date=2025-10-19 00:00:00<br>Type=Historical<br>Value=%{y}<br>Weather=%{customdata[0]}<extra></extra>",
           "ids": [
            "Hours with Rain"
           ],
           "legendgroup": "Hours with Rain",
           "marker": {
            "color": "#FFA15A",
            "pattern": {
             "shape": ""
            }
           },
           "name": "Hours with Rain",
           "orientation": "v",
           "showlegend": true,
           "textposition": "auto",
           "type": "bar",
           "x": [
            "Hours with Rain"
           ],
           "xaxis": "x",
           "y": {
            "bdata": "AAAAAAAALEA=",
            "dtype": "f8"
           },
           "yaxis": "y"
          },
          {
           "customdata": [
            [
             "Rain: Moderate"
            ]
           ],
           "hovertemplate": "Metric=%{x}<br>Date=2025-10-19 00:00:00<br>Type=Historical<br>Value=%{y}<br>Weather=%{customdata[0]}<extra></extra>",
           "ids": [
            "Wind Speed"
           ],
           "legendgroup": "Wind Speed",
           "marker": {
            "color": "#19d3f3",
            "pattern": {
             "shape": ""
            }
           },
           "name": "Wind Speed",
           "orientation": "v",
           "showlegend": true,
           "textposition": "auto",
           "type": "bar",
           "x": [
            "Wind Speed"
           ],
           "xaxis": "x",
           "y": {
            "bdata": "ZmZmZmZmIkA=",
            "dtype": "f8"
           },
           "yaxis": "y"
          }
         ],
         "name": "2025-10-19 00:00:00"
        },
        {
         "data": [
          {
           "customdata": [
            [
             "Rain: Moderate"
            ]
           ],
           "hovertemplate": "Metric=%{x}<br>Date=2025-10-20 00:00:00<br>Type=Historical<br>Value=%{y}<br>Weather=%{customdata[0]}<extra></extra>",
           "ids": [
            "Max Temp"
           ],
           "legendgroup": "Max Temp",
           "marker": {
            "color": "#636efa",
            "pattern": {
             "shape": ""
            }
           },
           "name": "Max Temp",
           "orientation": "v",
           "showlegend": true,
           "textposition": "auto",
           "type": "bar",
           "x": [
            "Max Temp"
           ],
           "xaxis": "x",
           "y": {
            "bdata": "MzMzMzMzPEA=",
            "dtype": "f8"
           },
           "yaxis": "y"
          },
          {
           "customdata": [
            [
             "Rain: Moderate"
            ]
           ],
           "hovertemplate": "Metric=%{x}<br>Date=2025-10-20 00:00:00<br>Type=Historical<br>Value=%{y}<br>Weather=%{customdata[0]}<extra></extra>",
           "ids": [
            "Min Temp"
           ],
           "legendgroup": "Min Temp",
           "marker": {
            "color": "#EF553B",
            "pattern": {
             "shape": ""
            }
           },
           "name": "Min Temp",
           "orientation": "v",
           "showlegend": true,
           "textposition": "auto",
           "type": "bar",
           "x": [
            "Min Temp"
           ],
           "xaxis": "x",
           "y": {
            "bdata": "AAAAAAAAOEA=",
            "dtype": "f8"
           },
           "yaxis": "y"
          },
          {
           "customdata": [
            [
             "Rain: Moderate"
            ]
           ],
           "hovertemplate": "Metric=%{x}<br>Date=2025-10-20 00:00:00<br>Type=Historical<br>Value=%{y}<br>Weather=%{customdata[0]}<extra></extra>",
           "ids": [
            "Rainfall"
           ],
           "legendgroup": "Rainfall",
           "marker": {
            "color": "#00cc96",
            "pattern": {
             "shape": ""
            }
           },
           "name": "Rainfall",
           "orientation": "v",
           "showlegend": true,
           "textposition": "auto",
           "type": "bar",
           "x": [
            "Rainfall"
           ],
           "xaxis": "x",
           "y": {
            "bdata": "MzMzMzMzN0A=",
            "dtype": "f8"
           },
           "yaxis": "y"
          },
          {
           "customdata": [
            [
             "Rain: Moderate"
            ]
           ],
           "hovertemplate": "Metric=%{x}<br>Date=2025-10-20 00:00:00<br>Type=Historical<br>Value=%{y}<br>Weather=%{customdata[0]}<extra></extra>",
           "ids": [
            "Sum of Daily Rain"
           ],
           "legendgroup": "Sum of Daily Rain",
           "marker": {
            "color": "#ab63fa",
            "pattern": {
             "shape": ""
            }
           },
           "name": "Sum of Daily Rain",
           "orientation": "v",
           "showlegend": true,
           "textposition": "auto",
           "type": "bar",
           "x": [
            "Sum of Daily Rain"
           ],
           "xaxis": "x",
           "y": {
            "bdata": "MzMzMzMzN0A=",
            "dtype": "f8"
           },
           "yaxis": "y"
          },
          {
           "customdata": [
            [
             "Rain: Moderate"
            ]
           ],
           "hovertemplate": "Metric=%{x}<br>Date=2025-10-20 00:00:00<br>Type=Historical<br>Value=%{y}<br>Weather=%{customdata[0]}<extra></extra>",
           "ids": [
            "Hours with Rain"
           ],
           "legendgroup": "Hours with Rain",
           "marker": {
            "color": "#FFA15A",
            "pattern": {
             "shape": ""
            }
           },
           "name": "Hours with Rain",
           "orientation": "v",
           "showlegend": true,
           "textposition": "auto",
           "type": "bar",
           "x": [
            "Hours with Rain"
           ],
           "xaxis": "x",
           "y": {
            "bdata": "AAAAAAAANEA=",
            "dtype": "f8"
           },
           "yaxis": "y"
          },
          {
           "customdata": [
            [
             "Rain: Moderate"
            ]
           ],
           "hovertemplate": "Metric=%{x}<br>Date=2025-10-20 00:00:00<br>Type=Historical<br>Value=%{y}<br>Weather=%{customdata[0]}<extra></extra>",
           "ids": [
            "Wind Speed"
           ],
           "legendgroup": "Wind Speed",
           "marker": {
            "color": "#19d3f3",
            "pattern": {
             "shape": ""
            }
           },
           "name": "Wind Speed",
           "orientation": "v",
           "showlegend": true,
           "textposition": "auto",
           "type": "bar",
           "x": [
            "Wind Speed"
           ],
           "xaxis": "x",
           "y": {
            "bdata": "zczMzMzMK0A=",
            "dtype": "f8"
           },
           "yaxis": "y"
          }
         ],
         "name": "2025-10-20 00:00:00"
        },
        {
         "data": [
          {
           "customdata": [
            [
             "Rain: Moderate"
            ]
           ],
           "hovertemplate": "Metric=%{x}<br>Date=2025-10-21 00:00:00<br>Type=Historical<br>Value=%{y}<br>Weather=%{customdata[0]}<extra></extra>",
           "ids": [
            "Max Temp"
           ],
           "legendgroup": "Max Temp",
           "marker": {
            "color": "#636efa",
            "pattern": {
             "shape": ""
            }
           },
           "name": "Max Temp",
           "orientation": "v",
           "showlegend": true,
           "textposition": "auto",
           "type": "bar",
           "x": [
            "Max Temp"
           ],
           "xaxis": "x",
           "y": {
            "bdata": "mpmZmZmZOkA=",
            "dtype": "f8"
           },
           "yaxis": "y"
          },
          {
           "customdata": [
            [
             "Rain: Moderate"
            ]
           ],
           "hovertemplate": "Metric=%{x}<br>Date=2025-10-21 00:00:00<br>Type=Historical<br>Value=%{y}<br>Weather=%{customdata[0]}<extra></extra>",
           "ids": [
            "Min Temp"
           ],
           "legendgroup": "Min Temp",
           "marker": {
            "color": "#EF553B",
            "pattern": {
             "shape": ""
            }
           },
           "name": "Min Temp",
           "orientation": "v",
           "showlegend": true,
           "textposition": "auto",
           "type": "bar",
           "x": [
            "Min Temp"
           ],
           "xaxis": "x",
           "y": {
            "bdata": "AAAAAACAOEA=",
            "dtype": "f8"
           },
           "yaxis": "y"
          },
          {
           "customdata": [
            [
             "Rain: Moderate"
            ]
           ],
           "hovertemplate": "Metric=%{x}<br>Date=2025-10-21 00:00:00<br>Type=Historical<br>Value=%{y}<br>Weather=%{customdata[0]}<extra></extra>",
           "ids": [
            "Rainfall"
           ],
           "legendgroup": "Rainfall",
           "marker": {
            "color": "#00cc96",
            "pattern": {
             "shape": ""
            }
           },
           "name": "Rainfall",
           "orientation": "v",
           "showlegend": true,
           "textposition": "auto",
           "type": "bar",
           "x": [
            "Rainfall"
           ],
           "xaxis": "x",
           "y": {
            "bdata": "ZmZmZmbmPEA=",
            "dtype": "f8"
           },
           "yaxis": "y"
          },
          {
           "customdata": [
            [
             "Rain: Moderate"
            ]
           ],
           "hovertemplate": "Metric=%{x}<br>Date=2025-10-21 00:00:00<br>Type=Historical<br>Value=%{y}<br>Weather=%{customdata[0]}<extra></extra>",
           "ids": [
            "Sum of Daily Rain"
           ],
           "legendgroup": "Sum of Daily Rain",
           "marker": {
            "color": "#ab63fa",
            "pattern": {
             "shape": ""
            }
           },
           "name": "Sum of Daily Rain",
           "orientation": "v",
           "showlegend": true,
           "textposition": "auto",
           "type": "bar",
           "x": [
            "Sum of Daily Rain"
           ],
           "xaxis": "x",
           "y": {
            "bdata": "ZmZmZmbmPEA=",
            "dtype": "f8"
           },
           "yaxis": "y"
          },
          {
           "customdata": [
            [
             "Rain: Moderate"
            ]
           ],
           "hovertemplate": "Metric=%{x}<br>Date=2025-10-21 00:00:00<br>Type=Historical<br>Value=%{y}<br>Weather=%{customdata[0]}<extra></extra>",
           "ids": [
            "Hours with Rain"
           ],
           "legendgroup": "Hours with Rain",
           "marker": {
            "color": "#FFA15A",
            "pattern": {
             "shape": ""
            }
           },
           "name": "Hours with Rain",
           "orientation": "v",
           "showlegend": true,
           "textposition": "auto",
           "type": "bar",
           "x": [
            "Hours with Rain"
           ],
           "xaxis": "x",
           "y": {
            "bdata": "AAAAAAAAN0A=",
            "dtype": "f8"
           },
           "yaxis": "y"
          },
          {
           "customdata": [
            [
             "Rain: Moderate"
            ]
           ],
           "hovertemplate": "Metric=%{x}<br>Date=2025-10-21 00:00:00<br>Type=Historical<br>Value=%{y}<br>Weather=%{customdata[0]}<extra></extra>",
           "ids": [
            "Wind Speed"
           ],
           "legendgroup": "Wind Speed",
           "marker": {
            "color": "#19d3f3",
            "pattern": {
             "shape": ""
            }
           },
           "name": "Wind Speed",
           "orientation": "v",
           "showlegend": true,
           "textposition": "auto",
           "type": "bar",
           "x": [
            "Wind Speed"
           ],
           "xaxis": "x",
           "y": {
            "bdata": "AAAAAAAAMkA=",
            "dtype": "f8"
           },
           "yaxis": "y"
          }
         ],
         "name": "2025-10-21 00:00:00"
        },
        {
         "data": [
          {
           "customdata": [
            [
             "Rain: Moderate"
            ]
           ],
           "hovertemplate": "Metric=%{x}<br>Date=2025-10-22 00:00:00<br>Type=Historical<br>Value=%{y}<br>Weather=%{customdata[0]}<extra></extra>",
           "ids": [
            "Max Temp"
           ],
           "legendgroup": "Max Temp",
           "marker": {
            "color": "#636efa",
            "pattern": {
             "shape": ""
            }
           },
           "name": "Max Temp",
           "orientation": "v",
           "showlegend": true,
           "textposition": "auto",
           "type": "bar",
           "x": [
            "Max Temp"
           ],
           "xaxis": "x",
           "y": {
            "bdata": "AAAAAAAAPUA=",
            "dtype": "f8"
           },
           "yaxis": "y"
          },
          {
           "customdata": [
            [
             "Rain: Moderate"
            ]
           ],
           "hovertemplate": "Metric=%{x}<br>Date=2025-10-22 00:00:00<br>Type=Historical<br>Value=%{y}<br>Weather=%{customdata[0]}<extra></extra>",
           "ids": [
            "Min Temp"
           ],
           "legendgroup": "Min Temp",
           "marker": {
            "color": "#EF553B",
            "pattern": {
             "shape": ""
            }
           },
           "name": "Min Temp",
           "orientation": "v",
           "showlegend": true,
           "textposition": "auto",
           "type": "bar",
           "x": [
            "Min Temp"
           ],
           "xaxis": "x",
           "y": {
            "bdata": "MzMzMzMzOUA=",
            "dtype": "f8"
           },
           "yaxis": "y"
          },
          {
           "customdata": [
            [
             "Rain: Moderate"
            ]
           ],
           "hovertemplate": "Metric=%{x}<br>Date=2025-10-22 00:00:00<br>Type=Historical<br>Value=%{y}<br>Weather=%{customdata[0]}<extra></extra>",
           "ids": [
            "Rainfall"
           ],
           "legendgroup": "Rainfall",
           "marker": {
            "color": "#00cc96",
            "pattern": {
             "shape": ""
            }
           },
           "name": "Rainfall",
           "orientation": "v",
           "showlegend": true,
           "textposition": "auto",
           "type": "bar",
           "x": [
            "Rainfall"
           ],
           "xaxis": "x",
           "y": {
            "bdata": "AAAAAABAQ0A=",
            "dtype": "f8"
           },
           "yaxis": "y"
          },
          {
           "customdata": [
            [
             "Rain: Moderate"
            ]
           ],
           "hovertemplate": "Metric=%{x}<br>Date=2025-10-22 00:00:00<br>Type=Historical<br>Value=%{y}<br>Weather=%{customdata[0]}<extra></extra>",
           "ids": [
            "Sum of Daily Rain"
           ],
           "legendgroup": "Sum of Daily Rain",
           "marker": {
            "color": "#ab63fa",
            "pattern": {
             "shape": ""
            }
           },
           "name": "Sum of Daily Rain",
           "orientation": "v",
           "showlegend": true,
           "textposition": "auto",
           "type": "bar",
           "x": [
            "Sum of Daily Rain"
           ],
           "xaxis": "x",
           "y": {
            "bdata": "AAAAAABAQ0A=",
            "dtype": "f8"
           },
           "yaxis": "y"
          },
          {
           "customdata": [
            [
             "Rain: Moderate"
            ]
           ],
           "hovertemplate": "Metric=%{x}<br>Date=2025-10-22 00:00:00<br>Type=Historical<br>Value=%{y}<br>Weather=%{customdata[0]}<extra></extra>",
           "ids": [
            "Hours with Rain"
           ],
           "legendgroup": "Hours with Rain",
           "marker": {
            "color": "#FFA15A",
            "pattern": {
             "shape": ""
            }
           },
           "name": "Hours with Rain",
           "orientation": "v",
           "showlegend": true,
           "textposition": "auto",
           "type": "bar",
           "x": [
            "Hours with Rain"
           ],
           "xaxis": "x",
           "y": {
            "bdata": "AAAAAAAANkA=",
            "dtype": "f8"
           },
           "yaxis": "y"
          },
          {
           "customdata": [
            [
             "Rain: Moderate"
            ]
           ],
           "hovertemplate": "Metric=%{x}<br>Date=2025-10-22 00:00:00<br>Type=Historical<br>Value=%{y}<br>Weather=%{customdata[0]}<extra></extra>",
           "ids": [
            "Wind Speed"
           ],
           "legendgroup": "Wind Speed",
           "marker": {
            "color": "#19d3f3",
            "pattern": {
             "shape": ""
            }
           },
           "name": "Wind Speed",
           "orientation": "v",
           "showlegend": true,
           "textposition": "auto",
           "type": "bar",
           "x": [
            "Wind Speed"
           ],
           "xaxis": "x",
           "y": {
            "bdata": "AAAAAACANUA=",
            "dtype": "f8"
           },
           "yaxis": "y"
          }
         ],
         "name": "2025-10-22 00:00:00"
        },
        {
         "data": [
          {
           "customdata": [
            [
             "Rain: Moderate"
            ]
           ],
           "hovertemplate": "Metric=%{x}<br>Date=2025-10-23 00:00:00<br>Type=Historical<br>Value=%{y}<br>Weather=%{customdata[0]}<extra></extra>",
           "ids": [
            "Max Temp"
           ],
           "legendgroup": "Max Temp",
           "marker": {
            "color": "#636efa",
            "pattern": {
             "shape": ""
            }
           },
           "name": "Max Temp",
           "orientation": "v",
           "showlegend": true,
           "textposition": "auto",
           "type": "bar",
           "x": [
            "Max Temp"
           ],
           "xaxis": "x",
           "y": {
            "bdata": "MzMzMzOzPUA=",
            "dtype": "f8"
           },
           "yaxis": "y"
          },
          {
           "customdata": [
            [
             "Rain: Moderate"
            ]
           ],
           "hovertemplate": "Metric=%{x}<br>Date=2025-10-23 00:00:00<br>Type=Historical<br>Value=%{y}<br>Weather=%{customdata[0]}<extra></extra>",
           "ids": [
            "Min Temp"
           ],
           "legendgroup": "Min Temp",
           "marker": {
            "color": "#EF553B",
            "pattern": {
             "shape": ""
            }
           },
           "name": "Min Temp",
           "orientation": "v",
           "showlegend": true,
           "textposition": "auto",
           "type": "bar",
           "x": [
            "Min Temp"
           ],
           "xaxis": "x",
           "y": {
            "bdata": "zczMzMxMOEA=",
            "dtype": "f8"
           },
           "yaxis": "y"
          },
          {
           "customdata": [
            [
             "Rain: Moderate"
            ]
           ],
           "hovertemplate": "Metric=%{x}<br>Date=2025-10-23 00:00:00<br>Type=Historical<br>Value=%{y}<br>Weather=%{customdata[0]}<extra></extra>",
           "ids": [
            "Rainfall"
           ],
           "legendgroup": "Rainfall",
           "marker": {
            "color": "#00cc96",
            "pattern": {
             "shape": ""
            }
           },
           "name": "Rainfall",
           "orientation": "v",
           "showlegend": true,
           "textposition": "auto",
           "type": "bar",
           "x": [
            "Rainfall"
           ],
           "xaxis": "x",
           "y": {
            "bdata": "mpmZmZkZMUA=",
            "dtype": "f8"
           },
           "yaxis": "y"
          },
          {
           "customdata": [
            [
             "Rain: Moderate"
            ]
           ],
           "hovertemplate": "Metric=%{x}<br>Date=2025-10-23 00:00:00<br>Type=Historical<br>Value=%{y}<br>Weather=%{customdata[0]}<extra></extra>",
           "ids": [
            "Sum of Daily Rain"
           ],
           "legendgroup": "Sum of Daily Rain",
           "marker": {
            "color": "#ab63fa",
            "pattern": {
             "shape": ""
            }
           },
           "name": "Sum of Daily Rain",
           "orientation": "v",
           "showlegend": true,
           "textposition": "auto",
           "type": "bar",
           "x": [
            "Sum of Daily Rain"
           ],
           "xaxis": "x",
           "y": {
            "bdata": "mpmZmZkZMUA=",
            "dtype": "f8"
           },
           "yaxis": "y"
          },
          {
           "customdata": [
            [
             "Rain: Moderate"
            ]
           ],
           "hovertemplate": "Metric=%{x}<br>Date=2025-10-23 00:00:00<br>Type=Historical<br>Value=%{y}<br>Weather=%{customdata[0]}<extra></extra>",
           "ids": [
            "Hours with Rain"
           ],
           "legendgroup": "Hours with Rain",
           "marker": {
            "color": "#FFA15A",
            "pattern": {
             "shape": ""
            }
           },
           "name": "Hours with Rain",
           "orientation": "v",
           "showlegend": true,
           "textposition": "auto",
           "type": "bar",
           "x": [
            "Hours with Rain"
           ],
           "xaxis": "x",
           "y": {
            "bdata": "AAAAAAAAKkA=",
            "dtype": "f8"
           },
           "yaxis": "y"
          },
          {
           "customdata": [
            [
             "Rain: Moderate"
            ]
           ],
           "hovertemplate": "Metric=%{x}<br>Date=2025-10-23 00:00:00<br>Type=Historical<br>Value=%{y}<br>Weather=%{customdata[0]}<extra></extra>",
           "ids": [
            "Wind Speed"
           ],
           "legendgroup": "Wind Speed",
           "marker": {
            "color": "#19d3f3",
            "pattern": {
             "shape": ""
            }
           },
           "name": "Wind Speed",
           "orientation": "v",
           "showlegend": true,
           "textposition": "auto",
           "type": "bar",
           "x": [
            "Wind Speed"
           ],
           "xaxis": "x",
           "y": {
            "bdata": "ZmZmZmZmJkA=",
            "dtype": "f8"
           },
           "yaxis": "y"
          }
         ],
         "name": "2025-10-23 00:00:00"
        },
        {
         "data": [
          {
           "customdata": [
            [
             "Drizzle: Dense intensity"
            ]
           ],
           "hovertemplate": "Metric=%{x}<br>Date=2025-10-24 00:00:00<br>Type=Historical<br>Value=%{y}<br>Weather=%{customdata[0]}<extra></extra>",
           "ids": [
            "Max Temp"
           ],
           "legendgroup": "Max Temp",
           "marker": {
            "color": "#636efa",
            "pattern": {
             "shape": ""
            }
           },
           "name": "Max Temp",
           "orientation": "v",
           "showlegend": true,
           "textposition": "auto",
           "type": "bar",
           "x": [
            "Max Temp"
           ],
           "xaxis": "x",
           "y": {
            "bdata": "MzMzMzMzO0A=",
            "dtype": "f8"
           },
           "yaxis": "y"
          },
          {
           "customdata": [
            [
             "Drizzle: Dense intensity"
            ]
           ],
           "hovertemplate": "Metric=%{x}<br>Date=2025-10-24 00:00:00<br>Type=Historical<br>Value=%{y}<br>Weather=%{customdata[0]}<extra></extra>",
           "ids": [
            "Min Temp"
           ],
           "legendgroup": "Min Temp",
           "marker": {
            "color": "#EF553B",
            "pattern": {
             "shape": ""
            }
           },
           "name": "Min Temp",
           "orientation": "v",
           "showlegend": true,
           "textposition": "auto",
           "type": "bar",
           "x": [
            "Min Temp"
           ],
           "xaxis": "x",
           "y": {
            "bdata": "mpmZmZmZOEA=",
            "dtype": "f8"
           },
           "yaxis": "y"
          },
          {
           "customdata": [
            [
             "Drizzle: Dense intensity"
            ]
           ],
           "hovertemplate": "Metric=%{x}<br>Date=2025-10-24 00:00:00<br>Type=Historical<br>Value=%{y}<br>Weather=%{customdata[0]}<extra></extra>",
           "ids": [
            "Rainfall"
           ],
           "legendgroup": "Rainfall",
           "marker": {
            "color": "#00cc96",
            "pattern": {
             "shape": ""
            }
           },
           "name": "Rainfall",
           "orientation": "v",
           "showlegend": true,
           "textposition": "auto",
           "type": "bar",
           "x": [
            "Rainfall"
           ],
           "xaxis": "x",
           "y": {
            "bdata": "zczMzMzMGEA=",
            "dtype": "f8"
           },
           "yaxis": "y"
          },
          {
           "customdata": [
            [
             "Drizzle: Dense intensity"
            ]
           ],
           "hovertemplate": "Metric=%{x}<br>Date=2025-10-24 00:00:00<br>Type=Historical<br>Value=%{y}<br>Weather=%{customdata[0]}<extra></extra>",
           "ids": [
            "Sum of Daily Rain"
           ],
           "legendgroup": "Sum of Daily Rain",
           "marker": {
            "color": "#ab63fa",
            "pattern": {
             "shape": ""
            }
           },
           "name": "Sum of Daily Rain",
           "orientation": "v",
           "showlegend": true,
           "textposition": "auto",
           "type": "bar",
           "x": [
            "Sum of Daily Rain"
           ],
           "xaxis": "x",
           "y": {
            "bdata": "zczMzMzMGEA=",
            "dtype": "f8"
           },
           "yaxis": "y"
          },
          {
           "customdata": [
            [
             "Drizzle: Dense intensity"
            ]
           ],
           "hovertemplate": "Metric=%{x}<br>Date=2025-10-24 00:00:00<br>Type=Historical<br>Value=%{y}<br>Weather=%{customdata[0]}<extra></extra>",
           "ids": [
            "Hours with Rain"
           ],
           "legendgroup": "Hours with Rain",
           "marker": {
            "color": "#FFA15A",
            "pattern": {
             "shape": ""
            }
           },
           "name": "Hours with Rain",
           "orientation": "v",
           "showlegend": true,
           "textposition": "auto",
           "type": "bar",
           "x": [
            "Hours with Rain"
           ],
           "xaxis": "x",
           "y": {
            "bdata": "AAAAAAAAKEA=",
            "dtype": "f8"
           },
           "yaxis": "y"
          },
          {
           "customdata": [
            [
             "Drizzle: Dense intensity"
            ]
           ],
           "hovertemplate": "Metric=%{x}<br>Date=2025-10-24 00:00:00<br>Type=Historical<br>Value=%{y}<br>Weather=%{customdata[0]}<extra></extra>",
           "ids": [
            "Wind Speed"
           ],
           "legendgroup": "Wind Speed",
           "marker": {
            "color": "#19d3f3",
            "pattern": {
             "shape": ""
            }
           },
           "name": "Wind Speed",
           "orientation": "v",
           "showlegend": true,
           "textposition": "auto",
           "type": "bar",
           "x": [
            "Wind Speed"
           ],
           "xaxis": "x",
           "y": {
            "bdata": "ZmZmZmZmI0A=",
            "dtype": "f8"
           },
           "yaxis": "y"
          }
         ],
         "name": "2025-10-24 00:00:00"
        },
        {
         "data": [
          {
           "customdata": [
            [
             "Rain: Heavy intensity"
            ]
           ],
           "hovertemplate": "Metric=%{x}<br>Date=2025-10-25 00:00:00<br>Type=Historical<br>Value=%{y}<br>Weather=%{customdata[0]}<extra></extra>",
           "ids": [
            "Max Temp"
           ],
           "legendgroup": "Max Temp",
           "marker": {
            "color": "#636efa",
            "pattern": {
             "shape": ""
            }
           },
           "name": "Max Temp",
           "orientation": "v",
           "showlegend": true,
           "textposition": "auto",
           "type": "bar",
           "x": [
            "Max Temp"
           ],
           "xaxis": "x",
           "y": {
            "bdata": "MzMzMzMzPEA=",
            "dtype": "f8"
           },
           "yaxis": "y"
          },
          {
           "customdata": [
            [
             "Thunderstorm: Slight or moderate"
            ]
           ],
           "hovertemplate": "Metric=%{x}<br>Date=2025-10-25 00:00:00<br>Type=Forecast<br>Value=%{y}<br>Weather=%{customdata[0]}<extra></extra>",
           "ids": [
            "Max Temp"
           ],
           "legendgroup": "Max Temp",
           "marker": {
            "color": "#636efa",
            "pattern": {
             "shape": ""
            }
           },
           "name": "Max Temp",
           "orientation": "v",
           "showlegend": false,
           "textposition": "auto",
           "type": "bar",
           "x": [
            "Max Temp"
           ],
           "xaxis": "x2",
           "y": {
            "bdata": "MzMzMzMzPkA=",
            "dtype": "f8"
           },
           "yaxis": "y2"
          },
          {
           "customdata": [
            [
             "Rain: Heavy intensity"
            ]
           ],
           "hovertemplate": "Metric=%{x}<br>Date=2025-10-25 00:00:00<br>Type=Historical<br>Value=%{y}<br>Weather=%{customdata[0]}<extra></extra>",
           "ids": [
            "Min Temp"
           ],
           "legendgroup": "Min Temp",
           "marker": {
            "color": "#EF553B",
            "pattern": {
             "shape": ""
            }
           },
           "name": "Min Temp",
           "orientation": "v",
           "showlegend": true,
           "textposition": "auto",
           "type": "bar",
           "x": [
            "Min Temp"
           ],
           "xaxis": "x",
           "y": {
            "bdata": "zczMzMxMOEA=",
            "dtype": "f8"
           },
           "yaxis": "y"
          },
          {
           "customdata": [
            [
             "Thunderstorm: Slight or moderate"
            ]
           ],
           "hovertemplate": "Metric=%{x}<br>Date=2025-10-25 00:00:00<br>Type=Forecast<br>Value=%{y}<br>Weather=%{customdata[0]}<extra></extra>",
           "ids": [
            "Min Temp"
           ],
           "legendgroup": "Min Temp",
           "marker": {
            "color": "#EF553B",
            "pattern": {
             "shape": ""
            }
           },
           "name": "Min Temp",
           "orientation": "v",
           "showlegend": false,
           "textposition": "auto",
           "type": "bar",
           "x": [
            "Min Temp"
           ],
           "xaxis": "x2",
           "y": {
            "bdata": "MzMzMzOzOEA=",
            "dtype": "f8"
           },
           "yaxis": "y2"
          },
          {
           "customdata": [
            [
             "Rain: Heavy intensity"
            ]
           ],
           "hovertemplate": "Metric=%{x}<br>Date=2025-10-25 00:00:00<br>Type=Historical<br>Value=%{y}<br>Weather=%{customdata[0]}<extra></extra>",
           "ids": [
            "Rainfall"
           ],
           "legendgroup": "Rainfall",
           "marker": {
            "color": "#00cc96",
            "pattern": {
             "shape": ""
            }
           },
           "name": "Rainfall",
           "orientation": "v",
           "showlegend": true,
           "textposition": "auto",
           "type": "bar",
           "x": [
            "Rainfall"
           ],
           "xaxis": "x",
           "y": {
            "bdata": "zczMzMxMMkA=",
            "dtype": "f8"
           },
           "yaxis": "y"
          },
          {
           "customdata": [
            [
             "Thunderstorm: Slight or moderate"
            ]
           ],
           "hovertemplate": "Metric=%{x}<br>Date=2025-10-25 00:00:00<br>Type=Forecast<br>Value=%{y}<br>Weather=%{customdata[0]}<extra></extra>",
           "ids": [
            "Rainfall"
           ],
           "legendgroup": "Rainfall",
           "marker": {
            "color": "#00cc96",
            "pattern": {
             "shape": ""
            }
           },
           "name": "Rainfall",
           "orientation": "v",
           "showlegend": false,
           "textposition": "auto",
           "type": "bar",
           "x": [
            "Rainfall"
           ],
           "xaxis": "x2",
           "y": {
            "bdata": "MzMzMzMzE0A=",
            "dtype": "f8"
           },
           "yaxis": "y2"
          },
          {
           "customdata": [
            [
             "Rain: Heavy intensity"
            ]
           ],
           "hovertemplate": "Metric=%{x}<br>Date=2025-10-25 00:00:00<br>Type=Historical<br>Value=%{y}<br>Weather=%{customdata[0]}<extra></extra>",
           "ids": [
            "Sum of Daily Rain"
           ],
           "legendgroup": "Sum of Daily Rain",
           "marker": {
            "color": "#ab63fa",
            "pattern": {
             "shape": ""
            }
           },
           "name": "Sum of Daily Rain",
           "orientation": "v",
           "showlegend": true,
           "textposition": "auto",
           "type": "bar",
           "x": [
            "Sum of Daily Rain"
           ],
           "xaxis": "x",
           "y": {
            "bdata": "zczMzMxMMkA=",
            "dtype": "f8"
           },
           "yaxis": "y"
          },
          {
           "customdata": [
            [
             "Thunderstorm: Slight or moderate"
            ]
           ],
           "hovertemplate": "Metric=%{x}<br>Date=2025-10-25 00:00:00<br>Type=Forecast<br>Value=%{y}<br>Weather=%{customdata[0]}<extra></extra>",
           "ids": [
            "Sum of Daily Rain"
           ],
           "legendgroup": "Sum of Daily Rain",
           "marker": {
            "color": "#ab63fa",
            "pattern": {
             "shape": ""
            }
           },
           "name": "Sum of Daily Rain",
           "orientation": "v",
           "showlegend": false,
           "textposition": "auto",
           "type": "bar",
           "x": [
            "Sum of Daily Rain"
           ],
           "xaxis": "x2",
           "y": {
            "bdata": "AAAAAAAAAAA=",
            "dtype": "f8"
           },
           "yaxis": "y2"
          },
          {
           "customdata": [
            [
             "Rain: Heavy intensity"
            ]
           ],
           "hovertemplate": "Metric=%{x}<br>Date=2025-10-25 00:00:00<br>Type=Historical<br>Value=%{y}<br>Weather=%{customdata[0]}<extra></extra>",
           "ids": [
            "Hours with Rain"
           ],
           "legendgroup": "Hours with Rain",
           "marker": {
            "color": "#FFA15A",
            "pattern": {
             "shape": ""
            }
           },
           "name": "Hours with Rain",
           "orientation": "v",
           "showlegend": true,
           "textposition": "auto",
           "type": "bar",
           "x": [
            "Hours with Rain"
           ],
           "xaxis": "x",
           "y": {
            "bdata": "AAAAAAAAJEA=",
            "dtype": "f8"
           },
           "yaxis": "y"
          },
          {
           "customdata": [
            [
             "Thunderstorm: Slight or moderate"
            ]
           ],
           "hovertemplate": "Metric=%{x}<br>Date=2025-10-25 00:00:00<br>Type=Forecast<br>Value=%{y}<br>Weather=%{customdata[0]}<extra></extra>",
           "ids": [
            "Hours with Rain"
           ],
           "legendgroup": "Hours with Rain",
           "marker": {
            "color": "#FFA15A",
            "pattern": {
             "shape": ""
            }
           },
           "name": "Hours with Rain",
           "orientation": "v",
           "showlegend": false,
           "textposition": "auto",
           "type": "bar",
           "x": [
            "Hours with Rain"
           ],
           "xaxis": "x2",
           "y": {
            "bdata": "AAAAAAAAIEA=",
            "dtype": "f8"
           },
           "yaxis": "y2"
          },
          {
           "customdata": [
            [
             "Rain: Heavy intensity"
            ]
           ],
           "hovertemplate": "Metric=%{x}<br>Date=2025-10-25 00:00:00<br>Type=Historical<br>Value=%{y}<br>Weather=%{customdata[0]}<extra></extra>",
           "ids": [
            "Wind Speed"
           ],
           "legendgroup": "Wind Speed",
           "marker": {
            "color": "#19d3f3",
            "pattern": {
             "shape": ""
            }
           },
           "name": "Wind Speed",
           "orientation": "v",
           "showlegend": true,
           "textposition": "auto",
           "type": "bar",
           "x": [
            "Wind Speed"
           ],
           "xaxis": "x",
           "y": {
            "bdata": "mpmZmZmZJkA=",
            "dtype": "f8"
           },
           "yaxis": "y"
          },
          {
           "customdata": [
            [
             "Thunderstorm: Slight or moderate"
            ]
           ],
           "hovertemplate": "Metric=%{x}<br>Date=2025-10-25 00:00:00<br>Type=Forecast<br>Value=%{y}<br>Weather=%{customdata[0]}<extra></extra>",
           "ids": [
            "Wind Speed"
           ],
           "legendgroup": "Wind Speed",
           "marker": {
            "color": "#19d3f3",
            "pattern": {
             "shape": ""
            }
           },
           "name": "Wind Speed",
           "orientation": "v",
           "showlegend": false,
           "textposition": "auto",
           "type": "bar",
           "x": [
            "Wind Speed"
           ],
           "xaxis": "x2",
           "y": {
            "bdata": "ZmZmZmZmJEA=",
            "dtype": "f8"
           },
           "yaxis": "y2"
          }
         ],
         "name": "2025-10-25 00:00:00"
        },
        {
         "data": [
          {
           "customdata": [
            [
             "Rain showers: Slight"
            ]
           ],
           "hovertemplate": "Metric=%{x}<br>Date=2025-10-26 00:00:00<br>Type=Forecast<br>Value=%{y}<br>Weather=%{customdata[0]}<extra></extra>",
           "ids": [
            "Max Temp"
           ],
           "legendgroup": "Max Temp",
           "marker": {
            "color": "#636efa",
            "pattern": {
             "shape": ""
            }
           },
           "name": "Max Temp",
           "orientation": "v",
           "showlegend": true,
           "textposition": "auto",
           "type": "bar",
           "x": [
            "Max Temp"
           ],
           "xaxis": "x2",
           "y": {
            "bdata": "AAAAAACAPkA=",
            "dtype": "f8"
           },
           "yaxis": "y2"
          },
          {
           "customdata": [
            [
             "Rain showers: Slight"
            ]
           ],
           "hovertemplate": "Metric=%{x}<br>Date=2025-10-26 00:00:00<br>Type=Forecast<br>Value=%{y}<br>Weather=%{customdata[0]}<extra></extra>",
           "ids": [
            "Min Temp"
           ],
           "legendgroup": "Min Temp",
           "marker": {
            "color": "#EF553B",
            "pattern": {
             "shape": ""
            }
           },
           "name": "Min Temp",
           "orientation": "v",
           "showlegend": true,
           "textposition": "auto",
           "type": "bar",
           "x": [
            "Min Temp"
           ],
           "xaxis": "x2",
           "y": {
            "bdata": "MzMzMzMzOUA=",
            "dtype": "f8"
           },
           "yaxis": "y2"
          },
          {
           "customdata": [
            [
             "Rain showers: Slight"
            ]
           ],
           "hovertemplate": "Metric=%{x}<br>Date=2025-10-26 00:00:00<br>Type=Forecast<br>Value=%{y}<br>Weather=%{customdata[0]}<extra></extra>",
           "ids": [
            "Rainfall"
           ],
           "legendgroup": "Rainfall",
           "marker": {
            "color": "#00cc96",
            "pattern": {
             "shape": ""
            }
           },
           "name": "Rainfall",
           "orientation": "v",
           "showlegend": true,
           "textposition": "auto",
           "type": "bar",
           "x": [
            "Rainfall"
           ],
           "xaxis": "x2",
           "y": {
            "bdata": "mpmZmZmZ8T8=",
            "dtype": "f8"
           },
           "yaxis": "y2"
          },
          {
           "customdata": [
            [
             "Rain showers: Slight"
            ]
           ],
           "hovertemplate": "Metric=%{x}<br>Date=2025-10-26 00:00:00<br>Type=Forecast<br>Value=%{y}<br>Weather=%{customdata[0]}<extra></extra>",
           "ids": [
            "Sum of Daily Rain"
           ],
           "legendgroup": "Sum of Daily Rain",
           "marker": {
            "color": "#ab63fa",
            "pattern": {
             "shape": ""
            }
           },
           "name": "Sum of Daily Rain",
           "orientation": "v",
           "showlegend": true,
           "textposition": "auto",
           "type": "bar",
           "x": [
            "Sum of Daily Rain"
           ],
           "xaxis": "x2",
           "y": {
            "bdata": "AAAAAAAAAAA=",
            "dtype": "f8"
           },
           "yaxis": "y2"
          },
          {
           "customdata": [
            [
             "Rain showers: Slight"
            ]
           ],
           "hovertemplate": "Metric=%{x}<br>Date=2025-10-26 00:00:00<br>Type=Forecast<br>Value=%{y}<br>Weather=%{customdata[0]}<extra></extra>",
           "ids": [
            "Hours with Rain"
           ],
           "legendgroup": "Hours with Rain",
           "marker": {
            "color": "#FFA15A",
            "pattern": {
             "shape": ""
            }
           },
           "name": "Hours with Rain",
           "orientation": "v",
           "showlegend": true,
           "textposition": "auto",
           "type": "bar",
           "x": [
            "Hours with Rain"
           ],
           "xaxis": "x2",
           "y": {
            "bdata": "AAAAAAAACEA=",
            "dtype": "f8"
           },
           "yaxis": "y2"
          },
          {
           "customdata": [
            [
             "Rain showers: Slight"
            ]
           ],
           "hovertemplate": "Metric=%{x}<br>Date=2025-10-26 00:00:00<br>Type=Forecast<br>Value=%{y}<br>Weather=%{customdata[0]}<extra></extra>",
           "ids": [
            "Wind Speed"
           ],
           "legendgroup": "Wind Speed",
           "marker": {
            "color": "#19d3f3",
            "pattern": {
             "shape": ""
            }
           },
           "name": "Wind Speed",
           "orientation": "v",
           "showlegend": true,
           "textposition": "auto",
           "type": "bar",
           "x": [
            "Wind Speed"
           ],
           "xaxis": "x2",
           "y": {
            "bdata": "mpmZmZmZI0A=",
            "dtype": "f8"
           },
           "yaxis": "y2"
          }
         ],
         "name": "2025-10-26 00:00:00"
        },
        {
         "data": [
          {
           "customdata": [
            [
             "Rain: Slight"
            ]
           ],
           "hovertemplate": "Metric=%{x}<br>Date=2025-10-27 00:00:00<br>Type=Forecast<br>Value=%{y}<br>Weather=%{customdata[0]}<extra></extra>",
           "ids": [
            "Max Temp"
           ],
           "legendgroup": "Max Temp",
           "marker": {
            "color": "#636efa",
            "pattern": {
             "shape": ""
            }
           },
           "name": "Max Temp",
           "orientation": "v",
           "showlegend": true,
           "textposition": "auto",
           "type": "bar",
           "x": [
            "Max Temp"
           ],
           "xaxis": "x2",
           "y": {
            "bdata": "MzMzMzOzOUA=",
            "dtype": "f8"
           },
           "yaxis": "y2"
          },
          {
           "customdata": [
            [
             "Rain: Slight"
            ]
           ],
           "hovertemplate": "Metric=%{x}<br>Date=2025-10-27 00:00:00<br>Type=Forecast<br>Value=%{y}<br>Weather=%{customdata[0]}<extra></extra>",
           "ids": [
            "Min Temp"
           ],
           "legendgroup": "Min Temp",
           "marker": {
            "color": "#EF553B",
            "pattern": {
             "shape": ""
            }
           },
           "name": "Min Temp",
           "orientation": "v",
           "showlegend": true,
           "textposition": "auto",
           "type": "bar",
           "x": [
            "Min Temp"
           ],
           "xaxis": "x2",
           "y": {
            "bdata": "ZmZmZmZmOEA=",
            "dtype": "f8"
           },
           "yaxis": "y2"
          },
          {
           "customdata": [
            [
             "Rain: Slight"
            ]
           ],
           "hovertemplate": "Metric=%{x}<br>Date=2025-10-27 00:00:00<br>Type=Forecast<br>Value=%{y}<br>Weather=%{customdata[0]}<extra></extra>",
           "ids": [
            "Rainfall"
           ],
           "legendgroup": "Rainfall",
           "marker": {
            "color": "#00cc96",
            "pattern": {
             "shape": ""
            }
           },
           "name": "Rainfall",
           "orientation": "v",
           "showlegend": true,
           "textposition": "auto",
           "type": "bar",
           "x": [
            "Rainfall"
           ],
           "xaxis": "x2",
           "y": {
            "bdata": "mpmZmZmZG0A=",
            "dtype": "f8"
           },
           "yaxis": "y2"
          },
          {
           "customdata": [
            [
             "Rain: Slight"
            ]
           ],
           "hovertemplate": "Metric=%{x}<br>Date=2025-10-27 00:00:00<br>Type=Forecast<br>Value=%{y}<br>Weather=%{customdata[0]}<extra></extra>",
           "ids": [
            "Sum of Daily Rain"
           ],
           "legendgroup": "Sum of Daily Rain",
           "marker": {
            "color": "#ab63fa",
            "pattern": {
             "shape": ""
            }
           },
           "name": "Sum of Daily Rain",
           "orientation": "v",
           "showlegend": true,
           "textposition": "auto",
           "type": "bar",
           "x": [
            "Sum of Daily Rain"
           ],
           "xaxis": "x2",
           "y": {
            "bdata": "mpmZmZmZG0A=",
            "dtype": "f8"
           },
           "yaxis": "y2"
          },
          {
           "customdata": [
            [
             "Rain: Slight"
            ]
           ],
           "hovertemplate": "Metric=%{x}<br>Date=2025-10-27 00:00:00<br>Type=Forecast<br>Value=%{y}<br>Weather=%{customdata[0]}<extra></extra>",
           "ids": [
            "Hours with Rain"
           ],
           "legendgroup": "Hours with Rain",
           "marker": {
            "color": "#FFA15A",
            "pattern": {
             "shape": ""
            }
           },
           "name": "Hours with Rain",
           "orientation": "v",
           "showlegend": true,
           "textposition": "auto",
           "type": "bar",
           "x": [
            "Hours with Rain"
           ],
           "xaxis": "x2",
           "y": {
            "bdata": "AAAAAAAAKkA=",
            "dtype": "f8"
           },
           "yaxis": "y2"
          },
          {
           "customdata": [
            [
             "Rain: Slight"
            ]
           ],
           "hovertemplate": "Metric=%{x}<br>Date=2025-10-27 00:00:00<br>Type=Forecast<br>Value=%{y}<br>Weather=%{customdata[0]}<extra></extra>",
           "ids": [
            "Wind Speed"
           ],
           "legendgroup": "Wind Speed",
           "marker": {
            "color": "#19d3f3",
            "pattern": {
             "shape": ""
            }
           },
           "name": "Wind Speed",
           "orientation": "v",
           "showlegend": true,
           "textposition": "auto",
           "type": "bar",
           "x": [
            "Wind Speed"
           ],
           "xaxis": "x2",
           "y": {
            "bdata": "mpmZmZmZLkA=",
            "dtype": "f8"
           },
           "yaxis": "y2"
          }
         ],
         "name": "2025-10-27 00:00:00"
        },
        {
         "data": [
          {
           "customdata": [
            [
             "Rain showers: Slight"
            ]
           ],
           "hovertemplate": "Metric=%{x}<br>Date=2025-10-28 00:00:00<br>Type=Forecast<br>Value=%{y}<br>Weather=%{customdata[0]}<extra></extra>",
           "ids": [
            "Max Temp"
           ],
           "legendgroup": "Max Temp",
           "marker": {
            "color": "#636efa",
            "pattern": {
             "shape": ""
            }
           },
           "name": "Max Temp",
           "orientation": "v",
           "showlegend": true,
           "textposition": "auto",
           "type": "bar",
           "x": [
            "Max Temp"
           ],
           "xaxis": "x2",
           "y": {
            "bdata": "ZmZmZmbmPUA=",
            "dtype": "f8"
           },
           "yaxis": "y2"
          },
          {
           "customdata": [
            [
             "Rain showers: Slight"
            ]
           ],
           "hovertemplate": "Metric=%{x}<br>Date=2025-10-28 00:00:00<br>Type=Forecast<br>Value=%{y}<br>Weather=%{customdata[0]}<extra></extra>",
           "ids": [
            "Min Temp"
           ],
           "legendgroup": "Min Temp",
           "marker": {
            "color": "#EF553B",
            "pattern": {
             "shape": ""
            }
           },
           "name": "Min Temp",
           "orientation": "v",
           "showlegend": true,
           "textposition": "auto",
           "type": "bar",
           "x": [
            "Min Temp"
           ],
           "xaxis": "x2",
           "y": {
            "bdata": "ZmZmZmbmN0A=",
            "dtype": "f8"
           },
           "yaxis": "y2"
          },
          {
           "customdata": [
            [
             "Rain showers: Slight"
            ]
           ],
           "hovertemplate": "Metric=%{x}<br>Date=2025-10-28 00:00:00<br>Type=Forecast<br>Value=%{y}<br>Weather=%{customdata[0]}<extra></extra>",
           "ids": [
            "Rainfall"
           ],
           "legendgroup": "Rainfall",
           "marker": {
            "color": "#00cc96",
            "pattern": {
             "shape": ""
            }
           },
           "name": "Rainfall",
           "orientation": "v",
           "showlegend": true,
           "textposition": "auto",
           "type": "bar",
           "x": [
            "Rainfall"
           ],
           "xaxis": "x2",
           "y": {
            "bdata": "ZmZmZmZmDkA=",
            "dtype": "f8"
           },
           "yaxis": "y2"
          },
          {
           "customdata": [
            [
             "Rain showers: Slight"
            ]
           ],
           "hovertemplate": "Metric=%{x}<br>Date=2025-10-28 00:00:00<br>Type=Forecast<br>Value=%{y}<br>Weather=%{customdata[0]}<extra></extra>",
           "ids": [
            "Sum of Daily Rain"
           ],
           "legendgroup": "Sum of Daily Rain",
           "marker": {
            "color": "#ab63fa",
            "pattern": {
             "shape": ""
            }
           },
           "name": "Sum of Daily Rain",
           "orientation": "v",
           "showlegend": true,
           "textposition": "auto",
           "type": "bar",
           "x": [
            "Sum of Daily Rain"
           ],
           "xaxis": "x2",
           "y": {
            "bdata": "AAAAAAAAAAA=",
            "dtype": "f8"
           },
           "yaxis": "y2"
          },
          {
           "customdata": [
            [
             "Rain showers: Slight"
            ]
           ],
           "hovertemplate": "Metric=%{x}<br>Date=2025-10-28 00:00:00<br>Type=Forecast<br>Value=%{y}<br>Weather=%{customdata[0]}<extra></extra>",
           "ids": [
            "Hours with Rain"
           ],
           "legendgroup": "Hours with Rain",
           "marker": {
            "color": "#FFA15A",
            "pattern": {
             "shape": ""
            }
           },
           "name": "Hours with Rain",
           "orientation": "v",
           "showlegend": true,
           "textposition": "auto",
           "type": "bar",
           "x": [
            "Hours with Rain"
           ],
           "xaxis": "x2",
           "y": {
            "bdata": "AAAAAAAAIEA=",
            "dtype": "f8"
           },
           "yaxis": "y2"
          },
          {
           "customdata": [
            [
             "Rain showers: Slight"
            ]
           ],
           "hovertemplate": "Metric=%{x}<br>Date=2025-10-28 00:00:00<br>Type=Forecast<br>Value=%{y}<br>Weather=%{customdata[0]}<extra></extra>",
           "ids": [
            "Wind Speed"
           ],
           "legendgroup": "Wind Speed",
           "marker": {
            "color": "#19d3f3",
            "pattern": {
             "shape": ""
            }
           },
           "name": "Wind Speed",
           "orientation": "v",
           "showlegend": true,
           "textposition": "auto",
           "type": "bar",
           "x": [
            "Wind Speed"
           ],
           "xaxis": "x2",
           "y": {
            "bdata": "MzMzMzMzLUA=",
            "dtype": "f8"
           },
           "yaxis": "y2"
          }
         ],
         "name": "2025-10-28 00:00:00"
        },
        {
         "data": [
          {
           "customdata": [
            [
             "Overcast"
            ]
           ],
           "hovertemplate": "Metric=%{x}<br>Date=2025-10-29 00:00:00<br>Type=Forecast<br>Value=%{y}<br>Weather=%{customdata[0]}<extra></extra>",
           "ids": [
            "Max Temp"
           ],
           "legendgroup": "Max Temp",
           "marker": {
            "color": "#636efa",
            "pattern": {
             "shape": ""
            }
           },
           "name": "Max Temp",
           "orientation": "v",
           "showlegend": true,
           "textposition": "auto",
           "type": "bar",
           "x": [
            "Max Temp"
           ],
           "xaxis": "x2",
           "y": {
            "bdata": "MzMzMzMzP0A=",
            "dtype": "f8"
           },
           "yaxis": "y2"
          },
          {
           "customdata": [
            [
             "Overcast"
            ]
           ],
           "hovertemplate": "Metric=%{x}<br>Date=2025-10-29 00:00:00<br>Type=Forecast<br>Value=%{y}<br>Weather=%{customdata[0]}<extra></extra>",
           "ids": [
            "Min Temp"
           ],
           "legendgroup": "Min Temp",
           "marker": {
            "color": "#EF553B",
            "pattern": {
             "shape": ""
            }
           },
           "name": "Min Temp",
           "orientation": "v",
           "showlegend": true,
           "textposition": "auto",
           "type": "bar",
           "x": [
            "Min Temp"
           ],
           "xaxis": "x2",
           "y": {
            "bdata": "ZmZmZmbmOEA=",
            "dtype": "f8"
           },
           "yaxis": "y2"
          },
          {
           "customdata": [
            [
             "Overcast"
            ]
           ],
           "hovertemplate": "Metric=%{x}<br>Date=2025-10-29 00:00:00<br>Type=Forecast<br>Value=%{y}<br>Weather=%{customdata[0]}<extra></extra>",
           "ids": [
            "Rainfall"
           ],
           "legendgroup": "Rainfall",
           "marker": {
            "color": "#00cc96",
            "pattern": {
             "shape": ""
            }
           },
           "name": "Rainfall",
           "orientation": "v",
           "showlegend": true,
           "textposition": "auto",
           "type": "bar",
           "x": [
            "Rainfall"
           ],
           "xaxis": "x2",
           "y": {
            "bdata": "AAAAAAAAAAA=",
            "dtype": "f8"
           },
           "yaxis": "y2"
          },
          {
           "customdata": [
            [
             "Overcast"
            ]
           ],
           "hovertemplate": "Metric=%{x}<br>Date=2025-10-29 00:00:00<br>Type=Forecast<br>Value=%{y}<br>Weather=%{customdata[0]}<extra></extra>",
           "ids": [
            "Sum of Daily Rain"
           ],
           "legendgroup": "Sum of Daily Rain",
           "marker": {
            "color": "#ab63fa",
            "pattern": {
             "shape": ""
            }
           },
           "name": "Sum of Daily Rain",
           "orientation": "v",
           "showlegend": true,
           "textposition": "auto",
           "type": "bar",
           "x": [
            "Sum of Daily Rain"
           ],
           "xaxis": "x2",
           "y": {
            "bdata": "AAAAAAAAAAA=",
            "dtype": "f8"
           },
           "yaxis": "y2"
          },
          {
           "customdata": [
            [
             "Overcast"
            ]
           ],
           "hovertemplate": "Metric=%{x}<br>Date=2025-10-29 00:00:00<br>Type=Forecast<br>Value=%{y}<br>Weather=%{customdata[0]}<extra></extra>",
           "ids": [
            "Hours with Rain"
           ],
           "legendgroup": "Hours with Rain",
           "marker": {
            "color": "#FFA15A",
            "pattern": {
             "shape": ""
            }
           },
           "name": "Hours with Rain",
           "orientation": "v",
           "showlegend": true,
           "textposition": "auto",
           "type": "bar",
           "x": [
            "Hours with Rain"
           ],
           "xaxis": "x2",
           "y": {
            "bdata": "AAAAAAAAAAA=",
            "dtype": "f8"
           },
           "yaxis": "y2"
          },
          {
           "customdata": [
            [
             "Overcast"
            ]
           ],
           "hovertemplate": "Metric=%{x}<br>Date=2025-10-29 00:00:00<br>Type=Forecast<br>Value=%{y}<br>Weather=%{customdata[0]}<extra></extra>",
           "ids": [
            "Wind Speed"
           ],
           "legendgroup": "Wind Speed",
           "marker": {
            "color": "#19d3f3",
            "pattern": {
             "shape": ""
            }
           },
           "name": "Wind Speed",
           "orientation": "v",
           "showlegend": true,
           "textposition": "auto",
           "type": "bar",
           "x": [
            "Wind Speed"
           ],
           "xaxis": "x2",
           "y": {
            "bdata": "AAAAAAAAJ0A=",
            "dtype": "f8"
           },
           "yaxis": "y2"
          }
         ],
         "name": "2025-10-29 00:00:00"
        },
        {
         "data": [
          {
           "customdata": [
            [
             "Overcast"
            ]
           ],
           "hovertemplate": "Metric=%{x}<br>Date=2025-10-30 00:00:00<br>Type=Forecast<br>Value=%{y}<br>Weather=%{customdata[0]}<extra></extra>",
           "ids": [
            "Max Temp"
           ],
           "legendgroup": "Max Temp",
           "marker": {
            "color": "#636efa",
            "pattern": {
             "shape": ""
            }
           },
           "name": "Max Temp",
           "orientation": "v",
           "showlegend": true,
           "textposition": "auto",
           "type": "bar",
           "x": [
            "Max Temp"
           ],
           "xaxis": "x2",
           "y": {
            "bdata": "MzMzMzMzQEA=",
            "dtype": "f8"
           },
           "yaxis": "y2"
          },
          {
           "customdata": [
            [
             "Overcast"
            ]
           ],
           "hovertemplate": "Metric=%{x}<br>Date=2025-10-30 00:00:00<br>Type=Forecast<br>Value=%{y}<br>Weather=%{customdata[0]}<extra></extra>",
           "ids": [
            "Min Temp"
           ],
           "legendgroup": "Min Temp",
           "marker": {
            "color": "#EF553B",
            "pattern": {
             "shape": ""
            }
           },
           "name": "Min Temp",
           "orientation": "v",
           "showlegend": true,
           "textposition": "auto",
           "type": "bar",
           "x": [
            "Min Temp"
           ],
           "xaxis": "x2",
           "y": {
            "bdata": "AAAAAACAOUA=",
            "dtype": "f8"
           },
           "yaxis": "y2"
          },
          {
           "customdata": [
            [
             "Overcast"
            ]
           ],
           "hovertemplate": "Metric=%{x}<br>Date=2025-10-30 00:00:00<br>Type=Forecast<br>Value=%{y}<br>Weather=%{customdata[0]}<extra></extra>",
           "ids": [
            "Rainfall"
           ],
           "legendgroup": "Rainfall",
           "marker": {
            "color": "#00cc96",
            "pattern": {
             "shape": ""
            }
           },
           "name": "Rainfall",
           "orientation": "v",
           "showlegend": true,
           "textposition": "auto",
           "type": "bar",
           "x": [
            "Rainfall"
           ],
           "xaxis": "x2",
           "y": {
            "bdata": "AAAAAAAAAAA=",
            "dtype": "f8"
           },
           "yaxis": "y2"
          },
          {
           "customdata": [
            [
             "Overcast"
            ]
           ],
           "hovertemplate": "Metric=%{x}<br>Date=2025-10-30 00:00:00<br>Type=Forecast<br>Value=%{y}<br>Weather=%{customdata[0]}<extra></extra>",
           "ids": [
            "Sum of Daily Rain"
           ],
           "legendgroup": "Sum of Daily Rain",
           "marker": {
            "color": "#ab63fa",
            "pattern": {
             "shape": ""
            }
           },
           "name": "Sum of Daily Rain",
           "orientation": "v",
           "showlegend": true,
           "textposition": "auto",
           "type": "bar",
           "x": [
            "Sum of Daily Rain"
           ],
           "xaxis": "x2",
           "y": {
            "bdata": "AAAAAAAAAAA=",
            "dtype": "f8"
           },
           "yaxis": "y2"
          },
          {
           "customdata": [
            [
             "Overcast"
            ]
           ],
           "hovertemplate": "Metric=%{x}<br>Date=2025-10-30 00:00:00<br>Type=Forecast<br>Value=%{y}<br>Weather=%{customdata[0]}<extra></extra>",
           "ids": [
            "Hours with Rain"
           ],
           "legendgroup": "Hours with Rain",
           "marker": {
            "color": "#FFA15A",
            "pattern": {
             "shape": ""
            }
           },
           "name": "Hours with Rain",
           "orientation": "v",
           "showlegend": true,
           "textposition": "auto",
           "type": "bar",
           "x": [
            "Hours with Rain"
           ],
           "xaxis": "x2",
           "y": {
            "bdata": "AAAAAAAAAAA=",
            "dtype": "f8"
           },
           "yaxis": "y2"
          },
          {
           "customdata": [
            [
             "Overcast"
            ]
           ],
           "hovertemplate": "Metric=%{x}<br>Date=2025-10-30 00:00:00<br>Type=Forecast<br>Value=%{y}<br>Weather=%{customdata[0]}<extra></extra>",
           "ids": [
            "Wind Speed"
           ],
           "legendgroup": "Wind Speed",
           "marker": {
            "color": "#19d3f3",
            "pattern": {
             "shape": ""
            }
           },
           "name": "Wind Speed",
           "orientation": "v",
           "showlegend": true,
           "textposition": "auto",
           "type": "bar",
           "x": [
            "Wind Speed"
           ],
           "xaxis": "x2",
           "y": {
            "bdata": "zczMzMzMHEA=",
            "dtype": "f8"
           },
           "yaxis": "y2"
          }
         ],
         "name": "2025-10-30 00:00:00"
        },
        {
         "data": [
          {
           "customdata": [
            [
             "Overcast"
            ]
           ],
           "hovertemplate": "Metric=%{x}<br>Date=2025-10-31 00:00:00<br>Type=Forecast<br>Value=%{y}<br>Weather=%{customdata[0]}<extra></extra>",
           "ids": [
            "Max Temp"
           ],
           "legendgroup": "Max Temp",
           "marker": {
            "color": "#636efa",
            "pattern": {
             "shape": ""
            }
           },
           "name": "Max Temp",
           "orientation": "v",
           "showlegend": true,
           "textposition": "auto",
           "type": "bar",
           "x": [
            "Max Temp"
           ],
           "xaxis": "x2",
           "y": {
            "bdata": "ZmZmZmZmQEA=",
            "dtype": "f8"
           },
           "yaxis": "y2"
          },
          {
           "customdata": [
            [
             "Overcast"
            ]
           ],
           "hovertemplate": "Metric=%{x}<br>Date=2025-10-31 00:00:00<br>Type=Forecast<br>Value=%{y}<br>Weather=%{customdata[0]}<extra></extra>",
           "ids": [
            "Min Temp"
           ],
           "legendgroup": "Min Temp",
           "marker": {
            "color": "#EF553B",
            "pattern": {
             "shape": ""
            }
           },
           "name": "Min Temp",
           "orientation": "v",
           "showlegend": true,
           "textposition": "auto",
           "type": "bar",
           "x": [
            "Min Temp"
           ],
           "xaxis": "x2",
           "y": {
            "bdata": "mpmZmZmZOUA=",
            "dtype": "f8"
           },
           "yaxis": "y2"
          },
          {
           "customdata": [
            [
             "Overcast"
            ]
           ],
           "hovertemplate": "Metric=%{x}<br>Date=2025-10-31 00:00:00<br>Type=Forecast<br>Value=%{y}<br>Weather=%{customdata[0]}<extra></extra>",
           "ids": [
            "Rainfall"
           ],
           "legendgroup": "Rainfall",
           "marker": {
            "color": "#00cc96",
            "pattern": {
             "shape": ""
            }
           },
           "name": "Rainfall",
           "orientation": "v",
           "showlegend": true,
           "textposition": "auto",
           "type": "bar",
           "x": [
            "Rainfall"
           ],
           "xaxis": "x2",
           "y": {
            "bdata": "MzMzMzMz0z8=",
            "dtype": "f8"
           },
           "yaxis": "y2"
          },
          {
           "customdata": [
            [
             "Overcast"
            ]
           ],
           "hovertemplate": "Metric=%{x}<br>Date=2025-10-31 00:00:00<br>Type=Forecast<br>Value=%{y}<br>Weather=%{customdata[0]}<extra></extra>",
           "ids": [
            "Sum of Daily Rain"
           ],
           "legendgroup": "Sum of Daily Rain",
           "marker": {
            "color": "#ab63fa",
            "pattern": {
             "shape": ""
            }
           },
           "name": "Sum of Daily Rain",
           "orientation": "v",
           "showlegend": true,
           "textposition": "auto",
           "type": "bar",
           "x": [
            "Sum of Daily Rain"
           ],
           "xaxis": "x2",
           "y": {
            "bdata": "AAAAAAAAAAA=",
            "dtype": "f8"
           },
           "yaxis": "y2"
          },
          {
           "customdata": [
            [
             "Overcast"
            ]
           ],
           "hovertemplate": "Metric=%{x}<br>Date=2025-10-31 00:00:00<br>Type=Forecast<br>Value=%{y}<br>Weather=%{customdata[0]}<extra></extra>",
           "ids": [
            "Hours with Rain"
           ],
           "legendgroup": "Hours with Rain",
           "marker": {
            "color": "#FFA15A",
            "pattern": {
             "shape": ""
            }
           },
           "name": "Hours with Rain",
           "orientation": "v",
           "showlegend": true,
           "textposition": "auto",
           "type": "bar",
           "x": [
            "Hours with Rain"
           ],
           "xaxis": "x2",
           "y": {
            "bdata": "AAAAAAAACEA=",
            "dtype": "f8"
           },
           "yaxis": "y2"
          },
          {
           "customdata": [
            [
             "Overcast"
            ]
           ],
           "hovertemplate": "Metric=%{x}<br>Date=2025-10-31 00:00:00<br>Type=Forecast<br>Value=%{y}<br>Weather=%{customdata[0]}<extra></extra>",
           "ids": [
            "Wind Speed"
           ],
           "legendgroup": "Wind Speed",
           "marker": {
            "color": "#19d3f3",
            "pattern": {
             "shape": ""
            }
           },
           "name": "Wind Speed",
           "orientation": "v",
           "showlegend": true,
           "textposition": "auto",
           "type": "bar",
           "x": [
            "Wind Speed"
           ],
           "xaxis": "x2",
           "y": {
            "bdata": "MzMzMzMzG0A=",
            "dtype": "f8"
           },
           "yaxis": "y2"
          }
         ],
         "name": "2025-10-31 00:00:00"
        }
       ],
       "layout": {
        "annotations": [
         {
          "font": {},
          "showarrow": false,
          "text": "Type=Historical",
          "x": 0.245,
          "xanchor": "center",
          "xref": "paper",
          "y": 1,
          "yanchor": "bottom",
          "yref": "paper"
         },
         {
          "font": {},
          "showarrow": false,
          "text": "Type=Forecast",
          "x": 0.755,
          "xanchor": "center",
          "xref": "paper",
          "y": 1,
          "yanchor": "bottom",
          "yref": "paper"
         }
        ],
        "barmode": "relative",
        "height": 600,
        "legend": {
         "title": {
          "text": "Metric"
         },
         "tracegroupgap": 0
        },
        "sliders": [
         {
          "active": 0,
          "currentvalue": {
           "prefix": "Date="
          },
          "len": 0.9,
          "pad": {
           "b": 10,
           "t": 60
          },
          "steps": [
           {
            "args": [
             [
              "2025-10-01 00:00:00"
             ],
             {
              "frame": {
               "duration": 0,
               "redraw": true
              },
              "fromcurrent": true,
              "mode": "immediate",
              "transition": {
               "duration": 0,
               "easing": "linear"
              }
             }
            ],
            "label": "2025-10-01 00:00:00",
            "method": "animate"
           },
           {
            "args": [
             [
              "2025-10-02 00:00:00"
             ],
             {
              "frame": {
               "duration": 0,
               "redraw": true
              },
              "fromcurrent": true,
              "mode": "immediate",
              "transition": {
               "duration": 0,
               "easing": "linear"
              }
             }
            ],
            "label": "2025-10-02 00:00:00",
            "method": "animate"
           },
           {
            "args": [
             [
              "2025-10-03 00:00:00"
             ],
             {
              "frame": {
               "duration": 0,
               "redraw": true
              },
              "fromcurrent": true,
              "mode": "immediate",
              "transition": {
               "duration": 0,
               "easing": "linear"
              }
             }
            ],
            "label": "2025-10-03 00:00:00",
            "method": "animate"
           },
           {
            "args": [
             [
              "2025-10-04 00:00:00"
             ],
             {
              "frame": {
               "duration": 0,
               "redraw": true
              },
              "fromcurrent": true,
              "mode": "immediate",
              "transition": {
               "duration": 0,
               "easing": "linear"
              }
             }
            ],
            "label": "2025-10-04 00:00:00",
            "method": "animate"
           },
           {
            "args": [
             [
              "2025-10-05 00:00:00"
             ],
             {
              "frame": {
               "duration": 0,
               "redraw": true
              },
              "fromcurrent": true,
              "mode": "immediate",
              "transition": {
               "duration": 0,
               "easing": "linear"
              }
             }
            ],
            "label": "2025-10-05 00:00:00",
            "method": "animate"
           },
           {
            "args": [
             [
              "2025-10-06 00:00:00"
             ],
             {
              "frame": {
               "duration": 0,
               "redraw": true
              },
              "fromcurrent": true,
              "mode": "immediate",
              "transition": {
               "duration": 0,
               "easing": "linear"
              }
             }
            ],
            "label": "2025-10-06 00:00:00",
            "method": "animate"
           },
           {
            "args": [
             [
              "2025-10-07 00:00:00"
             ],
             {
              "frame": {
               "duration": 0,
               "redraw": true
              },
              "fromcurrent": true,
              "mode": "immediate",
              "transition": {
               "duration": 0,
               "easing": "linear"
              }
             }
            ],
            "label": "2025-10-07 00:00:00",
            "method": "animate"
           },
           {
            "args": [
             [
              "2025-10-08 00:00:00"
             ],
             {
              "frame": {
               "duration": 0,
               "redraw": true
              },
              "fromcurrent": true,
              "mode": "immediate",
              "transition": {
               "duration": 0,
               "easing": "linear"
              }
             }
            ],
            "label": "2025-10-08 00:00:00",
            "method": "animate"
           },
           {
            "args": [
             [
              "2025-10-09 00:00:00"
             ],
             {
              "frame": {
               "duration": 0,
               "redraw": true
              },
              "fromcurrent": true,
              "mode": "immediate",
              "transition": {
               "duration": 0,
               "easing": "linear"
              }
             }
            ],
            "label": "2025-10-09 00:00:00",
            "method": "animate"
           },
           {
            "args": [
             [
              "2025-10-10 00:00:00"
             ],
             {
              "frame": {
               "duration": 0,
               "redraw": true
              },
              "fromcurrent": true,
              "mode": "immediate",
              "transition": {
               "duration": 0,
               "easing": "linear"
              }
             }
            ],
            "label": "2025-10-10 00:00:00",
            "method": "animate"
           },
           {
            "args": [
             [
              "2025-10-11 00:00:00"
             ],
             {
              "frame": {
               "duration": 0,
               "redraw": true
              },
              "fromcurrent": true,
              "mode": "immediate",
              "transition": {
               "duration": 0,
               "easing": "linear"
              }
             }
            ],
            "label": "2025-10-11 00:00:00",
            "method": "animate"
           },
           {
            "args": [
             [
              "2025-10-12 00:00:00"
             ],
             {
              "frame": {
               "duration": 0,
               "redraw": true
              },
              "fromcurrent": true,
              "mode": "immediate",
              "transition": {
               "duration": 0,
               "easing": "linear"
              }
             }
            ],
            "label": "2025-10-12 00:00:00",
            "method": "animate"
           },
           {
            "args": [
             [
              "2025-10-13 00:00:00"
             ],
             {
              "frame": {
               "duration": 0,
               "redraw": true
              },
              "fromcurrent": true,
              "mode": "immediate",
              "transition": {
               "duration": 0,
               "easing": "linear"
              }
             }
            ],
            "label": "2025-10-13 00:00:00",
            "method": "animate"
           },
           {
            "args": [
             [
              "2025-10-14 00:00:00"
             ],
             {
              "frame": {
               "duration": 0,
               "redraw": true
              },
              "fromcurrent": true,
              "mode": "immediate",
              "transition": {
               "duration": 0,
               "easing": "linear"
              }
             }
            ],
            "label": "2025-10-14 00:00:00",
            "method": "animate"
           },
           {
            "args": [
             [
              "2025-10-15 00:00:00"
             ],
             {
              "frame": {
               "duration": 0,
               "redraw": true
              },
              "fromcurrent": true,
              "mode": "immediate",
              "transition": {
               "duration": 0,
               "easing": "linear"
              }
             }
            ],
            "label": "2025-10-15 00:00:00",
            "method": "animate"
           },
           {
            "args": [
             [
              "2025-10-16 00:00:00"
             ],
             {
              "frame": {
               "duration": 0,
               "redraw": true
              },
              "fromcurrent": true,
              "mode": "immediate",
              "transition": {
               "duration": 0,
               "easing": "linear"
              }
             }
            ],
            "label": "2025-10-16 00:00:00",
            "method": "animate"
           },
           {
            "args": [
             [
              "2025-10-17 00:00:00"
             ],
             {
              "frame": {
               "duration": 0,
               "redraw": true
              },
              "fromcurrent": true,
              "mode": "immediate",
              "transition": {
               "duration": 0,
               "easing": "linear"
              }
             }
            ],
            "label": "2025-10-17 00:00:00",
            "method": "animate"
           },
           {
            "args": [
             [
              "2025-10-18 00:00:00"
             ],
             {
              "frame": {
               "duration": 0,
               "redraw": true
              },
              "fromcurrent": true,
              "mode": "immediate",
              "transition": {
               "duration": 0,
               "easing": "linear"
              }
             }
            ],
            "label": "2025-10-18 00:00:00",
            "method": "animate"
           },
           {
            "args": [
             [
              "2025-10-19 00:00:00"
             ],
             {
              "frame": {
               "duration": 0,
               "redraw": true
              },
              "fromcurrent": true,
              "mode": "immediate",
              "transition": {
               "duration": 0,
               "easing": "linear"
              }
             }
            ],
            "label": "2025-10-19 00:00:00",
            "method": "animate"
           },
           {
            "args": [
             [
              "2025-10-20 00:00:00"
             ],
             {
              "frame": {
               "duration": 0,
               "redraw": true
              },
              "fromcurrent": true,
              "mode": "immediate",
              "transition": {
               "duration": 0,
               "easing": "linear"
              }
             }
            ],
            "label": "2025-10-20 00:00:00",
            "method": "animate"
           },
           {
            "args": [
             [
              "2025-10-21 00:00:00"
             ],
             {
              "frame": {
               "duration": 0,
               "redraw": true
              },
              "fromcurrent": true,
              "mode": "immediate",
              "transition": {
               "duration": 0,
               "easing": "linear"
              }
             }
            ],
            "label": "2025-10-21 00:00:00",
            "method": "animate"
           },
           {
            "args": [
             [
              "2025-10-22 00:00:00"
             ],
             {
              "frame": {
               "duration": 0,
               "redraw": true
              },
              "fromcurrent": true,
              "mode": "immediate",
              "transition": {
               "duration": 0,
               "easing": "linear"
              }
             }
            ],
            "label": "2025-10-22 00:00:00",
            "method": "animate"
           },
           {
            "args": [
             [
              "2025-10-23 00:00:00"
             ],
             {
              "frame": {
               "duration": 0,
               "redraw": true
              },
              "fromcurrent": true,
              "mode": "immediate",
              "transition": {
               "duration": 0,
               "easing": "linear"
              }
             }
            ],
            "label": "2025-10-23 00:00:00",
            "method": "animate"
           },
           {
            "args": [
             [
              "2025-10-24 00:00:00"
             ],
             {
              "frame": {
               "duration": 0,
               "redraw": true
              },
              "fromcurrent": true,
              "mode": "immediate",
              "transition": {
               "duration": 0,
               "easing": "linear"
              }
             }
            ],
            "label": "2025-10-24 00:00:00",
            "method": "animate"
           },
           {
            "args": [
             [
              "2025-10-25 00:00:00"
             ],
             {
              "frame": {
               "duration": 0,
               "redraw": true
              },
              "fromcurrent": true,
              "mode": "immediate",
              "transition": {
               "duration": 0,
               "easing": "linear"
              }
             }
            ],
            "label": "2025-10-25 00:00:00",
            "method": "animate"
           },
           {
            "args": [
             [
              "2025-10-26 00:00:00"
             ],
             {
              "frame": {
               "duration": 0,
               "redraw": true
              },
              "fromcurrent": true,
              "mode": "immediate",
              "transition": {
               "duration": 0,
               "easing": "linear"
              }
             }
            ],
            "label": "2025-10-26 00:00:00",
            "method": "animate"
           },
           {
            "args": [
             [
              "2025-10-27 00:00:00"
             ],
             {
              "frame": {
               "duration": 0,
               "redraw": true
              },
              "fromcurrent": true,
              "mode": "immediate",
              "transition": {
               "duration": 0,
               "easing": "linear"
              }
             }
            ],
            "label": "2025-10-27 00:00:00",
            "method": "animate"
           },
           {
            "args": [
             [
              "2025-10-28 00:00:00"
             ],
             {
              "frame": {
               "duration": 0,
               "redraw": true
              },
              "fromcurrent": true,
              "mode": "immediate",
              "transition": {
               "duration": 0,
               "easing": "linear"
              }
             }
            ],
            "label": "2025-10-28 00:00:00",
            "method": "animate"
           },
           {
            "args": [
             [
              "2025-10-29 00:00:00"
             ],
             {
              "frame": {
               "duration": 0,
               "redraw": true
              },
              "fromcurrent": true,
              "mode": "immediate",
              "transition": {
               "duration": 0,
               "easing": "linear"
              }
             }
            ],
            "label": "2025-10-29 00:00:00",
            "method": "animate"
           },
           {
            "args": [
             [
              "2025-10-30 00:00:00"
             ],
             {
              "frame": {
               "duration": 0,
               "redraw": true
              },
              "fromcurrent": true,
              "mode": "immediate",
              "transition": {
               "duration": 0,
               "easing": "linear"
              }
             }
            ],
            "label": "2025-10-30 00:00:00",
            "method": "animate"
           },
           {
            "args": [
             [
              "2025-10-31 00:00:00"
             ],
             {
              "frame": {
               "duration": 0,
               "redraw": true
              },
              "fromcurrent": true,
              "mode": "immediate",
              "transition": {
               "duration": 0,
               "easing": "linear"
              }
             }
            ],
            "label": "2025-10-31 00:00:00",
            "method": "animate"
           }
          ],
          "x": 0.1,
          "xanchor": "left",
          "y": 0,
          "yanchor": "top"
         }
        ],
        "template": {
         "data": {
          "bar": [
           {
            "error_x": {
             "color": "#f2f5fa"
            },
            "error_y": {
             "color": "#f2f5fa"
            },
            "marker": {
             "line": {
              "color": "rgb(17,17,17)",
              "width": 0.5
             },
             "pattern": {
              "fillmode": "overlay",
              "size": 10,
              "solidity": 0.2
             }
            },
            "type": "bar"
           }
          ],
          "barpolar": [
           {
            "marker": {
             "line": {
              "color": "rgb(17,17,17)",
              "width": 0.5
             },
             "pattern": {
              "fillmode": "overlay",
              "size": 10,
              "solidity": 0.2
             }
            },
            "type": "barpolar"
           }
          ],
          "carpet": [
           {
            "aaxis": {
             "endlinecolor": "#A2B1C6",
             "gridcolor": "#506784",
             "linecolor": "#506784",
             "minorgridcolor": "#506784",
             "startlinecolor": "#A2B1C6"
            },
            "baxis": {
             "endlinecolor": "#A2B1C6",
             "gridcolor": "#506784",
             "linecolor": "#506784",
             "minorgridcolor": "#506784",
             "startlinecolor": "#A2B1C6"
            },
            "type": "carpet"
           }
          ],
          "choropleth": [
           {
            "colorbar": {
             "outlinewidth": 0,
             "ticks": ""
            },
            "type": "choropleth"
           }
          ],
          "contour": [
           {
            "colorbar": {
             "outlinewidth": 0,
             "ticks": ""
            },
            "colorscale": [
             [
              0,
              "#0d0887"
             ],
             [
              0.1111111111111111,
              "#46039f"
             ],
             [
              0.2222222222222222,
              "#7201a8"
             ],
             [
              0.3333333333333333,
              "#9c179e"
             ],
             [
              0.4444444444444444,
              "#bd3786"
             ],
             [
              0.5555555555555556,
              "#d8576b"
             ],
             [
              0.6666666666666666,
              "#ed7953"
             ],
             [
              0.7777777777777778,
              "#fb9f3a"
             ],
             [
              0.8888888888888888,
              "#fdca26"
             ],
             [
              1,
              "#f0f921"
             ]
            ],
            "type": "contour"
           }
          ],
          "contourcarpet": [
           {
            "colorbar": {
             "outlinewidth": 0,
             "ticks": ""
            },
            "type": "contourcarpet"
           }
          ],
          "heatmap": [
           {
            "colorbar": {
             "outlinewidth": 0,
             "ticks": ""
            },
            "colorscale": [
             [
              0,
              "#0d0887"
             ],
             [
              0.1111111111111111,
              "#46039f"
             ],
             [
              0.2222222222222222,
              "#7201a8"
             ],
             [
              0.3333333333333333,
              "#9c179e"
             ],
             [
              0.4444444444444444,
              "#bd3786"
             ],
             [
              0.5555555555555556,
              "#d8576b"
             ],
             [
              0.6666666666666666,
              "#ed7953"
             ],
             [
              0.7777777777777778,
              "#fb9f3a"
             ],
             [
              0.8888888888888888,
              "#fdca26"
             ],
             [
              1,
              "#f0f921"
             ]
            ],
            "type": "heatmap"
           }
          ],
          "histogram": [
           {
            "marker": {
             "pattern": {
              "fillmode": "overlay",
              "size": 10,
              "solidity": 0.2
             }
            },
            "type": "histogram"
           }
          ],
          "histogram2d": [
           {
            "colorbar": {
             "outlinewidth": 0,
             "ticks": ""
            },
            "colorscale": [
             [
              0,
              "#0d0887"
             ],
             [
              0.1111111111111111,
              "#46039f"
             ],
             [
              0.2222222222222222,
              "#7201a8"
             ],
             [
              0.3333333333333333,
              "#9c179e"
             ],
             [
              0.4444444444444444,
              "#bd3786"
             ],
             [
              0.5555555555555556,
              "#d8576b"
             ],
             [
              0.6666666666666666,
              "#ed7953"
             ],
             [
              0.7777777777777778,
              "#fb9f3a"
             ],
             [
              0.8888888888888888,
              "#fdca26"
             ],
             [
              1,
              "#f0f921"
             ]
            ],
            "type": "histogram2d"
           }
          ],
          "histogram2dcontour": [
           {
            "colorbar": {
             "outlinewidth": 0,
             "ticks": ""
            },
            "colorscale": [
             [
              0,
              "#0d0887"
             ],
             [
              0.1111111111111111,
              "#46039f"
             ],
             [
              0.2222222222222222,
              "#7201a8"
             ],
             [
              0.3333333333333333,
              "#9c179e"
             ],
             [
              0.4444444444444444,
              "#bd3786"
             ],
             [
              0.5555555555555556,
              "#d8576b"
             ],
             [
              0.6666666666666666,
              "#ed7953"
             ],
             [
              0.7777777777777778,
              "#fb9f3a"
             ],
             [
              0.8888888888888888,
              "#fdca26"
             ],
             [
              1,
              "#f0f921"
             ]
            ],
            "type": "histogram2dcontour"
           }
          ],
          "mesh3d": [
           {
            "colorbar": {
             "outlinewidth": 0,
             "ticks": ""
            },
            "type": "mesh3d"
           }
          ],
          "parcoords": [
           {
            "line": {
             "colorbar": {
              "outlinewidth": 0,
              "ticks": ""
             }
            },
            "type": "parcoords"
           }
          ],
          "pie": [
           {
            "automargin": true,
            "type": "pie"
           }
          ],
          "scatter": [
           {
            "marker": {
             "line": {
              "color": "#283442"
             }
            },
            "type": "scatter"
           }
          ],
          "scatter3d": [
           {
            "line": {
             "colorbar": {
              "outlinewidth": 0,
              "ticks": ""
             }
            },
            "marker": {
             "colorbar": {
              "outlinewidth": 0,
              "ticks": ""
             }
            },
            "type": "scatter3d"
           }
          ],
          "scattercarpet": [
           {
            "marker": {
             "colorbar": {
              "outlinewidth": 0,
              "ticks": ""
             }
            },
            "type": "scattercarpet"
           }
          ],
          "scattergeo": [
           {
            "marker": {
             "colorbar": {
              "outlinewidth": 0,
              "ticks": ""
             }
            },
            "type": "scattergeo"
           }
          ],
          "scattergl": [
           {
            "marker": {
             "line": {
              "color": "#283442"
             }
            },
            "type": "scattergl"
           }
          ],
          "scattermap": [
           {
            "marker": {
             "colorbar": {
              "outlinewidth": 0,
              "ticks": ""
             }
            },
            "type": "scattermap"
           }
          ],
          "scattermapbox": [
           {
            "marker": {
             "colorbar": {
              "outlinewidth": 0,
              "ticks": ""
             }
            },
            "type": "scattermapbox"
           }
          ],
          "scatterpolar": [
           {
            "marker": {
             "colorbar": {
              "outlinewidth": 0,
              "ticks": ""
             }
            },
            "type": "scatterpolar"
           }
          ],
          "scatterpolargl": [
           {
            "marker": {
             "colorbar": {
              "outlinewidth": 0,
              "ticks": ""
             }
            },
            "type": "scatterpolargl"
           }
          ],
          "scatterternary": [
           {
            "marker": {
             "colorbar": {
              "outlinewidth": 0,
              "ticks": ""
             }
            },
            "type": "scatterternary"
           }
          ],
          "surface": [
           {
            "colorbar": {
             "outlinewidth": 0,
             "ticks": ""
            },
            "colorscale": [
             [
              0,
              "#0d0887"
             ],
             [
              0.1111111111111111,
              "#46039f"
             ],
             [
              0.2222222222222222,
              "#7201a8"
             ],
             [
              0.3333333333333333,
              "#9c179e"
             ],
             [
              0.4444444444444444,
              "#bd3786"
             ],
             [
              0.5555555555555556,
              "#d8576b"
             ],
             [
              0.6666666666666666,
              "#ed7953"
             ],
             [
              0.7777777777777778,
              "#fb9f3a"
             ],
             [
              0.8888888888888888,
              "#fdca26"
             ],
             [
              1,
              "#f0f921"
             ]
            ],
            "type": "surface"
           }
          ],
          "table": [
           {
            "cells": {
             "fill": {
              "color": "#506784"
             },
             "line": {
              "color": "rgb(17,17,17)"
             }
            },
            "header": {
             "fill": {
              "color": "#2a3f5f"
             },
             "line": {
              "color": "rgb(17,17,17)"
             }
            },
            "type": "table"
           }
          ]
         },
         "layout": {
          "annotationdefaults": {
           "arrowcolor": "#f2f5fa",
           "arrowhead": 0,
           "arrowwidth": 1
          },
          "autotypenumbers": "strict",
          "coloraxis": {
           "colorbar": {
            "outlinewidth": 0,
            "ticks": ""
           }
          },
          "colorscale": {
           "diverging": [
            [
             0,
             "#8e0152"
            ],
            [
             0.1,
             "#c51b7d"
            ],
            [
             0.2,
             "#de77ae"
            ],
            [
             0.3,
             "#f1b6da"
            ],
            [
             0.4,
             "#fde0ef"
            ],
            [
             0.5,
             "#f7f7f7"
            ],
            [
             0.6,
             "#e6f5d0"
            ],
            [
             0.7,
             "#b8e186"
            ],
            [
             0.8,
             "#7fbc41"
            ],
            [
             0.9,
             "#4d9221"
            ],
            [
             1,
             "#276419"
            ]
           ],
           "sequential": [
            [
             0,
             "#0d0887"
            ],
            [
             0.1111111111111111,
             "#46039f"
            ],
            [
             0.2222222222222222,
             "#7201a8"
            ],
            [
             0.3333333333333333,
             "#9c179e"
            ],
            [
             0.4444444444444444,
             "#bd3786"
            ],
            [
             0.5555555555555556,
             "#d8576b"
            ],
            [
             0.6666666666666666,
             "#ed7953"
            ],
            [
             0.7777777777777778,
             "#fb9f3a"
            ],
            [
             0.8888888888888888,
             "#fdca26"
            ],
            [
             1,
             "#f0f921"
            ]
           ],
           "sequentialminus": [
            [
             0,
             "#0d0887"
            ],
            [
             0.1111111111111111,
             "#46039f"
            ],
            [
             0.2222222222222222,
             "#7201a8"
            ],
            [
             0.3333333333333333,
             "#9c179e"
            ],
            [
             0.4444444444444444,
             "#bd3786"
            ],
            [
             0.5555555555555556,
             "#d8576b"
            ],
            [
             0.6666666666666666,
             "#ed7953"
            ],
            [
             0.7777777777777778,
             "#fb9f3a"
            ],
            [
             0.8888888888888888,
             "#fdca26"
            ],
            [
             1,
             "#f0f921"
            ]
           ]
          },
          "colorway": [
           "#636efa",
           "#EF553B",
           "#00cc96",
           "#ab63fa",
           "#FFA15A",
           "#19d3f3",
           "#FF6692",
           "#B6E880",
           "#FF97FF",
           "#FECB52"
          ],
          "font": {
           "color": "#f2f5fa"
          },
          "geo": {
           "bgcolor": "rgb(17,17,17)",
           "lakecolor": "rgb(17,17,17)",
           "landcolor": "rgb(17,17,17)",
           "showlakes": true,
           "showland": true,
           "subunitcolor": "#506784"
          },
          "hoverlabel": {
           "align": "left"
          },
          "hovermode": "closest",
          "mapbox": {
           "style": "dark"
          },
          "paper_bgcolor": "rgb(17,17,17)",
          "plot_bgcolor": "rgb(17,17,17)",
          "polar": {
           "angularaxis": {
            "gridcolor": "#506784",
            "linecolor": "#506784",
            "ticks": ""
           },
           "bgcolor": "rgb(17,17,17)",
           "radialaxis": {
            "gridcolor": "#506784",
            "linecolor": "#506784",
            "ticks": ""
           }
          },
          "scene": {
           "xaxis": {
            "backgroundcolor": "rgb(17,17,17)",
            "gridcolor": "#506784",
            "gridwidth": 2,
            "linecolor": "#506784",
            "showbackground": true,
            "ticks": "",
            "zerolinecolor": "#C8D4E3"
           },
           "yaxis": {
            "backgroundcolor": "rgb(17,17,17)",
            "gridcolor": "#506784",
            "gridwidth": 2,
            "linecolor": "#506784",
            "showbackground": true,
            "ticks": "",
            "zerolinecolor": "#C8D4E3"
           },
           "zaxis": {
            "backgroundcolor": "rgb(17,17,17)",
            "gridcolor": "#506784",
            "gridwidth": 2,
            "linecolor": "#506784",
            "showbackground": true,
            "ticks": "",
            "zerolinecolor": "#C8D4E3"
           }
          },
          "shapedefaults": {
           "line": {
            "color": "#f2f5fa"
           }
          },
          "sliderdefaults": {
           "bgcolor": "#C8D4E3",
           "bordercolor": "rgb(17,17,17)",
           "borderwidth": 1,
           "tickwidth": 0
          },
          "ternary": {
           "aaxis": {
            "gridcolor": "#506784",
            "linecolor": "#506784",
            "ticks": ""
           },
           "baxis": {
            "gridcolor": "#506784",
            "linecolor": "#506784",
            "ticks": ""
           },
           "bgcolor": "rgb(17,17,17)",
           "caxis": {
            "gridcolor": "#506784",
            "linecolor": "#506784",
            "ticks": ""
           }
          },
          "title": {
           "x": 0.05
          },
          "updatemenudefaults": {
           "bgcolor": "#506784",
           "borderwidth": 0
          },
          "xaxis": {
           "automargin": true,
           "gridcolor": "#283442",
           "linecolor": "#506784",
           "ticks": "",
           "title": {
            "standoff": 15
           },
           "zerolinecolor": "#283442",
           "zerolinewidth": 2
          },
          "yaxis": {
           "automargin": true,
           "gridcolor": "#283442",
           "linecolor": "#506784",
           "ticks": "",
           "title": {
            "standoff": 15
           },
           "zerolinecolor": "#283442",
           "zerolinewidth": 2
          }
         }
        },
        "title": {
         "text": "Chennai Weather: 2025-10-01 - 2025-10-25"
        },
        "updatemenus": [
         {
          "buttons": [
           {
            "args": [
             null,
             {
              "frame": {
               "duration": 500,
               "redraw": true
              },
              "fromcurrent": true,
              "mode": "immediate",
              "transition": {
               "duration": 500,
               "easing": "linear"
              }
             }
            ],
            "label": "&#9654;",
            "method": "animate"
           },
           {
            "args": [
             [
              null
             ],
             {
              "frame": {
               "duration": 0,
               "redraw": true
              },
              "fromcurrent": true,
              "mode": "immediate",
              "transition": {
               "duration": 0,
               "easing": "linear"
              }
             }
            ],
            "label": "&#9724;",
            "method": "animate"
           }
          ],
          "direction": "left",
          "pad": {
           "r": 10,
           "t": 70
          },
          "showactive": false,
          "type": "buttons",
          "x": 0.1,
          "xanchor": "right",
          "y": 0,
          "yanchor": "top"
         }
        ],
        "width": 1050,
        "xaxis": {
         "anchor": "y",
         "autorange": true,
         "categoryarray": [
          "Max Temp",
          "Min Temp",
          "Rainfall",
          "Sum of Daily Rain",
          "Hours with Rain",
          "Wind Speed"
         ],
         "categoryorder": "array",
         "domain": [
          0,
          0.49
         ],
         "range": [
          -0.5,
          5.5
         ],
         "title": {
          "text": "Metric"
         },
         "type": "category"
        },
        "xaxis2": {
         "anchor": "y2",
         "categoryarray": [
          "Max Temp",
          "Min Temp",
          "Rainfall",
          "Sum of Daily Rain",
          "Hours with Rain",
          "Wind Speed"
         ],
         "categoryorder": "array",
         "domain": [
          0.51,
          1
         ],
         "matches": "x",
         "title": {
          "text": "Metric"
         }
        },
        "yaxis": {
         "anchor": "x",
         "domain": [
          0,
          1
         ],
         "range": [
          0,
          48.5
         ],
         "title": {
          "text": "Value"
         },
         "type": "linear"
        },
        "yaxis2": {
         "anchor": "x2",
         "domain": [
          0,
          1
         ],
         "matches": "y",
         "showticklabels": false
        }
       }
      },
      "image/png": "[encoded data removed]"
     },
     "metadata": {},
     "output_type": "display_data"
    }
   ],
   "source": [
    "#Animated visualization\n",
    "'''\n",
    "Here we have dates under each type historical/forecast, so our vars will be these 2\n",
    "'''\n",
    "this_month_weather_melt = this_month_weather.melt(id_vars = [\"Date\",\"Weather\",\"Type\"],\n",
    "                                                  var_name = \"Metric\",\n",
    "                                                  value_name = \"Value\")\n",
    "#ensuring all \"Value\" is numeric -\n",
    "'''\n",
    "We are having multiple colums for Value with different data types like temp - float, weather - string\n",
    "on using pd.melt() - all comes under Value. If any non-numeric value is present then value will have mixed types.\n",
    "so before plotting we need to make sure converting VALUE to NUMERIC .\n",
    "this converts non-numeric to NaN that plotly skips\n",
    "\n",
    "'''\n",
    "try:\n",
    "    fig1 = px.bar(this_month_weather_melt, x=\"Metric\", y=\"Value\", color=\"Metric\",\n",
    "                  animation_frame = \"Date\",\n",
    "                  animation_group= \"Metric\",\n",
    "                  facet_col = \"Type\",  #we are going to have side by side panel for 2 types\n",
    "                  hover_data=[\"Weather\"],\n",
    "                  range_y = [0, this_month_weather_melt[\"Value\"].max() + 10],\n",
    "                  title = f\"{place} Weather: {start_date} - {end_date}\"\n",
    "                 )\n",
    "    \n",
    "    fig1.update_layout(template = \"plotly_dark\", \n",
    "                      height = 600, \n",
    "                      width = 1050)\n",
    "    fig1.show()\n",
    "except Exception as e:\n",
    "    print(f\"Exceution failed due to : {e}\")"
   ]
  },
  {
   "cell_type": "code",
   "execution_count": 36,
   "id": "a31ab087-954a-44be-9007-0fe383648f9a",
   "metadata": {},
   "outputs": [
    {
     "data": {
      "application/vnd.plotly.v1+json": {
       "config": {
        "plotlyServerURL": "https://plot.ly"
       },
       "data": [
        {
         "customdata": [
          [
           "Drizzle: Light"
          ],
          [
           "Drizzle: Light"
          ],
          [
           "Drizzle: Light"
          ],
          [
           "Drizzle: Light"
          ],
          [
           "Drizzle: Light"
          ],
          [
           "Drizzle: Light"
          ]
         ],
         "hovertemplate": "Type=Historical<br>Day=1<br>Metric=%{x}<br>Value=%{y}<br>Weather=%{customdata[0]}<extra></extra>",
         "ids": [
          "Max Temp",
          "Min Temp",
          "Rainfall",
          "Sum of Daily Rain",
          "Hours with Rain",
          "Wind Speed"
         ],
         "legendgroup": "Historical",
         "marker": {
          "color": "#636efa",
          "pattern": {
           "shape": ""
          }
         },
         "name": "Historical",
         "orientation": "v",
         "showlegend": true,
         "textposition": "auto",
         "type": "bar",
         "x": [
          "Max Temp",
          "Min Temp",
          "Rainfall",
          "Sum of Daily Rain",
          "Hours with Rain",
          "Wind Speed"
         ],
         "xaxis": "x",
         "y": {
          "_inputArray": {
           "0": 31.8,
           "1": 25.7,
           "2": 0.3,
           "3": 0.3,
           "4": 2,
           "5": 13.4,
           "bdata": "zczMzMzMP0AzMzMzM7M5QDMzMzMzM9M/MzMzMzMz0z8AAAAAAAAAQM3MzMzMzCpA",
           "dtype": "f8",
           "shape": "6"
          },
          "bdata": "zczMzMzMP0AzMzMzM7M5QDMzMzMzM9M/MzMzMzMz0z8AAAAAAAAAQM3MzMzMzCpA",
          "dtype": "f8"
         },
         "yaxis": "y"
        }
       ],
       "frames": [
        {
         "data": [
          {
           "customdata": [
            [
             "Drizzle: Light"
            ],
            [
             "Drizzle: Light"
            ],
            [
             "Drizzle: Light"
            ],
            [
             "Drizzle: Light"
            ],
            [
             "Drizzle: Light"
            ],
            [
             "Drizzle: Light"
            ]
           ],
           "hovertemplate": "Type=Historical<br>Day=1<br>Metric=%{x}<br>Value=%{y}<br>Weather=%{customdata[0]}<extra></extra>",
           "ids": [
            "Max Temp",
            "Min Temp",
            "Rainfall",
            "Sum of Daily Rain",
            "Hours with Rain",
            "Wind Speed"
           ],
           "legendgroup": "Historical",
           "marker": {
            "color": "#636efa",
            "pattern": {
             "shape": ""
            }
           },
           "name": "Historical",
           "orientation": "v",
           "showlegend": true,
           "textposition": "auto",
           "type": "bar",
           "x": [
            "Max Temp",
            "Min Temp",
            "Rainfall",
            "Sum of Daily Rain",
            "Hours with Rain",
            "Wind Speed"
           ],
           "xaxis": "x",
           "y": {
            "bdata": "zczMzMzMP0AzMzMzM7M5QDMzMzMzM9M/MzMzMzMz0z8AAAAAAAAAQM3MzMzMzCpA",
            "dtype": "f8"
           },
           "yaxis": "y"
          }
         ],
         "name": "1"
        },
        {
         "data": [
          {
           "customdata": [
            [
             "Drizzle: Light"
            ],
            [
             "Drizzle: Light"
            ],
            [
             "Drizzle: Light"
            ],
            [
             "Drizzle: Light"
            ],
            [
             "Drizzle: Light"
            ],
            [
             "Drizzle: Light"
            ]
           ],
           "hovertemplate": "Type=Historical<br>Day=2<br>Metric=%{x}<br>Value=%{y}<br>Weather=%{customdata[0]}<extra></extra>",
           "ids": [
            "Max Temp",
            "Min Temp",
            "Rainfall",
            "Sum of Daily Rain",
            "Hours with Rain",
            "Wind Speed"
           ],
           "legendgroup": "Historical",
           "marker": {
            "color": "#636efa",
            "pattern": {
             "shape": ""
            }
           },
           "name": "Historical",
           "orientation": "v",
           "showlegend": true,
           "textposition": "auto",
           "type": "bar",
           "x": [
            "Max Temp",
            "Min Temp",
            "Rainfall",
            "Sum of Daily Rain",
            "Hours with Rain",
            "Wind Speed"
           ],
           "xaxis": "x",
           "y": {
            "bdata": "ZmZmZmZmQEAzMzMzM7M5QJqZmZmZmck/mpmZmZmZyT8AAAAAAAAAQDMzMzMzMytA",
            "dtype": "f8"
           },
           "yaxis": "y"
          }
         ],
         "name": "2"
        },
        {
         "data": [
          {
           "customdata": [
            [
             "Drizzle: Light"
            ],
            [
             "Drizzle: Light"
            ],
            [
             "Drizzle: Light"
            ],
            [
             "Drizzle: Light"
            ],
            [
             "Drizzle: Light"
            ],
            [
             "Drizzle: Light"
            ]
           ],
           "hovertemplate": "Type=Historical<br>Day=3<br>Metric=%{x}<br>Value=%{y}<br>Weather=%{customdata[0]}<extra></extra>",
           "ids": [
            "Max Temp",
            "Min Temp",
            "Rainfall",
            "Sum of Daily Rain",
            "Hours with Rain",
            "Wind Speed"
           ],
           "legendgroup": "Historical",
           "marker": {
            "color": "#636efa",
            "pattern": {
             "shape": ""
            }
           },
           "name": "Historical",
           "orientation": "v",
           "showlegend": true,
           "textposition": "auto",
           "type": "bar",
           "x": [
            "Max Temp",
            "Min Temp",
            "Rainfall",
            "Sum of Daily Rain",
            "Hours with Rain",
            "Wind Speed"
           ],
           "xaxis": "x",
           "y": {
            "bdata": "AAAAAACAQECamZmZmZk5QDMzMzMzM+M/MzMzMzMz4z8AAAAAAAAIQGZmZmZmZixA",
            "dtype": "f8"
           },
           "yaxis": "y"
          }
         ],
         "name": "3"
        },
        {
         "data": [
          {
           "customdata": [
            [
             "Rain: Moderate"
            ],
            [
             "Rain: Moderate"
            ],
            [
             "Rain: Moderate"
            ],
            [
             "Rain: Moderate"
            ],
            [
             "Rain: Moderate"
            ],
            [
             "Rain: Moderate"
            ]
           ],
           "hovertemplate": "Type=Historical<br>Day=4<br>Metric=%{x}<br>Value=%{y}<br>Weather=%{customdata[0]}<extra></extra>",
           "ids": [
            "Max Temp",
            "Min Temp",
            "Rainfall",
            "Sum of Daily Rain",
            "Hours with Rain",
            "Wind Speed"
           ],
           "legendgroup": "Historical",
           "marker": {
            "color": "#636efa",
            "pattern": {
             "shape": ""
            }
           },
           "name": "Historical",
           "orientation": "v",
           "showlegend": true,
           "textposition": "auto",
           "type": "bar",
           "x": [
            "Max Temp",
            "Min Temp",
            "Rainfall",
            "Sum of Daily Rain",
            "Hours with Rain",
            "Wind Speed"
           ],
           "xaxis": "x",
           "y": {
            "bdata": "AAAAAACAP0BmZmZmZmY4QGZmZmZmZhxAZmZmZmZmHEAAAAAAAAAcQAAAAAAAADVA",
            "dtype": "f8"
           },
           "yaxis": "y"
          }
         ],
         "name": "4"
        },
        {
         "data": [
          {
           "customdata": [
            [
             "Rain: Heavy intensity"
            ],
            [
             "Rain: Heavy intensity"
            ],
            [
             "Rain: Heavy intensity"
            ],
            [
             "Rain: Heavy intensity"
            ],
            [
             "Rain: Heavy intensity"
            ],
            [
             "Rain: Heavy intensity"
            ]
           ],
           "hovertemplate": "Type=Historical<br>Day=5<br>Metric=%{x}<br>Value=%{y}<br>Weather=%{customdata[0]}<extra></extra>",
           "ids": [
            "Max Temp",
            "Min Temp",
            "Rainfall",
            "Sum of Daily Rain",
            "Hours with Rain",
            "Wind Speed"
           ],
           "legendgroup": "Historical",
           "marker": {
            "color": "#636efa",
            "pattern": {
             "shape": ""
            }
           },
           "name": "Historical",
           "orientation": "v",
           "showlegend": true,
           "textposition": "auto",
           "type": "bar",
           "x": [
            "Max Temp",
            "Min Temp",
            "Rainfall",
            "Sum of Daily Rain",
            "Hours with Rain",
            "Wind Speed"
           ],
           "xaxis": "x",
           "y": {
            "bdata": "AAAAAACAQEAzMzMzMzM5QM3MzMzMzChAzczMzMzMKEAAAAAAAAAYQM3MzMzMzClA",
            "dtype": "f8"
           },
           "yaxis": "y"
          }
         ],
         "name": "5"
        },
        {
         "data": [
          {
           "customdata": [
            [
             "Rain: Moderate"
            ],
            [
             "Rain: Moderate"
            ],
            [
             "Rain: Moderate"
            ],
            [
             "Rain: Moderate"
            ],
            [
             "Rain: Moderate"
            ],
            [
             "Rain: Moderate"
            ]
           ],
           "hovertemplate": "Type=Historical<br>Day=6<br>Metric=%{x}<br>Value=%{y}<br>Weather=%{customdata[0]}<extra></extra>",
           "ids": [
            "Max Temp",
            "Min Temp",
            "Rainfall",
            "Sum of Daily Rain",
            "Hours with Rain",
            "Wind Speed"
           ],
           "legendgroup": "Historical",
           "marker": {
            "color": "#636efa",
            "pattern": {
             "shape": ""
            }
           },
           "name": "Historical",
           "orientation": "v",
           "showlegend": true,
           "textposition": "auto",
           "type": "bar",
           "x": [
            "Max Temp",
            "Min Temp",
            "Rainfall",
            "Sum of Daily Rain",
            "Hours with Rain",
            "Wind Speed"
           ],
           "xaxis": "x",
           "y": {
            "bdata": "mpmZmZlZQEAzMzMzM7M4QGZmZmZmZiVAZmZmZmZmJUAAAAAAAAAQQGZmZmZmZihA",
            "dtype": "f8"
           },
           "yaxis": "y"
          }
         ],
         "name": "6"
        },
        {
         "data": [
          {
           "customdata": [
            [
             "Rain: Moderate"
            ],
            [
             "Rain: Moderate"
            ],
            [
             "Rain: Moderate"
            ],
            [
             "Rain: Moderate"
            ],
            [
             "Rain: Moderate"
            ],
            [
             "Rain: Moderate"
            ]
           ],
           "hovertemplate": "Type=Historical<br>Day=7<br>Metric=%{x}<br>Value=%{y}<br>Weather=%{customdata[0]}<extra></extra>",
           "ids": [
            "Max Temp",
            "Min Temp",
            "Rainfall",
            "Sum of Daily Rain",
            "Hours with Rain",
            "Wind Speed"
           ],
           "legendgroup": "Historical",
           "marker": {
            "color": "#636efa",
            "pattern": {
             "shape": ""
            }
           },
           "name": "Historical",
           "orientation": "v",
           "showlegend": true,
           "textposition": "auto",
           "type": "bar",
           "x": [
            "Max Temp",
            "Min Temp",
            "Rainfall",
            "Sum of Daily Rain",
            "Hours with Rain",
            "Wind Speed"
           ],
           "xaxis": "x",
           "y": {
            "bdata": "ZmZmZmZmP0AzMzMzM7M5QDMzMzMzMx9AMzMzMzMzH0AAAAAAAAAgQDMzMzMzMyFA",
            "dtype": "f8"
           },
           "yaxis": "y"
          }
         ],
         "name": "7"
        },
        {
         "data": [
          {
           "customdata": [
            [
             "Drizzle: Dense intensity"
            ],
            [
             "Drizzle: Dense intensity"
            ],
            [
             "Drizzle: Dense intensity"
            ],
            [
             "Drizzle: Dense intensity"
            ],
            [
             "Drizzle: Dense intensity"
            ],
            [
             "Drizzle: Dense intensity"
            ]
           ],
           "hovertemplate": "Type=Historical<br>Day=8<br>Metric=%{x}<br>Value=%{y}<br>Weather=%{customdata[0]}<extra></extra>",
           "ids": [
            "Max Temp",
            "Min Temp",
            "Rainfall",
            "Sum of Daily Rain",
            "Hours with Rain",
            "Wind Speed"
           ],
           "legendgroup": "Historical",
           "marker": {
            "color": "#636efa",
            "pattern": {
             "shape": ""
            }
           },
           "name": "Historical",
           "orientation": "v",
           "showlegend": true,
           "textposition": "auto",
           "type": "bar",
           "x": [
            "Max Temp",
            "Min Temp",
            "Rainfall",
            "Sum of Daily Rain",
            "Hours with Rain",
            "Wind Speed"
           ],
           "xaxis": "x",
           "y": {
            "bdata": "mpmZmZmZP0AAAAAAAAA6QGZmZmZmZvY/ZmZmZmZm9j8AAAAAAAAUQDMzMzMzMyhA",
            "dtype": "f8"
           },
           "yaxis": "y"
          }
         ],
         "name": "8"
        },
        {
         "data": [
          {
           "customdata": [
            [
             "Rain: Moderate"
            ],
            [
             "Rain: Moderate"
            ],
            [
             "Rain: Moderate"
            ],
            [
             "Rain: Moderate"
            ],
            [
             "Rain: Moderate"
            ],
            [
             "Rain: Moderate"
            ]
           ],
           "hovertemplate": "Type=Historical<br>Day=9<br>Metric=%{x}<br>Value=%{y}<br>Weather=%{customdata[0]}<extra></extra>",
           "ids": [
            "Max Temp",
            "Min Temp",
            "Rainfall",
            "Sum of Daily Rain",
            "Hours with Rain",
            "Wind Speed"
           ],
           "legendgroup": "Historical",
           "marker": {
            "color": "#636efa",
            "pattern": {
             "shape": ""
            }
           },
           "name": "Historical",
           "orientation": "v",
           "showlegend": true,
           "textposition": "auto",
           "type": "bar",
           "x": [
            "Max Temp",
            "Min Temp",
            "Rainfall",
            "Sum of Daily Rain",
            "Hours with Rain",
            "Wind Speed"
           ],
           "xaxis": "x",
           "y": {
            "bdata": "AAAAAACAP0CamZmZmRk4QJqZmZmZmSRAmpmZmZmZJEAAAAAAAAAgQM3MzMzMzCRA",
            "dtype": "f8"
           },
           "yaxis": "y"
          }
         ],
         "name": "9"
        },
        {
         "data": [
          {
           "customdata": [
            [
             "Drizzle: Light"
            ],
            [
             "Drizzle: Light"
            ],
            [
             "Drizzle: Light"
            ],
            [
             "Drizzle: Light"
            ],
            [
             "Drizzle: Light"
            ],
            [
             "Drizzle: Light"
            ]
           ],
           "hovertemplate": "Type=Historical<br>Day=10<br>Metric=%{x}<br>Value=%{y}<br>Weather=%{customdata[0]}<extra></extra>",
           "ids": [
            "Max Temp",
            "Min Temp",
            "Rainfall",
            "Sum of Daily Rain",
            "Hours with Rain",
            "Wind Speed"
           ],
           "legendgroup": "Historical",
           "marker": {
            "color": "#636efa",
            "pattern": {
             "shape": ""
            }
           },
           "name": "Historical",
           "orientation": "v",
           "showlegend": true,
           "textposition": "auto",
           "type": "bar",
           "x": [
            "Max Temp",
            "Min Temp",
            "Rainfall",
            "Sum of Daily Rain",
            "Hours with Rain",
            "Wind Speed"
           ],
           "xaxis": "x",
           "y": {
            "bdata": "ZmZmZmZmPkAAAAAAAAA5QJqZmZmZmdk/mpmZmZmZ2T8AAAAAAAAIQAAAAAAAACdA",
            "dtype": "f8"
           },
           "yaxis": "y"
          }
         ],
         "name": "10"
        },
        {
         "data": [
          {
           "customdata": [
            [
             "Rain: Slight"
            ],
            [
             "Rain: Slight"
            ],
            [
             "Rain: Slight"
            ],
            [
             "Rain: Slight"
            ],
            [
             "Rain: Slight"
            ],
            [
             "Rain: Slight"
            ]
           ],
           "hovertemplate": "Type=Historical<br>Day=11<br>Metric=%{x}<br>Value=%{y}<br>Weather=%{customdata[0]}<extra></extra>",
           "ids": [
            "Max Temp",
            "Min Temp",
            "Rainfall",
            "Sum of Daily Rain",
            "Hours with Rain",
            "Wind Speed"
           ],
           "legendgroup": "Historical",
           "marker": {
            "color": "#636efa",
            "pattern": {
             "shape": ""
            }
           },
           "name": "Historical",
           "orientation": "v",
           "showlegend": true,
           "textposition": "auto",
           "type": "bar",
           "x": [
            "Max Temp",
            "Min Temp",
            "Rainfall",
            "Sum of Daily Rain",
            "Hours with Rain",
            "Wind Speed"
           ],
           "xaxis": "x",
           "y": {
            "bdata": "mpmZmZkZP0AAAAAAAIA5QM3MzMzMzARAzczMzMzMBEAAAAAAAAAYQM3MzMzMzCxA",
            "dtype": "f8"
           },
           "yaxis": "y"
          }
         ],
         "name": "11"
        },
        {
         "data": [
          {
           "customdata": [
            [
             "Drizzle: Moderate"
            ],
            [
             "Drizzle: Moderate"
            ],
            [
             "Drizzle: Moderate"
            ],
            [
             "Drizzle: Moderate"
            ],
            [
             "Drizzle: Moderate"
            ],
            [
             "Drizzle: Moderate"
            ]
           ],
           "hovertemplate": "Type=Historical<br>Day=12<br>Metric=%{x}<br>Value=%{y}<br>Weather=%{customdata[0]}<extra></extra>",
           "ids": [
            "Max Temp",
            "Min Temp",
            "Rainfall",
            "Sum of Daily Rain",
            "Hours with Rain",
            "Wind Speed"
           ],
           "legendgroup": "Historical",
           "marker": {
            "color": "#636efa",
            "pattern": {
             "shape": ""
            }
           },
           "name": "Historical",
           "orientation": "v",
           "showlegend": true,
           "textposition": "auto",
           "type": "bar",
           "x": [
            "Max Temp",
            "Min Temp",
            "Rainfall",
            "Sum of Daily Rain",
            "Hours with Rain",
            "Wind Speed"
           ],
           "xaxis": "x",
           "y": {
            "bdata": "MzMzMzOzPkBmZmZmZmY5QM3MzMzMzPw/zczMzMzM/D8AAAAAAAAiQGZmZmZmZiZA",
            "dtype": "f8"
           },
           "yaxis": "y"
          }
         ],
         "name": "12"
        },
        {
         "data": [
          {
           "customdata": [
            [
             "Rain: Moderate"
            ],
            [
             "Rain: Moderate"
            ],
            [
             "Rain: Moderate"
            ],
            [
             "Rain: Moderate"
            ],
            [
             "Rain: Moderate"
            ],
            [
             "Rain: Moderate"
            ]
           ],
           "hovertemplate": "Type=Historical<br>Day=13<br>Metric=%{x}<br>Value=%{y}<br>Weather=%{customdata[0]}<extra></extra>",
           "ids": [
            "Max Temp",
            "Min Temp",
            "Rainfall",
            "Sum of Daily Rain",
            "Hours with Rain",
            "Wind Speed"
           ],
           "legendgroup": "Historical",
           "marker": {
            "color": "#636efa",
            "pattern": {
             "shape": ""
            }
           },
           "name": "Historical",
           "orientation": "v",
           "showlegend": true,
           "textposition": "auto",
           "type": "bar",
           "x": [
            "Max Temp",
            "Min Temp",
            "Rainfall",
            "Sum of Daily Rain",
            "Hours with Rain",
            "Wind Speed"
           ],
           "xaxis": "x",
           "y": {
            "bdata": "MzMzMzOzP0AAAAAAAIA5QGZmZmZmZiRAZmZmZmZmJEAAAAAAAAAsQM3MzMzMzClA",
            "dtype": "f8"
           },
           "yaxis": "y"
          }
         ],
         "name": "13"
        },
        {
         "data": [
          {
           "customdata": [
            [
             "Rain: Moderate"
            ],
            [
             "Rain: Moderate"
            ],
            [
             "Rain: Moderate"
            ],
            [
             "Rain: Moderate"
            ],
            [
             "Rain: Moderate"
            ],
            [
             "Rain: Moderate"
            ]
           ],
           "hovertemplate": "Type=Historical<br>Day=14<br>Metric=%{x}<br>Value=%{y}<br>Weather=%{customdata[0]}<extra></extra>",
           "ids": [
            "Max Temp",
            "Min Temp",
            "Rainfall",
            "Sum of Daily Rain",
            "Hours with Rain",
            "Wind Speed"
           ],
           "legendgroup": "Historical",
           "marker": {
            "color": "#636efa",
            "pattern": {
             "shape": ""
            }
           },
           "name": "Historical",
           "orientation": "v",
           "showlegend": true,
           "textposition": "auto",
           "type": "bar",
           "x": [
            "Max Temp",
            "Min Temp",
            "Rainfall",
            "Sum of Daily Rain",
            "Hours with Rain",
            "Wind Speed"
           ],
           "xaxis": "x",
           "y": {
            "bdata": "zczMzMzMPkCamZmZmRk5QM3MzMzMzCNAzczMzMzMI0AAAAAAAAAkQGZmZmZmZilA",
            "dtype": "f8"
           },
           "yaxis": "y"
          }
         ],
         "name": "14"
        },
        {
         "data": [
          {
           "customdata": [
            [
             "Rain: Moderate"
            ],
            [
             "Rain: Moderate"
            ],
            [
             "Rain: Moderate"
            ],
            [
             "Rain: Moderate"
            ],
            [
             "Rain: Moderate"
            ],
            [
             "Rain: Moderate"
            ]
           ],
           "hovertemplate": "Type=Historical<br>Day=15<br>Metric=%{x}<br>Value=%{y}<br>Weather=%{customdata[0]}<extra></extra>",
           "ids": [
            "Max Temp",
            "Min Temp",
            "Rainfall",
            "Sum of Daily Rain",
            "Hours with Rain",
            "Wind Speed"
           ],
           "legendgroup": "Historical",
           "marker": {
            "color": "#636efa",
            "pattern": {
             "shape": ""
            }
           },
           "name": "Historical",
           "orientation": "v",
           "showlegend": true,
           "textposition": "auto",
           "type": "bar",
           "x": [
            "Max Temp",
            "Min Temp",
            "Rainfall",
            "Sum of Daily Rain",
            "Hours with Rain",
            "Wind Speed"
           ],
           "xaxis": "x",
           "y": {
            "bdata": "mpmZmZkZPEAAAAAAAIA4QGZmZmZmpkFAZmZmZmamQUAAAAAAAAA1QAAAAAAAADJA",
            "dtype": "f8"
           },
           "yaxis": "y"
          }
         ],
         "name": "15"
        },
        {
         "data": [
          {
           "customdata": [
            [
             "Rain: Moderate"
            ],
            [
             "Rain: Moderate"
            ],
            [
             "Rain: Moderate"
            ],
            [
             "Rain: Moderate"
            ],
            [
             "Rain: Moderate"
            ],
            [
             "Rain: Moderate"
            ]
           ],
           "hovertemplate": "Type=Historical<br>Day=16<br>Metric=%{x}<br>Value=%{y}<br>Weather=%{customdata[0]}<extra></extra>",
           "ids": [
            "Max Temp",
            "Min Temp",
            "Rainfall",
            "Sum of Daily Rain",
            "Hours with Rain",
            "Wind Speed"
           ],
           "legendgroup": "Historical",
           "marker": {
            "color": "#636efa",
            "pattern": {
             "shape": ""
            }
           },
           "name": "Historical",
           "orientation": "v",
           "showlegend": true,
           "textposition": "auto",
           "type": "bar",
           "x": [
            "Max Temp",
            "Min Temp",
            "Rainfall",
            "Sum of Daily Rain",
            "Hours with Rain",
            "Wind Speed"
           ],
           "xaxis": "x",
           "y": {
            "bdata": "mpmZmZkZPUAzMzMzMzM4QDMzMzMzszRAMzMzMzOzNEAAAAAAAAA3QGZmZmZmZi1A",
            "dtype": "f8"
           },
           "yaxis": "y"
          }
         ],
         "name": "16"
        },
        {
         "data": [
          {
           "customdata": [
            [
             "Rain: Moderate"
            ],
            [
             "Rain: Moderate"
            ],
            [
             "Rain: Moderate"
            ],
            [
             "Rain: Moderate"
            ],
            [
             "Rain: Moderate"
            ],
            [
             "Rain: Moderate"
            ]
           ],
           "hovertemplate": "Type=Historical<br>Day=17<br>Metric=%{x}<br>Value=%{y}<br>Weather=%{customdata[0]}<extra></extra>",
           "ids": [
            "Max Temp",
            "Min Temp",
            "Rainfall",
            "Sum of Daily Rain",
            "Hours with Rain",
            "Wind Speed"
           ],
           "legendgroup": "Historical",
           "marker": {
            "color": "#636efa",
            "pattern": {
             "shape": ""
            }
           },
           "name": "Historical",
           "orientation": "v",
           "showlegend": true,
           "textposition": "auto",
           "type": "bar",
           "x": [
            "Max Temp",
            "Min Temp",
            "Rainfall",
            "Sum of Daily Rain",
            "Hours with Rain",
            "Wind Speed"
           ],
           "xaxis": "x",
           "y": {
            "bdata": "MzMzMzMzPEDNzMzMzMw4QGZmZmZmZitAZmZmZmZmK0AAAAAAAAA3QAAAAAAAACtA",
            "dtype": "f8"
           },
           "yaxis": "y"
          }
         ],
         "name": "17"
        },
        {
         "data": [
          {
           "customdata": [
            [
             "Rain: Heavy intensity"
            ],
            [
             "Rain: Heavy intensity"
            ],
            [
             "Rain: Heavy intensity"
            ],
            [
             "Rain: Heavy intensity"
            ],
            [
             "Rain: Heavy intensity"
            ],
            [
             "Rain: Heavy intensity"
            ]
           ],
           "hovertemplate": "Type=Historical<br>Day=18<br>Metric=%{x}<br>Value=%{y}<br>Weather=%{customdata[0]}<extra></extra>",
           "ids": [
            "Max Temp",
            "Min Temp",
            "Rainfall",
            "Sum of Daily Rain",
            "Hours with Rain",
            "Wind Speed"
           ],
           "legendgroup": "Historical",
           "marker": {
            "color": "#636efa",
            "pattern": {
             "shape": ""
            }
           },
           "name": "Historical",
           "orientation": "v",
           "showlegend": true,
           "textposition": "auto",
           "type": "bar",
           "x": [
            "Max Temp",
            "Min Temp",
            "Rainfall",
            "Sum of Daily Rain",
            "Hours with Rain",
            "Wind Speed"
           ],
           "xaxis": "x",
           "y": {
            "bdata": "zczMzMxMO0CamZmZmZk4QAAAAAAAgDtAAAAAAACAO0AAAAAAAAA0QM3MzMzMzCBA",
            "dtype": "f8"
           },
           "yaxis": "y"
          }
         ],
         "name": "18"
        },
        {
         "data": [
          {
           "customdata": [
            [
             "Rain: Moderate"
            ],
            [
             "Rain: Moderate"
            ],
            [
             "Rain: Moderate"
            ],
            [
             "Rain: Moderate"
            ],
            [
             "Rain: Moderate"
            ],
            [
             "Rain: Moderate"
            ]
           ],
           "hovertemplate": "Type=Historical<br>Day=19<br>Metric=%{x}<br>Value=%{y}<br>Weather=%{customdata[0]}<extra></extra>",
           "ids": [
            "Max Temp",
            "Min Temp",
            "Rainfall",
            "Sum of Daily Rain",
            "Hours with Rain",
            "Wind Speed"
           ],
           "legendgroup": "Historical",
           "marker": {
            "color": "#636efa",
            "pattern": {
             "shape": ""
            }
           },
           "name": "Historical",
           "orientation": "v",
           "showlegend": true,
           "textposition": "auto",
           "type": "bar",
           "x": [
            "Max Temp",
            "Min Temp",
            "Rainfall",
            "Sum of Daily Rain",
            "Hours with Rain",
            "Wind Speed"
           ],
           "xaxis": "x",
           "y": {
            "bdata": "MzMzMzOzPEAzMzMzMzM4QDMzMzMzMx9AMzMzMzMzH0AAAAAAAAAsQGZmZmZmZiJA",
            "dtype": "f8"
           },
           "yaxis": "y"
          }
         ],
         "name": "19"
        },
        {
         "data": [
          {
           "customdata": [
            [
             "Rain: Moderate"
            ],
            [
             "Rain: Moderate"
            ],
            [
             "Rain: Moderate"
            ],
            [
             "Rain: Moderate"
            ],
            [
             "Rain: Moderate"
            ],
            [
             "Rain: Moderate"
            ]
           ],
           "hovertemplate": "Type=Historical<br>Day=20<br>Metric=%{x}<br>Value=%{y}<br>Weather=%{customdata[0]}<extra></extra>",
           "ids": [
            "Max Temp",
            "Min Temp",
            "Rainfall",
            "Sum of Daily Rain",
            "Hours with Rain",
            "Wind Speed"
           ],
           "legendgroup": "Historical",
           "marker": {
            "color": "#636efa",
            "pattern": {
             "shape": ""
            }
           },
           "name": "Historical",
           "orientation": "v",
           "showlegend": true,
           "textposition": "auto",
           "type": "bar",
           "x": [
            "Max Temp",
            "Min Temp",
            "Rainfall",
            "Sum of Daily Rain",
            "Hours with Rain",
            "Wind Speed"
           ],
           "xaxis": "x",
           "y": {
            "bdata": "MzMzMzMzPEAAAAAAAAA4QDMzMzMzMzdAMzMzMzMzN0AAAAAAAAA0QM3MzMzMzCtA",
            "dtype": "f8"
           },
           "yaxis": "y"
          }
         ],
         "name": "20"
        },
        {
         "data": [
          {
           "customdata": [
            [
             "Rain: Moderate"
            ],
            [
             "Rain: Moderate"
            ],
            [
             "Rain: Moderate"
            ],
            [
             "Rain: Moderate"
            ],
            [
             "Rain: Moderate"
            ],
            [
             "Rain: Moderate"
            ]
           ],
           "hovertemplate": "Type=Historical<br>Day=21<br>Metric=%{x}<br>Value=%{y}<br>Weather=%{customdata[0]}<extra></extra>",
           "ids": [
            "Max Temp",
            "Min Temp",
            "Rainfall",
            "Sum of Daily Rain",
            "Hours with Rain",
            "Wind Speed"
           ],
           "legendgroup": "Historical",
           "marker": {
            "color": "#636efa",
            "pattern": {
             "shape": ""
            }
           },
           "name": "Historical",
           "orientation": "v",
           "showlegend": true,
           "textposition": "auto",
           "type": "bar",
           "x": [
            "Max Temp",
            "Min Temp",
            "Rainfall",
            "Sum of Daily Rain",
            "Hours with Rain",
            "Wind Speed"
           ],
           "xaxis": "x",
           "y": {
            "bdata": "mpmZmZmZOkAAAAAAAIA4QGZmZmZm5jxAZmZmZmbmPEAAAAAAAAA3QAAAAAAAADJA",
            "dtype": "f8"
           },
           "yaxis": "y"
          }
         ],
         "name": "21"
        },
        {
         "data": [
          {
           "customdata": [
            [
             "Rain: Moderate"
            ],
            [
             "Rain: Moderate"
            ],
            [
             "Rain: Moderate"
            ],
            [
             "Rain: Moderate"
            ],
            [
             "Rain: Moderate"
            ],
            [
             "Rain: Moderate"
            ]
           ],
           "hovertemplate": "Type=Historical<br>Day=22<br>Metric=%{x}<br>Value=%{y}<br>Weather=%{customdata[0]}<extra></extra>",
           "ids": [
            "Max Temp",
            "Min Temp",
            "Rainfall",
            "Sum of Daily Rain",
            "Hours with Rain",
            "Wind Speed"
           ],
           "legendgroup": "Historical",
           "marker": {
            "color": "#636efa",
            "pattern": {
             "shape": ""
            }
           },
           "name": "Historical",
           "orientation": "v",
           "showlegend": true,
           "textposition": "auto",
           "type": "bar",
           "x": [
            "Max Temp",
            "Min Temp",
            "Rainfall",
            "Sum of Daily Rain",
            "Hours with Rain",
            "Wind Speed"
           ],
           "xaxis": "x",
           "y": {
            "bdata": "AAAAAAAAPUAzMzMzMzM5QAAAAAAAQENAAAAAAABAQ0AAAAAAAAA2QAAAAAAAgDVA",
            "dtype": "f8"
           },
           "yaxis": "y"
          }
         ],
         "name": "22"
        },
        {
         "data": [
          {
           "customdata": [
            [
             "Rain: Moderate"
            ],
            [
             "Rain: Moderate"
            ],
            [
             "Rain: Moderate"
            ],
            [
             "Rain: Moderate"
            ],
            [
             "Rain: Moderate"
            ],
            [
             "Rain: Moderate"
            ]
           ],
           "hovertemplate": "Type=Historical<br>Day=23<br>Metric=%{x}<br>Value=%{y}<br>Weather=%{customdata[0]}<extra></extra>",
           "ids": [
            "Max Temp",
            "Min Temp",
            "Rainfall",
            "Sum of Daily Rain",
            "Hours with Rain",
            "Wind Speed"
           ],
           "legendgroup": "Historical",
           "marker": {
            "color": "#636efa",
            "pattern": {
             "shape": ""
            }
           },
           "name": "Historical",
           "orientation": "v",
           "showlegend": true,
           "textposition": "auto",
           "type": "bar",
           "x": [
            "Max Temp",
            "Min Temp",
            "Rainfall",
            "Sum of Daily Rain",
            "Hours with Rain",
            "Wind Speed"
           ],
           "xaxis": "x",
           "y": {
            "bdata": "MzMzMzOzPUDNzMzMzEw4QJqZmZmZGTFAmpmZmZkZMUAAAAAAAAAqQGZmZmZmZiZA",
            "dtype": "f8"
           },
           "yaxis": "y"
          }
         ],
         "name": "23"
        },
        {
         "data": [
          {
           "customdata": [
            [
             "Drizzle: Dense intensity"
            ],
            [
             "Drizzle: Dense intensity"
            ],
            [
             "Drizzle: Dense intensity"
            ],
            [
             "Drizzle: Dense intensity"
            ],
            [
             "Drizzle: Dense intensity"
            ],
            [
             "Drizzle: Dense intensity"
            ]
           ],
           "hovertemplate": "Type=Historical<br>Day=24<br>Metric=%{x}<br>Value=%{y}<br>Weather=%{customdata[0]}<extra></extra>",
           "ids": [
            "Max Temp",
            "Min Temp",
            "Rainfall",
            "Sum of Daily Rain",
            "Hours with Rain",
            "Wind Speed"
           ],
           "legendgroup": "Historical",
           "marker": {
            "color": "#636efa",
            "pattern": {
             "shape": ""
            }
           },
           "name": "Historical",
           "orientation": "v",
           "showlegend": true,
           "textposition": "auto",
           "type": "bar",
           "x": [
            "Max Temp",
            "Min Temp",
            "Rainfall",
            "Sum of Daily Rain",
            "Hours with Rain",
            "Wind Speed"
           ],
           "xaxis": "x",
           "y": {
            "bdata": "MzMzMzMzO0CamZmZmZk4QM3MzMzMzBhAzczMzMzMGEAAAAAAAAAoQGZmZmZmZiNA",
            "dtype": "f8"
           },
           "yaxis": "y"
          }
         ],
         "name": "24"
        },
        {
         "data": [
          {
           "customdata": [
            [
             "Rain: Heavy intensity"
            ],
            [
             "Rain: Heavy intensity"
            ],
            [
             "Rain: Heavy intensity"
            ],
            [
             "Rain: Heavy intensity"
            ],
            [
             "Rain: Heavy intensity"
            ],
            [
             "Rain: Heavy intensity"
            ]
           ],
           "hovertemplate": "Type=Historical<br>Day=25<br>Metric=%{x}<br>Value=%{y}<br>Weather=%{customdata[0]}<extra></extra>",
           "ids": [
            "Max Temp",
            "Min Temp",
            "Rainfall",
            "Sum of Daily Rain",
            "Hours with Rain",
            "Wind Speed"
           ],
           "legendgroup": "Historical",
           "marker": {
            "color": "#636efa",
            "pattern": {
             "shape": ""
            }
           },
           "name": "Historical",
           "orientation": "v",
           "showlegend": true,
           "textposition": "auto",
           "type": "bar",
           "x": [
            "Max Temp",
            "Min Temp",
            "Rainfall",
            "Sum of Daily Rain",
            "Hours with Rain",
            "Wind Speed"
           ],
           "xaxis": "x",
           "y": {
            "bdata": "MzMzMzMzPEDNzMzMzEw4QM3MzMzMTDJAzczMzMxMMkAAAAAAAAAkQJqZmZmZmSZA",
            "dtype": "f8"
           },
           "yaxis": "y"
          },
          {
           "customdata": [
            [
             "Thunderstorm: Slight or moderate"
            ],
            [
             "Thunderstorm: Slight or moderate"
            ],
            [
             "Thunderstorm: Slight or moderate"
            ],
            [
             "Thunderstorm: Slight or moderate"
            ],
            [
             "Thunderstorm: Slight or moderate"
            ],
            [
             "Thunderstorm: Slight or moderate"
            ]
           ],
           "hovertemplate": "Type=Forecast<br>Day=25<br>Metric=%{x}<br>Value=%{y}<br>Weather=%{customdata[0]}<extra></extra>",
           "ids": [
            "Max Temp",
            "Min Temp",
            "Rainfall",
            "Sum of Daily Rain",
            "Hours with Rain",
            "Wind Speed"
           ],
           "legendgroup": "Forecast",
           "marker": {
            "color": "#EF553B",
            "pattern": {
             "shape": ""
            }
           },
           "name": "Forecast",
           "orientation": "v",
           "showlegend": true,
           "textposition": "auto",
           "type": "bar",
           "x": [
            "Max Temp",
            "Min Temp",
            "Rainfall",
            "Sum of Daily Rain",
            "Hours with Rain",
            "Wind Speed"
           ],
           "xaxis": "x",
           "y": {
            "bdata": "MzMzMzMzPkAzMzMzM7M4QDMzMzMzMxNAAAAAAAAAAAAAAAAAAAAgQGZmZmZmZiRA",
            "dtype": "f8"
           },
           "yaxis": "y"
          }
         ],
         "name": "25"
        },
        {
         "data": [
          {
           "customdata": [
            [
             "Rain showers: Slight"
            ],
            [
             "Rain showers: Slight"
            ],
            [
             "Rain showers: Slight"
            ],
            [
             "Rain showers: Slight"
            ],
            [
             "Rain showers: Slight"
            ],
            [
             "Rain showers: Slight"
            ]
           ],
           "hovertemplate": "Type=Forecast<br>Day=26<br>Metric=%{x}<br>Value=%{y}<br>Weather=%{customdata[0]}<extra></extra>",
           "ids": [
            "Max Temp",
            "Min Temp",
            "Rainfall",
            "Sum of Daily Rain",
            "Hours with Rain",
            "Wind Speed"
           ],
           "legendgroup": "Forecast",
           "marker": {
            "color": "#EF553B",
            "pattern": {
             "shape": ""
            }
           },
           "name": "Forecast",
           "orientation": "v",
           "showlegend": true,
           "textposition": "auto",
           "type": "bar",
           "x": [
            "Max Temp",
            "Min Temp",
            "Rainfall",
            "Sum of Daily Rain",
            "Hours with Rain",
            "Wind Speed"
           ],
           "xaxis": "x",
           "y": {
            "bdata": "AAAAAACAPkAzMzMzMzM5QJqZmZmZmfE/AAAAAAAAAAAAAAAAAAAIQJqZmZmZmSNA",
            "dtype": "f8"
           },
           "yaxis": "y"
          }
         ],
         "name": "26"
        },
        {
         "data": [
          {
           "customdata": [
            [
             "Rain: Slight"
            ],
            [
             "Rain: Slight"
            ],
            [
             "Rain: Slight"
            ],
            [
             "Rain: Slight"
            ],
            [
             "Rain: Slight"
            ],
            [
             "Rain: Slight"
            ]
           ],
           "hovertemplate": "Type=Forecast<br>Day=27<br>Metric=%{x}<br>Value=%{y}<br>Weather=%{customdata[0]}<extra></extra>",
           "ids": [
            "Max Temp",
            "Min Temp",
            "Rainfall",
            "Sum of Daily Rain",
            "Hours with Rain",
            "Wind Speed"
           ],
           "legendgroup": "Forecast",
           "marker": {
            "color": "#EF553B",
            "pattern": {
             "shape": ""
            }
           },
           "name": "Forecast",
           "orientation": "v",
           "showlegend": true,
           "textposition": "auto",
           "type": "bar",
           "x": [
            "Max Temp",
            "Min Temp",
            "Rainfall",
            "Sum of Daily Rain",
            "Hours with Rain",
            "Wind Speed"
           ],
           "xaxis": "x",
           "y": {
            "bdata": "MzMzMzOzOUBmZmZmZmY4QJqZmZmZmRtAmpmZmZmZG0AAAAAAAAAqQJqZmZmZmS5A",
            "dtype": "f8"
           },
           "yaxis": "y"
          }
         ],
         "name": "27"
        },
        {
         "data": [
          {
           "customdata": [
            [
             "Rain showers: Slight"
            ],
            [
             "Rain showers: Slight"
            ],
            [
             "Rain showers: Slight"
            ],
            [
             "Rain showers: Slight"
            ],
            [
             "Rain showers: Slight"
            ],
            [
             "Rain showers: Slight"
            ]
           ],
           "hovertemplate": "Type=Forecast<br>Day=28<br>Metric=%{x}<br>Value=%{y}<br>Weather=%{customdata[0]}<extra></extra>",
           "ids": [
            "Max Temp",
            "Min Temp",
            "Rainfall",
            "Sum of Daily Rain",
            "Hours with Rain",
            "Wind Speed"
           ],
           "legendgroup": "Forecast",
           "marker": {
            "color": "#EF553B",
            "pattern": {
             "shape": ""
            }
           },
           "name": "Forecast",
           "orientation": "v",
           "showlegend": true,
           "textposition": "auto",
           "type": "bar",
           "x": [
            "Max Temp",
            "Min Temp",
            "Rainfall",
            "Sum of Daily Rain",
            "Hours with Rain",
            "Wind Speed"
           ],
           "xaxis": "x",
           "y": {
            "bdata": "ZmZmZmbmPUBmZmZmZuY3QGZmZmZmZg5AAAAAAAAAAAAAAAAAAAAgQDMzMzMzMy1A",
            "dtype": "f8"
           },
           "yaxis": "y"
          }
         ],
         "name": "28"
        },
        {
         "data": [
          {
           "customdata": [
            [
             "Overcast"
            ],
            [
             "Overcast"
            ],
            [
             "Overcast"
            ],
            [
             "Overcast"
            ],
            [
             "Overcast"
            ],
            [
             "Overcast"
            ]
           ],
           "hovertemplate": "Type=Forecast<br>Day=29<br>Metric=%{x}<br>Value=%{y}<br>Weather=%{customdata[0]}<extra></extra>",
           "ids": [
            "Max Temp",
            "Min Temp",
            "Rainfall",
            "Sum of Daily Rain",
            "Hours with Rain",
            "Wind Speed"
           ],
           "legendgroup": "Forecast",
           "marker": {
            "color": "#EF553B",
            "pattern": {
             "shape": ""
            }
           },
           "name": "Forecast",
           "orientation": "v",
           "showlegend": true,
           "textposition": "auto",
           "type": "bar",
           "x": [
            "Max Temp",
            "Min Temp",
            "Rainfall",
            "Sum of Daily Rain",
            "Hours with Rain",
            "Wind Speed"
           ],
           "xaxis": "x",
           "y": {
            "bdata": "MzMzMzMzP0BmZmZmZuY4QAAAAAAAAAAAAAAAAAAAAAAAAAAAAAAAAAAAAAAAACdA",
            "dtype": "f8"
           },
           "yaxis": "y"
          }
         ],
         "name": "29"
        },
        {
         "data": [
          {
           "customdata": [
            [
             "Overcast"
            ],
            [
             "Overcast"
            ],
            [
             "Overcast"
            ],
            [
             "Overcast"
            ],
            [
             "Overcast"
            ],
            [
             "Overcast"
            ]
           ],
           "hovertemplate": "Type=Forecast<br>Day=30<br>Metric=%{x}<br>Value=%{y}<br>Weather=%{customdata[0]}<extra></extra>",
           "ids": [
            "Max Temp",
            "Min Temp",
            "Rainfall",
            "Sum of Daily Rain",
            "Hours with Rain",
            "Wind Speed"
           ],
           "legendgroup": "Forecast",
           "marker": {
            "color": "#EF553B",
            "pattern": {
             "shape": ""
            }
           },
           "name": "Forecast",
           "orientation": "v",
           "showlegend": true,
           "textposition": "auto",
           "type": "bar",
           "x": [
            "Max Temp",
            "Min Temp",
            "Rainfall",
            "Sum of Daily Rain",
            "Hours with Rain",
            "Wind Speed"
           ],
           "xaxis": "x",
           "y": {
            "bdata": "MzMzMzMzQEAAAAAAAIA5QAAAAAAAAAAAAAAAAAAAAAAAAAAAAAAAAM3MzMzMzBxA",
            "dtype": "f8"
           },
           "yaxis": "y"
          }
         ],
         "name": "30"
        },
        {
         "data": [
          {
           "customdata": [
            [
             "Overcast"
            ],
            [
             "Overcast"
            ],
            [
             "Overcast"
            ],
            [
             "Overcast"
            ],
            [
             "Overcast"
            ],
            [
             "Overcast"
            ]
           ],
           "hovertemplate": "Type=Forecast<br>Day=31<br>Metric=%{x}<br>Value=%{y}<br>Weather=%{customdata[0]}<extra></extra>",
           "ids": [
            "Max Temp",
            "Min Temp",
            "Rainfall",
            "Sum of Daily Rain",
            "Hours with Rain",
            "Wind Speed"
           ],
           "legendgroup": "Forecast",
           "marker": {
            "color": "#EF553B",
            "pattern": {
             "shape": ""
            }
           },
           "name": "Forecast",
           "orientation": "v",
           "showlegend": true,
           "textposition": "auto",
           "type": "bar",
           "x": [
            "Max Temp",
            "Min Temp",
            "Rainfall",
            "Sum of Daily Rain",
            "Hours with Rain",
            "Wind Speed"
           ],
           "xaxis": "x",
           "y": {
            "bdata": "ZmZmZmZmQECamZmZmZk5QDMzMzMzM9M/AAAAAAAAAAAAAAAAAAAIQDMzMzMzMxtA",
            "dtype": "f8"
           },
           "yaxis": "y"
          }
         ],
         "name": "31"
        }
       ],
       "layout": {
        "barmode": "relative",
        "height": 600,
        "legend": {
         "title": {
          "text": "Type"
         },
         "tracegroupgap": 0
        },
        "sliders": [
         {
          "active": 0,
          "currentvalue": {
           "prefix": "Day="
          },
          "len": 0.9,
          "pad": {
           "b": 10,
           "t": 60
          },
          "steps": [
           {
            "args": [
             [
              "1"
             ],
             {
              "frame": {
               "duration": 0,
               "redraw": true
              },
              "fromcurrent": true,
              "mode": "immediate",
              "transition": {
               "duration": 0,
               "easing": "linear"
              }
             }
            ],
            "label": "1",
            "method": "animate"
           },
           {
            "args": [
             [
              "2"
             ],
             {
              "frame": {
               "duration": 0,
               "redraw": true
              },
              "fromcurrent": true,
              "mode": "immediate",
              "transition": {
               "duration": 0,
               "easing": "linear"
              }
             }
            ],
            "label": "2",
            "method": "animate"
           },
           {
            "args": [
             [
              "3"
             ],
             {
              "frame": {
               "duration": 0,
               "redraw": true
              },
              "fromcurrent": true,
              "mode": "immediate",
              "transition": {
               "duration": 0,
               "easing": "linear"
              }
             }
            ],
            "label": "3",
            "method": "animate"
           },
           {
            "args": [
             [
              "4"
             ],
             {
              "frame": {
               "duration": 0,
               "redraw": true
              },
              "fromcurrent": true,
              "mode": "immediate",
              "transition": {
               "duration": 0,
               "easing": "linear"
              }
             }
            ],
            "label": "4",
            "method": "animate"
           },
           {
            "args": [
             [
              "5"
             ],
             {
              "frame": {
               "duration": 0,
               "redraw": true
              },
              "fromcurrent": true,
              "mode": "immediate",
              "transition": {
               "duration": 0,
               "easing": "linear"
              }
             }
            ],
            "label": "5",
            "method": "animate"
           },
           {
            "args": [
             [
              "6"
             ],
             {
              "frame": {
               "duration": 0,
               "redraw": true
              },
              "fromcurrent": true,
              "mode": "immediate",
              "transition": {
               "duration": 0,
               "easing": "linear"
              }
             }
            ],
            "label": "6",
            "method": "animate"
           },
           {
            "args": [
             [
              "7"
             ],
             {
              "frame": {
               "duration": 0,
               "redraw": true
              },
              "fromcurrent": true,
              "mode": "immediate",
              "transition": {
               "duration": 0,
               "easing": "linear"
              }
             }
            ],
            "label": "7",
            "method": "animate"
           },
           {
            "args": [
             [
              "8"
             ],
             {
              "frame": {
               "duration": 0,
               "redraw": true
              },
              "fromcurrent": true,
              "mode": "immediate",
              "transition": {
               "duration": 0,
               "easing": "linear"
              }
             }
            ],
            "label": "8",
            "method": "animate"
           },
           {
            "args": [
             [
              "9"
             ],
             {
              "frame": {
               "duration": 0,
               "redraw": true
              },
              "fromcurrent": true,
              "mode": "immediate",
              "transition": {
               "duration": 0,
               "easing": "linear"
              }
             }
            ],
            "label": "9",
            "method": "animate"
           },
           {
            "args": [
             [
              "10"
             ],
             {
              "frame": {
               "duration": 0,
               "redraw": true
              },
              "fromcurrent": true,
              "mode": "immediate",
              "transition": {
               "duration": 0,
               "easing": "linear"
              }
             }
            ],
            "label": "10",
            "method": "animate"
           },
           {
            "args": [
             [
              "11"
             ],
             {
              "frame": {
               "duration": 0,
               "redraw": true
              },
              "fromcurrent": true,
              "mode": "immediate",
              "transition": {
               "duration": 0,
               "easing": "linear"
              }
             }
            ],
            "label": "11",
            "method": "animate"
           },
           {
            "args": [
             [
              "12"
             ],
             {
              "frame": {
               "duration": 0,
               "redraw": true
              },
              "fromcurrent": true,
              "mode": "immediate",
              "transition": {
               "duration": 0,
               "easing": "linear"
              }
             }
            ],
            "label": "12",
            "method": "animate"
           },
           {
            "args": [
             [
              "13"
             ],
             {
              "frame": {
               "duration": 0,
               "redraw": true
              },
              "fromcurrent": true,
              "mode": "immediate",
              "transition": {
               "duration": 0,
               "easing": "linear"
              }
             }
            ],
            "label": "13",
            "method": "animate"
           },
           {
            "args": [
             [
              "14"
             ],
             {
              "frame": {
               "duration": 0,
               "redraw": true
              },
              "fromcurrent": true,
              "mode": "immediate",
              "transition": {
               "duration": 0,
               "easing": "linear"
              }
             }
            ],
            "label": "14",
            "method": "animate"
           },
           {
            "args": [
             [
              "15"
             ],
             {
              "frame": {
               "duration": 0,
               "redraw": true
              },
              "fromcurrent": true,
              "mode": "immediate",
              "transition": {
               "duration": 0,
               "easing": "linear"
              }
             }
            ],
            "label": "15",
            "method": "animate"
           },
           {
            "args": [
             [
              "16"
             ],
             {
              "frame": {
               "duration": 0,
               "redraw": true
              },
              "fromcurrent": true,
              "mode": "immediate",
              "transition": {
               "duration": 0,
               "easing": "linear"
              }
             }
            ],
            "label": "16",
            "method": "animate"
           },
           {
            "args": [
             [
              "17"
             ],
             {
              "frame": {
               "duration": 0,
               "redraw": true
              },
              "fromcurrent": true,
              "mode": "immediate",
              "transition": {
               "duration": 0,
               "easing": "linear"
              }
             }
            ],
            "label": "17",
            "method": "animate"
           },
           {
            "args": [
             [
              "18"
             ],
             {
              "frame": {
               "duration": 0,
               "redraw": true
              },
              "fromcurrent": true,
              "mode": "immediate",
              "transition": {
               "duration": 0,
               "easing": "linear"
              }
             }
            ],
            "label": "18",
            "method": "animate"
           },
           {
            "args": [
             [
              "19"
             ],
             {
              "frame": {
               "duration": 0,
               "redraw": true
              },
              "fromcurrent": true,
              "mode": "immediate",
              "transition": {
               "duration": 0,
               "easing": "linear"
              }
             }
            ],
            "label": "19",
            "method": "animate"
           },
           {
            "args": [
             [
              "20"
             ],
             {
              "frame": {
               "duration": 0,
               "redraw": true
              },
              "fromcurrent": true,
              "mode": "immediate",
              "transition": {
               "duration": 0,
               "easing": "linear"
              }
             }
            ],
            "label": "20",
            "method": "animate"
           },
           {
            "args": [
             [
              "21"
             ],
             {
              "frame": {
               "duration": 0,
               "redraw": true
              },
              "fromcurrent": true,
              "mode": "immediate",
              "transition": {
               "duration": 0,
               "easing": "linear"
              }
             }
            ],
            "label": "21",
            "method": "animate"
           },
           {
            "args": [
             [
              "22"
             ],
             {
              "frame": {
               "duration": 0,
               "redraw": true
              },
              "fromcurrent": true,
              "mode": "immediate",
              "transition": {
               "duration": 0,
               "easing": "linear"
              }
             }
            ],
            "label": "22",
            "method": "animate"
           },
           {
            "args": [
             [
              "23"
             ],
             {
              "frame": {
               "duration": 0,
               "redraw": true
              },
              "fromcurrent": true,
              "mode": "immediate",
              "transition": {
               "duration": 0,
               "easing": "linear"
              }
             }
            ],
            "label": "23",
            "method": "animate"
           },
           {
            "args": [
             [
              "24"
             ],
             {
              "frame": {
               "duration": 0,
               "redraw": true
              },
              "fromcurrent": true,
              "mode": "immediate",
              "transition": {
               "duration": 0,
               "easing": "linear"
              }
             }
            ],
            "label": "24",
            "method": "animate"
           },
           {
            "args": [
             [
              "25"
             ],
             {
              "frame": {
               "duration": 0,
               "redraw": true
              },
              "fromcurrent": true,
              "mode": "immediate",
              "transition": {
               "duration": 0,
               "easing": "linear"
              }
             }
            ],
            "label": "25",
            "method": "animate"
           },
           {
            "args": [
             [
              "26"
             ],
             {
              "frame": {
               "duration": 0,
               "redraw": true
              },
              "fromcurrent": true,
              "mode": "immediate",
              "transition": {
               "duration": 0,
               "easing": "linear"
              }
             }
            ],
            "label": "26",
            "method": "animate"
           },
           {
            "args": [
             [
              "27"
             ],
             {
              "frame": {
               "duration": 0,
               "redraw": true
              },
              "fromcurrent": true,
              "mode": "immediate",
              "transition": {
               "duration": 0,
               "easing": "linear"
              }
             }
            ],
            "label": "27",
            "method": "animate"
           },
           {
            "args": [
             [
              "28"
             ],
             {
              "frame": {
               "duration": 0,
               "redraw": true
              },
              "fromcurrent": true,
              "mode": "immediate",
              "transition": {
               "duration": 0,
               "easing": "linear"
              }
             }
            ],
            "label": "28",
            "method": "animate"
           },
           {
            "args": [
             [
              "29"
             ],
             {
              "frame": {
               "duration": 0,
               "redraw": true
              },
              "fromcurrent": true,
              "mode": "immediate",
              "transition": {
               "duration": 0,
               "easing": "linear"
              }
             }
            ],
            "label": "29",
            "method": "animate"
           },
           {
            "args": [
             [
              "30"
             ],
             {
              "frame": {
               "duration": 0,
               "redraw": true
              },
              "fromcurrent": true,
              "mode": "immediate",
              "transition": {
               "duration": 0,
               "easing": "linear"
              }
             }
            ],
            "label": "30",
            "method": "animate"
           },
           {
            "args": [
             [
              "31"
             ],
             {
              "frame": {
               "duration": 0,
               "redraw": true
              },
              "fromcurrent": true,
              "mode": "immediate",
              "transition": {
               "duration": 0,
               "easing": "linear"
              }
             }
            ],
            "label": "31",
            "method": "animate"
           }
          ],
          "x": 0.1,
          "xanchor": "left",
          "y": 0,
          "yanchor": "top"
         }
        ],
        "template": {
         "data": {
          "bar": [
           {
            "error_x": {
             "color": "#f2f5fa"
            },
            "error_y": {
             "color": "#f2f5fa"
            },
            "marker": {
             "line": {
              "color": "rgb(17,17,17)",
              "width": 0.5
             },
             "pattern": {
              "fillmode": "overlay",
              "size": 10,
              "solidity": 0.2
             }
            },
            "type": "bar"
           }
          ],
          "barpolar": [
           {
            "marker": {
             "line": {
              "color": "rgb(17,17,17)",
              "width": 0.5
             },
             "pattern": {
              "fillmode": "overlay",
              "size": 10,
              "solidity": 0.2
             }
            },
            "type": "barpolar"
           }
          ],
          "carpet": [
           {
            "aaxis": {
             "endlinecolor": "#A2B1C6",
             "gridcolor": "#506784",
             "linecolor": "#506784",
             "minorgridcolor": "#506784",
             "startlinecolor": "#A2B1C6"
            },
            "baxis": {
             "endlinecolor": "#A2B1C6",
             "gridcolor": "#506784",
             "linecolor": "#506784",
             "minorgridcolor": "#506784",
             "startlinecolor": "#A2B1C6"
            },
            "type": "carpet"
           }
          ],
          "choropleth": [
           {
            "colorbar": {
             "outlinewidth": 0,
             "ticks": ""
            },
            "type": "choropleth"
           }
          ],
          "contour": [
           {
            "colorbar": {
             "outlinewidth": 0,
             "ticks": ""
            },
            "colorscale": [
             [
              0,
              "#0d0887"
             ],
             [
              0.1111111111111111,
              "#46039f"
             ],
             [
              0.2222222222222222,
              "#7201a8"
             ],
             [
              0.3333333333333333,
              "#9c179e"
             ],
             [
              0.4444444444444444,
              "#bd3786"
             ],
             [
              0.5555555555555556,
              "#d8576b"
             ],
             [
              0.6666666666666666,
              "#ed7953"
             ],
             [
              0.7777777777777778,
              "#fb9f3a"
             ],
             [
              0.8888888888888888,
              "#fdca26"
             ],
             [
              1,
              "#f0f921"
             ]
            ],
            "type": "contour"
           }
          ],
          "contourcarpet": [
           {
            "colorbar": {
             "outlinewidth": 0,
             "ticks": ""
            },
            "type": "contourcarpet"
           }
          ],
          "heatmap": [
           {
            "colorbar": {
             "outlinewidth": 0,
             "ticks": ""
            },
            "colorscale": [
             [
              0,
              "#0d0887"
             ],
             [
              0.1111111111111111,
              "#46039f"
             ],
             [
              0.2222222222222222,
              "#7201a8"
             ],
             [
              0.3333333333333333,
              "#9c179e"
             ],
             [
              0.4444444444444444,
              "#bd3786"
             ],
             [
              0.5555555555555556,
              "#d8576b"
             ],
             [
              0.6666666666666666,
              "#ed7953"
             ],
             [
              0.7777777777777778,
              "#fb9f3a"
             ],
             [
              0.8888888888888888,
              "#fdca26"
             ],
             [
              1,
              "#f0f921"
             ]
            ],
            "type": "heatmap"
           }
          ],
          "histogram": [
           {
            "marker": {
             "pattern": {
              "fillmode": "overlay",
              "size": 10,
              "solidity": 0.2
             }
            },
            "type": "histogram"
           }
          ],
          "histogram2d": [
           {
            "colorbar": {
             "outlinewidth": 0,
             "ticks": ""
            },
            "colorscale": [
             [
              0,
              "#0d0887"
             ],
             [
              0.1111111111111111,
              "#46039f"
             ],
             [
              0.2222222222222222,
              "#7201a8"
             ],
             [
              0.3333333333333333,
              "#9c179e"
             ],
             [
              0.4444444444444444,
              "#bd3786"
             ],
             [
              0.5555555555555556,
              "#d8576b"
             ],
             [
              0.6666666666666666,
              "#ed7953"
             ],
             [
              0.7777777777777778,
              "#fb9f3a"
             ],
             [
              0.8888888888888888,
              "#fdca26"
             ],
             [
              1,
              "#f0f921"
             ]
            ],
            "type": "histogram2d"
           }
          ],
          "histogram2dcontour": [
           {
            "colorbar": {
             "outlinewidth": 0,
             "ticks": ""
            },
            "colorscale": [
             [
              0,
              "#0d0887"
             ],
             [
              0.1111111111111111,
              "#46039f"
             ],
             [
              0.2222222222222222,
              "#7201a8"
             ],
             [
              0.3333333333333333,
              "#9c179e"
             ],
             [
              0.4444444444444444,
              "#bd3786"
             ],
             [
              0.5555555555555556,
              "#d8576b"
             ],
             [
              0.6666666666666666,
              "#ed7953"
             ],
             [
              0.7777777777777778,
              "#fb9f3a"
             ],
             [
              0.8888888888888888,
              "#fdca26"
             ],
             [
              1,
              "#f0f921"
             ]
            ],
            "type": "histogram2dcontour"
           }
          ],
          "mesh3d": [
           {
            "colorbar": {
             "outlinewidth": 0,
             "ticks": ""
            },
            "type": "mesh3d"
           }
          ],
          "parcoords": [
           {
            "line": {
             "colorbar": {
              "outlinewidth": 0,
              "ticks": ""
             }
            },
            "type": "parcoords"
           }
          ],
          "pie": [
           {
            "automargin": true,
            "type": "pie"
           }
          ],
          "scatter": [
           {
            "marker": {
             "line": {
              "color": "#283442"
             }
            },
            "type": "scatter"
           }
          ],
          "scatter3d": [
           {
            "line": {
             "colorbar": {
              "outlinewidth": 0,
              "ticks": ""
             }
            },
            "marker": {
             "colorbar": {
              "outlinewidth": 0,
              "ticks": ""
             }
            },
            "type": "scatter3d"
           }
          ],
          "scattercarpet": [
           {
            "marker": {
             "colorbar": {
              "outlinewidth": 0,
              "ticks": ""
             }
            },
            "type": "scattercarpet"
           }
          ],
          "scattergeo": [
           {
            "marker": {
             "colorbar": {
              "outlinewidth": 0,
              "ticks": ""
             }
            },
            "type": "scattergeo"
           }
          ],
          "scattergl": [
           {
            "marker": {
             "line": {
              "color": "#283442"
             }
            },
            "type": "scattergl"
           }
          ],
          "scattermap": [
           {
            "marker": {
             "colorbar": {
              "outlinewidth": 0,
              "ticks": ""
             }
            },
            "type": "scattermap"
           }
          ],
          "scattermapbox": [
           {
            "marker": {
             "colorbar": {
              "outlinewidth": 0,
              "ticks": ""
             }
            },
            "type": "scattermapbox"
           }
          ],
          "scatterpolar": [
           {
            "marker": {
             "colorbar": {
              "outlinewidth": 0,
              "ticks": ""
             }
            },
            "type": "scatterpolar"
           }
          ],
          "scatterpolargl": [
           {
            "marker": {
             "colorbar": {
              "outlinewidth": 0,
              "ticks": ""
             }
            },
            "type": "scatterpolargl"
           }
          ],
          "scatterternary": [
           {
            "marker": {
             "colorbar": {
              "outlinewidth": 0,
              "ticks": ""
             }
            },
            "type": "scatterternary"
           }
          ],
          "surface": [
           {
            "colorbar": {
             "outlinewidth": 0,
             "ticks": ""
            },
            "colorscale": [
             [
              0,
              "#0d0887"
             ],
             [
              0.1111111111111111,
              "#46039f"
             ],
             [
              0.2222222222222222,
              "#7201a8"
             ],
             [
              0.3333333333333333,
              "#9c179e"
             ],
             [
              0.4444444444444444,
              "#bd3786"
             ],
             [
              0.5555555555555556,
              "#d8576b"
             ],
             [
              0.6666666666666666,
              "#ed7953"
             ],
             [
              0.7777777777777778,
              "#fb9f3a"
             ],
             [
              0.8888888888888888,
              "#fdca26"
             ],
             [
              1,
              "#f0f921"
             ]
            ],
            "type": "surface"
           }
          ],
          "table": [
           {
            "cells": {
             "fill": {
              "color": "#506784"
             },
             "line": {
              "color": "rgb(17,17,17)"
             }
            },
            "header": {
             "fill": {
              "color": "#2a3f5f"
             },
             "line": {
              "color": "rgb(17,17,17)"
             }
            },
            "type": "table"
           }
          ]
         },
         "layout": {
          "annotationdefaults": {
           "arrowcolor": "#f2f5fa",
           "arrowhead": 0,
           "arrowwidth": 1
          },
          "autotypenumbers": "strict",
          "coloraxis": {
           "colorbar": {
            "outlinewidth": 0,
            "ticks": ""
           }
          },
          "colorscale": {
           "diverging": [
            [
             0,
             "#8e0152"
            ],
            [
             0.1,
             "#c51b7d"
            ],
            [
             0.2,
             "#de77ae"
            ],
            [
             0.3,
             "#f1b6da"
            ],
            [
             0.4,
             "#fde0ef"
            ],
            [
             0.5,
             "#f7f7f7"
            ],
            [
             0.6,
             "#e6f5d0"
            ],
            [
             0.7,
             "#b8e186"
            ],
            [
             0.8,
             "#7fbc41"
            ],
            [
             0.9,
             "#4d9221"
            ],
            [
             1,
             "#276419"
            ]
           ],
           "sequential": [
            [
             0,
             "#0d0887"
            ],
            [
             0.1111111111111111,
             "#46039f"
            ],
            [
             0.2222222222222222,
             "#7201a8"
            ],
            [
             0.3333333333333333,
             "#9c179e"
            ],
            [
             0.4444444444444444,
             "#bd3786"
            ],
            [
             0.5555555555555556,
             "#d8576b"
            ],
            [
             0.6666666666666666,
             "#ed7953"
            ],
            [
             0.7777777777777778,
             "#fb9f3a"
            ],
            [
             0.8888888888888888,
             "#fdca26"
            ],
            [
             1,
             "#f0f921"
            ]
           ],
           "sequentialminus": [
            [
             0,
             "#0d0887"
            ],
            [
             0.1111111111111111,
             "#46039f"
            ],
            [
             0.2222222222222222,
             "#7201a8"
            ],
            [
             0.3333333333333333,
             "#9c179e"
            ],
            [
             0.4444444444444444,
             "#bd3786"
            ],
            [
             0.5555555555555556,
             "#d8576b"
            ],
            [
             0.6666666666666666,
             "#ed7953"
            ],
            [
             0.7777777777777778,
             "#fb9f3a"
            ],
            [
             0.8888888888888888,
             "#fdca26"
            ],
            [
             1,
             "#f0f921"
            ]
           ]
          },
          "colorway": [
           "#636efa",
           "#EF553B",
           "#00cc96",
           "#ab63fa",
           "#FFA15A",
           "#19d3f3",
           "#FF6692",
           "#B6E880",
           "#FF97FF",
           "#FECB52"
          ],
          "font": {
           "color": "#f2f5fa"
          },
          "geo": {
           "bgcolor": "rgb(17,17,17)",
           "lakecolor": "rgb(17,17,17)",
           "landcolor": "rgb(17,17,17)",
           "showlakes": true,
           "showland": true,
           "subunitcolor": "#506784"
          },
          "hoverlabel": {
           "align": "left"
          },
          "hovermode": "closest",
          "mapbox": {
           "style": "dark"
          },
          "paper_bgcolor": "rgb(17,17,17)",
          "plot_bgcolor": "rgb(17,17,17)",
          "polar": {
           "angularaxis": {
            "gridcolor": "#506784",
            "linecolor": "#506784",
            "ticks": ""
           },
           "bgcolor": "rgb(17,17,17)",
           "radialaxis": {
            "gridcolor": "#506784",
            "linecolor": "#506784",
            "ticks": ""
           }
          },
          "scene": {
           "xaxis": {
            "backgroundcolor": "rgb(17,17,17)",
            "gridcolor": "#506784",
            "gridwidth": 2,
            "linecolor": "#506784",
            "showbackground": true,
            "ticks": "",
            "zerolinecolor": "#C8D4E3"
           },
           "yaxis": {
            "backgroundcolor": "rgb(17,17,17)",
            "gridcolor": "#506784",
            "gridwidth": 2,
            "linecolor": "#506784",
            "showbackground": true,
            "ticks": "",
            "zerolinecolor": "#C8D4E3"
           },
           "zaxis": {
            "backgroundcolor": "rgb(17,17,17)",
            "gridcolor": "#506784",
            "gridwidth": 2,
            "linecolor": "#506784",
            "showbackground": true,
            "ticks": "",
            "zerolinecolor": "#C8D4E3"
           }
          },
          "shapedefaults": {
           "line": {
            "color": "#f2f5fa"
           }
          },
          "sliderdefaults": {
           "bgcolor": "#C8D4E3",
           "bordercolor": "rgb(17,17,17)",
           "borderwidth": 1,
           "tickwidth": 0
          },
          "ternary": {
           "aaxis": {
            "gridcolor": "#506784",
            "linecolor": "#506784",
            "ticks": ""
           },
           "baxis": {
            "gridcolor": "#506784",
            "linecolor": "#506784",
            "ticks": ""
           },
           "bgcolor": "rgb(17,17,17)",
           "caxis": {
            "gridcolor": "#506784",
            "linecolor": "#506784",
            "ticks": ""
           }
          },
          "title": {
           "x": 0.05
          },
          "updatemenudefaults": {
           "bgcolor": "#506784",
           "borderwidth": 0
          },
          "xaxis": {
           "automargin": true,
           "gridcolor": "#283442",
           "linecolor": "#506784",
           "ticks": "",
           "title": {
            "standoff": 15
           },
           "zerolinecolor": "#283442",
           "zerolinewidth": 2
          },
          "yaxis": {
           "automargin": true,
           "gridcolor": "#283442",
           "linecolor": "#506784",
           "ticks": "",
           "title": {
            "standoff": 15
           },
           "zerolinecolor": "#283442",
           "zerolinewidth": 2
          }
         }
        },
        "title": {
         "text": "Chennai Weather: 2025-10-01 - 2025-10-25"
        },
        "updatemenus": [
         {
          "buttons": [
           {
            "args": [
             null,
             {
              "frame": {
               "duration": 500,
               "redraw": true
              },
              "fromcurrent": true,
              "mode": "immediate",
              "transition": {
               "duration": 500,
               "easing": "linear"
              }
             }
            ],
            "label": "&#9654;",
            "method": "animate"
           },
           {
            "args": [
             [
              null
             ],
             {
              "frame": {
               "duration": 0,
               "redraw": true
              },
              "fromcurrent": true,
              "mode": "immediate",
              "transition": {
               "duration": 0,
               "easing": "linear"
              }
             }
            ],
            "label": "&#9724;",
            "method": "animate"
           }
          ],
          "direction": "left",
          "pad": {
           "r": 10,
           "t": 70
          },
          "showactive": false,
          "type": "buttons",
          "x": 0.1,
          "xanchor": "right",
          "y": 0,
          "yanchor": "top"
         }
        ],
        "width": 1050,
        "xaxis": {
         "anchor": "y",
         "autorange": true,
         "domain": [
          0,
          1
         ],
         "range": [
          -0.5,
          5.5
         ],
         "title": {
          "text": "Metric"
         },
         "type": "category"
        },
        "yaxis": {
         "anchor": "x",
         "domain": [
          0,
          1
         ],
         "range": [
          0,
          48.5
         ],
         "title": {
          "text": "Value"
         },
         "type": "linear"
        }
       }
      },
      "image/png": "[encoded data removed]"
     },
     "metadata": {},
     "output_type": "display_data"
    }
   ],
   "source": [
    "#Animated visualization trial2 \n",
    "'''\n",
    "Here we have dates under each type historical/forecast, so our vars will be these 2\n",
    "'''\n",
    "this_month_weather_melt = this_month_weather.melt(id_vars = [\"Date\",\"Weather\",\"Type\"],\n",
    "                                                  var_name = \"Metric\",\n",
    "                                                  value_name = \"Value\")\n",
    "'''In the above viz date is complete in datetime format and it is difficult to follow the dates\n",
    "so we here have converted that format by extracting only the day part from the Date column.\n",
    "Now the visualization is clear that aligns with the animations.\n",
    "'''\n",
    "this_month_weather_melt[\"Day\"] = pd.to_datetime(this_month_weather_melt[\"Date\"]).dt.day.astype(str)\n",
    "#ensuring all \"Value\" is numeric -\n",
    "'''\n",
    "We are having multiple colums for Value with different data types like temp - float, weather - string\n",
    "on using pd.melt() - all comes under Value. If any non-numeric value is present then value will have mixed types.\n",
    "so before plotting we need to make sure converting VALUE to NUMERIC .\n",
    "this converts non-numeric to NaN that plotly skips\n",
    "\n",
    "'''\n",
    "try:\n",
    "    fig1 = px.bar(this_month_weather_melt, x=\"Metric\", y=\"Value\", color=\"Type\",\n",
    "                  animation_frame = \"Day\",\n",
    "                  animation_group= \"Metric\",\n",
    "                  hover_data=[\"Weather\"],\n",
    "                  range_y = [0, this_month_weather_melt[\"Value\"].max() + 10],\n",
    "                  title = f\"{place} Weather: {start_date} - {end_date}\"\n",
    "                 )\n",
    "    \n",
    "    fig1.update_layout(template = \"plotly_dark\", \n",
    "                      height = 600, \n",
    "                      width = 1050)\n",
    "    \n",
    "    fig1.show()\n",
    "    #writing the html file. Animated Visualization to HTML\n",
    "    '''CDN - content delivery network\n",
    "    so to view this html internet connectivity is important.\n",
    "    '''\n",
    "    fig1.write_html(\"weather_animation.html\", include_plotlyjs='cdn', auto_open=True)\n",
    "except Exception as e:\n",
    "    print(f\"Exceution failed due to : {e}\")\n"
   ]
  }
 ],
 "metadata": {
  "kernelspec": {
   "display_name": "Python [conda env:base] *",
   "language": "python",
   "name": "conda-base-py"
  },
  "language_info": {
   "codemirror_mode": {
    "name": "ipython",
    "version": 3
   },
   "file_extension": ".py",
   "mimetype": "text/x-python",
   "name": "python",
   "nbconvert_exporter": "python",
   "pygments_lexer": "ipython3",
   "version": "3.11.7"
  }
 },
 "nbformat": 4,
 "nbformat_minor": 5
}
